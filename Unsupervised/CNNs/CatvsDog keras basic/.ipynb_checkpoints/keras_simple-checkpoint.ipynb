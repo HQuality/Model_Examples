{
 "cells": [
  {
   "cell_type": "code",
   "execution_count": null,
   "metadata": {
    "_cell_guid": "b1076dfc-b9ad-4769-8c92-a6c4dae69d19",
    "_uuid": "8f2839f25d086af736a60e9eeb907d3b93b6e0e5"
   },
   "outputs": [],
   "source": [
    "import cv2\n",
    "import numpy as np\n",
    "import pandas as pd\n",
    "\n",
    "import matplotlib.pyplot as plt\n",
    "%matplotlib inline \n",
    "\n",
    "import os\n",
    "import random\n",
    "import gc"
   ]
  },
  {
   "cell_type": "markdown",
   "metadata": {
    "_cell_guid": "79c7e3d0-c299-4dcb-8224-4455121ee9b0",
    "_uuid": "d629ff2d2480ee46fbb7e2d37f6b5fab8052498a",
    "collapsed": true
   },
   "source": [
    "** The train data contains 25,000 images of both dogs and cats. We are going to sample a small portion of  the data for training because of memory and Ram limits on kaggle kernels => we will use Data Augmentation to reduce overfitting. **"
   ]
  },
  {
   "cell_type": "code",
   "execution_count": null,
   "metadata": {
    "_uuid": "cf9b6bdfbb7bbeff9f5da51eadb71faf8a451603"
   },
   "outputs": [],
   "source": [
    "train_dir = '/train'\n",
    "test_dir = '/test'\n",
    "\n",
    "train_dogs = ['/train/{}'.format(i) for i in os.listdir(train_dir) if 'dog' in i] \n",
    "train_cats = ['/train/{}'.format(i) for i in os.listdir(train_dir) if 'cat' in i] \n",
    "\n",
    "test_imgs = ['/test/{}'.format(i) for i in os.listdir(test_dir)] \n",
    "\n",
    "train_imgs = train_dogs[:2000] + train_cats[:2000]\n",
    "train_imgs = train_dogs[:2000] + train_cats[:2000]\n",
    "random.shuffle(train_imgs)\n",
    "\n",
    "\n",
    "del train_dogs\n",
    "del train_cats\n",
    "gc.collect()"
   ]
  },
  {
   "cell_type": "code",
   "execution_count": null,
   "metadata": {
    "_uuid": "0b649af20dbb34d9875309a1fe04a520c758903e",
    "collapsed": true
   },
   "outputs": [],
   "source": [
    "# import matplotlib.image as mpimg\n",
    "# for ima in train_imgs[0:3]:\n",
    "#     img=mpimg.imread(ima)\n",
    "#     imgplot = plt.imshow(img)\n",
    "#     plt.show()"
   ]
  },
  {
   "cell_type": "code",
   "execution_count": null,
   "metadata": {
    "_uuid": "0b649af20dbb34d9875309a1fe04a520c758903e",
    "collapsed": true
   },
   "outputs": [],
   "source": [
    "nrows = 150\n",
    "ncolumns = 150\n",
    "channels = 3\n",
    "\n",
    "def read_and_process_image(list_of_images):\n",
    "    \"\"\"\n",
    "    Returns two arrays: \n",
    "        X is an array of resized images\n",
    "        y is an array of labels\n",
    "    \"\"\"\n",
    "    X = [] # images\n",
    "    y = [] # labels\n",
    "    \n",
    "    for image in list_of_images:\n",
    "        X.append(cv2.resize(cv2.imread(image, cv2.IMREAD_COLOR), (nrows,ncolumns), interpolation=cv2.INTER_CUBIC)) \n",
    "        if 'dog' in image:\n",
    "            y.append(1)\n",
    "        elif 'cat' in image:\n",
    "            y.append(0)\n",
    "    \n",
    "    return X, y"
   ]
  },
  {
   "cell_type": "code",
   "execution_count": null,
   "metadata": {},
   "outputs": [],
   "source": [
    "X, y = read_and_process_image(train_imgs)"
   ]
  },
  {
   "cell_type": "code",
   "execution_count": null,
   "metadata": {},
   "outputs": [],
   "source": [
    "plt.figure(figsize=(20,10))\n",
    "columns = 5\n",
    "for i in range(columns):\n",
    "    plt.subplot(5 / columns + 1, columns, i + 1)\n",
    "    plt.imshow(X[i])"
   ]
  },
  {
   "cell_type": "code",
   "execution_count": null,
   "metadata": {},
   "outputs": [],
   "source": [
    "import seaborn as sns\n",
    "del train_imgs\n",
    "gc.collect()\n",
    "\n",
    "X = np.array(X)\n",
    "y = np.array(y)\n",
    "\n",
    "#plot the label to be sure we just have two class._.\n",
    "sns.countplot(y)\n",
    "plt.title('Labels for Cats and Dogs')"
   ]
  },
  {
   "cell_type": "code",
   "execution_count": null,
   "metadata": {
    "_uuid": "0b649af20dbb34d9875309a1fe04a520c758903e",
    "collapsed": true
   },
   "outputs": [],
   "source": [
    "print(\"Shape of train images is:\", X.shape)\n",
    "print(\"Shape of labels is:\", y.shape)"
   ]
  },
  {
   "cell_type": "code",
   "execution_count": null,
   "metadata": {
    "_uuid": "0b649af20dbb34d9875309a1fe04a520c758903e",
    "collapsed": true
   },
   "outputs": [],
   "source": [
    "from sklearn.model_selection import train_test_split\n",
    "X_train, X_val, y_train, y_val = train_test_split(X, y, test_size=0.2, random_state=42)\n",
    "\n",
    "print(\"Shape of train images is:\", X_train.shape)\n",
    "print(\"Shape of validation images is:\", X_val.shape)\n",
    "print(\"Shape of labels is:\", y_train.shape)\n",
    "print(\"Shape of labels is:\", y_val.shape)"
   ]
  },
  {
   "cell_type": "code",
   "execution_count": null,
   "metadata": {
    "_uuid": "0b649af20dbb34d9875309a1fe04a520c758903e",
    "collapsed": true
   },
   "outputs": [],
   "source": [
    "del X\n",
    "del y\n",
    "gc.collect()\n",
    "\n",
    "ntrain = len(X_train)\n",
    "nval = len(X_val)\n",
    "\n",
    "batch_size = 32 "
   ]
  },
  {
   "cell_type": "code",
   "execution_count": null,
   "metadata": {
    "_uuid": "0b649af20dbb34d9875309a1fe04a520c758903e",
    "collapsed": true
   },
   "outputs": [],
   "source": [
    "from keras import layers\n",
    "from keras import models\n",
    "from keras import optimizers\n",
    "from keras.preprocessing.image import ImageDataGenerator\n",
    "from keras.preprocessing.image import img_to_array, load_img\n",
    "\n",
    "model = models.Sequential()\n",
    "model.add(layers.Conv2D(32, (3, 3), activation='relu',input_shape=(150, 150, 3)))\n",
    "model.add(layers.MaxPooling2D((2, 2)))\n",
    "model.add(layers.Conv2D(64, (3, 3), activation='relu'))\n",
    "model.add(layers.MaxPooling2D((2, 2)))\n",
    "model.add(layers.Conv2D(128, (3, 3), activation='relu'))\n",
    "model.add(layers.MaxPooling2D((2, 2)))\n",
    "model.add(layers.Conv2D(128, (3, 3), activation='relu'))\n",
    "model.add(layers.MaxPooling2D((2, 2)))\n",
    "model.add(layers.Flatten())\n",
    "model.add(layers.Dropout(0.5))  #Dropout for regularization\n",
    "model.add(layers.Dense(512, activation='relu'))\n",
    "model.add(layers.Dense(1, activation='sigmoid'))  #Sigmoid function at the end because we have just two classes"
   ]
  },
  {
   "cell_type": "code",
   "execution_count": null,
   "metadata": {
    "_uuid": "0b649af20dbb34d9875309a1fe04a520c758903e",
    "collapsed": true
   },
   "outputs": [],
   "source": [
    "model.summary()"
   ]
  },
  {
   "cell_type": "code",
   "execution_count": null,
   "metadata": {
    "_uuid": "0b649af20dbb34d9875309a1fe04a520c758903e",
    "collapsed": true
   },
   "outputs": [],
   "source": [
    "#RMSprop optimizer with a learning rate of 0.0001\n",
    "#binary_crossentropy loss because its a binary classification\n",
    "model.compile(loss='binary_crossentropy', optimizer=optimizers.RMSprop(lr=1e-4), metrics=['acc'])"
   ]
  },
  {
   "cell_type": "code",
   "execution_count": null,
   "metadata": {
    "_uuid": "0b649af20dbb34d9875309a1fe04a520c758903e",
    "collapsed": true
   },
   "outputs": [],
   "source": [
    "#Lets create the augmentation configuration\n",
    "#This helps prevent overfitting, since we are using a small dataset\n",
    "train_datagen = ImageDataGenerator(rescale=1./255,   #Scale the image between 0 and 1\n",
    "                                    rotation_range=40,\n",
    "                                    width_shift_range=0.2,\n",
    "                                    height_shift_range=0.2,\n",
    "                                    shear_range=0.2,\n",
    "                                    zoom_range=0.2,\n",
    "                                    horizontal_flip=True,)\n",
    "\n",
    "val_datagen = ImageDataGenerator(rescale=1./255)  #We do not augment validation data. we only perform rescale"
   ]
  },
  {
   "cell_type": "code",
   "execution_count": null,
   "metadata": {
    "_uuid": "0b649af20dbb34d9875309a1fe04a520c758903e",
    "collapsed": true
   },
   "outputs": [],
   "source": [
    "#image generators\n",
    "train_generator = train_datagen.flow(X_train, y_train, batch_size=batch_size)\n",
    "val_generator = val_datagen.flow(X_val, y_val, batch_size=batch_size)"
   ]
  },
  {
   "cell_type": "code",
   "execution_count": null,
   "metadata": {
    "_uuid": "0b649af20dbb34d9875309a1fe04a520c758903e",
    "collapsed": true
   },
   "outputs": [],
   "source": [
    "history = model.fit_generator(train_generator,\n",
    "                              steps_per_epoch=ntrain // batch_size,\n",
    "                              epochs=64,\n",
    "                              validation_data=val_generator,\n",
    "                              validation_steps=nval // batch_size)"
   ]
  },
  {
   "cell_type": "code",
   "execution_count": null,
   "metadata": {
    "_uuid": "0b649af20dbb34d9875309a1fe04a520c758903e",
    "collapsed": true
   },
   "outputs": [],
   "source": [
    "#saving model\n",
    "model.save_weights('model_wieghts.h5')\n",
    "model.save('model_keras.h5')"
   ]
  },
  {
   "cell_type": "code",
   "execution_count": null,
   "metadata": {
    "_uuid": "0b649af20dbb34d9875309a1fe04a520c758903e",
    "collapsed": true
   },
   "outputs": [],
   "source": [
    "#train and val curve\n",
    "#get the details form the history object\n",
    "acc = history.history['acc']\n",
    "val_acc = history.history['val_acc']\n",
    "loss = history.history['loss']\n",
    "val_loss = history.history['val_loss']\n",
    "\n",
    "epochs = range(1, len(acc) + 1)\n",
    "\n",
    "#Train and validation accuracy\n",
    "plt.plot(epochs, acc, 'b', label='Training accurarcy')\n",
    "plt.plot(epochs, val_acc, 'r', label='Validation accurarcy')\n",
    "plt.title('Training and Validation accurarcy')\n",
    "plt.legend()\n",
    "\n",
    "plt.figure()\n",
    "#Train and validation loss\n",
    "plt.plot(epochs, loss, 'b', label='Training loss')\n",
    "plt.plot(epochs, val_loss, 'r', label='Validation loss')\n",
    "plt.title('Training and Validation loss')\n",
    "plt.legend()\n",
    "\n",
    "plt.show()"
   ]
  },
  {
   "cell_type": "code",
   "execution_count": null,
   "metadata": {
    "_uuid": "0b649af20dbb34d9875309a1fe04a520c758903e",
    "collapsed": true
   },
   "outputs": [],
   "source": [
    "#predict on the first 10 Images of the test set\n",
    "X_test, y_test = read_and_process_image(test_imgs[0:10])\n",
    "x = np.array(X_test)\n",
    "test_datagen = ImageDataGenerator(rescale=1./255) "
   ]
  },
  {
   "cell_type": "code",
   "execution_count": null,
   "metadata": {
    "_uuid": "0b649af20dbb34d9875309a1fe04a520c758903e",
    "collapsed": true
   },
   "outputs": [],
   "source": [
    "i = 0\n",
    "text_labels = []\n",
    "plt.figure(figsize=(30,20))\n",
    "for batch in test_datagen.flow(x, batch_size=1):\n",
    "    pred = model.predict(batch)\n",
    "    if pred > 0.5:\n",
    "        text_labels.append('dog')\n",
    "    else:\n",
    "        text_labels.append('cat')\n",
    "    plt.subplot(5 / columns + 1, columns, i + 1)\n",
    "    plt.title('This is a ' + text_labels[i])\n",
    "    imgplot = plt.imshow(batch[0])\n",
    "    i += 1\n",
    "    if i % 10 == 0:\n",
    "        break\n",
    "plt.show()"
   ]
  },
  {
   "cell_type": "code",
   "execution_count": null,
   "metadata": {
    "_uuid": "0b649af20dbb34d9875309a1fe04a520c758903e",
    "collapsed": true
   },
   "outputs": [],
   "source": [
    "# counter = range(1, len(test_imgs) + 1)\n",
    "# df_solution = pd.DataFrame({\"id\": counter, \"label\":list(pred)})\n",
    "# cols = ['label']\n",
    "\n",
    "# for col in cols:\n",
    "#     df_solution[col] = df_solution[col].map(lambda x: str(x).lstrip('[').rstrip(']')).astype(float)\n",
    "\n",
    "# df_solution.to_csv(\"submissiondogsVScats.csv\", index = False)"
   ]
  }
 ],
 "metadata": {
  "kernelspec": {
   "display_name": "Python 3",
   "language": "python",
   "name": "python3"
  },
  "language_info": {
   "codemirror_mode": {
    "name": "ipython",
    "version": 3
   },
   "file_extension": ".py",
   "mimetype": "text/x-python",
   "name": "python",
   "nbconvert_exporter": "python",
   "pygments_lexer": "ipython3",
   "version": "3.7.1"
  }
 },
 "nbformat": 4,
 "nbformat_minor": 1
}
