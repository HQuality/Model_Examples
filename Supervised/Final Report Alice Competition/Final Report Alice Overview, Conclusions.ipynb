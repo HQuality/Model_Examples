{
 "cells": [
  {
   "cell_type": "markdown",
   "metadata": {},
   "source": [
    "# <center><span style=\"color:green\">**Identify internet users.**  **</span><span style=\"color:orange\">Final report</span>**\n",
    "***    "
   ]
  },
  {
   "cell_type": "markdown",
   "metadata": {
    "toc": true
   },
   "source": [
    "<h1>Table of Contents<span class=\"tocSkip\"></span></h1>\n",
    "<div class=\"toc\"><ul class=\"toc-item\"><li><span><a href=\"#Цели-и-задачи-проекта,-описание-исходных-и-обработанных-данных\" data-toc-modified-id=\"Цели-и-задачи-проекта,-описание-исходных-и-обработанных-данных-1\"><span class=\"toc-item-num\">1&nbsp;&nbsp;</span>Цели и задачи проекта, описание исходных и обработанных данных</a></span><ul class=\"toc-item\"><li><span><a href=\"#Цели-и-задачи-проекта\" data-toc-modified-id=\"Цели-и-задачи-проекта-1.1\"><span class=\"toc-item-num\">1.1&nbsp;&nbsp;</span>Цели и задачи проекта</a></span></li><li><span><a href=\"#Исходные-данные\" data-toc-modified-id=\"Исходные-данные-1.2\"><span class=\"toc-item-num\">1.2&nbsp;&nbsp;</span>Исходные данные</a></span></li><li><span><a href=\"#Данные-для-выполнения-ProgrammingAssignment\" data-toc-modified-id=\"Данные-для-выполнения-ProgrammingAssignment-1.3\"><span class=\"toc-item-num\">1.3&nbsp;&nbsp;</span>Данные для выполнения ProgrammingAssignment</a></span></li><li><span><a href=\"#Данные-для-соревнования-Kaggle\" data-toc-modified-id=\"Данные-для-соревнования-Kaggle-1.4\"><span class=\"toc-item-num\">1.4&nbsp;&nbsp;</span>Данные для соревнования Kaggle</a></span></li></ul></li><li><span><a href=\"#Подготовка-данных-к-анализу-и-построению-моделей\" data-toc-modified-id=\"Подготовка-данных-к-анализу-и-построению-моделей-2\"><span class=\"toc-item-num\">2&nbsp;&nbsp;</span>Подготовка данных к анализу и построению моделей</a></span><ul class=\"toc-item\"><li><span><a href=\"#Разбиение-данных-на-сессии-и-создание-частотного-словаря\" data-toc-modified-id=\"Разбиение-данных-на-сессии-и-создание-частотного-словаря-2.1\"><span class=\"toc-item-num\">2.1&nbsp;&nbsp;</span>Разбиение данных на сессии и создание частотного словаря</a></span></li><li><span><a href=\"#Получение-ТОП-N-посещенных-сайтов\" data-toc-modified-id=\"Получение-ТОП-N-посещенных-сайтов-2.2\"><span class=\"toc-item-num\">2.2&nbsp;&nbsp;</span>Получение ТОП <code>N</code> посещенных сайтов</a></span></li><li><span><a href=\"#Применение-подхода-bag_of_words-к-каждой-из-сессий\" data-toc-modified-id=\"Применение-подхода-bag_of_words-к-каждой-из-сессий-2.3\"><span class=\"toc-item-num\">2.3&nbsp;&nbsp;</span>Применение подхода <code>bag_of_words</code> к каждой из сессий</a></span></li><li><span><a href=\"#Создание-обучающих-выборок-с-различными-парметрами\" data-toc-modified-id=\"Создание-обучающих-выборок-с-различными-парметрами-2.4\"><span class=\"toc-item-num\">2.4&nbsp;&nbsp;</span>Создание обучающих выборок с различными парметрами</a></span></li></ul></li><li><span><a href=\"#Создание,-первичный-анализ-признаков-и-проверка-гипотез\" data-toc-modified-id=\"Создание,-первичный-анализ-признаков-и-проверка-гипотез-3\"><span class=\"toc-item-num\">3&nbsp;&nbsp;</span>Создание, первичный анализ признаков и проверка гипотез</a></span><ul class=\"toc-item\"><li><span><a href=\"#Создание-признака-для-анализа\" data-toc-modified-id=\"Создание-признака-для-анализа-3.1\"><span class=\"toc-item-num\">3.1&nbsp;&nbsp;</span>Создание признака для анализа</a></span></li><li><span><a href=\"#Проверка-гипотезы-о-распределении-признака\" data-toc-modified-id=\"Проверка-гипотезы-о-распределении-признака-3.2\"><span class=\"toc-item-num\">3.2&nbsp;&nbsp;</span>Проверка гипотезы о распределении признака</a></span></li><li><span><a href=\"#Проверка-гипотезы-о-том,-что-сайт-будет-посещен-повторно-в-рамках-сессии-из-10-сайтов\" data-toc-modified-id=\"Проверка-гипотезы-о-том,-что-сайт-будет-посещен-повторно-в-рамках-сессии-из-10-сайтов-3.3\"><span class=\"toc-item-num\">3.3&nbsp;&nbsp;</span>Проверка гипотезы о том, что сайт будет посещен повторно в рамках сессии из 10 сайтов</a></span></li><li><span><a href=\"#Построение-доверительного-интервала-на-основе-bootstrap-а\" data-toc-modified-id=\"Построение-доверительного-интервала-на-основе-bootstrap-а-3.4\"><span class=\"toc-item-num\">3.4&nbsp;&nbsp;</span>Построение доверительного интервала на основе bootstrap-а</a></span></li><li><span><a href=\"#Построение-дополнительных-признаков\" data-toc-modified-id=\"Построение-дополнительных-признаков-3.5\"><span class=\"toc-item-num\">3.5&nbsp;&nbsp;</span>Построение дополнительных признаков</a></span></li><li><span><a href=\"#Первичный-визуальный-анализ-дополнительных-признаков\" data-toc-modified-id=\"Первичный-визуальный-анализ-дополнительных-признаков-3.6\"><span class=\"toc-item-num\">3.6&nbsp;&nbsp;</span>Первичный визуальный анализ дополнительных признаков</a></span><ul class=\"toc-item\"><li><span><a href=\"#session_timespan\" data-toc-modified-id=\"session_timespan-3.6.1\"><span class=\"toc-item-num\">3.6.1&nbsp;&nbsp;</span><code>session_timespan</code></a></span></li><li><span><a href=\"##unique_sites\" data-toc-modified-id=\"#unique_sites-3.6.2\"><span class=\"toc-item-num\">3.6.2&nbsp;&nbsp;</span><code>#unique_sites</code></a></span></li><li><span><a href=\"#start_hour\" data-toc-modified-id=\"start_hour-3.6.3\"><span class=\"toc-item-num\">3.6.3&nbsp;&nbsp;</span><code>start_hour</code></a></span></li><li><span><a href=\"#day_of_week\" data-toc-modified-id=\"day_of_week-3.6.4\"><span class=\"toc-item-num\">3.6.4&nbsp;&nbsp;</span><code>day_of_week</code></a></span></li><li><span><a href=\"#Построение-ТОП-10-сайтов-по-посещаемости\" data-toc-modified-id=\"Построение-ТОП-10-сайтов-по-посещаемости-3.6.5\"><span class=\"toc-item-num\">3.6.5&nbsp;&nbsp;</span>Построение ТОП-10 сайтов по посещаемости</a></span></li><li><span><a href=\"#Построение-ТОП-30-сайтов-по-посещаемости\" data-toc-modified-id=\"Построение-ТОП-30-сайтов-по-посещаемости-3.6.6\"><span class=\"toc-item-num\">3.6.6&nbsp;&nbsp;</span>Построение ТОП-30 сайтов по посещаемости</a></span></li></ul></li><li><span><a href=\"#Построение-собственных-признаков\" data-toc-modified-id=\"Построение-собственных-признаков-3.7\"><span class=\"toc-item-num\">3.7&nbsp;&nbsp;</span>Построение собственных признаков</a></span></li><li><span><a href=\"#Первичный-визуальный-анализ-собственных-признаков\" data-toc-modified-id=\"Первичный-визуальный-анализ-собственных-признаков-3.8\"><span class=\"toc-item-num\">3.8&nbsp;&nbsp;</span>Первичный визуальный анализ собственных признаков</a></span><ul class=\"toc-item\"><li><span><a href=\"#cnt_unique_dns_l1\" data-toc-modified-id=\"cnt_unique_dns_l1-3.8.1\"><span class=\"toc-item-num\">3.8.1&nbsp;&nbsp;</span><code>cnt_unique_dns_l1</code></a></span></li><li><span><a href=\"#cnt_unique_dns_l2\" data-toc-modified-id=\"cnt_unique_dns_l2-3.8.2\"><span class=\"toc-item-num\">3.8.2&nbsp;&nbsp;</span><code>cnt_unique_dns_l2</code></a></span></li><li><span><a href=\"#median_ts_ses\" data-toc-modified-id=\"median_ts_ses-3.8.3\"><span class=\"toc-item-num\">3.8.3&nbsp;&nbsp;</span><code>median_ts_ses</code></a></span></li><li><span><a href=\"#mean_ts_ses\" data-toc-modified-id=\"mean_ts_ses-3.8.4\"><span class=\"toc-item-num\">3.8.4&nbsp;&nbsp;</span><code>mean_ts_ses</code></a></span></li><li><span><a href=\"#median_timespan_top_30_sites\" data-toc-modified-id=\"median_timespan_top_30_sites-3.8.5\"><span class=\"toc-item-num\">3.8.5&nbsp;&nbsp;</span><code>median_timespan_top_30_sites</code></a></span></li><li><span><a href=\"#avg_timespan_top_30_sites\" data-toc-modified-id=\"avg_timespan_top_30_sites-3.8.6\"><span class=\"toc-item-num\">3.8.6&nbsp;&nbsp;</span><code>avg_timespan_top_30_sites</code></a></span></li><li><span><a href=\"#cnt_top_30_sites\" data-toc-modified-id=\"cnt_top_30_sites-3.8.7\"><span class=\"toc-item-num\">3.8.7&nbsp;&nbsp;</span><code>cnt_top_30_sites</code></a></span></li><li><span><a href=\"#frq_google\" data-toc-modified-id=\"frq_google-3.8.8\"><span class=\"toc-item-num\">3.8.8&nbsp;&nbsp;</span><code>frq_google</code></a></span></li><li><span><a href=\"#frq_youtube\" data-toc-modified-id=\"frq_youtube-3.8.9\"><span class=\"toc-item-num\">3.8.9&nbsp;&nbsp;</span><code>frq_youtube</code></a></span></li><li><span><a href=\"#frq_facebook\" data-toc-modified-id=\"frq_facebook-3.8.10\"><span class=\"toc-item-num\">3.8.10&nbsp;&nbsp;</span><code>frq_facebook</code></a></span></li><li><span><a href=\"#start_year\" data-toc-modified-id=\"start_year-3.8.11\"><span class=\"toc-item-num\">3.8.11&nbsp;&nbsp;</span><code>start_year</code></a></span></li><li><span><a href=\"#start_month\" data-toc-modified-id=\"start_month-3.8.12\"><span class=\"toc-item-num\">3.8.12&nbsp;&nbsp;</span><code>start_month</code></a></span></li><li><span><a href=\"#start_week_fny\" data-toc-modified-id=\"start_week_fny-3.8.13\"><span class=\"toc-item-num\">3.8.13&nbsp;&nbsp;</span><code>start_week_fny</code></a></span></li><li><span><a href=\"#start_day_fny\" data-toc-modified-id=\"start_day_fny-3.8.14\"><span class=\"toc-item-num\">3.8.14&nbsp;&nbsp;</span><code>start_day_fny</code></a></span></li><li><span><a href=\"#start_hour_fny\" data-toc-modified-id=\"start_hour_fny-3.8.15\"><span class=\"toc-item-num\">3.8.15&nbsp;&nbsp;</span><code>start_hour_fny</code></a></span></li><li><span><a href=\"#start_time_of_day\" data-toc-modified-id=\"start_time_of_day-3.8.16\"><span class=\"toc-item-num\">3.8.16&nbsp;&nbsp;</span><code>start_time_of_day</code></a></span></li><li><span><a href=\"#cnt_zeros_ts_ses\" data-toc-modified-id=\"cnt_zeros_ts_ses-3.8.17\"><span class=\"toc-item-num\">3.8.17&nbsp;&nbsp;</span><code>cnt_zeros_ts_ses</code></a></span></li><li><span><a href=\"#cnt_long_ts_ses\" data-toc-modified-id=\"cnt_long_ts_ses-3.8.18\"><span class=\"toc-item-num\">3.8.18&nbsp;&nbsp;</span><code>cnt_long_ts_ses</code></a></span></li><li><span><a href=\"#cnt_zeros_ts_ses_top_30\" data-toc-modified-id=\"cnt_zeros_ts_ses_top_30-3.8.19\"><span class=\"toc-item-num\">3.8.19&nbsp;&nbsp;</span><code>cnt_zeros_ts_ses_top_30</code></a></span></li><li><span><a href=\"#cnt_long_ts_ses_top_30\" data-toc-modified-id=\"cnt_long_ts_ses_top_30-3.8.20\"><span class=\"toc-item-num\">3.8.20&nbsp;&nbsp;</span><code>cnt_long_ts_ses_top_30</code></a></span></li><li><span><a href=\"#Выводы-по-визуальному-анализу-собственных-признаков\" data-toc-modified-id=\"Выводы-по-визуальному-анализу-собственных-признаков-3.8.21\"><span class=\"toc-item-num\">3.8.21&nbsp;&nbsp;</span>Выводы по визуальному анализу собственных признаков</a></span></li></ul></li></ul></li><li><span><a href=\"#Сравнение-нескольких-алгоритмов-на-сессиях-из-10-сайтов\" data-toc-modified-id=\"Сравнение-нескольких-алгоритмов-на-сессиях-из-10-сайтов-4\"><span class=\"toc-item-num\">4&nbsp;&nbsp;</span>Сравнение нескольких алгоритмов на сессиях из 10 сайтов</a></span><ul class=\"toc-item\"><li><span><a href=\"#Классификатор-на-основе-метода-К-средних-(KneighborsClassifier-для-100-ближайших-соседей,-n_jobs=-1)\" data-toc-modified-id=\"Классификатор-на-основе-метода-К-средних-(KneighborsClassifier-для-100-ближайших-соседей,-n_jobs=-1)-4.1\"><span class=\"toc-item-num\">4.1&nbsp;&nbsp;</span>Классификатор на основе метода К-средних (KneighborsClassifier для 100 ближайших соседей, n_jobs=-1)</a></span></li><li><span><a href=\"#Классификатор-на-основе-алгоритма-&quot;Случайный-лес&quot;-(RandomForestClassifier-из-100-деревьев,-random_state=17,-oob_score_,-n_jobs=-1)\" data-toc-modified-id=\"Классификатор-на-основе-алгоритма-&quot;Случайный-лес&quot;-(RandomForestClassifier-из-100-деревьев,-random_state=17,-oob_score_,-n_jobs=-1)-4.2\"><span class=\"toc-item-num\">4.2&nbsp;&nbsp;</span>Классификатор на основе алгоритма \"Случайный лес\" (RandomForestClassifier из 100 деревьев, random_state=17, oob_score_, n_jobs=-1)</a></span></li><li><span><a href=\"#Логистическая-регрессия-(LogisticRegression-C=default,-random_state=17,-n_jobs=-1)\" data-toc-modified-id=\"Логистическая-регрессия-(LogisticRegression-C=default,-random_state=17,-n_jobs=-1)-4.3\"><span class=\"toc-item-num\">4.3&nbsp;&nbsp;</span>Логистическая регрессия (LogisticRegression C=default, random_state=17, n_jobs=-1)</a></span></li><li><span><a href=\"#Линейный-SVM\" data-toc-modified-id=\"Линейный-SVM-4.4\"><span class=\"toc-item-num\">4.4&nbsp;&nbsp;</span>Линейный SVM</a></span></li></ul></li><li><span><a href=\"#Выбор-параметров---длины-сессии-и-ширины-окна\" data-toc-modified-id=\"Выбор-параметров---длины-сессии-и-ширины-окна-5\"><span class=\"toc-item-num\">5&nbsp;&nbsp;</span>Выбор параметров - длины сессии и ширины окна</a></span><ul class=\"toc-item\"><li><span><a href=\"#Для-10-ти-пользователей\" data-toc-modified-id=\"Для-10-ти-пользователей-5.1\"><span class=\"toc-item-num\">5.1&nbsp;&nbsp;</span>Для 10-ти пользователей</a></span></li><li><span><a href=\"#Для-150-ти-пользователей\" data-toc-modified-id=\"Для-150-ти-пользователей-5.2\"><span class=\"toc-item-num\">5.2&nbsp;&nbsp;</span>Для 150-ти пользователей</a></span></li></ul></li><li><span><a href=\"#Идентификация-конкретного-пользователя-и-кривые-обучения\" data-toc-modified-id=\"Идентификация-конкретного-пользователя-и-кривые-обучения-6\"><span class=\"toc-item-num\">6&nbsp;&nbsp;</span>Идентификация конкретного пользователя и кривые обучения</a></span><ul class=\"toc-item\"><li><span><a href=\"#Обучили-LogisticRegressionCV\" data-toc-modified-id=\"Обучили-LogisticRegressionCV-6.1\"><span class=\"toc-item-num\">6.1&nbsp;&nbsp;</span>Обучили LogisticRegressionCV</a></span></li></ul></li><li><span><a href=\"#Vowpal-Wabbit\" data-toc-modified-id=\"Vowpal-Wabbit-7\"><span class=\"toc-item-num\">7&nbsp;&nbsp;</span>Vowpal Wabbit</a></span></li><li><span><a href=\"#Kaggle-&quot;Catch-Me-If-You-Can&quot;\" data-toc-modified-id=\"Kaggle-&quot;Catch-Me-If-You-Can&quot;-8\"><span class=\"toc-item-num\">8&nbsp;&nbsp;</span>Kaggle \"Catch Me If You Can\"</a></span><ul class=\"toc-item\"><li><span><a href=\"#Построили-baseline\" data-toc-modified-id=\"Построили-baseline-8.1\"><span class=\"toc-item-num\">8.1&nbsp;&nbsp;</span>Построили baseline</a></span></li><li><span><a href=\"#site1..site10-+-TimeSeriesSplit-+-GridSearchCV\" data-toc-modified-id=\"site1..site10-+-TimeSeriesSplit-+-GridSearchCV-8.2\"><span class=\"toc-item-num\">8.2&nbsp;&nbsp;</span><strong><code>site1</code></strong>..<strong><code>site10</code></strong> + TimeSeriesSplit + GridSearchCV</a></span></li><li><span><a href=\"#site1..site10-+-#unique_sites+TimeSeriesSplit-+-GridSearchCV\" data-toc-modified-id=\"site1..site10-+-#unique_sites+TimeSeriesSplit-+-GridSearchCV-8.3\"><span class=\"toc-item-num\">8.3&nbsp;&nbsp;</span><strong><code>site1</code></strong>..<strong><code>site10</code></strong> + <strong><code>#unique_sites</code></strong>+TimeSeriesSplit + GridSearchCV</a></span></li><li><span><a href=\"#site1..site10+start_hour-+-TimeSeriesSplit-+-GridSearchCV\" data-toc-modified-id=\"site1..site10+start_hour-+-TimeSeriesSplit-+-GridSearchCV-8.4\"><span class=\"toc-item-num\">8.4&nbsp;&nbsp;</span><strong><code>site1</code></strong>..<strong><code>site10</code></strong>+<strong><code>start_hour</code></strong> + TimeSeriesSplit + GridSearchCV</a></span></li><li><span><a href=\"#site1..site10+start_hour-+-day_of_week+-TimeSeriesSplit-+-GridSearchCV\" data-toc-modified-id=\"site1..site10+start_hour-+-day_of_week+-TimeSeriesSplit-+-GridSearchCV-8.5\"><span class=\"toc-item-num\">8.5&nbsp;&nbsp;</span><strong><code>site1</code></strong>..<strong><code>site10</code></strong>+<strong><code>start_hour</code></strong> + <strong><code>day_of_week</code></strong>+ TimeSeriesSplit + GridSearchCV</a></span></li><li><span><a href=\"#site1..site10+start_hour-+-day_of_week+-start_month+TimeSeriesSplit-+-GridSearchCV\" data-toc-modified-id=\"site1..site10+start_hour-+-day_of_week+-start_month+TimeSeriesSplit-+-GridSearchCV-8.6\"><span class=\"toc-item-num\">8.6&nbsp;&nbsp;</span><strong><code>site1</code></strong>..<strong><code>site10</code></strong>+<strong><code>start_hour</code></strong> + <strong><code>day_of_week</code></strong>+ <strong><code>start_month</code></strong>+TimeSeriesSplit + GridSearchCV</a></span></li></ul></li><li><span><a href=\"#Практическое-применение-для-решения-бизнес-задач\" data-toc-modified-id=\"Практическое-применение-для-решения-бизнес-задач-9\"><span class=\"toc-item-num\">9&nbsp;&nbsp;</span>Практическое применение для решения бизнес-задач</a></span></li><li><span><a href=\"#Направления-развития\" data-toc-modified-id=\"Направления-развития-10\"><span class=\"toc-item-num\">10&nbsp;&nbsp;</span>Направления развития</a></span></li><li><span><a href=\"#Заключение\" data-toc-modified-id=\"Заключение-11\"><span class=\"toc-item-num\">11&nbsp;&nbsp;</span>Заключение</a></span></li></ul></div>"
   ]
  },
  {
   "cell_type": "markdown",
   "metadata": {},
   "source": [
    "## Цели и задачи проекта, описание исходных и обработанных данных\n",
    "***"
   ]
  },
  {
   "cell_type": "markdown",
   "metadata": {},
   "source": [
    "### Цели и задачи проекта"
   ]
  },
  {
   "cell_type": "markdown",
   "metadata": {},
   "source": [
    "Целью проекта является идентификация пользователя по его поведению в сети Интернет. Построенная в рамках проекта одель будет решать задачу анализа последовательности из нескольких веб-сайтов, посещенных подряд одним и тем же человеком, и определеять Alice это или кто-то другой."
   ]
  },
  {
   "cell_type": "markdown",
   "metadata": {},
   "source": [
    "В рамках проекта были выполнены 4 задания по программированию (Programming Assignment), посвещенных:\n",
    "    - предобработке данных;\n",
    "    - первичному анализу данных;\n",
    "    - визуальному анализу данных;\n",
    "    - сравнению моделей классификации;\n",
    "    - настройке выбранной модели;\n",
    "    - изучению переобучения модели;\n",
    "    - работе с библиотекой VowpalWabbit.\n",
    "Выполнены 3 взаимно-оцениваемых задания (PeerReview):\n",
    "    - визуализация данных (в т.ч. вновь созданным признкакам);\n",
    "    - оценка участия в соревновании Kaggle;\n",
    "    - оценка проекта в целом."
   ]
  },
  {
   "cell_type": "markdown",
   "metadata": {},
   "source": [
    "### Исходные данные"
   ]
  },
  {
   "cell_type": "markdown",
   "metadata": {},
   "source": [
    "В проекте используются данные из статьи \"A Tool for Classification of Sequential Data\", авторы Giacomo Kahn, Yannick Loiseau и Olivier Raynaud. Данные собраны с прокси серверов Университета Блеза Паскаля. \n",
    "        \n",
    "Данные взяты за период в 6 месяцев (с ноября 2013 по май 2014). Данные очищены от автоматических перенаправлений на рекламные сайты при помощи наложения фильтров из HOST файлов MVPS и pgl.yoyo.org, а также собственного фильтра авторов.\n",
    "\n",
    "В директориях 30users, 150users содержится 30, 150 наиболее активных пользователей."
   ]
  },
  {
   "cell_type": "markdown",
   "metadata": {},
   "source": [
    "### Данные для выполнения ProgrammingAssignment"
   ]
  },
  {
   "cell_type": "markdown",
   "metadata": {},
   "source": [
    "Для выполнения заданий по программированию используются данные проекта `capstone_user_identification.zip` в составе:\n",
    "- `150users` - каталог, содержащий сессии 150 пользователей;\n",
    "- `10users` - каталог, содержащий сессии 10 пользователей;\n",
    "- `3users` - каталог, содержащий сессии 3 пользователей;\n",
    "\n",
    "Формат данных: `<timestamp, full_site_name>`"
   ]
  },
  {
   "cell_type": "markdown",
   "metadata": {},
   "source": [
    "### Данные для соревнования Kaggle"
   ]
  },
  {
   "cell_type": "markdown",
   "metadata": {},
   "source": [
    "В исходных данных соревнования (`catch-me-if-you-can-intruder-detection-through-webpage-session-traking2.zip`) содержаться:\n",
    "\n",
    "\n",
    "- частотный словарь сайтов `site_dict.pkl` вида `{полное_имя_сайта:site_id}` в формате `pickle`;\n",
    "\n",
    "\n",
    "- обучающая выборка `train_session_csv` (сессии из 10 сайтов (`site_id`), длительностью не более 30 мин.) (*кстати, весьма несбалансированная*);\n",
    "\n",
    "\n",
    "- `test_sessions.csv` - тестовая выборка (также представлена сессиями по 10 сайтов, длительностью не более 30 мин.), на основе которой формируем предсказания для submission в Kaggle. \n",
    "\n",
    "Формат submission'а, представлен в файле `sample_submission.csv.`\n",
    "\n",
    "В архиве представлены данные о посещенных сайтах для 1557 пользователей, а также данные о посещенных сайтах Alice (Alice_log.csv)."
   ]
  },
  {
   "cell_type": "markdown",
   "metadata": {},
   "source": [
    "## Подготовка данных к анализу и построению моделей\n",
    "***"
   ]
  },
  {
   "cell_type": "markdown",
   "metadata": {},
   "source": [
    "### Разбиение данных на сессии и создание частотного словаря"
   ]
  },
  {
   "cell_type": "markdown",
   "metadata": {},
   "source": [
    "**Precessed data:** `train_data_3users.csv` `train_data_10users.csv` `train_data_150users.csv`"
   ]
  },
  {
   "cell_type": "markdown",
   "metadata": {},
   "source": [
    "В рамках подготовки данных для описательного анализа и построения прогнозных моделей выполнена предобработка данных (исходно посещенные веб-сайты указаны для каждого пользователя в отдельном файле) посредством функции `prepare_train_set` с заданной шириной окна `session_length`. \n",
    "\n",
    "В результате получены:\n",
    " - DataFrame,где строки - сессии из идентификаторов `site_id`,  длинной `session_length` сайтов, количество столбцов - `session_length`, последний столбец - целевая переменная `user_id`;\n",
    " - Частотный словарь сайтов вида `{site_string:[site_id, site_freq]}`\n",
    " \n",
    " \n",
    "Неполные сессии дополнены нулями, в частотном словаре отутствует `site_id=0`"
   ]
  },
  {
   "cell_type": "markdown",
   "metadata": {},
   "source": [
    "### Получение ТОП `N` посещенных сайтов "
   ]
  },
  {
   "cell_type": "markdown",
   "metadata": {},
   "source": [
    "**Precessed data:** `train_data_150users.csv`"
   ]
  },
  {
   "cell_type": "markdown",
   "metadata": {},
   "source": [
    "На основе частотного словаря отработан механизм получения ТОП-10,20,...N самых посещаемых сайтов в датасете."
   ]
  },
  {
   "cell_type": "markdown",
   "metadata": {},
   "source": [
    "### Применение подхода `bag_of_words` к каждой из сессий "
   ]
  },
  {
   "cell_type": "markdown",
   "metadata": {},
   "source": [
    "**Precessed data:** `train_data_3users.csv` `train_data_10users.csv` `train_data_150users.csv`"
   ]
  },
  {
   "cell_type": "markdown",
   "metadata": {},
   "source": [
    "Полученные признаки `site1`,...,`site10` не имеют смысла как признаки в задаче классификации. Был применен подход `bag of words` для каждой из сессий, что позволило получить признаки типа: *сколько раз сайт i встретился в сессии с номером j*. Процедура була реализована при помощи разреженных матриц."
   ]
  },
  {
   "cell_type": "markdown",
   "metadata": {},
   "source": [
    "### Создание обучающих выборок с различными парметрами"
   ]
  },
  {
   "cell_type": "markdown",
   "metadata": {},
   "source": [
    "**Precessed data:** `train_data_3users.csv` `train_data_10users.csv` `train_data_150users.csv` `dict_freq3users.pkl` `dict_freq10users.pkl` `dict_freq150users.pkl`"
   ]
  },
  {
   "cell_type": "markdown",
   "metadata": {},
   "source": [
    "С целью дальнейшего сравнения моделей классификации созданы обучающие выборки с различными значениями параметра `session_length` - 5,7,10,15.\n",
    "\n",
    "В функции `prepare_train_set` реализован механизм скользящего окна (сессии перекрываются)."
   ]
  },
  {
   "cell_type": "markdown",
   "metadata": {},
   "source": [
    "## Создание, первичный анализ признаков и проверка гипотез"
   ]
  },
  {
   "cell_type": "markdown",
   "metadata": {},
   "source": [
    "### Создание признака для анализа"
   ]
  },
  {
   "cell_type": "markdown",
   "metadata": {},
   "source": [
    "**Precessed data:** `train_data_10users.csv`"
   ]
  },
  {
   "cell_type": "markdown",
   "metadata": {},
   "source": [
    "Создали признак - `num_unique_sites` - количество уникальных сайтов в сесиии"
   ]
  },
  {
   "cell_type": "markdown",
   "metadata": {},
   "source": [
    "### Проверка гипотезы о распределении признака"
   ]
  },
  {
   "cell_type": "markdown",
   "metadata": {},
   "source": [
    "**Precessed data:** `train_data_10users.csv`"
   ]
  },
  {
   "cell_type": "markdown",
   "metadata": {},
   "source": [
    "В рамках первичного статистического анализа признаков выполнена проверка гипотезы о нормальности распределения признака `num_unique_sites` при помощи метода *QQ-plot*  и критерия Шапиро-Уилка.**"
   ]
  },
  {
   "cell_type": "markdown",
   "metadata": {},
   "source": [
    "<table><tr>\n",
    "<td><img src=\"img/num_unique_sites_hist_1.png\" alt=\"Draving\" style=width: 250px;\"/></td>\n",
    "<td><img src=\"img/num_unique_sites_qq_plot_2.png\"></td>\n",
    "</tr></table>"
   ]
  },
  {
   "cell_type": "markdown",
   "metadata": {},
   "source": [
    "На уровне 0.05, а также 0.1 (более либеральном) мы отвергли гипотезу о нормальности распределения, но хвосты у распределения тяжелые, следовательно это скорее распределение близкое к нормальному, чем нормальное."
   ]
  },
  {
   "cell_type": "markdown",
   "metadata": {},
   "source": [
    "### Проверка гипотезы о том, что сайт будет посещен повторно в рамках сессии из 10 сайтов"
   ]
  },
  {
   "cell_type": "markdown",
   "metadata": {},
   "source": [
    "**Precessed data:** `train_data_10users.csv`"
   ]
  },
  {
   "cell_type": "markdown",
   "metadata": {},
   "source": [
    "Проверили гипотезу о том, что сайт будет посещен повторно в рамках сессии из 10-ти сайтов с вероятностью 95% при помощи **биномиального критерия для доли**. Значение `p-value` не позволяет опровернуть нулевую гипотезу."
   ]
  },
  {
   "cell_type": "markdown",
   "metadata": {},
   "source": [
    "Пострроили для этой доли 95% доверительный интервал Уилсона: `[0.950103, 0.957053]`"
   ]
  },
  {
   "cell_type": "markdown",
   "metadata": {},
   "source": [
    "### Построение доверительного интервала на основе bootstrap-а"
   ]
  },
  {
   "cell_type": "markdown",
   "metadata": {},
   "source": [
    "**Precessed data:** `train_data_10users.csv`"
   ]
  },
  {
   "cell_type": "markdown",
   "metadata": {},
   "source": [
    "Построили 95% доверительный интервал для средней частоты появления сайта в выборке: \n",
    "\n",
    "`[ 22.56325835  35.7688467 ]`"
   ]
  },
  {
   "cell_type": "markdown",
   "metadata": {},
   "source": [
    "### Построение дополнительных признаков"
   ]
  },
  {
   "cell_type": "markdown",
   "metadata": {},
   "source": [
    "**Precessed data:** `train_data_3users.csv` `train_data_10users.csv` `train_data_150users.csv` `dict_freq3users.pkl` `dict_freq10users.pkl` `dict_freq150users.pkl`"
   ]
  },
  {
   "cell_type": "markdown",
   "metadata": {},
   "source": [
    "Построены дополнительные признаки с помошью модифицированной функции `prepare_train_set`:\n",
    "- `session_timespan`- продолжительность сессии (разница между максимальным и минимальным временем посещения сайтов, в секундах)\n",
    "- `#unique_sites`- число уникальных сайтов в сессии\n",
    "- `start_hour`- час начала сессии (то есть час минимального timestamp среди десяти)\n",
    "- `day_of_week`- день недели (тое сть день минимального timestamp среди десяти)\n",
    "- `time_diff1...time_diff9`- длительность посещения сайтов с 1-го по 9-ый."
   ]
  },
  {
   "cell_type": "markdown",
   "metadata": {},
   "source": [
    "### Первичный визуальный анализ дополнительных признаков"
   ]
  },
  {
   "cell_type": "markdown",
   "metadata": {},
   "source": [
    "**Precessed data:** `train_data_10users.csv`"
   ]
  },
  {
   "cell_type": "markdown",
   "metadata": {},
   "source": [
    "#### `session_timespan` "
   ]
  },
  {
   "cell_type": "markdown",
   "metadata": {},
   "source": [
    "Выполнено построение гистограммы распределения `session_timespan` (ограничена 200-ми значениями признака) при помощи библиотеки **Plotly**"
   ]
  },
  {
   "cell_type": "markdown",
   "metadata": {},
   "source": [
    "<img src=\"img/session_timespan_hist_200.png\">"
   ]
  },
  {
   "cell_type": "markdown",
   "metadata": {},
   "source": [
    "<img src=\"img/session_timespan_users_1200.png\">"
   ]
  },
  {
   "cell_type": "markdown",
   "metadata": {},
   "source": [
    "Видно, что практически для всех пользователей наибольшее количество сессий имеют длину от 0 до 20 секунд, однако для некоторых пользователей значительное количество сессий имеют длину в интервалах (20,40], (40,60], (60,80], (80,100]."
   ]
  },
  {
   "cell_type": "markdown",
   "metadata": {},
   "source": [
    "Предварительно приняли решение о включении признака `session_timespan` в модель."
   ]
  },
  {
   "cell_type": "markdown",
   "metadata": {},
   "source": [
    "#### `#unique_sites`"
   ]
  },
  {
   "cell_type": "markdown",
   "metadata": {},
   "source": [
    "<img src=\"img/unique_sites_hist.png\">"
   ]
  },
  {
   "cell_type": "markdown",
   "metadata": {},
   "source": [
    "<img src=\"img/unique_sites_users.png\">"
   ]
  },
  {
   "cell_type": "markdown",
   "metadata": {},
   "source": [
    "Видно, что практически для всех пользователей наибольшее количество уникальных сайтов в сессии 6-7, однако существуют пользователи в сессиях которых часто встречается всего 1-2 уникальных сайта."
   ]
  },
  {
   "cell_type": "markdown",
   "metadata": {},
   "source": [
    "Предварительно приняли решение о включении признака `#unique_sites` в модель."
   ]
  },
  {
   "cell_type": "markdown",
   "metadata": {},
   "source": [
    "#### `start_hour`"
   ]
  },
  {
   "cell_type": "markdown",
   "metadata": {},
   "source": [
    "<img src=\"img/start_hour_hist.png\">"
   ]
  },
  {
   "cell_type": "markdown",
   "metadata": {},
   "source": [
    "<img src=\"img/start_hour_users_hist.png\">"
   ]
  },
  {
   "cell_type": "markdown",
   "metadata": {},
   "source": [
    "Видно, что практически для всех пользователей гистограммы распределения часа начала сессии `start_hour` индивидуальны."
   ]
  },
  {
   "cell_type": "markdown",
   "metadata": {},
   "source": [
    "Предварительно приняли решение о включении признака `start_hour` в модель."
   ]
  },
  {
   "cell_type": "markdown",
   "metadata": {},
   "source": [
    "#### `day_of_week`"
   ]
  },
  {
   "cell_type": "markdown",
   "metadata": {},
   "source": [
    "<img src=\"img/day_of_week_hist.png\">"
   ]
  },
  {
   "cell_type": "markdown",
   "metadata": {},
   "source": [
    "<img src=\"img/day_of_week_users_hist.png\">"
   ]
  },
  {
   "cell_type": "markdown",
   "metadata": {},
   "source": [
    "Видно, что практически для всех пользователей гистограммы распределения часа начала сессии `day_of_week` индивидуальны."
   ]
  },
  {
   "cell_type": "markdown",
   "metadata": {},
   "source": [
    "Предварительно приняли решение о включении признака `day_of_week` в модель."
   ]
  },
  {
   "cell_type": "markdown",
   "metadata": {},
   "source": [
    "#### Построение ТОП-10 сайтов по посещаемости"
   ]
  },
  {
   "cell_type": "markdown",
   "metadata": {},
   "source": [
    "<img src=\"img/top_10_sites.png\">"
   ]
  },
  {
   "cell_type": "markdown",
   "metadata": {},
   "source": [
    "#### Построение ТОП-30 сайтов по посещаемости"
   ]
  },
  {
   "cell_type": "markdown",
   "metadata": {},
   "source": [
    "`train_data_10users.csv` `train_data_150users.csv`"
   ]
  },
  {
   "cell_type": "markdown",
   "metadata": {},
   "source": [
    "Для дальнейшего построения признаков определены:\n",
    "- `df_top_30_10` - ТОП-30 самых посещаемых сайтов для выборки `train_data_10users.csv`\n",
    "- `df_top_30_150` - ТОП-30 самых посещаемых сайтов для выборки `train_data_150users.csv`"
   ]
  },
  {
   "cell_type": "markdown",
   "metadata": {},
   "source": [
    "### Построение собственных признаков"
   ]
  },
  {
   "cell_type": "markdown",
   "metadata": {},
   "source": [
    "**Precessed data:** `train_data_10users.csv` `train_data_150users.csv` `dict_freq10users.pkl` `dict_freq150users.pkl`"
   ]
  },
  {
   "cell_type": "markdown",
   "metadata": {},
   "source": [
    "**Были построены следующие признаки (в т.ч. предложенные в задании)**: \n",
    "1. Количество уникальных доменных зон первого уровня в сессии (`cnt_unique_dns_l1`).\n",
    "2. Количество уникальных доменных зон второго уровня в сессии (`cnt_unique_dns_l2`).\n",
    "3. Медианная длительность пребывания на сайте в рамках сессии (`median_ts_ses`).\n",
    "4. Средняя длительность пребывания на сайте в рамках сессии (`mean_ts_ses`).\n",
    "5. Количество сессий с нулевой длиной (возможно это автоматические переходы, перенаправления и пр.) (`cnt_zeros_ts_ses`).\n",
    "6. Количество длинных сессий (характеризует разрывы в сессии, например, если сессия началась вечером и продолжилась утром или на следующий день. Признаком разрыва является промежуток между посещениями сайтов более 8 часов)(`cnt_long_ts_ses`).\n",
    "7. Частота посещения сайтов со строкой `google`в доменном имени (`frq_google_`).\n",
    "8. Частота посещения сайтов со строкой `youtube` в доменном имени (`frq_youtube_`).\n",
    "9. Частота посещения сайтов со строкой `facebook` в доменном имени (`frq_facebook_`).\n",
    "10. Количество посещений сайтов из ТОП-30 в рамках сессии (`cnt_top_30_sites_`).\n",
    "11. Количество сессий с нулевой длительностью из ТОП-30 в рамках сессии (`cnt_zeros_ts_ses_top_30`).\n",
    "12. Количество посещений сайтов из ТОП-30 длительностью более 8 часов (`cnt_long_ts_ses_top_30`).\n",
    "13. Средняя длительность посещения сайта из ТОП-30 в сессии (`avg_timespan_top_30_sites_`).\n",
    "14. Медианная длительность посещения сайта из ТОП-30 в сессии (`median_timespan_top_30_sites_`).\n",
    "15. Год начала сессии (`start_year_`).\n",
    "16. Месяц начала сессии (`start_month_`).\n",
    "17. Неделя начала сессий с начала года(`start_week_fny_`).\n",
    "18. День начала сессии с начала года (`start_day_fny_`).\n",
    "19. Час начала сессии с начала года (`start_hour_fny_`).\n",
    "20. Время суток начала сессии (`start_time_of_day_`)."
   ]
  },
  {
   "cell_type": "markdown",
   "metadata": {},
   "source": [
    "### Первичный визуальный анализ собственных признаков"
   ]
  },
  {
   "cell_type": "markdown",
   "metadata": {},
   "source": [
    "**Precessed data:** `train_data_10users.csv` `dict_freq10users.pkl`"
   ]
  },
  {
   "cell_type": "markdown",
   "metadata": {},
   "source": [
    "#### `cnt_unique_dns_l1`"
   ]
  },
  {
   "cell_type": "markdown",
   "metadata": {},
   "source": [
    "<img src=\"img/cnt_unique_dns_l1_hist.png\">"
   ]
  },
  {
   "cell_type": "markdown",
   "metadata": {},
   "source": [
    "*Количество уникальных доменных зон первого уровня, которые запрашивали пользователи в своих сессиях доходит до 7. Причем наиболее часто в сессии встречаются одна или две уникальных доменных зоны 1-го уровня*"
   ]
  },
  {
   "cell_type": "markdown",
   "metadata": {},
   "source": [
    "<img src=\"img/cnt_unique_dns_l1_users_hist.png\">"
   ]
  },
  {
   "cell_type": "markdown",
   "metadata": {},
   "source": [
    "*В общем, у большиства пользователей в сессиях чаще всего присутствуют две уникальных доменных зоны. Но есть пользователи у которых в сессиях присутствует одна уникальная доменная зона 1-го уровня. Целесообразность использования данного признака требует исследования.*"
   ]
  },
  {
   "cell_type": "markdown",
   "metadata": {},
   "source": [
    "#### `cnt_unique_dns_l2`"
   ]
  },
  {
   "cell_type": "markdown",
   "metadata": {},
   "source": [
    "<img src=\"img/cnt_unique_dns_l2_hist.png\">"
   ]
  },
  {
   "cell_type": "markdown",
   "metadata": {},
   "source": [
    "*Чаще всего в сессии встречаются от 2 до 5 уникальных доменных зон второго уровня. Существует значительное количество сессий в которых количество уникальных доменных зон второго уровня от 6 до 10*"
   ]
  },
  {
   "cell_type": "markdown",
   "metadata": {},
   "source": [
    "<img src=\"img/cnt_unique_dns_l2_users_hist.png\">"
   ]
  },
  {
   "cell_type": "markdown",
   "metadata": {},
   "source": [
    "*Некоторые из пользователей подтверждают общую картину распределения количества уникальных доменных зон 2-го уровня, запрошенных в сессии, а некоторые нет. Улучшит ли этот признак модель...нужно проверить на практике!*"
   ]
  },
  {
   "cell_type": "markdown",
   "metadata": {},
   "source": [
    "#### `median_ts_ses`"
   ]
  },
  {
   "cell_type": "markdown",
   "metadata": {},
   "source": [
    "<img src=\"img/median_ts_ses_hist.png\">"
   ]
  },
  {
   "cell_type": "markdown",
   "metadata": {},
   "source": [
    "*Для подавляющего количества сессий медиана времени помещения сайта находится в интервале от 0 до 10 секунд.*"
   ]
  },
  {
   "cell_type": "markdown",
   "metadata": {},
   "source": [
    "*Необходимо отметить, что в чистом виде данный параметр может не отражать реального положения дел. Т.к. в сессиях присутствуют разрывы более 8 часов (обеспечивает тяжелый хвост). Также искажают картину посещения нулевой двлительности (контекстная реклама и пр.). Для более эффективного использования данного признака требуется модифицировать разбиение последовательности посещенных сайтов на сессии*"
   ]
  },
  {
   "cell_type": "markdown",
   "metadata": {},
   "source": [
    "<img src=\"img/median_ts_ses_users_hist.png\">"
   ]
  },
  {
   "cell_type": "markdown",
   "metadata": {},
   "source": [
    "*Все графики очень похожи. Вероятно, что этот признак НЕ СТОИТ ВКЛЮЧАТЬ В МОДЕЛЬ.*"
   ]
  },
  {
   "cell_type": "markdown",
   "metadata": {},
   "source": [
    "#### `mean_ts_ses`"
   ]
  },
  {
   "cell_type": "markdown",
   "metadata": {},
   "source": [
    "<img src=\"img/mean_ts_ses_hist.png\">"
   ]
  },
  {
   "cell_type": "markdown",
   "metadata": {},
   "source": [
    "*Среднее время посещения сайта для подавляющего количества сессий находится в интервале от 0 до 40 секунд. У гистограммы присутствует тяжелый хвост*"
   ]
  },
  {
   "cell_type": "markdown",
   "metadata": {},
   "source": [
    "*Необходимо отметить, что в чистом виде данный параметр может не отражать реального положения дел. Т.к. в сессиях присутствуют разрывы более 8 часов (обеспечивает тяжелый хвост). Также искажают картину посещения нулевой двлительности (контекстная реклама и пр.). Для более эффективного использования данного признака требуется модифицировать разбиение последовательности посещенных сайтов на сессии*"
   ]
  },
  {
   "cell_type": "markdown",
   "metadata": {},
   "source": [
    "<img src=\"img/mean_ts_ses_users_hist.png\">"
   ]
  },
  {
   "cell_type": "markdown",
   "metadata": {},
   "source": [
    "*Все графики очень похожи. Наибольшее количество сессий со средним временем посещения 0-10 секунд. Маловероятно, что данный признак принесет пользу при построении модели*\n",
    "\n",
    "*Необходимо отметить, что в чистом виде данный параметр может не отражать реального положения дел. Т.к. в сессиях присутствуют разрывы более 8 часов (обеспечивает тяжелый хвост). Также искажают картину посещения нулевой двлительности (контекстная реклама и пр.). Для более эффективного использования данного признака требуется модифицировать разбиение последовательности посещенных сайтов на сессии*\n",
    "\n",
    "*При данном механизме формирования сессий признак 'среднее время посещения сайта в сессии' ('mean_ts_ses') НЕ СТОИТ ВКЛЮЧАТЬ В МОДЕЛЬ*"
   ]
  },
  {
   "cell_type": "markdown",
   "metadata": {},
   "source": [
    "#### `median_timespan_top_30_sites`"
   ]
  },
  {
   "cell_type": "markdown",
   "metadata": {},
   "source": [
    "<img src=\"img/median_timespan_top_30_sites_hist.png\">"
   ]
  },
  {
   "cell_type": "markdown",
   "metadata": {},
   "source": [
    "*Вцелом, картина не отличается от распределения параметра 'median_ts_ses'.*"
   ]
  },
  {
   "cell_type": "markdown",
   "metadata": {},
   "source": [
    "<img src=\"img/median_timespan_top_30_sites_users_hist.png\">"
   ]
  },
  {
   "cell_type": "markdown",
   "metadata": {},
   "source": [
    "*Все графики очень похожи. Маловероятно, что данный признак принесет пользу при построении модели*\n",
    "\n",
    "*Необходимо отметить, что в чистом виде данный параметр может не отражать реального положения дел. Т.к. в сессиях присутствуют разрывы более 8 часов (обеспечивает тяжелый хвост). Также искажают картину посещения нулевой двлительности (контекстная реклама и пр.). Для более эффективного использования данного признака требуется модифицировать разбиение последовательности посещенных сайтов на сессии*\n",
    "\n",
    "*При данном механизме формирования сессий признак 'среднее время посещения сайта в сессии' ('median_timespan_top_30_sites') НЕ СТОИТ ВКЛЮЧАТЬ В МОДЕЛЬ*"
   ]
  },
  {
   "cell_type": "markdown",
   "metadata": {},
   "source": [
    "#### `avg_timespan_top_30_sites`"
   ]
  },
  {
   "cell_type": "markdown",
   "metadata": {},
   "source": [
    "<img src=\"img/avg_timespan_top_30_sites_hist.png\">"
   ]
  },
  {
   "cell_type": "markdown",
   "metadata": {},
   "source": [
    "*Вцелом, картина не отличается от распределения признака 'median_ts_ses'.*"
   ]
  },
  {
   "cell_type": "markdown",
   "metadata": {},
   "source": [
    "<img src=\"img/avg_timespan_top_30_sites_users_hist.png\">"
   ]
  },
  {
   "cell_type": "markdown",
   "metadata": {},
   "source": [
    "*Картина аналогична признакам 'median_ts_ses', 'mean_ts_ses'. Данный признак не стоит включать в модель.*"
   ]
  },
  {
   "cell_type": "markdown",
   "metadata": {},
   "source": [
    "#### `cnt_top_30_sites`"
   ]
  },
  {
   "cell_type": "markdown",
   "metadata": {},
   "source": [
    "<img src=\"img/cnt_top_30_sites.png\">"
   ]
  },
  {
   "cell_type": "markdown",
   "metadata": {},
   "source": [
    "*Видно, что значительно большее количество сессий в совем составе имеет все 10 сайтов из ТОП-30. Для остальных значений признака количество сессий колеблется от 1000 до 1500*"
   ]
  },
  {
   "cell_type": "markdown",
   "metadata": {},
   "source": [
    "<img src=\"img/cnt_top_30_sites_users_hist.png\">"
   ]
  },
  {
   "cell_type": "markdown",
   "metadata": {},
   "source": [
    "*Весьма интересные результаты. Практически для каждого пользователя гистограмма рапределения данного признака уникальна. Этот параметр нужно ОБЯЗАТЕЛЬНО ВКЛЮЧИТЬ В МОДЕЛЬ*"
   ]
  },
  {
   "cell_type": "markdown",
   "metadata": {},
   "source": [
    "#### `frq_google`"
   ]
  },
  {
   "cell_type": "markdown",
   "metadata": {},
   "source": [
    "<img src=\"img/frq_google_hist.png\">"
   ]
  },
  {
   "cell_type": "markdown",
   "metadata": {},
   "source": [
    "*Достаточно интересные результаты. Видно, что значительное количество сессий вообще не содрежат строки 'google'. Остальные значения признака распределены достаточно равномерно. Нужно посмотреть в разрезе пользователей.*"
   ]
  },
  {
   "cell_type": "markdown",
   "metadata": {},
   "source": [
    "<img src=\"img/frq_google_users_hist.png\">"
   ]
  },
  {
   "cell_type": "markdown",
   "metadata": {},
   "source": [
    "*Практически для каждого пользователя гистограмма распределения данного признака уникальна. ПРИЗНАК ВКЛЮЧАЕМ В МОДЕЛЬ*"
   ]
  },
  {
   "cell_type": "markdown",
   "metadata": {},
   "source": [
    "#### `frq_youtube`"
   ]
  },
  {
   "cell_type": "markdown",
   "metadata": {},
   "source": [
    "<img src=\"img/frq_youtube_hist.png\">"
   ]
  },
  {
   "cell_type": "markdown",
   "metadata": {},
   "source": [
    "*Видно, что в подавляющем количестве сессий отсутствет строка 'youtube'. Однако значения признака от 1 до 10 распределены равномерно. Нужно посмотреть данные в разрезе пользователей*"
   ]
  },
  {
   "cell_type": "markdown",
   "metadata": {},
   "source": [
    "<img src=\"img/frq_youtube_users_hist.png\">"
   ]
  },
  {
   "cell_type": "markdown",
   "metadata": {},
   "source": [
    "*Гистограммы распределения уникальны для каждого из пользователей. Данный признак ВКЛЮЧАЕМ в модель*"
   ]
  },
  {
   "cell_type": "markdown",
   "metadata": {},
   "source": [
    "#### `frq_facebook`"
   ]
  },
  {
   "cell_type": "markdown",
   "metadata": {},
   "source": [
    "<img src=\"img/frq_facebook_hist.png\">"
   ]
  },
  {
   "cell_type": "markdown",
   "metadata": {},
   "source": [
    "*В подавляющем количестве сессий отсутствет сайт, имеющий в своем имени строку 'facebook'. Однако есть и сесси в которых строка 'facebook' встречается в адресах от 1 до 10 сайтов в сессии. Вероятно, что гистограммы распределения данного признака похожи для разных пользователей. Это связано со спецификой сайта - соцсеть, основная активность - это проверка сообщений, лента новостей*"
   ]
  },
  {
   "cell_type": "markdown",
   "metadata": {},
   "source": [
    "<img src=\"img/frq_facebook_users_hist.png\">"
   ]
  },
  {
   "cell_type": "markdown",
   "metadata": {},
   "source": [
    "Наши предположения оправдались. Гистограммы распределения данного признака в разрезе пользователей идентичны и повторяют вид обощенной гистограммы. НЕ БУДЕМ ВКЛЮЧАТЬ В МОДЕЛЬ ДАННЫЙ ПРИЗНАК...однако в сочетании с остальными признаками он может быть и полезен...как знать;)...это же ML"
   ]
  },
  {
   "cell_type": "markdown",
   "metadata": {},
   "source": [
    "#### `start_year`"
   ]
  },
  {
   "cell_type": "markdown",
   "metadata": {},
   "source": [
    "<img src=\"img/start_year_hist.png\">"
   ]
  },
  {
   "cell_type": "markdown",
   "metadata": {},
   "source": [
    "*В 2014 году люди в интернете сидели больше :)*"
   ]
  },
  {
   "cell_type": "markdown",
   "metadata": {},
   "source": [
    "<img src=\"img/start_year_users_hist.png\">"
   ]
  },
  {
   "cell_type": "markdown",
   "metadata": {},
   "source": [
    "*В принципе, есть похожие гистограммы, однако четко прослеживается возможность сегментировать пользователей по данному ризнаку. ОСТАВИМ ДАННЫЙ ПРИЗНАК В МОДЕЛИ*"
   ]
  },
  {
   "cell_type": "markdown",
   "metadata": {},
   "source": [
    "#### `start_month`"
   ]
  },
  {
   "cell_type": "markdown",
   "metadata": {},
   "source": [
    "<img src=\"img/start_month_hist.png\">"
   ]
  },
  {
   "cell_type": "markdown",
   "metadata": {},
   "source": [
    "*Очевидно, что сетевая актвность имеет место быть с ноября по май, остальное - либо отсутсвие данных, либо особенность генеральной совокупности - данные из учебного заведения => с июня по октябрь каникулы и/или практика*"
   ]
  },
  {
   "cell_type": "markdown",
   "metadata": {},
   "source": [
    "<img src=\"img/start_month_users_hist.png\">"
   ]
  },
  {
   "cell_type": "markdown",
   "metadata": {},
   "source": [
    "*Гистограммы распределения месяца начала сессии для каждого из пользователей уникальны. ВКЛЮЧАЕМ в модель данный признак*"
   ]
  },
  {
   "cell_type": "markdown",
   "metadata": {},
   "source": [
    "#### `start_week_fny`"
   ]
  },
  {
   "cell_type": "markdown",
   "metadata": {},
   "source": [
    "<img src=\"img/start_week_fny_hist.png\">"
   ]
  },
  {
   "cell_type": "markdown",
   "metadata": {},
   "source": [
    "*Очевидно, что данный признак имеет линейную зависимость с признаком 'start_month'*"
   ]
  },
  {
   "cell_type": "markdown",
   "metadata": {},
   "source": [
    "<img src=\"img/start_week_fny_users_hist.png\">"
   ]
  },
  {
   "cell_type": "markdown",
   "metadata": {},
   "source": [
    "*Оставляем данный признак в модели. Посмотрим что будет после ПРОЦЕДУРЫ ОТБОРА ПРИЗНАКОВ*"
   ]
  },
  {
   "cell_type": "markdown",
   "metadata": {},
   "source": [
    "#### `start_day_fny`"
   ]
  },
  {
   "cell_type": "markdown",
   "metadata": {},
   "source": [
    "<img src=\"img/start_day_fny_hist.png\">"
   ]
  },
  {
   "cell_type": "markdown",
   "metadata": {},
   "source": [
    "*Данный признак линейно зависим с 'start_month','start_week_fny','start_day_fny'*"
   ]
  },
  {
   "cell_type": "markdown",
   "metadata": {},
   "source": [
    "<img src=\"img/start_day_fny_users_hist.png\">"
   ]
  },
  {
   "cell_type": "markdown",
   "metadata": {},
   "source": [
    "*Оставляем данный признак в модели. Посмотрим что будет после ПРОЦЕДУРЫ ОТБОРА ПРИЗНАКОВ*"
   ]
  },
  {
   "cell_type": "markdown",
   "metadata": {},
   "source": [
    "#### `start_hour_fny`"
   ]
  },
  {
   "cell_type": "markdown",
   "metadata": {},
   "source": [
    "<img src=\"img/start_hour_fny_hist.png\">"
   ]
  },
  {
   "cell_type": "markdown",
   "metadata": {},
   "source": [
    "*Данный признак линейно зависим с 'start_month','start_week_fny','start_day_fny', 'start_day_fny'*"
   ]
  },
  {
   "cell_type": "markdown",
   "metadata": {},
   "source": [
    "<img src=\"img/start_hour_fny_users_hist.png\">"
   ]
  },
  {
   "cell_type": "markdown",
   "metadata": {},
   "source": [
    "*Включаем признак в модель. Посмотрим, что будет после отбора признаков*"
   ]
  },
  {
   "cell_type": "markdown",
   "metadata": {},
   "source": [
    "#### `start_time_of_day`"
   ]
  },
  {
   "cell_type": "markdown",
   "metadata": {},
   "source": [
    "<img src=\"img/start_time_of_day_hist.png\">"
   ]
  },
  {
   "cell_type": "markdown",
   "metadata": {},
   "source": [
    "*Сложно прокомментировать. Нужно посмотреть ситуацию в разрезе пользователей*"
   ]
  },
  {
   "cell_type": "markdown",
   "metadata": {},
   "source": [
    "<img src=\"img/start_time_of_day_users_hist.png\">"
   ]
  },
  {
   "cell_type": "markdown",
   "metadata": {},
   "source": [
    "*Есть различия между гистограммами распределения данного призака. Включаем данный признак в модель.*"
   ]
  },
  {
   "cell_type": "markdown",
   "metadata": {},
   "source": [
    "#### `cnt_zeros_ts_ses`"
   ]
  },
  {
   "cell_type": "markdown",
   "metadata": {},
   "source": [
    "<img src=\"img/start_cnt_zeros_ts_ses_hist.png\">"
   ]
  },
  {
   "cell_type": "markdown",
   "metadata": {},
   "source": [
    "*Количество сайтов с нулевой двлительностью в сессии распределено равномерно для значений от 1 до 6. Для значений 7, 8,9 наблюдается значительное снижение. Видно, что нет сессий, в которых все 10 сайтов были бы нулевой длительности. Также более 2000 сессий не имеют посещений сайтов, нулевой длительности.*"
   ]
  },
  {
   "cell_type": "markdown",
   "metadata": {},
   "source": [
    "<img src=\"img/start_cnt_zeros_ts_ses_users_hist.png\">"
   ]
  },
  {
   "cell_type": "markdown",
   "metadata": {},
   "source": [
    "*Данный признак стоит включить в модель. Т.к. для ряда пользователей данный признак имеет характерную гистограмму распределения*"
   ]
  },
  {
   "cell_type": "markdown",
   "metadata": {},
   "source": [
    "#### `cnt_long_ts_ses`"
   ]
  },
  {
   "cell_type": "markdown",
   "metadata": {},
   "source": [
    "<img src=\"img/start_cnt_long_ts_ses_hist.png\">"
   ]
  },
  {
   "cell_type": "markdown",
   "metadata": {},
   "source": [
    "*Видно, что присутствуют разрывы, вплоть до 4 в рамках сессии...но эта другая история...Смотрим в разрезе пользователей. Как правильно разбить на сессии и отличить конец сессии или разрыв требует отдельной проработки.*"
   ]
  },
  {
   "cell_type": "markdown",
   "metadata": {},
   "source": [
    "<img src=\"img/start_cnt_long_ts_ses_users_hist.png\">"
   ]
  },
  {
   "cell_type": "markdown",
   "metadata": {},
   "source": [
    "*Кажется, что не стоит включать, НО возможно данный признак будет полезен в сочетании с другими признаками. ПОЭТОМУ ВКЛЮЧАЕМ В МОДЕЛЬ*"
   ]
  },
  {
   "cell_type": "markdown",
   "metadata": {},
   "source": [
    "#### `cnt_zeros_ts_ses_top_30`"
   ]
  },
  {
   "cell_type": "markdown",
   "metadata": {},
   "source": [
    "<img src=\"img/cnt_zeros_ts_ses_top_30_hist.png\">"
   ]
  },
  {
   "cell_type": "markdown",
   "metadata": {},
   "source": [
    "*Видно, что в значительном количестве сессий, в которых присутствуют сайты из ТОП-30, нет сайтов из ТОП-30 нулевой длительности. Однако в существенном количестве сесиий значение данного признака изменяется от 1 до 9*"
   ]
  },
  {
   "cell_type": "markdown",
   "metadata": {},
   "source": [
    "<img src=\"img/cnt_zeros_ts_ses_top_30_users_hist.png\">"
   ]
  },
  {
   "cell_type": "markdown",
   "metadata": {},
   "source": [
    "*Есть гистограммы распределения признака, отражающие характерные особенности пользователей. Включаем данный признак в модель*"
   ]
  },
  {
   "cell_type": "markdown",
   "metadata": {},
   "source": [
    "#### `cnt_long_ts_ses_top_30`"
   ]
  },
  {
   "cell_type": "markdown",
   "metadata": {},
   "source": [
    "<img src=\"img/cnt_long_ts_ses_top_30_hist.png\">"
   ]
  },
  {
   "cell_type": "markdown",
   "metadata": {},
   "source": [
    "<img src=\"img/cnt_long_ts_ses_top_30_users_hist.png\">"
   ]
  },
  {
   "cell_type": "markdown",
   "metadata": {},
   "source": [
    "*Есть предложение включит в модель. Скорее всего на этапе отбора признаков он уйдет*"
   ]
  },
  {
   "cell_type": "markdown",
   "metadata": {},
   "source": [
    "#### Выводы по визуальному анализу собственных признаков"
   ]
  },
  {
   "cell_type": "markdown",
   "metadata": {},
   "source": [
    "**Включаем в модель**\n",
    "**1. Признаки, созданные в начале**\n",
    " - 'session_timespan'             - длина сессии\n",
    " - #unique_sites                  - количество уникальных сайтов в сессии\n",
    " - start_hour                     - час начала сессии (в рамках суток)\n",
    " - day_of_week                    - день начала сессии в рамках недели\n",
    "\n",
    "**2. Собственные признаки**\n",
    " - 'cnt_unique_dns_l1'            - количество уникальных доменных зон первого уровня, запрошенных в сессии\n",
    " - 'cnt_unique_dns_l2'            - количество уникальных доменных зон второго уровня, запрошенных в сессии\n",
    " - 'cnt_zeros_ts_ses'             - количество сессий с нулевой длиной\n",
    " - 'cnt_long_ts_ses'              - количество сессий с длиной более 8 часов\n",
    " - 'frq_google'                   - частота посещения сайта со строкой 'google' в адресе\n",
    " - 'frq_youtube'                  - частота посещения сайта со строкой 'youtube' в адресе\n",
    " - 'cnt_top_30_sites'             - количество посещения сайтов из ТОП-30 в сессии\n",
    " - 'cnt_zeros_ts_ses_top_30'      - количество сайтов из ТОП-30 в сессий с нулевой длительностью посещения\n",
    " - 'cnt_long_ts_ses_top_30'       - количество сайтов из ТОП-30 в сессий с длительностью  посещения более 8 часов\n",
    " - 'start_year'                   - год начала сессии\n",
    " - 'start_month'                  - месяц начала сессии\n",
    " - 'start_week_fny_'              - неделя начала сессии с начала года\n",
    " - 'start_day_fny_'               - день начала сессии с начала года\n",
    " - 'start_hour_fny_'              - час начала сессии с начала года\n",
    " - 'start_time_of_day_'           - время суток начала сессии\n",
    " \n",
    " **НЕ ВКЛЮЧАЕМ в модель**\n",
    "\n",
    " - 'median_ts_ses' - медианное время посещения сайта в сессии\n",
    " - 'mean_ts_ses' - среднее время посещения сайта в сессии\n",
    " - 'frq_facebook' - частота посещения сайта со строкой 'facebook' в адресе\n",
    " - 'avg_timespan_top_30_sites', # среднее время нахождения на сайте из ТОП-30 в сессии\n",
    " - 'median_timespan_top_30_sites' # медианное время нахождения на сайте из ТОП-30 в сессии"
   ]
  },
  {
   "cell_type": "markdown",
   "metadata": {},
   "source": [
    "## Сравнение нескольких алгоритмов на сессиях из 10 сайтов"
   ]
  },
  {
   "cell_type": "markdown",
   "metadata": {},
   "source": [
    "**Processed data**: `X_sparse_10users.pkl` `y_10users.pkl`"
   ]
  },
  {
   "cell_type": "markdown",
   "metadata": {},
   "source": [
    "Во входных данных более 14 тысяч сессий и почти 5 тысяч уникальных посещенных сайтов\n",
    "\n",
    "**РЕШАЛИ ЗАДАЧУ МНОГОКЛАССОВОЙ КЛАССИФИКАЦИИ**"
   ]
  },
  {
   "cell_type": "markdown",
   "metadata": {},
   "source": [
    "Разбили выборку на две части в процентном отношении **70%/30%**."
   ]
  },
  {
   "cell_type": "markdown",
   "metadata": {},
   "source": [
    "### Классификатор на основе метода К-средних (KneighborsClassifier для 100 ближайших соседей, n_jobs=-1)"
   ]
  },
  {
   "cell_type": "markdown",
   "metadata": {},
   "source": [
    "1. Обучили `KNeighborsClassifier` на 70% по кросс-валидации (стратегия - `StratifiedKFold`(3-фолда)). \n",
    "\n",
    "    Оценка `accuracy` по кросс-валидации со стратификацией с тремя фолдами: **[0.569, 0.57, 0.555]**\n",
    "    \n",
    "    Усредненное значение:  **0.565**"
   ]
  },
  {
   "cell_type": "markdown",
   "metadata": {},
   "source": [
    "2. На 30% оценили модель. Оценка `accuracy` на отложенной выборке:  **0.584**"
   ]
  },
  {
   "cell_type": "markdown",
   "metadata": {},
   "source": [
    "### Классификатор на основе алгоритма \"Случайный лес\" (RandomForestClassifier из 100 деревьев, random_state=17, oob_score_, n_jobs=-1)"
   ]
  },
  {
   "cell_type": "markdown",
   "metadata": {},
   "source": [
    "1. **OOB оценка `accuracy`:**  0.7228205649258281"
   ]
  },
  {
   "cell_type": "markdown",
   "metadata": {},
   "source": [
    "2. **Точность на отложенной выборке**: 0.7307418819625504"
   ]
  },
  {
   "cell_type": "markdown",
   "metadata": {},
   "source": [
    "### Логистическая регрессия (LogisticRegression C=default, random_state=17, n_jobs=-1)"
   ]
  },
  {
   "cell_type": "markdown",
   "metadata": {},
   "source": [
    "1. Оценка точности (`accuracy`) по cross-валидации с тремя фолдами: **[0.756, 0.77, 0.757]**"
   ]
  },
  {
   "cell_type": "markdown",
   "metadata": {},
   "source": [
    "2. Доля правильных ответов (`accuracy`) на отложенной выборке: **0.782**"
   ]
  },
  {
   "cell_type": "markdown",
   "metadata": {},
   "source": [
    "3. Осуществили подбор гиперпараметра по сетке с помощью функции **LogisticRegressionCV** (multi_class='multinomial', random_state=17, skf=StratifiedKFold(), n_jobs=-1) для двух диапазонов:\n",
    "    - Сначала искали в широком диапазоне: десять значений от 1e-4 до 1e2\n",
    "    <img src=\"img/log_reg_cv_wide.png\">\n",
    " \n",
    "    Лучшее значение доли правильных ответов на кросс-валидации: **0.7591989702275042**(С=**1.0**)\n",
    "    \n",
    "    - Затем искали в более узком диапазоне: двадцать значений в диапазоне от 0.1 до 7\n",
    "    \n",
    "    <img src=\"img/log_reg_cv_narrow.png\">\n",
    "    \n",
    "    Лучшее значение доли правильных ответов на кросс-валидации:  **0.7586896943864367**(С=0.463)\n",
    "    \n",
    "`accuracy` на отложенной выборке для логистической регрессии с лучшим найденным значеним `C`:  **0.775**   "
   ]
  },
  {
   "cell_type": "markdown",
   "metadata": {},
   "source": [
    "### Линейный SVM"
   ]
  },
  {
   "cell_type": "markdown",
   "metadata": {},
   "source": [
    "1. Обучен **LinearSVC** с параметром **C=1** и **random_state=17** (cross-валидация при помощи созданного ранее объекта `skf`)\n",
    "2. Оценка `accuracy` по кросс-валидации со стратификацией с тремя фолдами: **[0.747, 0.76, 0.751]**. Усредненное значение:  **0.753**\n",
    "3. Осуществлен поиск параметров по сетке (GridSearchCV)\n",
    "    - [1e-4, 1e4], 10\n",
    "    <img src=\"img/svm_cv_wide.png\">\n",
    "    \n",
    "    `accuracy`= 0.685, (`C`=7777.7778)\n",
    "    \n",
    "    - [1e-3, 1], 30\n",
    "    <img src=\"img/svm_cv_narrow.png\">\n",
    "    `accuracy`= 0.782, (`C`=0.05)"
   ]
  },
  {
   "cell_type": "markdown",
   "metadata": {},
   "source": []
  },
  {
   "cell_type": "markdown",
   "metadata": {},
   "source": [
    "## Выбор параметров - длины сессии и ширины окна"
   ]
  },
  {
   "cell_type": "markdown",
   "metadata": {},
   "source": [
    "### Для 10-ти пользователей"
   ]
  },
  {
   "cell_type": "markdown",
   "metadata": {},
   "source": [
    "Взяли `LinearSVC`, показавший лучшее качество на кросс-валидации и проверили его работу еще на 8-ми выборках для 10 пользователей (с разными сочетаниями параметров `session_length` и `window_size`). По причине большого количества вычислений, гиперпараметр `C`, каждый раз, не подбирался."
   ]
  },
  {
   "cell_type": "markdown",
   "metadata": {},
   "source": [
    "Лучшие значение при настроенном параметре `C` получены для `sesssion_length`=15, `window_size`=5\n",
    "\n",
    "Лучшее значение `accuracy` на обучении: 0.869\n",
    "\n",
    "Лучшее значение `accuracy` на тесте: 0.876"
   ]
  },
  {
   "cell_type": "markdown",
   "metadata": {},
   "source": [
    "### Для 150-ти пользователей"
   ]
  },
  {
   "cell_type": "markdown",
   "metadata": {},
   "source": [
    "**Processed data**: `X_sparse_150users.pkl` `y_150users.pkl`"
   ]
  },
  {
   "cell_type": "markdown",
   "metadata": {},
   "source": [
    "Были рассмотрены следующие комбинации `session_length` и `window_size`: **(5,5),(7,7),(10,10)**\n",
    "\n",
    "Поиск гиперпараметра `C` осуществлялся в диапазоне: `1e-3`, `30`, `30` значений\n",
    "\n",
    "Лучшее значение `accuracy` на обучении: 0.461\n",
    "\n",
    "Лучшее значение `accuracy` на тесте: 0.485"
   ]
  },
  {
   "cell_type": "markdown",
   "metadata": {},
   "source": [
    "## Идентификация конкретного пользователя и кривые обучения"
   ]
  },
  {
   "cell_type": "markdown",
   "metadata": {},
   "source": [
    "**Processed data**: `X_sparse_150users.pkl` `y_150users.pkl`"
   ]
  },
  {
   "cell_type": "markdown",
   "metadata": {},
   "source": [
    "**РЕШАЕМ ЗАДАЧУ КЛАССИФИКАЦИИ КОНКРЕТНОГО ПОЛЬЗОВАТЕЛЯ (\"КЛАССИФИКАЦИЯ: $i$ VS $ALL$\")**"
   ]
  },
  {
   "cell_type": "markdown",
   "metadata": {},
   "source": [
    "### Обучили LogisticRegressionCV"
   ]
  },
  {
   "cell_type": "markdown",
   "metadata": {},
   "source": [
    "Обучили сетку `LogisticRegressionCV` для одного значения параметра `C`(из п.4.3)\n",
    "\n",
    "**Получили впечатляющие результаты точности классификации для каждого пользователя, однако мы имеем серьезный дисбаланс классов, поэтому посчитали долю пользователей, для которых обученная сетка `LogisticRegressionCV` дает прогноз лучше константного**: `0.82`\n",
    "\n",
    "**Поситали `accuracy` для доли правильных ответов на кросс-валидации в задаче классификации \"user128-vs-All\"**\n",
    "\n",
    "<img src=\"img/learning_curve_128.png\">"
   ]
  },
  {
   "cell_type": "markdown",
   "metadata": {},
   "source": [
    "## Vowpal Wabbit"
   ]
  },
  {
   "cell_type": "markdown",
   "metadata": {},
   "source": [
    "**Processed data**: `train_sessions_400users.csv` `test_sessions_400users.csv`"
   ]
  },
  {
   "cell_type": "markdown",
   "metadata": {},
   "source": [
    "Vowpal Wabbit любит, чтоб метки классов были распределены от 1 до K, где K – число классов в задаче классификации (в нашем случае – 400). Поэтому применили `LabelEncoder`, потом добавили +1  (`LabelEncoder` переводит метки в диапозон от 0 до K-1). Потом применили обратное преобразование.\n",
    "\n",
    "Провели предобработку входных данных:\n",
    "- объединили обучающую и тестовую выборки;\n",
    "- выбрали только сайты (признаки от `site1` до `site10`);\n",
    "- заменили пропуски на нули (сайты у нас нумеровались с 0);\n",
    "- перевели в разреженный формат `csr_matrix`;\n",
    "- разбили обратно на обучающую и тестовую выборки(70/30).\n",
    "\n",
    "**Доля правильных ответов на отложенной выборке для:**\n",
    " - **Vowpal Wabbit `0.345`**\n",
    " - **SGD `0.291`**\n",
    " - **логистической регрессии `0.363`**\n",
    " \n",
    " **Доля правильных ответов на Public Leaderboard для:**\n",
    " - **Vowpal Wabbit `0.18768`**\n",
    " - **SGD `0.17490`**\n",
    " - **логистической регрессии `0.19831`**\n",
    "\n",
    "\n",
    "В данной задаче **Vowpal Wabbit** на порядок быстрее **SGDClassifier**, который в несколько десятков раз быстрее **LogisticRegression**, причем точность классификации **Vowpal Wabbit** сопоставима с точностью **LogisticRegression**\n",
    "\n",
    "При честном отделении тестовой выборки от обучающей задача классификации решается недостаточно хорошо. Возможно улучшит ситуацию применение различных стратегий cross-валидации, а также осуществеление подбора гиперпараметров модели по сетке"
   ]
  },
  {
   "cell_type": "markdown",
   "metadata": {},
   "source": [
    "## Kaggle \"Catch Me If You Can\""
   ]
  },
  {
   "cell_type": "markdown",
   "metadata": {},
   "source": [
    "Суть соревнования состоит в идентификации пользователя Alice по посейщенным сайтам, а именно по сессиям из 10 сайтов, длительность сессии не более 30 мин.\n",
    "Участники, занявшие высокие места, получают дополнительные баллы в специализации."
   ]
  },
  {
   "cell_type": "markdown",
   "metadata": {},
   "source": [
    "Предобработка, анализ, построение модели и выводы в практической части <b>Final Report Alice Competition</b>"
   ]
  },
  {
   "cell_type": "markdown",
   "metadata": {},
   "source": [
    "## Практическое применение для решения бизнес-задач"
   ]
  },
  {
   "cell_type": "markdown",
   "metadata": {},
   "source": [
    "Подходы, реализованные в данной модели могут применяться в ситуациях, где стоит задача идентифицировать объект по его цифровому отпечатку. Это и идентификация нарушителя по его поведению, и обнаружение критических состояний технических систем, классификация текстов, думаю что можно клссифицировать пользователей по анализу его естественного языка."
   ]
  },
  {
   "cell_type": "markdown",
   "metadata": {},
   "source": [
    "## Заключение"
   ]
  },
  {
   "cell_type": "markdown",
   "metadata": {},
   "source": [
    "В рамках проекта были получены навыки по предобработке данных и формирования единой обучающей выборки. Также осуществлена работа с разреженным форматом данных, который отлично подходит для данной задачи. В рамках выполнения заданий статистически проверены гипотезы, связанные с нашими наблюдениями. Выполнен существенный объем работ по визуализации данных (библиотеки matplotlib и plotly) и построению собственных признаков. В рамках заданий выполнено сравнение на кросс-валидации нескольких алгоритмов, а также выбраны оптимальная длина сессии и ширина окна, построены кривые валидации и обучения. Использован SGDClassifier для увеличения скорости работы с большими выборками. Выполнено ознакомление с библиотекой Vowpal Wabbit и применение ее к данным по веб-сессиям. Принято участие в соревновании Kaggle \"Catch me if you can\", побиты все бенчамрки и занято высокое место на <b>Leaderboard</b>. Спасибо всем, кто читал!"
   ]
  }
 ],
 "metadata": {
  "kernelspec": {
   "display_name": "Python 3",
   "language": "python",
   "name": "python3"
  },
  "language_info": {
   "codemirror_mode": {
    "name": "ipython",
    "version": 3
   },
   "file_extension": ".py",
   "mimetype": "text/x-python",
   "name": "python",
   "nbconvert_exporter": "python",
   "pygments_lexer": "ipython3",
   "version": "3.7.4"
  },
  "toc": {
   "base_numbering": 1,
   "nav_menu": {
    "height": "664px",
    "width": "717.667px"
   },
   "number_sections": true,
   "sideBar": true,
   "skip_h1_title": true,
   "title_cell": "Table of Contents",
   "title_sidebar": "Contents",
   "toc_cell": true,
   "toc_position": {
    "height": "calc(100% - 180px)",
    "left": "10px",
    "top": "150px",
    "width": "309.25px"
   },
   "toc_section_display": true,
   "toc_window_display": true
  }
 },
 "nbformat": 4,
 "nbformat_minor": 4
}
