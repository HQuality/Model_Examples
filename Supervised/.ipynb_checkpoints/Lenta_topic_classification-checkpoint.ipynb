{
 "cells": [
  {
   "cell_type": "markdown",
   "metadata": {
    "colab_type": "text",
    "id": "ETu1elHoXVQv"
   },
   "source": [
    "Добрый день, сегодня речь пойдет о классификации новостей по рубрикам с сайта Lenta.ru.\n",
    "\n",
    "Затронем выбор правильной метрики как непосредственно для оценки качества, так и для интерпретации для бизнеса, проведем первичный анализ, почистим данные, обучим модели, подберем гиперпараметры, построим кривые обучения и валидации, сделаем выводы."
   ]
  },
  {
   "cell_type": "code",
   "execution_count": 0,
   "metadata": {
    "colab": {},
    "colab_type": "code",
    "id": "fpkz9ko98qg_",
    "scrolled": true
   },
   "outputs": [],
   "source": [
    "import os\n",
    "import time\n",
    "import gc\n",
    "import codecs\n",
    "from datetime import datetime, date\n",
    "\n",
    "random_seed = 42\n",
    "\n",
    "import pandas as pd\n",
    "import numpy as np\n",
    "from scipy import stats\n",
    "from statsmodels.stats.weightstats import DescrStatsW\n",
    "from sklearn.model_selection import (StratifiedShuffleSplit, RandomizedSearchCV, \n",
    "                                     StratifiedKFold, train_test_split, KFold,\n",
    "                                     cross_val_predict, cross_val_score)\n",
    "from sklearn.linear_model import LogisticRegression, SGDClassifier\n",
    "from sklearn.svm import LinearSVC\n",
    "from sklearn.preprocessing import OneHotEncoder, FunctionTransformer, LabelEncoder\n",
    "from sklearn.metrics import (accuracy_score, precision_score, \n",
    "                             recall_score, f1_score, classification_report)\n",
    "from sklearn.base import BaseEstimator, TransformerMixin\n",
    "from sklearn.pipeline import Pipeline\n",
    "from sklearn.feature_extraction.text import (TfidfVectorizer, CountVectorizer, \n",
    "                                             TfidfTransformer)\n",
    "from sklearn.compose import ColumnTransformer\n",
    "from sklearn.decomposition import TruncatedSVD\n",
    "from imblearn.over_sampling import (SMOTE, BorderlineSMOTE, RandomOverSampler)\n",
    "from imblearn.under_sampling import TomekLinks\n",
    "import lightgbm as lgb\n",
    "from xgboost.sklearn import XGBClassifier as xgb\n",
    "\n",
    "import nltk\n",
    "import re\n",
    "import gensim\n",
    "import requests\n",
    "from gensim.models import Word2Vec\n",
    "from urllib.parse import urlparse\n",
    "from bs4 import BeautifulSoup as bs\n",
    "from nltk.tokenize import TreebankWordTokenizer\n",
    "from nltk.corpus import stopwords\n",
    "from nltk import sent_tokenize, word_tokenize, regexp_tokenize\n",
    "from tqdm import tqdm\n",
    "from functools import lru_cache\n",
    "#from pymorphy2 import MorphAnalyzer\n",
    "from string import punctuation\n",
    "\n",
    "#import fasttext\n",
    "import keras\n",
    "import tensorflow as tf\n",
    "from keras.preprocessing.text import Tokenizer\n",
    "from keras import optimizers\n",
    "from keras import backend as K\n",
    "from keras import regularizers\n",
    "from keras.models import Sequential\n",
    "from keras.layers import (Dense, Activation, Dropout, Flatten, Bidirectional,\n",
    "                          CuDNNGRU, Embedding, Conv1D, BatchNormalization,                           \n",
    "                          MaxPooling1D, GlobalMaxPooling1D) \n",
    "from keras.utils import plot_model, np_utils\n",
    "from keras.wrappers.scikit_learn import KerasClassifier\n",
    "from keras.preprocessing import sequence\n",
    "from keras.callbacks import EarlyStopping\n",
    "\n",
    "%matplotlib inline\n",
    "import plotly.graph_objects as go\n",
    "import plotly.express as px\n",
    "import seaborn as sns\n",
    "import matplotlib as mpl\n",
    "import matplotlib.pyplot as plt\n",
    "plt.style.use('ggplot')\n",
    "mpl.rc('lines', linewidth=4, color='g')\n",
    "\n",
    "import warnings\n",
    "warnings.filterwarnings('ignore')"
   ]
  },
  {
   "cell_type": "code",
   "execution_count": 0,
   "metadata": {
    "colab": {},
    "colab_type": "code",
    "id": "1g3dsYqq8qhD",
    "outputId": "5f338d39-1683-47de-f8cd-af48ad58a93a"
   },
   "outputs": [
    {
     "name": "stdout",
     "output_type": "stream",
     "text": [
      "['lenta-ru-news.csv']\n"
     ]
    }
   ],
   "source": [
    "print(os.listdir(\"news\"))"
   ]
  },
  {
   "cell_type": "code",
   "execution_count": 0,
   "metadata": {
    "colab": {},
    "colab_type": "code",
    "id": "su5ZFfci8qhI",
    "outputId": "cb6d9ee4-35c8-400e-d0cb-0ded8d1f438f",
    "scrolled": true
   },
   "outputs": [
    {
     "name": "stdout",
     "output_type": "stream",
     "text": [
      "791162 news/lenta-ru-news.csv\r\n"
     ]
    }
   ],
   "source": [
    "!wc -l news/lenta-ru-news.csv"
   ]
  },
  {
   "cell_type": "code",
   "execution_count": 0,
   "metadata": {
    "colab": {},
    "colab_type": "code",
    "id": "hL67ibyP8qhL",
    "outputId": "268b0c3f-bc58-4c1f-f116-8f9d40987a17"
   },
   "outputs": [
    {
     "name": "stdout",
     "output_type": "stream",
     "text": [
      "url,title,text,topic,tags\r",
      "\r\n",
      "https://lenta.ru/news/2018/12/14/cancer/,Названы регионы России с самой высокой смертностью от рака,\"Вице-премьер по социальным вопросам Татьяна Голикова рассказала, в каких регионах России зафиксирована наиболее высокая смертность от рака, сообщает РИА Новости. По словам Голиковой, чаще всего онкологические заболевания становились причиной смерти в Псковской, Тверской, Тульской и Орловской областях, а также в Севастополе. Вице-премьер напомнила, что главные факторы смертности в России — рак и болезни системы кровообращения. В начале года стало известно, что смертность от онкологических заболеваний среди россиян снизилась впервые за три года. По данным Росстата, в 2017 году от рака умерли 289 тысяч человек. Это на 3,5 процента меньше, чем годом ранее.\",Россия,Общество\r",
      "\r\n"
     ]
    }
   ],
   "source": [
    "!head -2 news/lenta-ru-news.csv"
   ]
  },
  {
   "cell_type": "markdown",
   "metadata": {
    "colab_type": "text",
    "id": "xWBOBxKvZcj8"
   },
   "source": [
    "Датасет достаточно интересный, уже не очень маленький, но все еще обсчитываемый на локальной машине/колабе, таким образом обычный batch learning здесь все еще годится."
   ]
  },
  {
   "cell_type": "markdown",
   "metadata": {
    "colab_type": "text",
    "id": "vHrhGy8z8qhO"
   },
   "source": [
    "## Первичный анализ и предобработка."
   ]
  },
  {
   "cell_type": "code",
   "execution_count": 0,
   "metadata": {
    "colab": {},
    "colab_type": "code",
    "id": "0JbBlqUi8qhP",
    "outputId": "67e59a55-47b6-4655-cc9a-00c2b25011a7"
   },
   "outputs": [
    {
     "name": "stdout",
     "output_type": "stream",
     "text": [
      "Размер: (739351, 5) со столбцами: ['url' 'title' 'text' 'topic' 'tags']\n"
     ]
    }
   ],
   "source": [
    "df = pd.read_csv('news/lenta-ru-news.csv', sep=',')\n",
    "print (\"Размер: {} со столбцами: {}\".format(df.shape, df.columns.values))"
   ]
  },
  {
   "cell_type": "code",
   "execution_count": 0,
   "metadata": {
    "colab": {},
    "colab_type": "code",
    "id": "XtDab1iS8qhS",
    "outputId": "734b73d2-c64b-4261-fe5f-a28bbeca8695",
    "scrolled": true
   },
   "outputs": [
    {
     "data": {
      "text/html": [
       "<div>\n",
       "<style scoped>\n",
       "    .dataframe tbody tr th:only-of-type {\n",
       "        vertical-align: middle;\n",
       "    }\n",
       "\n",
       "    .dataframe tbody tr th {\n",
       "        vertical-align: top;\n",
       "    }\n",
       "\n",
       "    .dataframe thead th {\n",
       "        text-align: right;\n",
       "    }\n",
       "</style>\n",
       "<table border=\"1\" class=\"dataframe\">\n",
       "  <thead>\n",
       "    <tr style=\"text-align: right;\">\n",
       "      <th></th>\n",
       "      <th>url</th>\n",
       "      <th>title</th>\n",
       "      <th>text</th>\n",
       "      <th>topic</th>\n",
       "      <th>tags</th>\n",
       "    </tr>\n",
       "  </thead>\n",
       "  <tbody>\n",
       "    <tr>\n",
       "      <td>0</td>\n",
       "      <td>https://lenta.ru/news/2018/12/14/cancer/</td>\n",
       "      <td>Названы регионы России с самой высокой смертностью от рака</td>\n",
       "      <td>Вице-премьер по социальным вопросам Татьяна Голикова рассказала, в каких регионах России зафиксирована наиболее высокая смертность от рака, сообщает РИА Новости. По словам Голиковой, чаще всего онкологические заболевания становились причиной смерти в Псковской, Тверской, Тульской и Орловской областях, а также в Севастополе. Вице-премьер напомнила, что главные факторы смертности в России — рак и болезни системы кровообращения. В начале года стало известно, что смертность от онкологических заболеваний среди россиян снизилась впервые за три года. По данным Росстата, в 2017 году от рака умерли 289 тысяч человек. Это на 3,5 процента меньше, чем годом ранее.</td>\n",
       "      <td>Россия</td>\n",
       "      <td>Общество</td>\n",
       "    </tr>\n",
       "    <tr>\n",
       "      <td>1</td>\n",
       "      <td>https://lenta.ru/news/2018/12/15/doping/</td>\n",
       "      <td>Австрия не представила доказательств вины российских биатлонистов</td>\n",
       "      <td>Австрийские правоохранительные органы не представили доказательств нарушения российскими биатлонистами антидопинговых правил. Об этом сообщил посол России в Вене Дмитрий Любинский по итогам встречи уполномоченного адвоката дипмиссии с представителями прокуратуры страны, передает ТАСС. «Действует презумпция невиновности. Каких-либо ограничений свободы передвижения для команды нет», — добавили в посольстве. Международный союз биатлонистов (IBU) также не будет применять санкции к российским биатлонистам. Все они продолжат выступление на Кубке мира. Полиция нагрянула в отель сборной России в Хохфильцене вечером 12 декабря. Как написал биатлонист Александр Логинов, их считают виновными в махинациях с переливанием крови. Биатлонисту Антону Шипулину, также попавшему в список, полиция нанесла отдельный визит: сейчас он тренируется отдельно в австрийском Обертиллахе. Обвинения спортсмен назвал бредом, а также указал на «охоту на ведьм» в мировом биатлоне. В Австрии прием допинга — уголовное преступление. Максимальное наказание за его употребление — три года тюрьмы.</td>\n",
       "      <td>Спорт</td>\n",
       "      <td>Зимние виды</td>\n",
       "    </tr>\n",
       "    <tr>\n",
       "      <td>2</td>\n",
       "      <td>https://lenta.ru/news/2018/12/15/disneyland/</td>\n",
       "      <td>Обнаружено самое счастливое место на планете</td>\n",
       "      <td>Сотрудники социальной сети Instagram проанализировали поставленные пользователями смайлики, геолокации и хештеги и опубликовали итоги 2018 года. Об этом сообщается на официальном сайте Instagram. Таким образом, самой счастливой геолокацией Instagram признал Диснейленд в Токио, так как больше всего счастливых смайликов в 2018 году пользователи ставили именно под фотографиями из японского Диснейленда. Также эксперты назвали самый популярный фильтр для лица: им стал фильтр с сердечками на глазах. А, например, самыми часто используемыми хештегами в 2018 году были #metoo, #timesup и #marchforourlives. В ноябре сотрудники британской ассоциации потребителей Which? составили рейтинг самых безопасных стран для путешествий. Специалисты проанализировали 20 самых популярных туристических направлений по четырем критериям: уровень преступности, угроза здоровью, вероятность теракта и стихийных бедствий. Самой безопасной страной по всем параметрам стала Исландия.</td>\n",
       "      <td>Путешествия</td>\n",
       "      <td>Мир</td>\n",
       "    </tr>\n",
       "  </tbody>\n",
       "</table>\n",
       "</div>"
      ],
      "text/plain": [
       "                                            url  \\\n",
       "0  https://lenta.ru/news/2018/12/14/cancer/       \n",
       "1  https://lenta.ru/news/2018/12/15/doping/       \n",
       "2  https://lenta.ru/news/2018/12/15/disneyland/   \n",
       "\n",
       "                                                               title  \\\n",
       "0  Названы регионы России с самой высокой смертностью от рака          \n",
       "1  Австрия не представила доказательств вины российских биатлонистов   \n",
       "2  Обнаружено самое счастливое место на планете                        \n",
       "\n",
       "                                                                                                                                                                                                                                                                                                                                                                                                                                                                                                                                                                                                                                                                                                                                                                                                                                                                                                                                                                                                                                                                                                               text  \\\n",
       "0  Вице-премьер по социальным вопросам Татьяна Голикова рассказала, в каких регионах России зафиксирована наиболее высокая смертность от рака, сообщает РИА Новости. По словам Голиковой, чаще всего онкологические заболевания становились причиной смерти в Псковской, Тверской, Тульской и Орловской областях, а также в Севастополе. Вице-премьер напомнила, что главные факторы смертности в России — рак и болезни системы кровообращения. В начале года стало известно, что смертность от онкологических заболеваний среди россиян снизилась впервые за три года. По данным Росстата, в 2017 году от рака умерли 289 тысяч человек. Это на 3,5 процента меньше, чем годом ранее.                                                                                                                                                                                                                                                                                                                                                                                                                               \n",
       "1  Австрийские правоохранительные органы не представили доказательств нарушения российскими биатлонистами антидопинговых правил. Об этом сообщил посол России в Вене Дмитрий Любинский по итогам встречи уполномоченного адвоката дипмиссии с представителями прокуратуры страны, передает ТАСС. «Действует презумпция невиновности. Каких-либо ограничений свободы передвижения для команды нет», — добавили в посольстве. Международный союз биатлонистов (IBU) также не будет применять санкции к российским биатлонистам. Все они продолжат выступление на Кубке мира. Полиция нагрянула в отель сборной России в Хохфильцене вечером 12 декабря. Как написал биатлонист Александр Логинов, их считают виновными в махинациях с переливанием крови. Биатлонисту Антону Шипулину, также попавшему в список, полиция нанесла отдельный визит: сейчас он тренируется отдельно в австрийском Обертиллахе. Обвинения спортсмен назвал бредом, а также указал на «охоту на ведьм» в мировом биатлоне. В Австрии прием допинга — уголовное преступление. Максимальное наказание за его употребление — три года тюрьмы.   \n",
       "2  Сотрудники социальной сети Instagram проанализировали поставленные пользователями смайлики, геолокации и хештеги и опубликовали итоги 2018 года. Об этом сообщается на официальном сайте Instagram. Таким образом, самой счастливой геолокацией Instagram признал Диснейленд в Токио, так как больше всего счастливых смайликов в 2018 году пользователи ставили именно под фотографиями из японского Диснейленда. Также эксперты назвали самый популярный фильтр для лица: им стал фильтр с сердечками на глазах. А, например, самыми часто используемыми хештегами в 2018 году были #metoo, #timesup и #marchforourlives. В ноябре сотрудники британской ассоциации потребителей Which? составили рейтинг самых безопасных стран для путешествий. Специалисты проанализировали 20 самых популярных туристических направлений по четырем критериям: уровень преступности, угроза здоровью, вероятность теракта и стихийных бедствий. Самой безопасной страной по всем параметрам стала Исландия.                                                                                                                  \n",
       "\n",
       "         topic         tags  \n",
       "0  Россия       Общество     \n",
       "1  Спорт        Зимние виды  \n",
       "2  Путешествия  Мир          "
      ]
     },
     "execution_count": 21,
     "metadata": {
      "tags": []
     },
     "output_type": "execute_result"
    }
   ],
   "source": [
    "pd.set_option('display.max_colwidth', -1)\n",
    "df.head(3)"
   ]
  },
  {
   "cell_type": "code",
   "execution_count": 0,
   "metadata": {
    "colab": {},
    "colab_type": "code",
    "id": "Ip0b14oQ8qhW",
    "outputId": "25c3999a-00af-413c-cfa3-ddc07acb1b00"
   },
   "outputs": [
    {
     "name": "stdout",
     "output_type": "stream",
     "text": [
      "Количество новостей: 739351\n",
      "Количество рубрик: 23\n"
     ]
    },
    {
     "data": {
      "text/plain": [
       "Россия               160519\n",
       "Мир                  136680\n",
       "Экономика             79538\n",
       "Спорт                 64421\n",
       "Культура              53803\n",
       "Бывший СССР           53402\n",
       "Наука и техника       53136\n",
       "Интернет и СМИ        44675\n",
       "Из жизни              27611\n",
       "Дом                   21734\n",
       "Силовые структуры     19596\n",
       "Ценности               7766\n",
       "Бизнес                 7399\n",
       "Путешествия            6408\n",
       "69-я параллель         1268\n",
       "Крым                    666\n",
       "Культпросвет            340\n",
       "Легпром                 114\n",
       "Библиотека               65\n",
       "Оружие                    3\n",
       "ЧМ-2014                   2\n",
       "МедНовости                1\n",
       "Сочи                      1\n",
       "Name: topic, dtype: int64"
      ]
     },
     "execution_count": 8,
     "metadata": {
      "tags": []
     },
     "output_type": "execute_result"
    }
   ],
   "source": [
    "print (\"Количество новостей: {}\".format((len(df['text']))))\n",
    "print (\"Количество рубрик: {}\".format(len(df['topic'].value_counts())))\n",
    "\n",
    "df['topic'].value_counts()"
   ]
  },
  {
   "cell_type": "code",
   "execution_count": 0,
   "metadata": {
    "colab": {},
    "colab_type": "code",
    "id": "HnlTPxon8qhZ",
    "outputId": "364a7531-c1d1-40a8-92a1-b4247547625e"
   },
   "outputs": [
    {
     "data": {
      "image/png": "[encoded data removed]",
      "text/plain": [
       "<Figure size 864x720 with 1 Axes>"
      ]
     },
     "metadata": {
      "needs_background": "light",
      "tags": []
     },
     "output_type": "display_data"
    }
   ],
   "source": [
    "topics = df.topic.value_counts()\n",
    "f, ax = plt.subplots(figsize=(12, 10))\n",
    "sns.barplot(topics.values, topics.index);"
   ]
  },
  {
   "cell_type": "markdown",
   "metadata": {
    "colab_type": "text",
    "id": "s8GIIBlS8qhc"
   },
   "source": [
    "Время обдумать подход к задаче. Выборка большая и у нас NLP задача. На графике явно видны кластеры по количеству новостей:\n",
    "\n",
    "1) Россия и Мир\n",
    "\n",
    "2) все рубрики до \"Интернет и СМИ\" включительно\n",
    "\n",
    "3) все от \"Из жизни\" до \"Путешествия\"\n",
    "\n",
    "4) остальное.\n",
    "\n",
    "Мы имеем дело с большим количеством и сильным дисбалансом классов. Здесь есть несколько проблем:\n",
    "\n",
    " -дело в том, что если размер сэмпла конкретного класса слишком мал, то мы не сможем достоверно утверждать про хорошее качество ответов нашей модели на объектах этого класса. (Не сможем достоверно отвергать H0 гипотезу на принятом уровне значимости, т.к. статистическая мощность будет слишком мала, помимо этого доверительные интервалы будут очень широкими).\n",
    " \n",
    " -другая проблема - сравнивать 15-20 классов хоть по OneVsAll, хоть по multinomial очень ресурсозатратно.\n",
    " \n",
    " -сравнить условные \"путешествия\" с \"Россия\" не выглядит хорошей идеей - не насемплишься. Сделать это, конечно, можно (например, оверсэмплить после векторизации или генерировать случайное количество токенов из мешка в случайном порядке для каждого нового объекта этого класса), но качество все равно пострадает\n",
    " \n",
    " \n",
    "**Идеи**\n",
    "\n",
    "1. Разбить одну большую задачу классификации на несколько задач поменьше. Скажем, сначала предсказывать 3 класса: Россия, Мир и Остальное (или даже Россия+Мир и Остальное). Потом разбираться с каждым по отдельности.\n",
    "\n",
    "2. Сабсэмплить \"Россия\" и \"Мир\" (сбалансировать под размер второго кластера), оверсэмплить от \"Из жизни\" до \"Путешествия\", выбрасывать все остальное (оно размечается вручную и/или сильно зависит от конкретного времени, так что будет шумом в работе модели)."
   ]
  },
  {
   "cell_type": "markdown",
   "metadata": {
    "colab_type": "text",
    "id": "xoiTNwv28qhe"
   },
   "source": [
    "#### Пара нюансов по работе с несбалансированными выборками:\n",
    "\n",
    "-нужен корректный сплит, желательно с сохранением баланса классов, иначе мы просто не сможем достаточно достоверно оенить нашу модель. (StratifiedShuffleSplit или кастомный сплит с перемешиванием и сохранением баланса классов подойдут).\n",
    "\n",
    "\n",
    "***!*** Если будем оверсэмплить,то СТРОГО ПОСЛЕ разбиения на трейн, тест и валидацию, так как иначе информация \"протечет\" в тестовую и валидационную выборкы и испортит модель\n",
    "\n",
    "-можно обучать модель с заданием веса классам в зависимости количества значений в классе (class_weight='balanced'). Тут нужно еще учесть, что вес в разных sklearn реализациях моделей задается по-разному (в одних моделях каждому классу буквально задается вес присутствия, т.е. объекты меньшего класса \"добавляются\" до достижения баланса, в некоторых, например основанных на методе опорных векторов, SV\\* - вес это дополнительный регуляризатор классификатора, который штрафует за ошибки редкого класса);"
   ]
  },
  {
   "cell_type": "markdown",
   "metadata": {
    "colab_type": "text",
    "id": "JGvugNm18qhf"
   },
   "source": [
    "Теперь о выборе **метрики**, которой будем оценивать предсказания нашей модели. Сделаем поправки на мультиклассовость и сильную несбалансированность классов.\n",
    "\n",
    "Основные:\n",
    "\n",
    "\n",
    "1.**Accuracy**. Метрика(вообще говоря, это даже не метрика, а скорее можно назвать \"наблюдением\") может приниматься во внимание ТОЛЬКО в случае равномерного распределения позитивных и негативных наблюдений. *тут классический пример про 8 миллиардов человек и 600 космонавтов или что-то подобное*\n",
    "\n",
    "\n",
    "2.**subset accuracy**. (т.е. accuracy по каждому классу). Это уже намного лучше, но тоже не идеально - например,  она совсем никак не учитывает false positive ошибки, сделанные в других классах относительного исходного.\n",
    "\n",
    "\n",
    "3.Площадь под ROC кривой (**roc_auc_score**) - используется часто. Слишком часто. Но в чем вообще смысл roc? Это кривая, заданная отношением **false positive rate = FP / (FP + TN)** и **true positive rate = TP / (TP + FN)**. Соответственно площадь под ней это это ни что иное, как **вероятность** отнести объект к положительному классу по отношению к вероятности отнести к отрицательному. То есть количество объектов в классе вообще не берется в расчет (и FPR и TPR - столбцы в матрице сопряженности). Это способно породить большие заблуждения в несбалансированных выборках. Предлагаю это продемонстрировать.\n",
    "\n",
    "\n",
    "4.**Precision, Recall, F1 score**. Являются нашим выбором в этой задаче. *Достаточно* хорошо распознают дисбаланс классов (хотя все равно не учитывают TN's), легко интерпретируемы (с f1-мерой нужно быть осторожней), легко подстраиваются под бизнес задачу (при необходимости можно максимизировать recall при заданном precision или наоборот, смотреть не на f1, а на f0.5 или f2). Расширение на метод множества классов происходит тремя способами: micro average, macro average (будем выбирать его, если нам важно качество классификатора в целом, для более точной информации можно также добавлять стандартное отклонение оценки по классам) и weighted macro (или просто weighted) average (этот вариант хорошо подходит, когда важно качество предсказаний минорных классов). Итого: метрики достаточно гибкие в настройке, можно скорректировать под конкретную цель.\n",
    "\n",
    "\n",
    "5.**Коэффициент корреляции Мэтьюса**. Многими считается одной из лучших (возможно, самой лучшей) метрик для задач бинарной классификации, в первую очередь потому, что учитывает все значения из матрицы сопряженности(т.о. чувствительность метрики распространяется не только на большое количество положительных объектов в выборке, но и на большое количество отрицательных). Может принимать значения из интервала от -1 до +1. Модель, получившая оценку +1, является идеальной. Модель, получившая оценку -1, является очень слабой. Одним из ключевых свойств является легкость интерпретации. Не реализован v sklearn для случае 3+ классов на данный момент (можно попробовать реализовать при необходимости)\n",
    "\n",
    "                                                                                                                           \n",
    "6.**Каппа Коэна**. Популярная ныне метрика из статистики, 1 - (1-P0)/(1-Pi), где P0 - accuracy, а Pi - вероятность случайного правильного ответа на объекте. Сложнее объяснить для бизнеса, т.о. пока не берем её. "
   ]
  },
  {
   "cell_type": "markdown",
   "metadata": {
    "colab_type": "text",
    "id": "eUb4nX9O8qhg"
   },
   "source": [
    " "
   ]
  },
  {
   "cell_type": "markdown",
   "metadata": {
    "colab_type": "text",
    "id": "FmtnHCrU8qhh"
   },
   "source": [
    "*Немного про roc_auc.*"
   ]
  },
  {
   "cell_type": "code",
   "execution_count": 0,
   "metadata": {
    "colab": {},
    "colab_type": "code",
    "id": "6lMQuaMS8qhi"
   },
   "outputs": [],
   "source": [
    "from sklearn.metrics import roc_auc_score, roc_curve\n",
    "\n",
    "def curve(y_true, y_pred):\n",
    "    fpr, tpr, thresholds = roc_curve(y_t, y_s)\n",
    "    plt.plot([0, 1], [0, 1], linestyle='--')\n",
    "    plt.plot(fpr, tpr, marker='.')\n",
    "    print ('Thresholds:{}'.format(thresholds))"
   ]
  },
  {
   "cell_type": "markdown",
   "metadata": {
    "colab_type": "text",
    "id": "xTbuj2o78qhl"
   },
   "source": [
    "А теперь возьмем и сделаем в выборках в 3 раза больше положительных исходов, с такими же предсказаниями. Как изменится скор? Как изменится график?"
   ]
  },
  {
   "cell_type": "code",
   "execution_count": 0,
   "metadata": {
    "colab": {},
    "colab_type": "code",
    "id": "q5WmJtbe8qhm",
    "outputId": "a82240bd-7085-40b5-9487-007403f73581"
   },
   "outputs": [
    {
     "data": {
      "text/plain": [
       "0.6333333333333334"
      ]
     },
     "execution_count": 36,
     "metadata": {
      "tags": []
     },
     "output_type": "execute_result"
    }
   ],
   "source": [
    "y_t = np.array([0, 0, 0, 1, 1, 1, 1, 1])\n",
    "y_s = np.array([0, 0, 1, 0, 1, 1, 0, 1])\n",
    "roc_auc_score(y_t, y_s)"
   ]
  },
  {
   "cell_type": "code",
   "execution_count": 0,
   "metadata": {
    "colab": {},
    "colab_type": "code",
    "id": "aKKh7mEh8qhs",
    "outputId": "2502d124-1237-41f1-be93-b75d74d13bb5"
   },
   "outputs": [
    {
     "name": "stdout",
     "output_type": "stream",
     "text": [
      "Thresholds:[2 1 0]\n"
     ]
    },
    {
     "data": {
      "image/png": "[encoded data removed]",
      "text/plain": [
       "<Figure size 432x288 with 1 Axes>"
      ]
     },
     "metadata": {
      "needs_background": "light",
      "tags": []
     },
     "output_type": "display_data"
    }
   ],
   "source": [
    "curve(y_t, y_s)"
   ]
  },
  {
   "cell_type": "code",
   "execution_count": 0,
   "metadata": {
    "colab": {},
    "colab_type": "code",
    "id": "L_oWm1zb8qhw",
    "outputId": "e55acf8e-1a7c-4e09-b787-fd35d9c91f3d"
   },
   "outputs": [
    {
     "data": {
      "text/plain": [
       "0.6333333333333334"
      ]
     },
     "execution_count": 38,
     "metadata": {
      "tags": []
     },
     "output_type": "execute_result"
    }
   ],
   "source": [
    "y_tr = np.array([0, 0, 0, 1, 1, 1, 1, 1, 1, 1, 1, 1, 1, 1, 1, 1, 1, 1])\n",
    "y_sc = np.array([0, 0, 1, 0, 1, 1, 0, 1, 0, 1, 1, 0, 1, 0, 1, 1, 0, 1])\n",
    "roc_auc_score(y_tr,y_sc)"
   ]
  },
  {
   "cell_type": "code",
   "execution_count": 0,
   "metadata": {
    "colab": {},
    "colab_type": "code",
    "id": "XMi7xwLQ8qhz",
    "outputId": "353a6058-b82c-4804-a40d-9d011032cd00"
   },
   "outputs": [
    {
     "name": "stdout",
     "output_type": "stream",
     "text": [
      "Thresholds:[2 1 0]\n"
     ]
    },
    {
     "data": {
      "image/png": "[encoded data removed]",
      "text/plain": [
       "<Figure size 432x288 with 1 Axes>"
      ]
     },
     "metadata": {
      "needs_background": "light",
      "tags": []
     },
     "output_type": "display_data"
    }
   ],
   "source": [
    "curve(y_tr, y_sc)"
   ]
  },
  {
   "cell_type": "markdown",
   "metadata": {
    "colab_type": "text",
    "id": "7kUYx7Uh8qh2"
   },
   "source": [
    "Не изменилось вообще ничего (и это логично). Мы можем повторить бесконечное число раз (**все** нули кроме первых в предсказаниях классификатора будут ошибками на классе 1), при это качество классификатора будет на том же уровне. Таким образом, можно сделать вывод, что ROC-кривая совершенно не подходит для работы с несбалансированными классами. Ладно, к делу. "
   ]
  },
  {
   "cell_type": "markdown",
   "metadata": {
    "colab_type": "text",
    "id": "IWfvTkTd8qh3"
   },
   "source": [
    " "
   ]
  },
  {
   "cell_type": "markdown",
   "metadata": {
    "colab_type": "text",
    "id": "A-O_xJgA8qh4"
   },
   "source": [
    "#### Итак, удаляем самые малочисленные классы и продолжаем чистить и готовить данные."
   ]
  },
  {
   "cell_type": "code",
   "execution_count": 0,
   "metadata": {
    "colab": {},
    "colab_type": "code",
    "id": "lSiU4SwM8qh5"
   },
   "outputs": [],
   "source": [
    "counts = df['topic'].value_counts()\n",
    "remove = counts[counts <= 5500].index \n",
    "df = df[~df['topic'].isin(remove)].reset_index(drop=True)"
   ]
  },
  {
   "cell_type": "code",
   "execution_count": 0,
   "metadata": {
    "colab": {},
    "colab_type": "code",
    "id": "V8W5znFJ8qh8",
    "outputId": "db674129-eee5-423b-9e7d-eeb884a3ce64"
   },
   "outputs": [
    {
     "data": {
      "text/plain": [
       "Россия               160519\n",
       "Мир                  136680\n",
       "Экономика             79538\n",
       "Спорт                 64421\n",
       "Культура              53803\n",
       "Бывший СССР           53402\n",
       "Наука и техника       53136\n",
       "Интернет и СМИ        44675\n",
       "Из жизни              27611\n",
       "Дом                   21734\n",
       "Силовые структуры     19596\n",
       "Ценности               7766\n",
       "Бизнес                 7399\n",
       "Путешествия            6408\n",
       "Name: topic, dtype: int64"
      ]
     },
     "execution_count": 29,
     "metadata": {
      "tags": []
     },
     "output_type": "execute_result"
    }
   ],
   "source": [
    "df.topic.value_counts()"
   ]
  },
  {
   "cell_type": "code",
   "execution_count": 0,
   "metadata": {
    "colab": {},
    "colab_type": "code",
    "id": "zuTfDW9h8qh_",
    "outputId": "b69ac90f-7ab3-47a4-b466-8cc3835329c8"
   },
   "outputs": [
    {
     "data": {
      "text/html": [
       "<div>\n",
       "<style scoped>\n",
       "    .dataframe tbody tr th:only-of-type {\n",
       "        vertical-align: middle;\n",
       "    }\n",
       "\n",
       "    .dataframe tbody tr th {\n",
       "        vertical-align: top;\n",
       "    }\n",
       "\n",
       "    .dataframe thead th {\n",
       "        text-align: right;\n",
       "    }\n",
       "</style>\n",
       "<table border=\"1\" class=\"dataframe\">\n",
       "  <thead>\n",
       "    <tr style=\"text-align: right;\">\n",
       "      <th>tags</th>\n",
       "      <th>Coцсети</th>\n",
       "      <th>Авто</th>\n",
       "      <th>Автобизнес</th>\n",
       "      <th>Аналитика рынка</th>\n",
       "      <th>Белоруссия</th>\n",
       "      <th>Бизнес</th>\n",
       "      <th>Бокс и ММА</th>\n",
       "      <th>Вещи</th>\n",
       "      <th>Вирусные ролики</th>\n",
       "      <th>Вкусы</th>\n",
       "      <th>...</th>\n",
       "      <th>Техника</th>\n",
       "      <th>Туризм</th>\n",
       "      <th>Украина</th>\n",
       "      <th>Финансы компаний</th>\n",
       "      <th>Фотография</th>\n",
       "      <th>Футбол</th>\n",
       "      <th>Хоккей</th>\n",
       "      <th>Часы</th>\n",
       "      <th>Экология</th>\n",
       "      <th>Явления</th>\n",
       "    </tr>\n",
       "    <tr>\n",
       "      <th>topic</th>\n",
       "      <th></th>\n",
       "      <th></th>\n",
       "      <th></th>\n",
       "      <th></th>\n",
       "      <th></th>\n",
       "      <th></th>\n",
       "      <th></th>\n",
       "      <th></th>\n",
       "      <th></th>\n",
       "      <th></th>\n",
       "      <th></th>\n",
       "      <th></th>\n",
       "      <th></th>\n",
       "      <th></th>\n",
       "      <th></th>\n",
       "      <th></th>\n",
       "      <th></th>\n",
       "      <th></th>\n",
       "      <th></th>\n",
       "      <th></th>\n",
       "      <th></th>\n",
       "    </tr>\n",
       "  </thead>\n",
       "  <tbody>\n",
       "    <tr>\n",
       "      <th>69-я параллель</th>\n",
       "      <td>0</td>\n",
       "      <td>0</td>\n",
       "      <td>0</td>\n",
       "      <td>0</td>\n",
       "      <td>0</td>\n",
       "      <td>0</td>\n",
       "      <td>0</td>\n",
       "      <td>0</td>\n",
       "      <td>0</td>\n",
       "      <td>0</td>\n",
       "      <td>...</td>\n",
       "      <td>0</td>\n",
       "      <td>35</td>\n",
       "      <td>0</td>\n",
       "      <td>0</td>\n",
       "      <td>0</td>\n",
       "      <td>0</td>\n",
       "      <td>0</td>\n",
       "      <td>0</td>\n",
       "      <td>53</td>\n",
       "      <td>23</td>\n",
       "    </tr>\n",
       "    <tr>\n",
       "      <th>Библиотека</th>\n",
       "      <td>0</td>\n",
       "      <td>0</td>\n",
       "      <td>0</td>\n",
       "      <td>0</td>\n",
       "      <td>0</td>\n",
       "      <td>0</td>\n",
       "      <td>0</td>\n",
       "      <td>0</td>\n",
       "      <td>0</td>\n",
       "      <td>0</td>\n",
       "      <td>...</td>\n",
       "      <td>0</td>\n",
       "      <td>0</td>\n",
       "      <td>0</td>\n",
       "      <td>0</td>\n",
       "      <td>0</td>\n",
       "      <td>0</td>\n",
       "      <td>0</td>\n",
       "      <td>0</td>\n",
       "      <td>0</td>\n",
       "      <td>0</td>\n",
       "    </tr>\n",
       "    <tr>\n",
       "      <th>Бизнес</th>\n",
       "      <td>0</td>\n",
       "      <td>0</td>\n",
       "      <td>310</td>\n",
       "      <td>0</td>\n",
       "      <td>0</td>\n",
       "      <td>3960</td>\n",
       "      <td>0</td>\n",
       "      <td>0</td>\n",
       "      <td>0</td>\n",
       "      <td>0</td>\n",
       "      <td>...</td>\n",
       "      <td>0</td>\n",
       "      <td>0</td>\n",
       "      <td>0</td>\n",
       "      <td>155</td>\n",
       "      <td>0</td>\n",
       "      <td>0</td>\n",
       "      <td>0</td>\n",
       "      <td>0</td>\n",
       "      <td>0</td>\n",
       "      <td>0</td>\n",
       "    </tr>\n",
       "    <tr>\n",
       "      <th>Бывший СССР</th>\n",
       "      <td>0</td>\n",
       "      <td>0</td>\n",
       "      <td>0</td>\n",
       "      <td>0</td>\n",
       "      <td>916</td>\n",
       "      <td>0</td>\n",
       "      <td>0</td>\n",
       "      <td>0</td>\n",
       "      <td>0</td>\n",
       "      <td>0</td>\n",
       "      <td>...</td>\n",
       "      <td>0</td>\n",
       "      <td>0</td>\n",
       "      <td>17934</td>\n",
       "      <td>0</td>\n",
       "      <td>0</td>\n",
       "      <td>0</td>\n",
       "      <td>0</td>\n",
       "      <td>0</td>\n",
       "      <td>0</td>\n",
       "      <td>0</td>\n",
       "    </tr>\n",
       "    <tr>\n",
       "      <th>Дом</th>\n",
       "      <td>0</td>\n",
       "      <td>0</td>\n",
       "      <td>0</td>\n",
       "      <td>0</td>\n",
       "      <td>0</td>\n",
       "      <td>0</td>\n",
       "      <td>0</td>\n",
       "      <td>0</td>\n",
       "      <td>0</td>\n",
       "      <td>0</td>\n",
       "      <td>...</td>\n",
       "      <td>0</td>\n",
       "      <td>0</td>\n",
       "      <td>0</td>\n",
       "      <td>0</td>\n",
       "      <td>0</td>\n",
       "      <td>0</td>\n",
       "      <td>0</td>\n",
       "      <td>0</td>\n",
       "      <td>0</td>\n",
       "      <td>0</td>\n",
       "    </tr>\n",
       "    <tr>\n",
       "      <th>Из жизни</th>\n",
       "      <td>0</td>\n",
       "      <td>0</td>\n",
       "      <td>0</td>\n",
       "      <td>0</td>\n",
       "      <td>0</td>\n",
       "      <td>0</td>\n",
       "      <td>0</td>\n",
       "      <td>424</td>\n",
       "      <td>0</td>\n",
       "      <td>0</td>\n",
       "      <td>...</td>\n",
       "      <td>0</td>\n",
       "      <td>0</td>\n",
       "      <td>0</td>\n",
       "      <td>0</td>\n",
       "      <td>0</td>\n",
       "      <td>0</td>\n",
       "      <td>0</td>\n",
       "      <td>0</td>\n",
       "      <td>0</td>\n",
       "      <td>0</td>\n",
       "    </tr>\n",
       "    <tr>\n",
       "      <th>Интернет и СМИ</th>\n",
       "      <td>2924</td>\n",
       "      <td>0</td>\n",
       "      <td>0</td>\n",
       "      <td>0</td>\n",
       "      <td>0</td>\n",
       "      <td>0</td>\n",
       "      <td>0</td>\n",
       "      <td>0</td>\n",
       "      <td>474</td>\n",
       "      <td>0</td>\n",
       "      <td>...</td>\n",
       "      <td>0</td>\n",
       "      <td>0</td>\n",
       "      <td>0</td>\n",
       "      <td>0</td>\n",
       "      <td>0</td>\n",
       "      <td>0</td>\n",
       "      <td>0</td>\n",
       "      <td>0</td>\n",
       "      <td>0</td>\n",
       "      <td>0</td>\n",
       "    </tr>\n",
       "    <tr>\n",
       "      <th>Крым</th>\n",
       "      <td>0</td>\n",
       "      <td>0</td>\n",
       "      <td>0</td>\n",
       "      <td>0</td>\n",
       "      <td>0</td>\n",
       "      <td>0</td>\n",
       "      <td>0</td>\n",
       "      <td>0</td>\n",
       "      <td>0</td>\n",
       "      <td>0</td>\n",
       "      <td>...</td>\n",
       "      <td>0</td>\n",
       "      <td>0</td>\n",
       "      <td>0</td>\n",
       "      <td>0</td>\n",
       "      <td>0</td>\n",
       "      <td>0</td>\n",
       "      <td>0</td>\n",
       "      <td>0</td>\n",
       "      <td>0</td>\n",
       "      <td>0</td>\n",
       "    </tr>\n",
       "    <tr>\n",
       "      <th>Культпросвет</th>\n",
       "      <td>0</td>\n",
       "      <td>0</td>\n",
       "      <td>0</td>\n",
       "      <td>0</td>\n",
       "      <td>0</td>\n",
       "      <td>0</td>\n",
       "      <td>0</td>\n",
       "      <td>0</td>\n",
       "      <td>0</td>\n",
       "      <td>0</td>\n",
       "      <td>...</td>\n",
       "      <td>0</td>\n",
       "      <td>50</td>\n",
       "      <td>0</td>\n",
       "      <td>0</td>\n",
       "      <td>0</td>\n",
       "      <td>0</td>\n",
       "      <td>0</td>\n",
       "      <td>0</td>\n",
       "      <td>0</td>\n",
       "      <td>0</td>\n",
       "    </tr>\n",
       "    <tr>\n",
       "      <th>Культура</th>\n",
       "      <td>0</td>\n",
       "      <td>0</td>\n",
       "      <td>0</td>\n",
       "      <td>0</td>\n",
       "      <td>0</td>\n",
       "      <td>0</td>\n",
       "      <td>0</td>\n",
       "      <td>0</td>\n",
       "      <td>0</td>\n",
       "      <td>0</td>\n",
       "      <td>...</td>\n",
       "      <td>0</td>\n",
       "      <td>0</td>\n",
       "      <td>0</td>\n",
       "      <td>0</td>\n",
       "      <td>28</td>\n",
       "      <td>0</td>\n",
       "      <td>0</td>\n",
       "      <td>0</td>\n",
       "      <td>0</td>\n",
       "      <td>0</td>\n",
       "    </tr>\n",
       "    <tr>\n",
       "      <th>Легпром</th>\n",
       "      <td>0</td>\n",
       "      <td>0</td>\n",
       "      <td>0</td>\n",
       "      <td>28</td>\n",
       "      <td>0</td>\n",
       "      <td>0</td>\n",
       "      <td>0</td>\n",
       "      <td>0</td>\n",
       "      <td>0</td>\n",
       "      <td>0</td>\n",
       "      <td>...</td>\n",
       "      <td>0</td>\n",
       "      <td>0</td>\n",
       "      <td>0</td>\n",
       "      <td>0</td>\n",
       "      <td>0</td>\n",
       "      <td>0</td>\n",
       "      <td>0</td>\n",
       "      <td>0</td>\n",
       "      <td>0</td>\n",
       "      <td>0</td>\n",
       "    </tr>\n",
       "    <tr>\n",
       "      <th>МедНовости</th>\n",
       "      <td>0</td>\n",
       "      <td>0</td>\n",
       "      <td>0</td>\n",
       "      <td>0</td>\n",
       "      <td>0</td>\n",
       "      <td>0</td>\n",
       "      <td>0</td>\n",
       "      <td>0</td>\n",
       "      <td>0</td>\n",
       "      <td>0</td>\n",
       "      <td>...</td>\n",
       "      <td>0</td>\n",
       "      <td>0</td>\n",
       "      <td>0</td>\n",
       "      <td>0</td>\n",
       "      <td>0</td>\n",
       "      <td>0</td>\n",
       "      <td>0</td>\n",
       "      <td>0</td>\n",
       "      <td>0</td>\n",
       "      <td>0</td>\n",
       "    </tr>\n",
       "    <tr>\n",
       "      <th>Мир</th>\n",
       "      <td>0</td>\n",
       "      <td>0</td>\n",
       "      <td>0</td>\n",
       "      <td>0</td>\n",
       "      <td>0</td>\n",
       "      <td>0</td>\n",
       "      <td>0</td>\n",
       "      <td>0</td>\n",
       "      <td>0</td>\n",
       "      <td>0</td>\n",
       "      <td>...</td>\n",
       "      <td>0</td>\n",
       "      <td>0</td>\n",
       "      <td>0</td>\n",
       "      <td>0</td>\n",
       "      <td>0</td>\n",
       "      <td>0</td>\n",
       "      <td>0</td>\n",
       "      <td>0</td>\n",
       "      <td>0</td>\n",
       "      <td>0</td>\n",
       "    </tr>\n",
       "    <tr>\n",
       "      <th>Наука и техника</th>\n",
       "      <td>0</td>\n",
       "      <td>0</td>\n",
       "      <td>0</td>\n",
       "      <td>0</td>\n",
       "      <td>0</td>\n",
       "      <td>0</td>\n",
       "      <td>0</td>\n",
       "      <td>0</td>\n",
       "      <td>0</td>\n",
       "      <td>0</td>\n",
       "      <td>...</td>\n",
       "      <td>1208</td>\n",
       "      <td>0</td>\n",
       "      <td>0</td>\n",
       "      <td>0</td>\n",
       "      <td>0</td>\n",
       "      <td>0</td>\n",
       "      <td>0</td>\n",
       "      <td>0</td>\n",
       "      <td>0</td>\n",
       "      <td>0</td>\n",
       "    </tr>\n",
       "    <tr>\n",
       "      <th>Оружие</th>\n",
       "      <td>0</td>\n",
       "      <td>0</td>\n",
       "      <td>0</td>\n",
       "      <td>0</td>\n",
       "      <td>0</td>\n",
       "      <td>0</td>\n",
       "      <td>0</td>\n",
       "      <td>0</td>\n",
       "      <td>0</td>\n",
       "      <td>0</td>\n",
       "      <td>...</td>\n",
       "      <td>0</td>\n",
       "      <td>0</td>\n",
       "      <td>0</td>\n",
       "      <td>0</td>\n",
       "      <td>0</td>\n",
       "      <td>0</td>\n",
       "      <td>0</td>\n",
       "      <td>0</td>\n",
       "      <td>0</td>\n",
       "      <td>0</td>\n",
       "    </tr>\n",
       "    <tr>\n",
       "      <th>Путешествия</th>\n",
       "      <td>0</td>\n",
       "      <td>0</td>\n",
       "      <td>0</td>\n",
       "      <td>0</td>\n",
       "      <td>0</td>\n",
       "      <td>0</td>\n",
       "      <td>0</td>\n",
       "      <td>0</td>\n",
       "      <td>0</td>\n",
       "      <td>0</td>\n",
       "      <td>...</td>\n",
       "      <td>0</td>\n",
       "      <td>0</td>\n",
       "      <td>0</td>\n",
       "      <td>0</td>\n",
       "      <td>0</td>\n",
       "      <td>0</td>\n",
       "      <td>0</td>\n",
       "      <td>0</td>\n",
       "      <td>0</td>\n",
       "      <td>0</td>\n",
       "    </tr>\n",
       "    <tr>\n",
       "      <th>Россия</th>\n",
       "      <td>0</td>\n",
       "      <td>0</td>\n",
       "      <td>0</td>\n",
       "      <td>0</td>\n",
       "      <td>0</td>\n",
       "      <td>0</td>\n",
       "      <td>0</td>\n",
       "      <td>0</td>\n",
       "      <td>0</td>\n",
       "      <td>0</td>\n",
       "      <td>...</td>\n",
       "      <td>0</td>\n",
       "      <td>0</td>\n",
       "      <td>0</td>\n",
       "      <td>0</td>\n",
       "      <td>0</td>\n",
       "      <td>0</td>\n",
       "      <td>0</td>\n",
       "      <td>0</td>\n",
       "      <td>0</td>\n",
       "      <td>0</td>\n",
       "    </tr>\n",
       "    <tr>\n",
       "      <th>Силовые структуры</th>\n",
       "      <td>0</td>\n",
       "      <td>0</td>\n",
       "      <td>0</td>\n",
       "      <td>0</td>\n",
       "      <td>0</td>\n",
       "      <td>0</td>\n",
       "      <td>0</td>\n",
       "      <td>0</td>\n",
       "      <td>0</td>\n",
       "      <td>0</td>\n",
       "      <td>...</td>\n",
       "      <td>0</td>\n",
       "      <td>0</td>\n",
       "      <td>0</td>\n",
       "      <td>0</td>\n",
       "      <td>0</td>\n",
       "      <td>0</td>\n",
       "      <td>0</td>\n",
       "      <td>0</td>\n",
       "      <td>0</td>\n",
       "      <td>0</td>\n",
       "    </tr>\n",
       "    <tr>\n",
       "      <th>Сочи</th>\n",
       "      <td>0</td>\n",
       "      <td>0</td>\n",
       "      <td>0</td>\n",
       "      <td>0</td>\n",
       "      <td>0</td>\n",
       "      <td>0</td>\n",
       "      <td>0</td>\n",
       "      <td>0</td>\n",
       "      <td>0</td>\n",
       "      <td>0</td>\n",
       "      <td>...</td>\n",
       "      <td>0</td>\n",
       "      <td>0</td>\n",
       "      <td>0</td>\n",
       "      <td>0</td>\n",
       "      <td>0</td>\n",
       "      <td>0</td>\n",
       "      <td>0</td>\n",
       "      <td>0</td>\n",
       "      <td>0</td>\n",
       "      <td>0</td>\n",
       "    </tr>\n",
       "    <tr>\n",
       "      <th>Спорт</th>\n",
       "      <td>0</td>\n",
       "      <td>141</td>\n",
       "      <td>0</td>\n",
       "      <td>0</td>\n",
       "      <td>0</td>\n",
       "      <td>0</td>\n",
       "      <td>2443</td>\n",
       "      <td>0</td>\n",
       "      <td>0</td>\n",
       "      <td>0</td>\n",
       "      <td>...</td>\n",
       "      <td>0</td>\n",
       "      <td>0</td>\n",
       "      <td>0</td>\n",
       "      <td>0</td>\n",
       "      <td>0</td>\n",
       "      <td>13128</td>\n",
       "      <td>915</td>\n",
       "      <td>0</td>\n",
       "      <td>0</td>\n",
       "      <td>0</td>\n",
       "    </tr>\n",
       "    <tr>\n",
       "      <th>Ценности</th>\n",
       "      <td>0</td>\n",
       "      <td>0</td>\n",
       "      <td>0</td>\n",
       "      <td>0</td>\n",
       "      <td>0</td>\n",
       "      <td>0</td>\n",
       "      <td>0</td>\n",
       "      <td>0</td>\n",
       "      <td>0</td>\n",
       "      <td>54</td>\n",
       "      <td>...</td>\n",
       "      <td>0</td>\n",
       "      <td>0</td>\n",
       "      <td>0</td>\n",
       "      <td>0</td>\n",
       "      <td>0</td>\n",
       "      <td>0</td>\n",
       "      <td>0</td>\n",
       "      <td>662</td>\n",
       "      <td>0</td>\n",
       "      <td>2500</td>\n",
       "    </tr>\n",
       "    <tr>\n",
       "      <th>ЧМ-2014</th>\n",
       "      <td>0</td>\n",
       "      <td>0</td>\n",
       "      <td>0</td>\n",
       "      <td>0</td>\n",
       "      <td>0</td>\n",
       "      <td>0</td>\n",
       "      <td>0</td>\n",
       "      <td>0</td>\n",
       "      <td>0</td>\n",
       "      <td>0</td>\n",
       "      <td>...</td>\n",
       "      <td>0</td>\n",
       "      <td>0</td>\n",
       "      <td>0</td>\n",
       "      <td>0</td>\n",
       "      <td>0</td>\n",
       "      <td>0</td>\n",
       "      <td>0</td>\n",
       "      <td>0</td>\n",
       "      <td>0</td>\n",
       "      <td>0</td>\n",
       "    </tr>\n",
       "    <tr>\n",
       "      <th>Экономика</th>\n",
       "      <td>0</td>\n",
       "      <td>0</td>\n",
       "      <td>0</td>\n",
       "      <td>0</td>\n",
       "      <td>0</td>\n",
       "      <td>4264</td>\n",
       "      <td>0</td>\n",
       "      <td>0</td>\n",
       "      <td>0</td>\n",
       "      <td>0</td>\n",
       "      <td>...</td>\n",
       "      <td>0</td>\n",
       "      <td>0</td>\n",
       "      <td>0</td>\n",
       "      <td>0</td>\n",
       "      <td>0</td>\n",
       "      <td>0</td>\n",
       "      <td>0</td>\n",
       "      <td>0</td>\n",
       "      <td>0</td>\n",
       "      <td>0</td>\n",
       "    </tr>\n",
       "  </tbody>\n",
       "</table>\n",
       "<p>23 rows × 88 columns</p>\n",
       "</div>"
      ],
      "text/plain": [
       "tags               Coцсети  Авто  Автобизнес  Аналитика рынка  Белоруссия  \\\n",
       "topic                                                                       \n",
       "69-я параллель           0     0           0                0           0   \n",
       "Библиотека               0     0           0                0           0   \n",
       "Бизнес                   0     0         310                0           0   \n",
       "Бывший СССР              0     0           0                0         916   \n",
       "Дом                      0     0           0                0           0   \n",
       "Из жизни                 0     0           0                0           0   \n",
       "Интернет и СМИ        2924     0           0                0           0   \n",
       "Крым                     0     0           0                0           0   \n",
       "Культпросвет             0     0           0                0           0   \n",
       "Культура                 0     0           0                0           0   \n",
       "Легпром                  0     0           0               28           0   \n",
       "МедНовости               0     0           0                0           0   \n",
       "Мир                      0     0           0                0           0   \n",
       "Наука и техника          0     0           0                0           0   \n",
       "Оружие                   0     0           0                0           0   \n",
       "Путешествия              0     0           0                0           0   \n",
       "Россия                   0     0           0                0           0   \n",
       "Силовые структуры        0     0           0                0           0   \n",
       "Сочи                     0     0           0                0           0   \n",
       "Спорт                    0   141           0                0           0   \n",
       "Ценности                 0     0           0                0           0   \n",
       "ЧМ-2014                  0     0           0                0           0   \n",
       "Экономика                0     0           0                0           0   \n",
       "\n",
       "tags               Бизнес  Бокс и ММА  Вещи  Вирусные ролики  Вкусы  ...  \\\n",
       "topic                                                                ...   \n",
       "69-я параллель          0           0     0                0      0  ...   \n",
       "Библиотека              0           0     0                0      0  ...   \n",
       "Бизнес               3960           0     0                0      0  ...   \n",
       "Бывший СССР             0           0     0                0      0  ...   \n",
       "Дом                     0           0     0                0      0  ...   \n",
       "Из жизни                0           0   424                0      0  ...   \n",
       "Интернет и СМИ          0           0     0              474      0  ...   \n",
       "Крым                    0           0     0                0      0  ...   \n",
       "Культпросвет            0           0     0                0      0  ...   \n",
       "Культура                0           0     0                0      0  ...   \n",
       "Легпром                 0           0     0                0      0  ...   \n",
       "МедНовости              0           0     0                0      0  ...   \n",
       "Мир                     0           0     0                0      0  ...   \n",
       "Наука и техника         0           0     0                0      0  ...   \n",
       "Оружие                  0           0     0                0      0  ...   \n",
       "Путешествия             0           0     0                0      0  ...   \n",
       "Россия                  0           0     0                0      0  ...   \n",
       "Силовые структуры       0           0     0                0      0  ...   \n",
       "Сочи                    0           0     0                0      0  ...   \n",
       "Спорт                   0        2443     0                0      0  ...   \n",
       "Ценности                0           0     0                0     54  ...   \n",
       "ЧМ-2014                 0           0     0                0      0  ...   \n",
       "Экономика            4264           0     0                0      0  ...   \n",
       "\n",
       "tags               Техника  Туризм  Украина  Финансы компаний  Фотография  \\\n",
       "topic                                                                       \n",
       "69-я параллель           0      35        0                 0           0   \n",
       "Библиотека               0       0        0                 0           0   \n",
       "Бизнес                   0       0        0               155           0   \n",
       "Бывший СССР              0       0    17934                 0           0   \n",
       "Дом                      0       0        0                 0           0   \n",
       "Из жизни                 0       0        0                 0           0   \n",
       "Интернет и СМИ           0       0        0                 0           0   \n",
       "Крым                     0       0        0                 0           0   \n",
       "Культпросвет             0      50        0                 0           0   \n",
       "Культура                 0       0        0                 0          28   \n",
       "Легпром                  0       0        0                 0           0   \n",
       "МедНовости               0       0        0                 0           0   \n",
       "Мир                      0       0        0                 0           0   \n",
       "Наука и техника       1208       0        0                 0           0   \n",
       "Оружие                   0       0        0                 0           0   \n",
       "Путешествия              0       0        0                 0           0   \n",
       "Россия                   0       0        0                 0           0   \n",
       "Силовые структуры        0       0        0                 0           0   \n",
       "Сочи                     0       0        0                 0           0   \n",
       "Спорт                    0       0        0                 0           0   \n",
       "Ценности                 0       0        0                 0           0   \n",
       "ЧМ-2014                  0       0        0                 0           0   \n",
       "Экономика                0       0        0                 0           0   \n",
       "\n",
       "tags               Футбол  Хоккей  Часы  Экология  Явления  \n",
       "topic                                                       \n",
       "69-я параллель          0       0     0        53       23  \n",
       "Библиотека              0       0     0         0        0  \n",
       "Бизнес                  0       0     0         0        0  \n",
       "Бывший СССР             0       0     0         0        0  \n",
       "Дом                     0       0     0         0        0  \n",
       "Из жизни                0       0     0         0        0  \n",
       "Интернет и СМИ          0       0     0         0        0  \n",
       "Крым                    0       0     0         0        0  \n",
       "Культпросвет            0       0     0         0        0  \n",
       "Культура                0       0     0         0        0  \n",
       "Легпром                 0       0     0         0        0  \n",
       "МедНовости              0       0     0         0        0  \n",
       "Мир                     0       0     0         0        0  \n",
       "Наука и техника         0       0     0         0        0  \n",
       "Оружие                  0       0     0         0        0  \n",
       "Путешествия             0       0     0         0        0  \n",
       "Россия                  0       0     0         0        0  \n",
       "Силовые структуры       0       0     0         0        0  \n",
       "Сочи                    0       0     0         0        0  \n",
       "Спорт               13128     915     0         0        0  \n",
       "Ценности                0       0   662         0     2500  \n",
       "ЧМ-2014                 0       0     0         0        0  \n",
       "Экономика               0       0     0         0        0  \n",
       "\n",
       "[23 rows x 88 columns]"
      ]
     },
     "execution_count": 13,
     "metadata": {
      "tags": []
     },
     "output_type": "execute_result"
    }
   ],
   "source": [
    "pd.crosstab(df['topic'], df['tags'])"
   ]
  },
  {
   "cell_type": "code",
   "execution_count": 0,
   "metadata": {
    "colab": {},
    "colab_type": "code",
    "id": "aaXNu5-H8qiC"
   },
   "outputs": [],
   "source": [
    "# что-то начинает проясняться"
   ]
  },
  {
   "cell_type": "markdown",
   "metadata": {
    "colab_type": "text",
    "id": "DCKzksCD8qiF"
   },
   "source": [
    "**Посмотрим, есть ли пропуски в данных** (в явном или неявном виде)"
   ]
  },
  {
   "cell_type": "code",
   "execution_count": 0,
   "metadata": {
    "colab": {},
    "colab_type": "code",
    "id": "9-Vw9-Xm8qiI",
    "outputId": "8003ac69-f7db-40fd-9eb0-494c92942b96",
    "scrolled": true
   },
   "outputs": [
    {
     "data": {
      "text/plain": [
       "index    False\n",
       "url      False\n",
       "title    False\n",
       "text      True\n",
       "topic     True\n",
       "tags      True\n",
       "dtype: bool"
      ]
     },
     "execution_count": 30,
     "metadata": {
      "tags": []
     },
     "output_type": "execute_result"
    }
   ],
   "source": [
    "df.isnull().any()"
   ]
  },
  {
   "cell_type": "code",
   "execution_count": 0,
   "metadata": {
    "colab": {},
    "colab_type": "code",
    "id": "xlItmR6W8qiO",
    "outputId": "11e19e27-0818-49d6-e4f9-70a94b667f86"
   },
   "outputs": [
    {
     "data": {
      "text/plain": [
       "Text(0.5, 1.0, 'Распределение NA по стобцам')"
      ]
     },
     "execution_count": 31,
     "metadata": {
      "tags": []
     },
     "output_type": "execute_result"
    },
    {
     "data": {
      "image/png": "[encoded data removed]",
      "text/plain": [
       "<Figure size 360x360 with 1 Axes>"
      ]
     },
     "metadata": {
      "needs_background": "light",
      "tags": []
     },
     "output_type": "display_data"
    }
   ],
   "source": [
    "plt.figure(figsize=(5, 5))\n",
    "df.isnull().mean(axis=0).plot.barh()\n",
    "plt.title('Распределение NA по стобцам')"
   ]
  },
  {
   "cell_type": "code",
   "execution_count": 0,
   "metadata": {
    "colab": {},
    "colab_type": "code",
    "id": "Gac-7AzK8qiR",
    "outputId": "f7762ed8-3ab1-4b34-c52c-073308fa1264"
   },
   "outputs": [
    {
     "data": {
      "text/plain": [
       "url      203\n",
       "title    203\n",
       "text     203\n",
       "topic      0\n",
       "tags       3\n",
       "dtype: int64"
      ]
     },
     "execution_count": 294,
     "metadata": {
      "tags": []
     },
     "output_type": "execute_result"
    }
   ],
   "source": [
    "df[df['topic'].isnull()].count()"
   ]
  },
  {
   "cell_type": "markdown",
   "metadata": {
    "colab_type": "text",
    "id": "K8VSWy-d8qiT"
   },
   "source": [
    "У нас есть 203 новости с пропусками целевой переменной. Тут можно остановиться и подумать, что с этими пропусками делать. Предлагаю посмотреть, а есть ли они на сайте, если их нет - придется просто удалять."
   ]
  },
  {
   "cell_type": "code",
   "execution_count": 0,
   "metadata": {
    "colab": {},
    "colab_type": "code",
    "id": "oLPLwu6R8qiU"
   },
   "outputs": [],
   "source": [
    "links = df[df['topic'].isnull()].url.values[:5]"
   ]
  },
  {
   "cell_type": "code",
   "execution_count": 0,
   "metadata": {
    "colab": {},
    "colab_type": "code",
    "id": "ZueAhGY-8qiX",
    "outputId": "8bcb750a-6cbb-4192-e4df-4f1812e8cb7e"
   },
   "outputs": [
    {
     "name": "stdout",
     "output_type": "stream",
     "text": [
      "Японский профессор рассказал о свойствах молекулярного водорода: Lenta.ru\n",
      "Подведены итоги «ИгроМира» и Comic Con Russia: Lenta.ru\n",
      "Московские разработчики показали Population Zero: Lenta.ru\n",
      "Подведены итоги IX ежегодной премии «Права потребителей и качество обслуживания»: Lenta.ru\n",
      "Опубликована деловая программа Восточного экономического форума: Lenta.ru\n"
     ]
    }
   ],
   "source": [
    "for _, link in enumerate(links):\n",
    "    p = requests.get(link)\n",
    "    soup = bs(p.content, 'html.parser')\n",
    "    print (soup.title.get_text())"
   ]
  },
  {
   "cell_type": "code",
   "execution_count": 0,
   "metadata": {
    "colab": {},
    "colab_type": "code",
    "id": "qlAI7F7D8qia"
   },
   "outputs": [],
   "source": [
    "# похоже, что эти строки действительно без рубрик. Удаляем.\n",
    "\n",
    "df = df.dropna(subset=['topic'])"
   ]
  },
  {
   "cell_type": "code",
   "execution_count": 0,
   "metadata": {
    "colab": {},
    "colab_type": "code",
    "id": "vUm5eDdR8qid",
    "outputId": "98eaf719-4917-4039-9133-ea3daefdba04"
   },
   "outputs": [
    {
     "data": {
      "text/plain": [
       "url      26314\n",
       "title    26314\n",
       "text     26314\n",
       "topic    26314\n",
       "tags         0\n",
       "dtype: int64"
      ]
     },
     "execution_count": 41,
     "metadata": {
      "tags": []
     },
     "output_type": "execute_result"
    }
   ],
   "source": [
    "df[df['tags'].isnull()].count()"
   ]
  },
  {
   "cell_type": "markdown",
   "metadata": {
    "colab_type": "text",
    "id": "xWntld4f8qih"
   },
   "source": [
    "Огромное количество новостей без тэга, будем что-то делать, в этих строках все же очень много информации, хотелось бы её использовать. Главных вариантов два - или заменить все NaN в тэгах на какой-то новый тэг, или немного потревожить сайт :)"
   ]
  },
  {
   "cell_type": "code",
   "execution_count": 0,
   "metadata": {
    "colab": {},
    "colab_type": "code",
    "id": "U7-6tsQ28qii"
   },
   "outputs": [],
   "source": [
    "def simpleparser(url):\n",
    "    p = requests.get(url)\n",
    "    soup = bs(p.content, 'html.parser')\n",
    "    try:\n",
    "        return soup.title.get_text().split(\":\")[-3]\n",
    "    except IndexError:\n",
    "        print('No match for {}'.format(url))\n",
    "\n",
    "def tagspuller(links):\n",
    "    t = []\n",
    "    for link in links:\n",
    "        t.append(simpleparser(link))\n",
    "    s = pd.Series(t, index=links.index, name='tags')\n",
    "    return s"
   ]
  },
  {
   "cell_type": "code",
   "execution_count": 0,
   "metadata": {
    "colab": {},
    "colab_type": "code",
    "id": "JN-JRQqX8qik"
   },
   "outputs": [],
   "source": [
    "'''tags_urls = df[df['tags'].isnull()].url\n",
    "tag_series = tagspuller(tags_urls) # часок или два. Можно распараллеливать, конечно\n",
    "tag_series.to_csv('tags_lenta.csv')\n",
    "'''\n"
   ]
  },
  {
   "cell_type": "code",
   "execution_count": 0,
   "metadata": {
    "colab": {},
    "colab_type": "code",
    "id": "DEHC18Qi8qin"
   },
   "outputs": [],
   "source": [
    "tag_series = pd.read_csv('tags_lenta.csv',index_col=0,header=None,names=['tags'])\n",
    "df.fillna(tag_series, inplace=True)"
   ]
  },
  {
   "cell_type": "code",
   "execution_count": 0,
   "metadata": {
    "colab": {},
    "colab_type": "code",
    "id": "-LZ5DB8L8qiq",
    "outputId": "769c3e3f-e40c-41fc-9853-c6209033124b"
   },
   "outputs": [
    {
     "data": {
      "text/plain": [
       "url      0\n",
       "title    0\n",
       "text     0\n",
       "topic    0\n",
       "tags     0\n",
       "dtype: int64"
      ]
     },
     "execution_count": 43,
     "metadata": {
      "tags": []
     },
     "output_type": "execute_result"
    }
   ],
   "source": [
    "df[df['tags'].isnull()].count()"
   ]
  },
  {
   "cell_type": "code",
   "execution_count": 0,
   "metadata": {
    "colab": {},
    "colab_type": "code",
    "id": "QFLOlYG18qiu",
    "outputId": "bb1d1b77-f71b-4a8f-cd5c-057e487c8776",
    "scrolled": true
   },
   "outputs": [
    {
     "data": {
      "text/html": [
       "<div>\n",
       "<style scoped>\n",
       "    .dataframe tbody tr th:only-of-type {\n",
       "        vertical-align: middle;\n",
       "    }\n",
       "\n",
       "    .dataframe tbody tr th {\n",
       "        vertical-align: top;\n",
       "    }\n",
       "\n",
       "    .dataframe thead th {\n",
       "        text-align: right;\n",
       "    }\n",
       "</style>\n",
       "<table border=\"1\" class=\"dataframe\">\n",
       "  <thead>\n",
       "    <tr style=\"text-align: right;\">\n",
       "      <th></th>\n",
       "      <th>url</th>\n",
       "      <th>title</th>\n",
       "      <th>text</th>\n",
       "      <th>topic</th>\n",
       "      <th>tags</th>\n",
       "    </tr>\n",
       "  </thead>\n",
       "  <tbody>\n",
       "    <tr>\n",
       "      <td>156671</td>\n",
       "      <td>https://lenta.ru/news/2016/02/23/aquarium/</td>\n",
       "      <td>Гребенщиков заработал 10 тысяч рублей в омском...</td>\n",
       "      <td>NaN</td>\n",
       "      <td>Культура</td>\n",
       "      <td>Музыка</td>\n",
       "    </tr>\n",
       "    <tr>\n",
       "      <td>584521</td>\n",
       "      <td>https://lenta.ru/news/2006/05/31/an70/</td>\n",
       "      <td>РФ вышла из российско-украинского проекта Ан-70</td>\n",
       "      <td>NaN</td>\n",
       "      <td>Россия</td>\n",
       "      <td>Все</td>\n",
       "    </tr>\n",
       "    <tr>\n",
       "      <td>585302</td>\n",
       "      <td>https://lenta.ru/news/2006/05/24/fire/</td>\n",
       "      <td>В Стамбуле горит багажное отделение аэропорта ...</td>\n",
       "      <td>NaN</td>\n",
       "      <td>Мир</td>\n",
       "      <td>Все</td>\n",
       "    </tr>\n",
       "    <tr>\n",
       "      <td>586050</td>\n",
       "      <td>https://lenta.ru/news/2006/05/16/dagestan/</td>\n",
       "      <td>При штурме дома в Кизилюрте ранены шестеро</td>\n",
       "      <td>NaN</td>\n",
       "      <td>Россия</td>\n",
       "      <td>Все</td>\n",
       "    </tr>\n",
       "    <tr>\n",
       "      <td>588317</td>\n",
       "      <td>https://lenta.ru/news/2006/04/20/student1/</td>\n",
       "      <td>Прокуратура не нашла национальной почвы в напа...</td>\n",
       "      <td>NaN</td>\n",
       "      <td>Россия</td>\n",
       "      <td>Все</td>\n",
       "    </tr>\n",
       "  </tbody>\n",
       "</table>\n",
       "</div>"
      ],
      "text/plain": [
       "                                               url  \\\n",
       "156671  https://lenta.ru/news/2016/02/23/aquarium/   \n",
       "584521      https://lenta.ru/news/2006/05/31/an70/   \n",
       "585302      https://lenta.ru/news/2006/05/24/fire/   \n",
       "586050  https://lenta.ru/news/2006/05/16/dagestan/   \n",
       "588317  https://lenta.ru/news/2006/04/20/student1/   \n",
       "\n",
       "                                                    title text     topic  \\\n",
       "156671  Гребенщиков заработал 10 тысяч рублей в омском...  NaN  Культура   \n",
       "584521    РФ вышла из российско-украинского проекта Ан-70  NaN    Россия   \n",
       "585302  В Стамбуле горит багажное отделение аэропорта ...  NaN       Мир   \n",
       "586050         При штурме дома в Кизилюрте ранены шестеро  NaN    Россия   \n",
       "588317  Прокуратура не нашла национальной почвы в напа...  NaN    Россия   \n",
       "\n",
       "          tags  \n",
       "156671  Музыка  \n",
       "584521     Все  \n",
       "585302     Все  \n",
       "586050     Все  \n",
       "588317     Все  "
      ]
     },
     "execution_count": 6,
     "metadata": {
      "tags": []
     },
     "output_type": "execute_result"
    }
   ],
   "source": [
    "df[df['text'].isnull()]"
   ]
  },
  {
   "cell_type": "code",
   "execution_count": 0,
   "metadata": {
    "colab": {},
    "colab_type": "code",
    "id": "G6382NIe8qiy"
   },
   "outputs": [],
   "source": [
    "# здесь аналогично, другой вариант - заполнить пробелами или стоп-словами"
   ]
  },
  {
   "cell_type": "code",
   "execution_count": 0,
   "metadata": {
    "colab": {},
    "colab_type": "code",
    "id": "t9pS-_QS8qi0"
   },
   "outputs": [],
   "source": [
    "text_urls = df[df['text'].isnull()].url\n",
    "\n",
    "def simpleparser2(url):\n",
    "    p = requests.get(url)\n",
    "    soup = bs(p.content, 'html.parser')\n",
    "    try:\n",
    "        return soup.head.find(property=\"og:description\")['content']\n",
    "    except IndexError:\n",
    "        print('No match for {}'.format(url))\n",
    "\n",
    "def textpuller(links):\n",
    "    t = []\n",
    "    for link in links:\n",
    "        t.append(simpleparser2(link))\n",
    "    s = pd.Series(t, index=links.index, name='text')\n",
    "    return s"
   ]
  },
  {
   "cell_type": "code",
   "execution_count": 0,
   "metadata": {
    "colab": {},
    "colab_type": "code",
    "id": "Q-V6n4aV8qi4"
   },
   "outputs": [],
   "source": [
    "text_series = textpuller(text_urls)\n",
    "df.fillna(text_series.to_frame(), inplace=True)"
   ]
  },
  {
   "cell_type": "code",
   "execution_count": 0,
   "metadata": {
    "colab": {},
    "colab_type": "code",
    "id": "r_o49m2r8qi6",
    "outputId": "4b6946a7-32ba-456a-c809-fa690ea7464b"
   },
   "outputs": [
    {
     "data": {
      "text/plain": [
       "url                 https://lenta.ru/news/2006/05/24/fire/\n",
       "title    В Стамбуле горит багажное отделение аэропорта ...\n",
       "text     В Турции начался крупный пожар в международном...\n",
       "topic                                                  Мир\n",
       "tags                                                   Все\n",
       "Name: 585302, dtype: object"
      ]
     },
     "execution_count": 7,
     "metadata": {
      "tags": []
     },
     "output_type": "execute_result"
    }
   ],
   "source": [
    "df.loc[585302]"
   ]
  },
  {
   "cell_type": "code",
   "execution_count": 0,
   "metadata": {
    "colab": {},
    "colab_type": "code",
    "id": "pnrUG2458qi9"
   },
   "outputs": [],
   "source": [
    "#все в нижний регистр. Важно сейчас, потому что будем смотреть, есть ли дубликаты.\n",
    "\n",
    "df = df.applymap(str.lower) "
   ]
  },
  {
   "cell_type": "code",
   "execution_count": 0,
   "metadata": {
    "colab": {},
    "colab_type": "code",
    "id": "9ZnLyhX68qi-",
    "outputId": "592931ed-699f-4250-f4f6-7d1be6739334"
   },
   "outputs": [
    {
     "data": {
      "text/plain": [
       "738973"
      ]
     },
     "execution_count": 10,
     "metadata": {
      "tags": []
     },
     "output_type": "execute_result"
    }
   ],
   "source": [
    "# дупликаты строк по всем столбцам, удаляем, чтобы избежать лишнего переобучения.\n",
    "\n",
    "df.drop_duplicates(inplace=True)\n",
    "len(df)"
   ]
  },
  {
   "cell_type": "code",
   "execution_count": 0,
   "metadata": {
    "colab": {},
    "colab_type": "code",
    "id": "NEcmg9B28qjB"
   },
   "outputs": [],
   "source": [
    "df.drop_duplicates(subset='text',keep='first',inplace=True)"
   ]
  },
  {
   "cell_type": "code",
   "execution_count": 0,
   "metadata": {
    "colab": {},
    "colab_type": "code",
    "id": "g2mLrXoZ8qjC",
    "outputId": "51268586-978e-4670-9964-32454e8972fc"
   },
   "outputs": [
    {
     "data": {
      "text/html": [
       "<div>\n",
       "<style scoped>\n",
       "    .dataframe tbody tr th:only-of-type {\n",
       "        vertical-align: middle;\n",
       "    }\n",
       "\n",
       "    .dataframe tbody tr th {\n",
       "        vertical-align: top;\n",
       "    }\n",
       "\n",
       "    .dataframe thead th {\n",
       "        text-align: right;\n",
       "    }\n",
       "</style>\n",
       "<table border=\"1\" class=\"dataframe\">\n",
       "  <thead>\n",
       "    <tr style=\"text-align: right;\">\n",
       "      <th></th>\n",
       "      <th>url</th>\n",
       "      <th>title</th>\n",
       "      <th>text</th>\n",
       "      <th>topic</th>\n",
       "      <th>tags</th>\n",
       "    </tr>\n",
       "  </thead>\n",
       "  <tbody>\n",
       "    <tr>\n",
       "      <td>79</td>\n",
       "      <td>https://lenta.ru/news/2018/12/14/spb/</td>\n",
       "      <td>названы районы петербурга с самым дешевым жильем</td>\n",
       "      <td>самые высокие цены на аренду жилья в петербург...</td>\n",
       "      <td>дом</td>\n",
       "      <td>квартира</td>\n",
       "    </tr>\n",
       "    <tr>\n",
       "      <td>233</td>\n",
       "      <td>https://lenta.ru/news/2018/12/13/teams/</td>\n",
       "      <td>определились все участники плей-офф лиги чемпи...</td>\n",
       "      <td>определились все 16 участников плей-офф лиги ч...</td>\n",
       "      <td>спорт</td>\n",
       "      <td>футбол</td>\n",
       "    </tr>\n",
       "    <tr>\n",
       "      <td>384</td>\n",
       "      <td>https://lenta.ru/news/2018/12/13/sanctions/</td>\n",
       "      <td>ес продлил экономические санкции против россии</td>\n",
       "      <td>европейский союз продлил экономические санкции...</td>\n",
       "      <td>мир</td>\n",
       "      <td>политика</td>\n",
       "    </tr>\n",
       "    <tr>\n",
       "      <td>672</td>\n",
       "      <td>https://lenta.ru/news/2018/12/11/time/</td>\n",
       "      <td>назван человек года по версии time</td>\n",
       "      <td>журналисты, гонимые за свои взгляды и поиск пр...</td>\n",
       "      <td>интернет и сми</td>\n",
       "      <td>пресса</td>\n",
       "    </tr>\n",
       "    <tr>\n",
       "      <td>1256</td>\n",
       "      <td>https://lenta.ru/news/2018/12/06/mozgi/</td>\n",
       "      <td>медведев посоветовал чиновникам «включать мозги»</td>\n",
       "      <td>премьер-министр дмитрий медведев посоветовал н...</td>\n",
       "      <td>россия</td>\n",
       "      <td>политика</td>\n",
       "    </tr>\n",
       "    <tr>\n",
       "      <td>1329</td>\n",
       "      <td>https://lenta.ru/news/2018/12/06/globus/</td>\n",
       "      <td>объявлены номинанты на «золотой глобус»</td>\n",
       "      <td>в лос-анджелесе объявили номинантов на кинопре...</td>\n",
       "      <td>культура</td>\n",
       "      <td>кино</td>\n",
       "    </tr>\n",
       "    <tr>\n",
       "      <td>1793</td>\n",
       "      <td>https://lenta.ru/news/2018/12/03/bestmusicof2018/</td>\n",
       "      <td>названа лучшая песня года</td>\n",
       "      <td>музыкальные критики газеты the guardian выбрал...</td>\n",
       "      <td>культура</td>\n",
       "      <td>музыка</td>\n",
       "    </tr>\n",
       "    <tr>\n",
       "      <td>1850</td>\n",
       "      <td>https://lenta.ru/news/2018/12/02/goldenrent/</td>\n",
       "      <td>раскрыты данные о самых дорогих съемных кварти...</td>\n",
       "      <td>в ноябре 2018-го максимальная ставка аренды жи...</td>\n",
       "      <td>дом</td>\n",
       "      <td>квартира</td>\n",
       "    </tr>\n",
       "    <tr>\n",
       "      <td>1944</td>\n",
       "      <td>https://lenta.ru/news/2018/11/30/syria/</td>\n",
       "      <td>сирия заявила об уничтожении израильского само...</td>\n",
       "      <td>сирийские системы пво сбили израильский военны...</td>\n",
       "      <td>мир</td>\n",
       "      <td>конфликты</td>\n",
       "    </tr>\n",
       "    <tr>\n",
       "      <td>2272</td>\n",
       "      <td>https://lenta.ru/news/2018/11/29/schpartak/</td>\n",
       "      <td>«спартак» упустил победу в лиге европы</td>\n",
       "      <td>московский «спартак» проиграл австрийскому «ра...</td>\n",
       "      <td>спорт</td>\n",
       "      <td>футбол</td>\n",
       "    </tr>\n",
       "  </tbody>\n",
       "</table>\n",
       "</div>"
      ],
      "text/plain": [
       "                                                    url  \\\n",
       "79                https://lenta.ru/news/2018/12/14/spb/   \n",
       "233             https://lenta.ru/news/2018/12/13/teams/   \n",
       "384         https://lenta.ru/news/2018/12/13/sanctions/   \n",
       "672              https://lenta.ru/news/2018/12/11/time/   \n",
       "1256            https://lenta.ru/news/2018/12/06/mozgi/   \n",
       "1329           https://lenta.ru/news/2018/12/06/globus/   \n",
       "1793  https://lenta.ru/news/2018/12/03/bestmusicof2018/   \n",
       "1850       https://lenta.ru/news/2018/12/02/goldenrent/   \n",
       "1944            https://lenta.ru/news/2018/11/30/syria/   \n",
       "2272        https://lenta.ru/news/2018/11/29/schpartak/   \n",
       "\n",
       "                                                  title  \\\n",
       "79     названы районы петербурга с самым дешевым жильем   \n",
       "233   определились все участники плей-офф лиги чемпи...   \n",
       "384      ес продлил экономические санкции против россии   \n",
       "672                  назван человек года по версии time   \n",
       "1256   медведев посоветовал чиновникам «включать мозги»   \n",
       "1329            объявлены номинанты на «золотой глобус»   \n",
       "1793                          названа лучшая песня года   \n",
       "1850  раскрыты данные о самых дорогих съемных кварти...   \n",
       "1944  сирия заявила об уничтожении израильского само...   \n",
       "2272             «спартак» упустил победу в лиге европы   \n",
       "\n",
       "                                                   text           topic  \\\n",
       "79    самые высокие цены на аренду жилья в петербург...             дом   \n",
       "233   определились все 16 участников плей-офф лиги ч...           спорт   \n",
       "384   европейский союз продлил экономические санкции...             мир   \n",
       "672   журналисты, гонимые за свои взгляды и поиск пр...  интернет и сми   \n",
       "1256  премьер-министр дмитрий медведев посоветовал н...          россия   \n",
       "1329  в лос-анджелесе объявили номинантов на кинопре...        культура   \n",
       "1793  музыкальные критики газеты the guardian выбрал...        культура   \n",
       "1850  в ноябре 2018-го максимальная ставка аренды жи...             дом   \n",
       "1944  сирийские системы пво сбили израильский военны...             мир   \n",
       "2272  московский «спартак» проиграл австрийскому «ра...           спорт   \n",
       "\n",
       "           tags  \n",
       "79     квартира  \n",
       "233      футбол  \n",
       "384    политика  \n",
       "672      пресса  \n",
       "1256   политика  \n",
       "1329       кино  \n",
       "1793     музыка  \n",
       "1850   квартира  \n",
       "1944  конфликты  \n",
       "2272     футбол  "
      ]
     },
     "execution_count": 14,
     "metadata": {
      "tags": []
     },
     "output_type": "execute_result"
    }
   ],
   "source": [
    "df[df['title'].duplicated(keep=False)].head(10)"
   ]
  },
  {
   "cell_type": "markdown",
   "metadata": {
    "colab_type": "text",
    "id": "mGHvZrlB8qjF"
   },
   "source": [
    "Очевидно, что такие заголовки как *\"названы районы Петербурга с самым дешевым жильем\"* могут встречаться много раз. Это норма (с)"
   ]
  },
  {
   "cell_type": "code",
   "execution_count": 0,
   "metadata": {
    "colab": {},
    "colab_type": "code",
    "id": "7mfPNF534YBj"
   },
   "outputs": [],
   "source": [
    "train_df['doc_len'] = train_df['comment_text'].apply(lambda words: len(words.split(\" \")))\n",
    "max_seq_len = np.round(train_df['doc_len'].mean() + train_df['doc_len'].std()).astype(int)\n",
    "sns.distplot(train_df['doc_len'], hist=True, kde=True, color='b', label='doc len')\n",
    "plt.axvline(x=max_seq_len, color='k', linestyle='--', label='max len')\n",
    "plt.title('comment length'); plt.legend()\n",
    "plt.show()"
   ]
  },
  {
   "cell_type": "code",
   "execution_count": 0,
   "metadata": {
    "colab": {},
    "colab_type": "code",
    "id": "QjyZX0-K8qjF"
   },
   "outputs": [],
   "source": [
    "# тянем дату новости и имя страницы из поля 'url'. Возможно пригодится.\n",
    "df['time'] = df['url'].apply(lambda x: urlparse(x).path.split('/')[2:5]).str.join('-')\n",
    "df['time'] = pd.to_datetime(df['time'], format='%Y-%m-%d')\n",
    "df['year'] = df.time.map(lambda x: x.strftime('%Y'))\n",
    "df['pagename'] = df['url'].apply(lambda x: urlparse(x).path.split('/')[5])"
   ]
  },
  {
   "cell_type": "code",
   "execution_count": 0,
   "metadata": {
    "colab": {},
    "colab_type": "code",
    "id": "f4kn9uEv8qjH",
    "outputId": "be1830a5-6ea5-4816-b91f-ced96919778b"
   },
   "outputs": [
    {
     "name": "stdout",
     "output_type": "stream",
     "text": [
      "Максимальное количество новостей за день: 278 \n",
      "Достигнуто: 2016-12-01 00:00:00\n"
     ]
    }
   ],
   "source": [
    "print ('Максимальное количество новостей за день: {} \\nДостигнуто: {}'.format(\n",
    "    df.time.value_counts()[0], \n",
    "    df.time.value_counts().index[0]))"
   ]
  },
  {
   "cell_type": "code",
   "execution_count": 0,
   "metadata": {
    "colab": {},
    "colab_type": "code",
    "id": "ls_cgOgw8qjJ"
   },
   "outputs": [],
   "source": []
  },
  {
   "cell_type": "code",
   "execution_count": 0,
   "metadata": {
    "colab": {},
    "colab_type": "code",
    "id": "kViajA418qjL",
    "outputId": "f2014e0f-4934-4eca-d8b7-2240a83be6ef"
   },
   "outputs": [
    {
     "data": {
      "image/png": "[encoded data removed]",
      "text/plain": [
       "<Figure size 432x288 with 1 Axes>"
      ]
     },
     "metadata": {
      "needs_background": "light",
      "tags": []
     },
     "output_type": "display_data"
    }
   ],
   "source": [
    "ax = sns.countplot(x=\"year\", data=df, palette=\"Blues_d\")\n",
    "ax.set_title('Кол-во новостей за год')\n",
    "plt.xticks(rotation=45);"
   ]
  },
  {
   "cell_type": "code",
   "execution_count": 0,
   "metadata": {
    "colab": {},
    "colab_type": "code",
    "id": "V6NaotrB8qjP",
    "outputId": "429d042b-3a02-49b4-9976-ccf7dbd35963"
   },
   "outputs": [
    {
     "name": "stdout",
     "output_type": "stream",
     "text": [
      "<pandas.core.groupby.generic.SeriesGroupBy object at 0x7f291dd493c8>\n"
     ]
    }
   ],
   "source": [
    "print (df['topic'].groupby(df['year']))"
   ]
  },
  {
   "cell_type": "code",
   "execution_count": 0,
   "metadata": {
    "colab": {},
    "colab_type": "code",
    "id": "3fuSrfIv8qjS"
   },
   "outputs": [],
   "source": [
    "# скорее всего мы можем что-то вытащить из даты."
   ]
  },
  {
   "cell_type": "code",
   "execution_count": 0,
   "metadata": {
    "colab": {},
    "colab_type": "code",
    "id": "jepOf1Hy8qjU"
   },
   "outputs": [],
   "source": [
    "len(df['pagename'].value_counts())"
   ]
  },
  {
   "cell_type": "markdown",
   "metadata": {
    "colab_type": "text",
    "id": "PSXDghNj8qjY"
   },
   "source": [
    "196000 уникальных значений. \n",
    "\n",
    "Это проблема, мы не хотим так сильно увеличивать признаковое описание после OHE, например. С другой стороны, использовать данные все же хочется. Что делать с этой фичей?\n",
    "\n",
    "Вариант 1: отфильтруем по кол-ву совпадений (скажем, 300), а остальное убрать. Что осталось - запихать в OHE\n",
    "    \n",
    "Вариант 2: можно приклеить к тексту и пихнуть в tfidf."
   ]
  },
  {
   "cell_type": "code",
   "execution_count": 0,
   "metadata": {
    "colab": {},
    "colab_type": "code",
    "id": "jqicxqLk8qjZ",
    "outputId": "ff5bb364-e1e5-4c26-98f0-2405c026f0dc"
   },
   "outputs": [
    {
     "data": {
      "text/plain": [
       "fire            1986\n",
       "putin           1305\n",
       "blast           1112\n",
       "marketreview    1047\n",
       "plane           1019\n",
       "                ... \n",
       "fsb              301\n",
       "video            300\n",
       "imf              300\n",
       "visa             300\n",
       "minister         300\n",
       "Name: pagename, Length: 165, dtype: int64"
      ]
     },
     "execution_count": 68,
     "metadata": {
      "tags": []
     },
     "output_type": "execute_result"
    }
   ],
   "source": [
    "pagename300 = df.groupby('pagename')['pagename'].transform('size') >= 300\n",
    "df[pagename300].pagename.value_counts()"
   ]
  },
  {
   "cell_type": "code",
   "execution_count": 0,
   "metadata": {
    "colab": {},
    "colab_type": "code",
    "id": "hW5ikR5R8qjb"
   },
   "outputs": [],
   "source": [
    "# а теперь вместе"
   ]
  },
  {
   "cell_type": "code",
   "execution_count": 0,
   "metadata": {
    "colab": {},
    "colab_type": "code",
    "id": "qRkSWldj8qjf"
   },
   "outputs": [],
   "source": [
    "import unicodedata \n",
    "\n",
    "def add_features(pagename=True):\n",
    "    df['time'] = df['url'].apply(lambda x: urlparse(x).path.split('/')[2:5]).str.join(u'-')\n",
    "    df['time'] = pd.to_datetime(df['time'], format='%Y-%m-%d')\n",
    "    df['year'] = df.time.map(lambda x: x.strftime('%Y'))\n",
    "    if pagename:\n",
    "        df['pagename'] = df['url'].apply(lambda x: urlparse(x).path.split('/')[5])\n",
    "        df['text'] = df[['pagename','title','text', 'tags','year']].apply(lambda x:' '.join(x),axis=1)\n",
    "        df.drop(['url', 'title', 'pagename', 'time', 'year', 'tags'], axis=1, inplace=True)\n",
    "        return \n",
    "    else:\n",
    "        df['text'] = df[['title','text','tags','year']].apply(lambda x:' '.join(x),axis=1)\n",
    "        df.drop(['url', 'title', 'time','tags','year'], axis=1, inplace=True)\n",
    "    \n",
    "    df[\"text\"] = df['text'].str.replace('[^\\w\\s]+', '')\n",
    "    df['text'] = df['text'].str.replace( '\\s+', ' ')\n",
    "    df['text'] = [unicodedata.normalize(\"NFKD\", t) for t in df['text']]\n",
    "    df['text'] = df['text'].apply(lambda x:' '.join(word for word in x.split() if len(word)>3))\n",
    "        return"
   ]
  },
  {
   "cell_type": "code",
   "execution_count": 0,
   "metadata": {
    "colab": {},
    "colab_type": "code",
    "id": "EDBhToQR8qji"
   },
   "outputs": [],
   "source": [
    "add_features(pagename=False)"
   ]
  },
  {
   "cell_type": "code",
   "execution_count": 0,
   "metadata": {
    "colab": {},
    "colab_type": "code",
    "id": "qONSPsid8qjj",
    "outputId": "3aee781d-b7ee-4922-eba1-5a45931fda2f"
   },
   "outputs": [
    {
     "data": {
      "text/plain": [
       "'пассажир московского метро заплатит тысяч рублей отказ досмотра пассажир московского метрополитена заплатит штраф сумму тысяч рублей отказ пройти досмотр багажа этом субботу декабря агентству москва сообщил замначальника подземки руководитель службы безопасности андрей кичигин такое решение вынес мировой судья гагаринского района москвы вторник декабря сказал кичигин пассажир выполнил требование сотрудников службы безопасности досмотре пояснил инцидент произошел декабря пассажира задержали работники службы безопасности метрополитене отказ досмотра багажа нарушает требования соблюдению транспортной безопасности утвержденные постановлением правительства россии отметил замначальника подземки прессслужбе метро напомнили пассажиры обязаны предоставлять багаж ручную кладь другие предметы проверки просвечивающем устройстве противном случае имеют права пользоваться услугами подземки попытка пройти досмотра является административным правонарушением сотрудники службы безопасности метро проводят досмотр только использованием аппаратуры металлоискателей просвечивающих устройств действуют исключительно интересах безопасности пассажиров подчеркнули прессслужбе происшествия'"
      ]
     },
     "execution_count": 24,
     "metadata": {
      "tags": []
     },
     "output_type": "execute_result"
    }
   ],
   "source": [
    "df['text'][25]"
   ]
  },
  {
   "cell_type": "code",
   "execution_count": 0,
   "metadata": {
    "colab": {},
    "colab_type": "code",
    "id": "zy2toe4C8qjl",
    "outputId": "9ad603f5-cf9d-4ca5-acca-b012da872147",
    "scrolled": true
   },
   "outputs": [
    {
     "data": {
      "text/html": [
       "<div>\n",
       "<style scoped>\n",
       "    .dataframe tbody tr th:only-of-type {\n",
       "        vertical-align: middle;\n",
       "    }\n",
       "\n",
       "    .dataframe tbody tr th {\n",
       "        vertical-align: top;\n",
       "    }\n",
       "\n",
       "    .dataframe thead th {\n",
       "        text-align: right;\n",
       "    }\n",
       "</style>\n",
       "<table border=\"1\" class=\"dataframe\">\n",
       "  <thead>\n",
       "    <tr style=\"text-align: right;\">\n",
       "      <th></th>\n",
       "      <th>text</th>\n",
       "      <th>topic</th>\n",
       "    </tr>\n",
       "  </thead>\n",
       "  <tbody>\n",
       "    <tr>\n",
       "      <th>35</th>\n",
       "      <td>путин подарил тяжелобольному мальчику обещанны...</td>\n",
       "      <td>россия</td>\n",
       "    </tr>\n",
       "    <tr>\n",
       "      <th>36</th>\n",
       "      <td>порошенко уселся президиуме собора украинских ...</td>\n",
       "      <td>бывший ссср</td>\n",
       "    </tr>\n",
       "    <tr>\n",
       "      <th>37</th>\n",
       "      <td>путин порассуждал сексе наркотиках протесте рэ...</td>\n",
       "      <td>россия</td>\n",
       "    </tr>\n",
       "    <tr>\n",
       "      <th>38</th>\n",
       "      <td>желтые жилеты прорвали кордон полиции марселье...</td>\n",
       "      <td>мир</td>\n",
       "    </tr>\n",
       "    <tr>\n",
       "      <th>39</th>\n",
       "      <td>су27 разбился украине истребитель су27 разбилс...</td>\n",
       "      <td>бывший ссср</td>\n",
       "    </tr>\n",
       "  </tbody>\n",
       "</table>\n",
       "</div>"
      ],
      "text/plain": [
       "                                                 text        topic\n",
       "35  путин подарил тяжелобольному мальчику обещанны...       россия\n",
       "36  порошенко уселся президиуме собора украинских ...  бывший ссср\n",
       "37  путин порассуждал сексе наркотиках протесте рэ...       россия\n",
       "38  желтые жилеты прорвали кордон полиции марселье...          мир\n",
       "39  су27 разбился украине истребитель су27 разбилс...  бывший ссср"
      ]
     },
     "execution_count": 23,
     "metadata": {
      "tags": []
     },
     "output_type": "execute_result"
    }
   ],
   "source": [
    "df.iloc[35:40]"
   ]
  },
  {
   "cell_type": "markdown",
   "metadata": {
    "colab_type": "text",
    "id": "MTqZ8cCq8qjp"
   },
   "source": [
    " "
   ]
  },
  {
   "cell_type": "markdown",
   "metadata": {
    "colab_type": "text",
    "id": "KW1WICEH8qjq"
   },
   "source": [
    "## Подготовка данных, балансировка классов."
   ]
  },
  {
   "cell_type": "code",
   "execution_count": 0,
   "metadata": {
    "colab": {},
    "colab_type": "code",
    "id": "ceW5egJ18qjt",
    "outputId": "4c46aa65-5a50-4fd3-fbf3-8aa2b5be1e09"
   },
   "outputs": [
    {
     "data": {
      "text/plain": [
       "array([160090, 136374,  79484,  64411,  53784,  53387,  52916,  44645,\n",
       "        27582,  21730,  19596,   7766,   7398,   6408])"
      ]
     },
     "execution_count": 26,
     "metadata": {
      "tags": []
     },
     "output_type": "execute_result"
    }
   ],
   "source": [
    "df.topic.value_counts().values"
   ]
  },
  {
   "cell_type": "code",
   "execution_count": 0,
   "metadata": {
    "colab": {},
    "colab_type": "code",
    "id": "vsQF0Qey8qjx"
   },
   "outputs": [],
   "source": [
    "split = StratifiedShuffleSplit(n_splits=1, test_size=0.25, random_state=42) # делим\n",
    "for train_index, test_index in split.split(df, df['topic']):\n",
    "    strat_train_set = df.loc[train_index]\n",
    "    strat_test_set = df.loc[test_index]"
   ]
  },
  {
   "cell_type": "code",
   "execution_count": 0,
   "metadata": {
    "colab": {},
    "colab_type": "code",
    "id": "iPmgs4i18qjz",
    "outputId": "43f8bfa5-bb97-4bd9-eb18-62b5bb2aa932"
   },
   "outputs": [
    {
     "data": {
      "text/plain": [
       "россия               0.217643\n",
       "мир                  0.185401\n",
       "экономика            0.108057\n",
       "спорт                0.087567\n",
       "культура             0.073119\n",
       "бывший ссср          0.072580\n",
       "наука и техника      0.071939\n",
       "интернет и сми       0.060693\n",
       "из жизни             0.037500\n",
       "дом                  0.029539\n",
       "силовые структуры    0.026640\n",
       "ценности             0.010555\n",
       "бизнес               0.010055\n",
       "путешествия          0.008712\n",
       "Name: topic, dtype: float64"
      ]
     },
     "execution_count": 118,
     "metadata": {
      "tags": []
     },
     "output_type": "execute_result"
    }
   ],
   "source": [
    "# сравним распределения\n",
    "strat_test_set['topic'].value_counts() / len(strat_test_set)"
   ]
  },
  {
   "cell_type": "code",
   "execution_count": 0,
   "metadata": {
    "colab": {},
    "colab_type": "code",
    "id": "66F8brTh8qj1",
    "outputId": "39f0c399-3306-4b16-9993-5a2875b3c71a"
   },
   "outputs": [
    {
     "data": {
      "text/plain": [
       "россия               0.217640\n",
       "мир                  0.185399\n",
       "экономика            0.108058\n",
       "спорт                0.087566\n",
       "культура             0.073119\n",
       "бывший ссср          0.072579\n",
       "наука и техника      0.071939\n",
       "интернет и сми       0.060694\n",
       "из жизни             0.037497\n",
       "дом                  0.029542\n",
       "силовые структуры    0.026641\n",
       "ценности             0.010558\n",
       "бизнес               0.010057\n",
       "путешествия          0.008712\n",
       "Name: topic, dtype: float64"
      ]
     },
     "execution_count": 119,
     "metadata": {
      "tags": []
     },
     "output_type": "execute_result"
    }
   ],
   "source": [
    "df['topic'].value_counts() / len(df)"
   ]
  },
  {
   "cell_type": "code",
   "execution_count": 0,
   "metadata": {
    "colab": {},
    "colab_type": "code",
    "id": "ZAXgZSTN8qj6",
    "outputId": "33162b86-6cba-4440-9a85-53f8c51b4c3b"
   },
   "outputs": [
    {
     "name": "stdout",
     "output_type": "stream",
     "text": [
      "Rand. mean %error: 0.0022449211062444924\n",
      "Strat. mean %error: -0.0037672845397125343\n"
     ]
    }
   ],
   "source": [
    "# можем сравнить с обычным train_test_split'ом\n",
    "def income_cat_proportions(data):\n",
    "    return data['topic'].value_counts() / len(data)\n",
    "\n",
    "train_set, test_set = train_test_split(df, test_size=0.2, random_state=42, stratify=df['topic'])\n",
    "\n",
    "compare_props = pd.DataFrame({\n",
    "    'Overall': income_cat_proportions(df),\n",
    "    'Stratified': income_cat_proportions(strat_test_set),\n",
    "    'Random': income_cat_proportions(test_set),\n",
    "}).sort_index()\n",
    "compare_props['Rand. %error'] = 100 * compare_props['Random'] / compare_props['Overall'] - 100\n",
    "compare_props['Strat. %error'] = 100 * compare_props['Stratified'] / compare_props['Overall'] - 100\n",
    "\n",
    "print('Rand. mean %error: {}'.format(sum(compare_props['Rand. %error'])/len(compare_props['Rand. %error'])))\n",
    "print('Strat. mean %error: {}'.format(sum(compare_props['Strat. %error'])/len(compare_props['Strat. %error'])))"
   ]
  },
  {
   "cell_type": "code",
   "execution_count": 0,
   "metadata": {
    "colab": {},
    "colab_type": "code",
    "id": "0QKiky6U8qj-",
    "outputId": "f4bb9e02-4ebd-41c5-b7dc-56217ff9f77f"
   },
   "outputs": [
    {
     "data": {
      "text/html": [
       "<div>\n",
       "<style scoped>\n",
       "    .dataframe tbody tr th:only-of-type {\n",
       "        vertical-align: middle;\n",
       "    }\n",
       "\n",
       "    .dataframe tbody tr th {\n",
       "        vertical-align: top;\n",
       "    }\n",
       "\n",
       "    .dataframe thead th {\n",
       "        text-align: right;\n",
       "    }\n",
       "</style>\n",
       "<table border=\"1\" class=\"dataframe\">\n",
       "  <thead>\n",
       "    <tr style=\"text-align: right;\">\n",
       "      <th></th>\n",
       "      <th>Overall</th>\n",
       "      <th>Stratified</th>\n",
       "      <th>Random</th>\n",
       "      <th>Rand. %error</th>\n",
       "      <th>Strat. %error</th>\n",
       "    </tr>\n",
       "  </thead>\n",
       "  <tbody>\n",
       "    <tr>\n",
       "      <th>бизнес</th>\n",
       "      <td>0.010057</td>\n",
       "      <td>0.010055</td>\n",
       "      <td>0.010060</td>\n",
       "      <td>0.026490</td>\n",
       "      <td>-0.027170</td>\n",
       "    </tr>\n",
       "    <tr>\n",
       "      <th>бывший ссср</th>\n",
       "      <td>0.072579</td>\n",
       "      <td>0.072580</td>\n",
       "      <td>0.072583</td>\n",
       "      <td>0.005076</td>\n",
       "      <td>0.001737</td>\n",
       "    </tr>\n",
       "    <tr>\n",
       "      <th>дом</th>\n",
       "      <td>0.029542</td>\n",
       "      <td>0.029539</td>\n",
       "      <td>0.029542</td>\n",
       "      <td>-0.000544</td>\n",
       "      <td>-0.009340</td>\n",
       "    </tr>\n",
       "    <tr>\n",
       "      <th>из жизни</th>\n",
       "      <td>0.037497</td>\n",
       "      <td>0.037500</td>\n",
       "      <td>0.037494</td>\n",
       "      <td>-0.007795</td>\n",
       "      <td>0.007115</td>\n",
       "    </tr>\n",
       "    <tr>\n",
       "      <th>интернет и сми</th>\n",
       "      <td>0.060694</td>\n",
       "      <td>0.060693</td>\n",
       "      <td>0.060694</td>\n",
       "      <td>-0.000544</td>\n",
       "      <td>-0.002376</td>\n",
       "    </tr>\n",
       "    <tr>\n",
       "      <th>культура</th>\n",
       "      <td>0.073119</td>\n",
       "      <td>0.073119</td>\n",
       "      <td>0.073120</td>\n",
       "      <td>0.001315</td>\n",
       "      <td>-0.000136</td>\n",
       "    </tr>\n",
       "    <tr>\n",
       "      <th>мир</th>\n",
       "      <td>0.185399</td>\n",
       "      <td>0.185401</td>\n",
       "      <td>0.185399</td>\n",
       "      <td>0.000189</td>\n",
       "      <td>0.001331</td>\n",
       "    </tr>\n",
       "    <tr>\n",
       "      <th>наука и техника</th>\n",
       "      <td>0.071939</td>\n",
       "      <td>0.071939</td>\n",
       "      <td>0.071937</td>\n",
       "      <td>-0.002434</td>\n",
       "      <td>-0.000136</td>\n",
       "    </tr>\n",
       "    <tr>\n",
       "      <th>путешествия</th>\n",
       "      <td>0.008712</td>\n",
       "      <td>0.008712</td>\n",
       "      <td>0.008714</td>\n",
       "      <td>0.030667</td>\n",
       "      <td>-0.000136</td>\n",
       "    </tr>\n",
       "    <tr>\n",
       "      <th>россия</th>\n",
       "      <td>0.217640</td>\n",
       "      <td>0.217643</td>\n",
       "      <td>0.217639</td>\n",
       "      <td>-0.000544</td>\n",
       "      <td>0.001113</td>\n",
       "    </tr>\n",
       "    <tr>\n",
       "      <th>силовые структуры</th>\n",
       "      <td>0.026641</td>\n",
       "      <td>0.026640</td>\n",
       "      <td>0.026639</td>\n",
       "      <td>-0.005647</td>\n",
       "      <td>-0.000136</td>\n",
       "    </tr>\n",
       "    <tr>\n",
       "      <th>спорт</th>\n",
       "      <td>0.087566</td>\n",
       "      <td>0.087567</td>\n",
       "      <td>0.087564</td>\n",
       "      <td>-0.002096</td>\n",
       "      <td>0.001417</td>\n",
       "    </tr>\n",
       "    <tr>\n",
       "      <th>ценности</th>\n",
       "      <td>0.010558</td>\n",
       "      <td>0.010555</td>\n",
       "      <td>0.010556</td>\n",
       "      <td>-0.013420</td>\n",
       "      <td>-0.025889</td>\n",
       "    </tr>\n",
       "    <tr>\n",
       "      <th>экономика</th>\n",
       "      <td>0.108058</td>\n",
       "      <td>0.108057</td>\n",
       "      <td>0.108058</td>\n",
       "      <td>0.000714</td>\n",
       "      <td>-0.000136</td>\n",
       "    </tr>\n",
       "  </tbody>\n",
       "</table>\n",
       "</div>"
      ],
      "text/plain": [
       "                    Overall  Stratified    Random  Rand. %error  Strat. %error\n",
       "бизнес             0.010057    0.010055  0.010060      0.026490      -0.027170\n",
       "бывший ссср        0.072579    0.072580  0.072583      0.005076       0.001737\n",
       "дом                0.029542    0.029539  0.029542     -0.000544      -0.009340\n",
       "из жизни           0.037497    0.037500  0.037494     -0.007795       0.007115\n",
       "интернет и сми     0.060694    0.060693  0.060694     -0.000544      -0.002376\n",
       "культура           0.073119    0.073119  0.073120      0.001315      -0.000136\n",
       "мир                0.185399    0.185401  0.185399      0.000189       0.001331\n",
       "наука и техника    0.071939    0.071939  0.071937     -0.002434      -0.000136\n",
       "путешествия        0.008712    0.008712  0.008714      0.030667      -0.000136\n",
       "россия             0.217640    0.217643  0.217639     -0.000544       0.001113\n",
       "силовые структуры  0.026641    0.026640  0.026639     -0.005647      -0.000136\n",
       "спорт              0.087566    0.087567  0.087564     -0.002096       0.001417\n",
       "ценности           0.010558    0.010555  0.010556     -0.013420      -0.025889\n",
       "экономика          0.108058    0.108057  0.108058      0.000714      -0.000136"
      ]
     },
     "execution_count": 121,
     "metadata": {
      "tags": []
     },
     "output_type": "execute_result"
    }
   ],
   "source": [
    "compare_props "
   ]
  },
  {
   "cell_type": "markdown",
   "metadata": {
    "colab_type": "text",
    "id": "3hhekBhZ8qkD"
   },
   "source": [
    "Забавно, но факт - обычным train_test_split-ом на упорядоченных по умолчанию данных получаем в этом датасете лучший результат.\n"
   ]
  },
  {
   "cell_type": "code",
   "execution_count": 0,
   "metadata": {
    "colab": {},
    "colab_type": "code",
    "id": "Sui961us8qkE"
   },
   "outputs": [],
   "source": [
    "LE = LabelEncoder()\n",
    "df['topic'] = LE.fit_transform(df['topic'])+1"
   ]
  },
  {
   "cell_type": "code",
   "execution_count": 0,
   "metadata": {
    "colab": {},
    "colab_type": "code",
    "id": "FDHSi5di8qkI",
    "outputId": "8468dfd0-e1c1-4dae-8ce0-469281ad9e88"
   },
   "outputs": [
    {
     "data": {
      "text/plain": [
       "10    160090\n",
       "7     136374\n",
       "14     79484\n",
       "12     64411\n",
       "6      53784\n",
       "2      53387\n",
       "8      52916\n",
       "5      44645\n",
       "4      27582\n",
       "3      21730\n",
       "11     19596\n",
       "13      7766\n",
       "1       7398\n",
       "9       6408\n",
       "Name: topic, dtype: int64"
      ]
     },
     "execution_count": 30,
     "metadata": {
      "tags": []
     },
     "output_type": "execute_result"
    }
   ],
   "source": [
    "df['topic'].value_counts()"
   ]
  },
  {
   "cell_type": "code",
   "execution_count": 221,
   "metadata": {
    "colab": {
     "base_uri": "https://localhost:8080/",
     "height": 34
    },
    "colab_type": "code",
    "id": "1GMy8i6aFB01",
    "outputId": "dafdf43c-10f2-4892-c57d-c562ed6638eb"
   },
   "outputs": [
    {
     "data": {
      "text/plain": [
       "14"
      ]
     },
     "execution_count": 221,
     "metadata": {
      "tags": []
     },
     "output_type": "execute_result"
    }
   ],
   "source": [
    "num_classes = len(np.unique(df['topic']))\n",
    "num_classes"
   ]
  },
  {
   "cell_type": "markdown",
   "metadata": {
    "colab_type": "text",
    "id": "HWHyCGYy8qkQ"
   },
   "source": [
    "Начинаем разбираться с балансом классов. oversampling будем делать позже, а пока руками отрежем верхние классы и возьмем сабсэмплы из общей выборки (это не единственный вариант, есть гораздо более качественные методы undersampling'а, основанные на KNN, напр. TomekLinks. Одна из причин, почему я кромсаю случайным образом сейчас - уменьшить размер выборки, чтобы можно было на локальной машине все обсчитать :) )"
   ]
  },
  {
   "cell_type": "code",
   "execution_count": 0,
   "metadata": {
    "colab": {},
    "colab_type": "code",
    "id": "KUaI3xaI8qkQ"
   },
   "outputs": [],
   "source": [
    "def subsample_normalizer(df, target):\n",
    "    mean = int(np.mean(target.value_counts()))\n",
    "    for i in range(1,len(np.unique(target))+1):\n",
    "        cnt = len(target[target == i])\n",
    "        if cnt > mean:\n",
    "            subset = target[target == i].sample(cnt-mean, random_state=42)\n",
    "            df = df.drop(subset.index, axis=0)\n",
    "    return df.reset_index(drop=True)"
   ]
  },
  {
   "cell_type": "code",
   "execution_count": 0,
   "metadata": {
    "colab": {},
    "colab_type": "code",
    "id": "yirUNbxP8qkS"
   },
   "outputs": [],
   "source": [
    "df = subsample_normalizer(df, df['topic'])"
   ]
  },
  {
   "cell_type": "code",
   "execution_count": 0,
   "metadata": {
    "colab": {},
    "colab_type": "code",
    "id": "1KsZI4YK8qkV"
   },
   "outputs": [],
   "source": [
    "#теперь токенизация"
   ]
  },
  {
   "cell_type": "code",
   "execution_count": 1,
   "metadata": {
    "colab": {
     "base_uri": "https://localhost:8080/",
     "height": 122
    },
    "colab_type": "code",
    "id": "oM3l_h_e_eCB",
    "outputId": "3b48f41f-d398-46bf-a3c7-0ba42e9f6e2c"
   },
   "outputs": [
    {
     "name": "stdout",
     "output_type": "stream",
     "text": [
      "Go to this URL in a browser: https://accounts.google.com/o/oauth2/auth?client_id=947318989803-6bn6qk8qdgf4n4g3pfee6491hc0brc4i.apps.googleusercontent.com&redirect_uri=urn%3Aietf%3Awg%3Aoauth%3A2.0%3Aoob&scope=email%20https%3A%2F%2Fwww.googleapis.com%2Fauth%2Fdocs.test%20https%3A%2F%2Fwww.googleapis.com%2Fauth%2Fdrive%20https%3A%2F%2Fwww.googleapis.com%2Fauth%2Fdrive.photos.readonly%20https%3A%2F%2Fwww.googleapis.com%2Fauth%2Fpeopleapi.readonly&response_type=code\n",
      "\n",
      "Enter your authorization code:\n",
      "··········\n",
      "Mounted at /content/drive\n"
     ]
    }
   ],
   "source": [
    "from google.colab import drive\n",
    "drive.mount('/content/drive')"
   ]
  },
  {
   "cell_type": "code",
   "execution_count": 0,
   "metadata": {
    "colab": {},
    "colab_type": "code",
    "id": "26Zvuorm_yHO"
   },
   "outputs": [],
   "source": [
    "df = pd.read_csv('/content/drive/My Drive/sampled.csv', index_col=0)"
   ]
  },
  {
   "cell_type": "code",
   "execution_count": 0,
   "metadata": {
    "colab": {},
    "colab_type": "code",
    "id": "vfCXbhKZWQ1E"
   },
   "outputs": [],
   "source": [
    "def preprocess(sent, pat=r'\\b\\w\\w+\\b', morph=MorphAnalyzer()):\n",
    "    return [morph.parse(tok)[0].normal_form#+str(morph.parse(tok)[0].tag.POS)\n",
    "            for tok in regexp_tokenize(sent, pat)]\n",
    "  \n",
    "df['text'] = df['text'].apply(preprocess)"
   ]
  },
  {
   "cell_type": "markdown",
   "metadata": {
    "colab_type": "text",
    "id": "MwHHw9-daQ_U"
   },
   "source": [
    "Есть много вариантов использования POS, я просто склеивал со словами, когда\n",
    "пробовал на этом датасете.\n",
    "(n-граммы будем считать только по словам в этом случае и эмбеддинги \n",
    "предобученные не сработают)\n",
    "Был нюанс с реализацией - дело в том, что pymorphy не умеет в POS английских слов. \n",
    "Не придумал ничего лучше, как перевести nonetype в str(None). \n",
    "В итоге заодно добавилось подобие **NER** (т.к. большинство англ слов это \n",
    "named entities), забавно вышло)"
   ]
  },
  {
   "cell_type": "markdown",
   "metadata": {
    "colab_type": "text",
    "id": "1LafGJsX8qkP"
   },
   "source": [
    "Дальше можно провести работу с поиском и заменой сокращений, опечаток, подключением named entity recognition словаря (для русского языка есть разве что [Наташа](https://github.com/natasha/natasha), chunk-ать на словосочетания (например, для каждого глагола/прилагательного ищется существительное рядом, которое этот глагол/прилагательное описывает), искать устойчивые словосочетания."
   ]
  },
  {
   "cell_type": "markdown",
   "metadata": {
    "colab_type": "text",
    "id": "Es1QQwqEagex"
   },
   "source": [
    " "
   ]
  },
  {
   "cell_type": "code",
   "execution_count": 0,
   "metadata": {
    "colab": {},
    "colab_type": "code",
    "id": "7hb_2L9k8qka"
   },
   "outputs": [],
   "source": [
    "X = df['text'] #df.drop('topic', axis=1)\n",
    "y = df['topic']"
   ]
  },
  {
   "cell_type": "code",
   "execution_count": 0,
   "metadata": {
    "colab": {},
    "colab_type": "code",
    "id": "s4cj1sKk8qkc"
   },
   "outputs": [],
   "source": [
    "#делим с шаффлом при многоклассовой обязательно!"
   ]
  },
  {
   "cell_type": "code",
   "execution_count": 0,
   "metadata": {
    "colab": {},
    "colab_type": "code",
    "id": "e1SrmAFn8qkd"
   },
   "outputs": [],
   "source": [
    "split = StratifiedShuffleSplit(n_splits=1, test_size=0.25, random_state=42)\n",
    "for train_index, test_index in split.split(X, y):\n",
    "    strat_train_set = df.loc[train_index]\n",
    "    strat_test_set = df.loc[test_index]\n",
    "    \n",
    "X_train = strat_train_set['text']\n",
    "X_test = strat_test_set['text']\n",
    "y_train = strat_train_set['topic']\n",
    "y_test = strat_test_set['topic']"
   ]
  },
  {
   "cell_type": "code",
   "execution_count": 0,
   "metadata": {
    "colab": {},
    "colab_type": "code",
    "id": "0wq2V15p8qkf"
   },
   "outputs": [],
   "source": [
    "def do_nothing(tokens): #поскольку уже токенизировали\n",
    "    return tokens"
   ]
  },
  {
   "cell_type": "markdown",
   "metadata": {
    "colab_type": "text",
    "id": "1SAKO1gTNAJ9"
   },
   "source": [
    "Сперва векторизуем, посчитаем tf и idf, потом сделаем факторизацию с помощью SVD."
   ]
  },
  {
   "cell_type": "code",
   "execution_count": 0,
   "metadata": {
    "colab": {},
    "colab_type": "code",
    "id": "dOTolivv8qkh"
   },
   "outputs": [],
   "source": [
    "'''cvect = CountVectorizer(tokenizer=do_nothing,\n",
    "                       preprocessor=None,\n",
    "                        lowercase=False,\n",
    "                        ngram_range=(1,2), \n",
    "                        max_df=0.7)\n",
    "X_train = cvect.fit_transform(X_train)\n",
    "X_test = cvect.transform(X_test)\n",
    "'''"
   ]
  },
  {
   "cell_type": "code",
   "execution_count": 0,
   "metadata": {
    "colab": {},
    "colab_type": "code",
    "id": "8EouKWND8qkn"
   },
   "outputs": [],
   "source": [
    "pipe = Pipeline([\n",
    "    ('tfidf', TfidfVectorizer(tokenizer=do_nothing, preprocessor=None, lowercase=False, ngram_range=(1,2), max_df=0.5, sublinear_tf=True)),\n",
    "    ('svd', TruncatedSVD(n_components=100, random_state=42)), #для LSA\n",
    "])              \n"
   ]
  },
  {
   "cell_type": "code",
   "execution_count": 17,
   "metadata": {
    "colab": {
     "base_uri": "https://localhost:8080/",
     "height": 34
    },
    "colab_type": "code",
    "id": "zBx6ou5EO05x",
    "outputId": "235a6093-1000-4e38-d300-e448192bc84f"
   },
   "outputs": [
    {
     "data": {
      "text/plain": [
       "184"
      ]
     },
     "execution_count": 17,
     "metadata": {
      "tags": []
     },
     "output_type": "execute_result"
    }
   ],
   "source": [
    "gc.collect()"
   ]
  },
  {
   "cell_type": "code",
   "execution_count": 0,
   "metadata": {
    "colab": {},
    "colab_type": "code",
    "id": "wRubDZv38qks"
   },
   "outputs": [],
   "source": [
    "X_train = pipe.fit_transform(X_train)\n",
    "X_test = pipe.transform(X_test)"
   ]
  },
  {
   "cell_type": "code",
   "execution_count": 16,
   "metadata": {
    "colab": {
     "base_uri": "https://localhost:8080/",
     "height": 34
    },
    "colab_type": "code",
    "id": "O9A7gO88gYwn",
    "outputId": "f45df446-9ade-4bdf-c051-4a5715120ce5"
   },
   "outputs": [
    {
     "data": {
      "text/plain": [
       "(377178, 100)"
      ]
     },
     "execution_count": 16,
     "metadata": {
      "tags": []
     },
     "output_type": "execute_result"
    }
   ],
   "source": [
    "X_train.shape"
   ]
  },
  {
   "cell_type": "code",
   "execution_count": 0,
   "metadata": {
    "colab": {},
    "colab_type": "code",
    "id": "Ja31a1_QbJXw"
   },
   "outputs": [],
   "source": [
    "from scipy.sparse import save_npz, load_npz\n",
    "np.save('dfidf_train.npz', X_train)\n",
    "np.save('dfidf_test.npz',X_test)"
   ]
  },
  {
   "cell_type": "markdown",
   "metadata": {
    "colab_type": "text",
    "id": "Leo6KtglGY4P"
   },
   "source": [
    "С таким будем работать."
   ]
  },
  {
   "cell_type": "markdown",
   "metadata": {
    "colab_type": "text",
    "id": "ZGQHEGFy8qkx"
   },
   "source": [
    "## Классические модели."
   ]
  },
  {
   "cell_type": "code",
   "execution_count": 0,
   "metadata": {
    "colab": {},
    "colab_type": "code",
    "id": "Z6mLAaHm7xNv"
   },
   "outputs": [],
   "source": [
    "y_train.value_counts()"
   ]
  },
  {
   "cell_type": "code",
   "execution_count": 0,
   "metadata": {
    "colab": {},
    "colab_type": "code",
    "id": "TjVxmlja8qk0"
   },
   "outputs": [],
   "source": [
    "clfs = []\n",
    "clfs.append(LogisticRegression(penalty='l2', solver='saga', class_weight='balanced', multi_class='multinomial', random_state=42))\n",
    "clfs.append(LinearSVC(class_weight='balanced', random_state=42))\n"
   ]
  },
  {
   "cell_type": "code",
   "execution_count": 23,
   "metadata": {
    "colab": {
     "base_uri": "https://localhost:8080/",
     "height": 34
    },
    "colab_type": "code",
    "id": "iRQuULNWwZa8",
    "outputId": "da15131b-7dc4-4671-d9e3-7db00371d931"
   },
   "outputs": [
    {
     "data": {
      "text/plain": [
       "4"
      ]
     },
     "execution_count": 23,
     "metadata": {
      "tags": []
     },
     "output_type": "execute_result"
    }
   ],
   "source": [
    "import multiprocessing\n",
    "\n",
    "multiprocessing.cpu_count()"
   ]
  },
  {
   "cell_type": "code",
   "execution_count": 0,
   "metadata": {
    "colab": {},
    "colab_type": "code",
    "id": "U8aK1Xv48qk8"
   },
   "outputs": [],
   "source": [
    "skf = StratifiedKFold(n_splits=10, shuffle=True, random_state=42)\n",
    "\n",
    "def cv_score(clf, X, y):\n",
    "    start_time = datetime.now()\n",
    "    clf_name = clf.__class__.__name__\n",
    "    y_pred = cross_val_predict(clf, X, y, cv=skf, n_jobs=4)\n",
    "    print (15*'-')\n",
    "    print ('{} :'.format(clf_name))\n",
    "    print (15*'-')\n",
    "    print ('Обучено за: {}'.format(str(datetime.now() - start_time)))\n",
    "    print (15*'-')\n",
    "    print (classification_report(y, y_pred))"
   ]
  },
  {
   "cell_type": "code",
   "execution_count": 54,
   "metadata": {
    "colab": {
     "base_uri": "https://localhost:8080/",
     "height": 799
    },
    "colab_type": "code",
    "id": "zjZFWHEb8qk-",
    "outputId": "65004dea-1bba-4aae-93ce-1278f6222bd0"
   },
   "outputs": [
    {
     "name": "stdout",
     "output_type": "stream",
     "text": [
      "LogisticRegression :\n",
      "Обучено за: 0:06:00.967707\n",
      "              precision    recall  f1-score   support\n",
      "\n",
      "           1       0.24      0.60      0.34      5549\n",
      "           2       0.72      0.65      0.68     39405\n",
      "           3       0.67      0.74      0.70     16297\n",
      "           4       0.44      0.50      0.46     20686\n",
      "           5       0.57      0.52      0.54     33484\n",
      "           6       0.78      0.72      0.75     39405\n",
      "           7       0.64      0.53      0.58     39405\n",
      "           8       0.74      0.69      0.71     39405\n",
      "           9       0.25      0.65      0.36      4806\n",
      "          10       0.57      0.45      0.50     39405\n",
      "          11       0.39      0.59      0.47     14697\n",
      "          12       0.92      0.89      0.91     39405\n",
      "          13       0.36      0.79      0.50      5824\n",
      "          14       0.76      0.62      0.68     39405\n",
      "\n",
      "    accuracy                           0.63    377178\n",
      "   macro avg       0.57      0.64      0.59    377178\n",
      "weighted avg       0.67      0.63      0.64    377178\n",
      "\n",
      "LinearSVC :\n",
      "Обучено за: 0:09:20.165404\n",
      "              precision    recall  f1-score   support\n",
      "\n",
      "           1       0.29      0.42      0.34      5549\n",
      "           2       0.69      0.69      0.69     39405\n",
      "           3       0.65      0.75      0.69     16297\n",
      "           4       0.47      0.44      0.46     20686\n",
      "           5       0.60      0.48      0.53     33484\n",
      "           6       0.74      0.77      0.75     39405\n",
      "           7       0.63      0.53      0.57     39405\n",
      "           8       0.70      0.74      0.72     39405\n",
      "           9       0.27      0.61      0.38      4806\n",
      "          10       0.58      0.43      0.49     39405\n",
      "          11       0.41      0.52      0.46     14697\n",
      "          12       0.89      0.91      0.90     39405\n",
      "          13       0.37      0.76      0.50      5824\n",
      "          14       0.72      0.71      0.71     39405\n",
      "\n",
      "    accuracy                           0.64    377178\n",
      "   macro avg       0.57      0.63      0.59    377178\n",
      "weighted avg       0.65      0.64      0.64    377178\n",
      "\n"
     ]
    }
   ],
   "source": [
    "for clf in clfs:\n",
    "    cv_score(clf, X_train, y_train)"
   ]
  },
  {
   "cell_type": "markdown",
   "metadata": {
    "colab_type": "text",
    "id": "isEtbf7U8KVg"
   },
   "source": [
    "Можно увидеть, что макро усреднение меньше, чем взвешенное макро, это говорит нам о том, что модель хуже предсказывает ответы на объектах меньших классов(1, 9, 13). Можно попробовать оверсэмплить их.\n",
    "Занятно, что линейный svm отработал в этом случае медленнее LR."
   ]
  },
  {
   "cell_type": "markdown",
   "metadata": {
    "colab_type": "text",
    "id": "dPiAZGMAthX4"
   },
   "source": [
    "#### Алгоритм подбора гиперпараметров модели"
   ]
  },
  {
   "cell_type": "code",
   "execution_count": 0,
   "metadata": {
    "colab": {},
    "colab_type": "code",
    "id": "6BadZX0mtjHW"
   },
   "outputs": [],
   "source": [
    "pipe_cv = Pipeline([\n",
    "    ('proc', pipe),\n",
    "    ('clf', LogisticRegression(class_weight='balanced', random_state=42)),\n",
    "])"
   ]
  },
  {
   "cell_type": "code",
   "execution_count": 0,
   "metadata": {
    "colab": {},
    "colab_type": "code",
    "id": "H3wrDqzsioPs"
   },
   "outputs": [],
   "source": [
    "penalty = ['l1', 'l2']\n",
    "C_range = np.random.normal(1, 0.2, 10).astype(float)\n",
    "\n",
    " \n",
    "params = {'penalty': penalty, \n",
    "          'C': C_range}"
   ]
  },
  {
   "cell_type": "code",
   "execution_count": 0,
   "metadata": {
    "colab": {},
    "colab_type": "code",
    "id": "65mnGxVU8qlH"
   },
   "outputs": [],
   "source": [
    "lr_search = RandomizedSearchCV(pipe_cv, \n",
    "                                param_distributions=params,\n",
    "                                n_iter=10, \n",
    "                                cv=skf, \n",
    "                                scoring='log_loss', \n",
    "                                random_state=42)\n",
    "lr_search.fit(X_train_full, y_train_full)"
   ]
  },
  {
   "cell_type": "code",
   "execution_count": 0,
   "metadata": {
    "colab": {},
    "colab_type": "code",
    "id": "QMvXIOzd8qlL"
   },
   "outputs": [],
   "source": [
    "rnd_search.cv_results_\n",
    "print('Лучшие параметры: {}'.format(clf.best_params_)"
   ]
  },
  {
   "cell_type": "code",
   "execution_count": 0,
   "metadata": {
    "colab": {},
    "colab_type": "code",
    "id": "mo98Q0nK8qlO"
   },
   "outputs": [],
   "source": [
    "y_pred = rnd_search.predict(X_test_full)\n",
    "print(classification_report(y_test, y_pred)) "
   ]
  },
  {
   "cell_type": "markdown",
   "metadata": {
    "colab_type": "text",
    "id": "nG9kyfidus8C"
   },
   "source": [
    "#### xgboost, lgbm"
   ]
  },
  {
   "cell_type": "code",
   "execution_count": 0,
   "metadata": {
    "colab": {},
    "colab_type": "code",
    "id": "Z79930xv8qlS"
   },
   "outputs": [],
   "source": [
    "xtrain, xvalid, ytrain, yvalid = train_test_split(X_train, y_train, test_size=0.25, random_state=42)"
   ]
  },
  {
   "cell_type": "code",
   "execution_count": 83,
   "metadata": {
    "colab": {
     "base_uri": "https://localhost:8080/",
     "height": 578
    },
    "colab_type": "code",
    "id": "c0-MYWgjuoUN",
    "outputId": "89a7fe95-71d9-45a1-a139-fe2d0acf814d"
   },
   "outputs": [
    {
     "name": "stdout",
     "output_type": "stream",
     "text": [
      "Training until validation scores don't improve for 20 rounds.\n",
      "[50]\tvalid_0's multi_logloss: 1.10686\n",
      "[100]\tvalid_0's multi_logloss: 1.01123\n",
      "[150]\tvalid_0's multi_logloss: 0.970718\n",
      "[200]\tvalid_0's multi_logloss: 0.94882\n",
      "[250]\tvalid_0's multi_logloss: 0.935064\n",
      "[300]\tvalid_0's multi_logloss: 0.925559\n",
      "Did not meet early stopping. Best iteration is:\n",
      "[300]\tvalid_0's multi_logloss: 0.925559\n",
      "----------------\n",
      "Обучено за: 0:03:36.319802\n",
      "----------------\n",
      "              precision    recall  f1-score   support\n",
      "\n",
      "           1       0.58      0.33      0.42      1433\n",
      "           2       0.74      0.73      0.74      9856\n",
      "           3       0.77      0.73      0.75      4026\n",
      "           4       0.52      0.47      0.49      5194\n",
      "           5       0.60      0.58      0.59      8300\n",
      "           6       0.75      0.81      0.78      9708\n",
      "           7       0.62      0.64      0.63      9801\n",
      "           8       0.75      0.78      0.77      9805\n",
      "           9       0.64      0.42      0.51      1185\n",
      "          10       0.56      0.61      0.58      9827\n",
      "          11       0.60      0.47      0.53      3728\n",
      "          12       0.92      0.93      0.92     10023\n",
      "          13       0.77      0.65      0.70      1494\n",
      "          14       0.72      0.78      0.75      9915\n",
      "\n",
      "    accuracy                           0.70     94295\n",
      "   macro avg       0.68      0.64      0.65     94295\n",
      "weighted avg       0.70      0.70      0.70     94295\n",
      "\n"
     ]
    }
   ],
   "source": [
    "lgbc = lgb.LGBMClassifier(max_depth=5,\n",
    "                          num_leaves=80,\n",
    "                          n_estimators=300,\n",
    "                          learning_rate=0.2,\n",
    "                          objective='multiclass',\n",
    "                          subsample=0.5, \n",
    "                          subsample_freq=2,\n",
    "                          min_child_samples=50, \n",
    "                          reg_alpha=0.1,\n",
    "                          n_jobs=4,\n",
    "                          random_state=42)\n",
    "start_time = datetime.now()\n",
    "lgbc.fit(xtrain, ytrain,\n",
    "        eval_set=[(xvalid, yvalid)],\n",
    "        early_stopping_rounds=20,\n",
    "        verbose=50)\n",
    "y_pred = lgbc.predict(xvalid, num_iteration=lgbc.best_iteration_)\n",
    "print (15*'-')\n",
    "print ('Обучено за: {}'.format(str(datetime.now() - start_time)))\n",
    "print (15*'-')\n",
    "print(classification_report(yvalid, y_pred))"
   ]
  },
  {
   "cell_type": "markdown",
   "metadata": {
    "colab_type": "text",
    "id": "j4n8bQTi_ZmL"
   },
   "source": [
    "LightGBM не только делает лучшие предсказания на valid выборке по сравнению с логистической регрессией и svm, но и делает это в 2 и 3 раза быстрее соответственно. Хотя Precision и особенно Recall для малочисленных классов по-прежнему ужасны."
   ]
  },
  {
   "cell_type": "code",
   "execution_count": 78,
   "metadata": {
    "colab": {
     "base_uri": "https://localhost:8080/",
     "height": 510
    },
    "colab_type": "code",
    "id": "SVrnRyyUJDCc",
    "outputId": "8f829394-44ee-4bef-aa5a-3167e4b8936f"
   },
   "outputs": [
    {
     "name": "stdout",
     "output_type": "stream",
     "text": [
      "[0]\tvalidation_0-merror:0.610361\n",
      "Will train until validation_0-merror hasn't improved in 20 rounds.\n",
      "[50]\tvalidation_0-merror:0.393457\n",
      "[100]\tvalidation_0-merror:0.357983\n",
      "[150]\tvalidation_0-merror:0.342288\n",
      "[200]\tvalidation_0-merror:0.331619\n",
      "[249]\tvalidation_0-merror:0.32498\n",
      "Обучено за: 1:09:06.398391\n",
      "              precision    recall  f1-score   support\n",
      "\n",
      "           1       0.60      0.24      0.35      1433\n",
      "           2       0.71      0.70      0.71      9856\n",
      "           3       0.76      0.70      0.73      4026\n",
      "           4       0.51      0.44      0.47      5194\n",
      "           5       0.57      0.53      0.55      8300\n",
      "           6       0.73      0.79      0.76      9708\n",
      "           7       0.61      0.62      0.61      9801\n",
      "           8       0.70      0.77      0.74      9805\n",
      "           9       0.62      0.39      0.48      1185\n",
      "          10       0.53      0.60      0.56      9827\n",
      "          11       0.57      0.41      0.48      3728\n",
      "          12       0.91      0.92      0.91     10023\n",
      "          13       0.73      0.62      0.67      1494\n",
      "          14       0.69      0.77      0.73      9915\n",
      "\n",
      "    accuracy                           0.67     94295\n",
      "   macro avg       0.66      0.61      0.62     94295\n",
      "weighted avg       0.67      0.67      0.67     94295\n",
      "\n"
     ]
    }
   ],
   "source": [
    "xgbc = xgb(num_leaves=80, \n",
    "           n_estimators=250, \n",
    "           objective='multi:softmax', \n",
    "           max_delta_step=1,\n",
    "           subsample=0.7,\n",
    "           learning_rate=0.2, \n",
    "           reg_alpha=0.1, \n",
    "           random_state=42,\n",
    "           n_jobs=4)\n",
    "start_time = datetime.now()\n",
    "xgbc.fit(xtrain, ytrain,\n",
    "        eval_set=[(xvalid, yvalid)],\n",
    "        early_stopping_rounds=20,\n",
    "        verbose=50)\n",
    "y_pred = xgbc.predict(xvalid, ntree_limit=xgbc.get_booster().best_iteration)\n",
    "print ('Обучено за: {}'.format(str(datetime.now() - start_time)))\n",
    "print(classification_report(yvalid, y_pred))"
   ]
  },
  {
   "cell_type": "markdown",
   "metadata": {
    "colab_type": "text",
    "id": "xMt7_lv4UlVQ"
   },
   "source": [
    "xgb (без особых подстроек) обучался в разы дольше. Кстати, надо заметить, что даже early_stopping_rounds=20 так и не сработали с таким количеством бустов, так что ни одного какого-то значимого минимума мы пока не нашли. xgb и lgb могут дать приличный прирост, если у них правильно настроить все гиперпараметры (напр. hyperopt-ом), но пока мы пройдемся по другим алгоритмам."
   ]
  },
  {
   "cell_type": "markdown",
   "metadata": {
    "colab_type": "text",
    "id": "NtafStaunFX1"
   },
   "source": [
    "Посмотрим, что покажет наш лучший на данный момент алгоритм, если мы сделаем оверсэмплинг минорных классов до 0.8 наибольших."
   ]
  },
  {
   "cell_type": "code",
   "execution_count": 0,
   "metadata": {
    "colab": {},
    "colab_type": "code",
    "id": "6LgXIGjd8qkj"
   },
   "outputs": [],
   "source": [
    "'''\n",
    "Вообще на тему оверсэмплинга есть ресерч, \n",
    "https://bmcbioinformatics.biomedcentral.com/articles/10.1186/1471-2105-14-106,\n",
    "в котором показывается, что smote практически не меняет качества работы модели\n",
    "в пространстве признаков высокой размерности.\n",
    "\n",
    "sampler = BorderlineSMOTE(kind='borderline-2', random_state=42)\n",
    "X_train, y_train = sampler.fit_resample(X_train, y_train)\n",
    "'''"
   ]
  },
  {
   "cell_type": "code",
   "execution_count": 94,
   "metadata": {
    "colab": {
     "base_uri": "https://localhost:8080/",
     "height": 255
    },
    "colab_type": "code",
    "id": "K_zDDi7ttdnk",
    "outputId": "dba3bb77-ab7d-45ca-dabb-5c7f293b8853"
   },
   "outputs": [
    {
     "name": "stdout",
     "output_type": "stream",
     "text": [
      "[[    1  4116]\n",
      " [    2 29549]\n",
      " [    3 12271]\n",
      " [    4 15492]\n",
      " [    5 25184]\n",
      " [    6 29697]\n",
      " [    7 29604]\n",
      " [    8 29600]\n",
      " [    9  3621]\n",
      " [   10 29578]\n",
      " [   11 10969]\n",
      " [   12 29382]\n",
      " [   13  4330]\n",
      " [   14 29490]]\n"
     ]
    }
   ],
   "source": [
    "labels, counts = np.unique(ytrain, return_counts=True)\n",
    "print (np.asarray((labels, counts)).T) #колво по классам в трейне"
   ]
  },
  {
   "cell_type": "code",
   "execution_count": 0,
   "metadata": {
    "colab": {},
    "colab_type": "code",
    "id": "C1NCKdsivRXw"
   },
   "outputs": [],
   "source": [
    "i=int(counts[np.argmax(counts)]*0.8) #кол-во объектов, до которого будем добавлять\n",
    "\n",
    "dictcounts = {} #словавь для подачи в SMOTE\n",
    "for v in (1, 4, 9, 11, 13):\n",
    "  dictcounts.update({v:i})\n"
   ]
  },
  {
   "cell_type": "code",
   "execution_count": 127,
   "metadata": {
    "colab": {
     "base_uri": "https://localhost:8080/",
     "height": 34
    },
    "colab_type": "code",
    "id": "gfEBWM5hxtPw",
    "outputId": "ac8b9463-5441-4aa9-facc-5c8cc931cea8"
   },
   "outputs": [
    {
     "data": {
      "text/plain": [
       "{1: 23757, 4: 23757, 9: 23757, 11: 23757, 13: 23757}"
      ]
     },
     "execution_count": 127,
     "metadata": {
      "tags": []
     },
     "output_type": "execute_result"
    }
   ],
   "source": [
    "dictcounts"
   ]
  },
  {
   "cell_type": "code",
   "execution_count": 0,
   "metadata": {
    "colab": {},
    "colab_type": "code",
    "id": "KQEduq6omBdA"
   },
   "outputs": [],
   "source": [
    "sampler = BorderlineSMOTE(sampling_strategy=dictcounts,\n",
    "                          kind='borderline-2', \n",
    "                          random_state=42)\n",
    "xtrain, ytrain = sampler.fit_resample(xtrain, ytrain)"
   ]
  },
  {
   "cell_type": "code",
   "execution_count": 0,
   "metadata": {
    "colab": {},
    "colab_type": "code",
    "id": "KP4JexYVmBaU"
   },
   "outputs": [],
   "source": [
    "start_time = datetime.now()\n",
    "lgbc.fit(xtrain, ytrain,\n",
    "        eval_set=[(xvalid, yvalid)],\n",
    "        early_stopping_rounds=20,\n",
    "        verbose=50)\n",
    "y_pred = lgbc.predict(xvalid, num_iteration=lgbc.best_iteration_)\n",
    "print (15*'-')\n",
    "print ('Обучено за: {}'.format(str(datetime.now() - start_time)))\n",
    "print (15*'-')\n",
    "print(classification_report(yvalid, y_pred))"
   ]
  },
  {
   "cell_type": "markdown",
   "metadata": {
    "colab_type": "text",
    "id": "8dc_NmyZupIw"
   },
   "source": [
    "#### fasttext"
   ]
  },
  {
   "cell_type": "code",
   "execution_count": 0,
   "metadata": {
    "colab": {},
    "colab_type": "code",
    "id": "21BCFO5fuoQ2"
   },
   "outputs": [],
   "source": [
    "def to_ft_format(document, label=None):\n",
    "    return '__label__' + str(label or '') + ' ' + ' '.join(re.findall('\\w{3,}', document)) + '\\n'"
   ]
  },
  {
   "cell_type": "code",
   "execution_count": 0,
   "metadata": {
    "colab": {},
    "colab_type": "code",
    "id": "SpIIW1-LNSxG"
   },
   "outputs": [],
   "source": [
    "split = StratifiedShuffleSplit(n_splits=1, test_size=0.25, random_state=42)\n",
    "for train_index, test_index in split.split(df, df['topic']):\n",
    "    strat_train_set = df.loc[train_index]\n",
    "    strat_test_set = df.loc[test_index]\n",
    "    \n",
    "docs_train = strat_train_set['text']\n",
    "docs_test = strat_test_set['text']\n",
    "labels_train = strat_train_set['topic']\n",
    "labels_test = strat_test_set['topic']"
   ]
  },
  {
   "cell_type": "code",
   "execution_count": 0,
   "metadata": {
    "colab": {},
    "colab_type": "code",
    "id": "SMqMw6B_POdp"
   },
   "outputs": [],
   "source": [
    "split = StratifiedShuffleSplit(n_splits=1, test_size=0.20, random_state=42)\n",
    "for train_index, test_index in split.split(docs_train, labels_train):\n",
    "    strat_train_set = df.loc[train_index]\n",
    "    strat_test_set = df.loc[test_index]\n",
    "    \n",
    "docs_train = strat_train_set['text']\n",
    "docs_valid = strat_test_set['text']\n",
    "labels_train = strat_train_set['topic']\n",
    "labels_valid = strat_test_set['topic']"
   ]
  },
  {
   "cell_type": "code",
   "execution_count": 0,
   "metadata": {
    "colab": {},
    "colab_type": "code",
    "id": "bd0MUG8HNSug"
   },
   "outputs": [],
   "source": [
    "with open('lenta.train', 'w') as f:\n",
    "    for text, target in zip(docs_train, labels_train):\n",
    "        f.write(to_ft_format(text, target))\n",
    "        \n",
    "with open('lenta.valid', 'w') as f:\n",
    "    for text, target in zip(docs_valid, labels_valid):\n",
    "        f.write(to_ft_format(text, target))\n",
    "        \n",
    "with open('lenta.test', 'w') as f:\n",
    "    for text, target in zip(docs_test, labels_test):\n",
    "        f.write(to_ft_format(text, target))"
   ]
  },
  {
   "cell_type": "code",
   "execution_count": 18,
   "metadata": {
    "colab": {
     "base_uri": "https://localhost:8080/",
     "height": 71
    },
    "colab_type": "code",
    "id": "bpA8lTGu883K",
    "outputId": "b9f95d09-abd5-4646-f444-cef06c20b7ad"
   },
   "outputs": [
    {
     "name": "stdout",
     "output_type": "stream",
     "text": [
      "__label__6 умереть бывшие гитарист motorhead мая берстон июль 2011 год год жизнь скончаться эксгитарист motorhead мая вюрцель берстон сообщать guardian причиной смерть стать заболевание сердце берстон родиться октябрь 1949 год город челтнемой коллектив прийти 1984 год после уход брая ана робертсон быть момент никто известный пожилое музыкант который подрабатывать строить каха участие мая кла берстон быть написать выпустить такой диск 1916 orgasmatron вышедшие 1986 год orgasmatron подняться 21го место британский чарт общей сложность берстон провести motorhead покинуть коллектив 1995 год после серия скандал лемми после уход группа участвовать качество приглашенноить звезда несколько тур motorhead несколько назад берстон создать группа leader down который жизнь успеть выпустить один альбом\n",
      "__label__9 пролетевшие пять часы пассажирския самолёт вернуться изз неисправность самолёт авиакомпания british airways летевшие лондон индия ския город хая дарабад изз неисправность вернуться столица великобритания пролететь половина путь это сообщать daily mail boeing dreamliner вылететь аэропорт хитроу 1640 местный время воскресение июнь через девять часы лай нер должный прибыть индия однако спустя пять часы полёт пилот обнаружить неисправность воздушный судно принять решение вернуться лондон лай нер приземлиться хитроу вскоре после полуночь понедельник июнь представитель british airways заявить daily mail самолёт прервать полёт изз незначительноить технической неисправность уточнить изз какой именно также извиниться перед пассажир этот инцидент авиационный эксперт журналист алекс мачераса написать свой twitter самолёт развернуть изз неполадка метеорологический радиолокатор информация подтвердить микроблог flight alerts публиковать информация задержка авиарей сова самолёт авиакомпания россия летевшие санктпетербург анапа вернуться пулково причиной инцидент стать столкновение птицей\n"
     ]
    }
   ],
   "source": [
    "!head -2 '/content/drive/My Drive/lenta.train'"
   ]
  },
  {
   "cell_type": "code",
   "execution_count": 22,
   "metadata": {
    "colab": {
     "base_uri": "https://localhost:8080/",
     "height": 71
    },
    "colab_type": "code",
    "id": "NPvwPVxwCdNE",
    "outputId": "727fef56-0bab-478a-e4da-5f19f8159886"
   },
   "outputs": [
    {
     "name": "stdout",
     "output_type": "stream",
     "text": [
      "__label__4 американец арестовать пожелание смерть элтон джон житель штат джорджия разместившие видеохостинг youtube ролик пожелание смерть британский певец элтон джон арестовать обвинение угроза передавать март associated press уточнить полиция атлант хорслить neal horsley задержать среда март городок карролтон километр запасть столица штат отношение арестованный назначить залог размер тысяча доллар полицеи ский уточнять угроза чеи адрес обвиняться мужчина слово сын арестованный нэтан хорслить арест отец связать именно видеоролик который разместить youtube видеоролик опубликовать нил хорслить присутствовать держащие рука плакат надпись элтон джон должный умереть отметить фраза мочь быть мочь быть отсылкой известноить песня элтон джон king must король должный умереть ролик хорслить также подвергать критика недавний интервью элтон джон американский журнал parade который популярный певец неосторожно предположить иисус христос представитель нетрадиционноить сексуальноить ориентация противоречивыя комментарий сэр элтон джон тогда поднять волна критика сторона общественность большея степень интернетсообщество\n",
      "__label__6 сило грин сняться кирой наи тлить певец сило грин сняться фильм мочь песня спасти жизнь song save your life сообщаться саи тот wrap речь фильм поить деть пара который приезжать ньюй орк чтобы построить музыкальный карьер главный герой картина сыграть кира наи тлить адам левин согласно сюжет мужчина бросать свой подруга однако знакомиться продюсер готовый помочь марк руффало сило грин сыграть успешный рэпер выступать псевдоним troublegum фильм также сняться хеи стая нфелд кэтрин кинер джей кордный постановкой фильм заи аться джон карни написать сценарий картина съёмка должный начаться понедельник июль релиз запланировать 2013 сило грин известный участник дуэт gnarls barkley который также входить музыкант продюсер danger mouse рамка это проект исполнитель записать альбом последнии называться couple поступить продажа март 2008 год осень 2010 год сило выпустить студия ную пластинка lady killer относительно недавно грин сняться фильм блеск sparkle римея одноименной лента 1976 год премьера картина которой также сняться джордин спаркс уитня хьюстон запланировать август 2012 год\n"
     ]
    }
   ],
   "source": [
    "!head -2 '/content/drive/My Drive/lenta.valid'"
   ]
  },
  {
   "cell_type": "code",
   "execution_count": 0,
   "metadata": {
    "colab": {},
    "colab_type": "code",
    "id": "ysjGHaqxNSsH"
   },
   "outputs": [],
   "source": [
    "model = fasttext.train_supervised(input=\"/content/drive/My Drive/lenta.train\", \n",
    "                                  lr=0.5, \n",
    "                                  epoch=5, \n",
    "                                  wordNgrams=3, \n",
    "                                  bucket=200000, \n",
    "                                  loss='ova', \n",
    "                                  thread=4,\n",
    "                                  dim=300)"
   ]
  },
  {
   "cell_type": "code",
   "execution_count": 18,
   "metadata": {
    "colab": {
     "base_uri": "https://localhost:8080/",
     "height": 34
    },
    "colab_type": "code",
    "id": "i6gTVUseB6ma",
    "outputId": "5b059ad4-18cf-407b-9bf5-ff32bd6f4740"
   },
   "outputs": [
    {
     "data": {
      "text/plain": [
       "(75436, 0.9337981865422345, 0.9337981865422345)"
      ]
     },
     "execution_count": 18,
     "metadata": {
      "tags": []
     },
     "output_type": "execute_result"
    }
   ],
   "source": [
    "model.test(\"/content/drive/My Drive/lenta.valid\")"
   ]
  },
  {
   "cell_type": "markdown",
   "metadata": {
    "colab_type": "text",
    "id": "Lv1iUYbTDhMT"
   },
   "source": [
    "Собственно precision и recall одинаковые, потому что это precision@1 и recall@1,\n",
    "усредненные по каждому классу, т.е. микро усредненные. Более того, тому же равно и accuracy."
   ]
  },
  {
   "cell_type": "code",
   "execution_count": 35,
   "metadata": {
    "colab": {
     "base_uri": "https://localhost:8080/",
     "height": 34
    },
    "colab_type": "code",
    "id": "b-HMuciCErrk",
    "outputId": "6955999e-1285-4ec7-ecb9-1a52cb163935"
   },
   "outputs": [
    {
     "data": {
      "text/plain": [
       "(125727, 0.9312319549500108, 0.9312319549500108)"
      ]
     },
     "execution_count": 35,
     "metadata": {
      "tags": []
     },
     "output_type": "execute_result"
    }
   ],
   "source": [
    "model.test(\"lenta.test\")"
   ]
  },
  {
   "cell_type": "markdown",
   "metadata": {
    "colab_type": "text",
    "id": "QLFPJx7JFcbE"
   },
   "source": [
    "Heeeey that's pretty good! fasttext справляется гораздо лучше классических подходов с bow/tfidf. Собственно, он справляется на уровне или даже лучше нейросетей, при этом обучается в десятки раз быстрее."
   ]
  },
  {
   "cell_type": "code",
   "execution_count": 44,
   "metadata": {
    "colab": {
     "base_uri": "https://localhost:8080/",
     "height": 51
    },
    "colab_type": "code",
    "id": "cX4WVBTnGCba",
    "outputId": "c930ec73-74ba-424a-a0e6-085a777c9a67"
   },
   "outputs": [
    {
     "name": "stdout",
     "output_type": "stream",
     "text": [
      "CPU times: user 1h 10min 4s, sys: 14 s, total: 1h 10min 18s\n",
      "Wall time: 17min 48s\n"
     ]
    }
   ],
   "source": [
    "%%time\n",
    "# попробуем увеличить количество эпох\n",
    "model = fasttext.train_supervised(input=\"/content/drive/My Drive/lenta.train\", \n",
    "                                  lr=0.5, \n",
    "                                  epoch=25, \n",
    "                                  wordNgrams=3, \n",
    "                                  bucket=200000, \n",
    "                                  loss='ova', \n",
    "                                  thread=4,\n",
    "                                  dim=300)"
   ]
  },
  {
   "cell_type": "code",
   "execution_count": 0,
   "metadata": {
    "colab": {},
    "colab_type": "code",
    "id": "ZdzZqpzTOQ66"
   },
   "outputs": [],
   "source": [
    "model.save_model('25-ngram3.bin')"
   ]
  },
  {
   "cell_type": "code",
   "execution_count": 52,
   "metadata": {
    "colab": {
     "base_uri": "https://localhost:8080/",
     "height": 731
    },
    "colab_type": "code",
    "id": "Ga-z4IrpKLtI",
    "outputId": "36da5580-6792-429d-fa5a-9080eeb11148"
   },
   "outputs": [
    {
     "data": {
      "text/plain": [
       "{'__label__1': {'f1score': 0.8801889976375296,\n",
       "  'precision': 0.8710754843019372,\n",
       "  'recall': 0.8894952251023193},\n",
       " '__label__10': {'f1score': 0.8748241912798875,\n",
       "  'precision': 0.884261582204382,\n",
       "  'recall': 0.8655861165684349},\n",
       " '__label__11': {'f1score': 0.9690902265048179,\n",
       "  'precision': 0.9665501747378932,\n",
       "  'recall': 0.9716436637390213},\n",
       " '__label__12': {'f1score': 0.9876048578940779,\n",
       "  'precision': 0.9862465616404101,\n",
       "  'recall': 0.9889669007021064},\n",
       " '__label__13': {'f1score': 0.9625935162094763,\n",
       "  'precision': 0.9815638906547998,\n",
       "  'recall': 0.94434250764526},\n",
       " '__label__14': {'f1score': 0.9323399932272266,\n",
       "  'precision': 0.9326558265582656,\n",
       "  'recall': 0.9320243737305348},\n",
       " '__label__2': {'f1score': 0.9604823304680038,\n",
       "  'precision': 0.9539902762955057,\n",
       "  'recall': 0.9670633489602115},\n",
       " '__label__3': {'f1score': 0.9599083619702177,\n",
       "  'precision': 0.9568637401674702,\n",
       "  'recall': 0.9629724208375894},\n",
       " '__label__4': {'f1score': 0.8639498432601881,\n",
       "  'precision': 0.8774834437086093,\n",
       "  'recall': 0.8508273647814275},\n",
       " '__label__5': {'f1score': 0.9176234877090237,\n",
       "  'precision': 0.9233870967741935,\n",
       "  'recall': 0.911931383060193},\n",
       " '__label__6': {'f1score': 0.9582525526689931,\n",
       "  'precision': 0.9533239038189534,\n",
       "  'recall': 0.9632324282187865},\n",
       " '__label__7': {'f1score': 0.881467030823254,\n",
       "  'precision': 0.880162069502883,\n",
       "  'recall': 0.8827758674585808},\n",
       " '__label__8': {'f1score': 0.9513532229211149,\n",
       "  'precision': 0.9487799263351749,\n",
       "  'recall': 0.9539405161439648},\n",
       " '__label__9': {'f1score': 0.8865064695009243,\n",
       "  'precision': 0.8732702112163147,\n",
       "  'recall': 0.9001501501501501}}"
      ]
     },
     "execution_count": 52,
     "metadata": {
      "tags": []
     },
     "output_type": "execute_result"
    }
   ],
   "source": [
    "preds = model.test_label('/content/drive/My Drive/lenta.valid')"
   ]
  },
  {
   "cell_type": "code",
   "execution_count": 0,
   "metadata": {
    "colab": {},
    "colab_type": "code",
    "id": "SdJfsEK1SFNC"
   },
   "outputs": [],
   "source": [
    "preds_test = model.test_label('/content/drive/My Drive/lenta.test')"
   ]
  },
  {
   "cell_type": "code",
   "execution_count": 107,
   "metadata": {
    "colab": {
     "base_uri": "https://localhost:8080/",
     "height": 255
    },
    "colab_type": "code",
    "id": "P-0hgfEDSf_G",
    "outputId": "bdfe678f-79d1-4356-ab06-14ce113d2170"
   },
   "outputs": [
    {
     "name": "stdout",
     "output_type": "stream",
     "text": [
      "('__label__9', {'precision': 0.8267300581088219, 'recall': 0.9769038701622972, 'f1score': 0.8955650929899857})\n",
      "('__label__1', {'precision': 0.9589114194236926, 'recall': 0.9718766901027582, 'f1score': 0.9653505237711523})\n",
      "('__label__3', {'precision': 0.9335209285965529, 'recall': 0.9769924535247562, 'f1score': 0.9547621188955842})\n",
      "('__label__11', {'precision': 0.9664749057726642, 'recall': 0.994488671157379, 'f1score': 0.9802816901408451})\n",
      "('__label__4', {'precision': 0.8960882041987616, 'recall': 0.8603538283062645, 'f1score': 0.8778575127617074})\n",
      "('__label__10', {'precision': 0.9073828836285384, 'recall': 0.8346402740768938, 'f1score': 0.8694928024745212})\n",
      "('__label__13', {'precision': 0.9790816326530613, 'recall': 0.9881565396498455, 'f1score': 0.9835981547924142})\n",
      "('__label__7', {'precision': 0.8759966588199559, 'recall': 0.8782641796726304, 'f1score': 0.8771289537712895})\n",
      "('__label__8', {'precision': 0.9153155761436016, 'recall': 0.9627712219261515, 'f1score': 0.9384438425290341})\n",
      "('__label__2', {'precision': 0.9159951508236469, 'recall': 0.9779215835553864, 'f1score': 0.9459459459459459})\n",
      "('__label__12', {'precision': 0.9933585605066029, 'recall': 0.9792919680243624, 'f1score': 0.986275111179267})\n",
      "('__label__6', {'precision': 0.9595261599210266, 'recall': 0.9620098972211648, 'f1score': 0.9607664233576643})\n",
      "('__label__14', {'precision': 0.9450035104142289, 'recall': 0.9222687476208603, 'f1score': 0.9334977267473222})\n",
      "('__label__5', {'precision': 0.9371294117647059, 'recall': 0.8921243616163427, 'f1score': 0.9140732580556321})\n"
     ]
    }
   ],
   "source": [
    "for item in preds_test.items():\n",
    "  print (item)"
   ]
  },
  {
   "cell_type": "markdown",
   "metadata": {
    "colab_type": "text",
    "id": "LuahD1XcTXrU"
   },
   "source": [
    "Качество очень достойное, хотя как видим, проблема несбалансированности осталась даже здесь. Посмотрим, как отработают нейросети."
   ]
  },
  {
   "cell_type": "markdown",
   "metadata": {
    "colab_type": "text",
    "id": "KqE7HJNo8qlb"
   },
   "source": [
    "## Neural Nets"
   ]
  },
  {
   "cell_type": "code",
   "execution_count": 4,
   "metadata": {
    "colab": {
     "base_uri": "https://localhost:8080/",
     "height": 34
    },
    "colab_type": "code",
    "id": "DS6ujAfmTqoU",
    "outputId": "84171db4-dd7e-405f-cce6-07fcf5e7ce2b"
   },
   "outputs": [
    {
     "data": {
      "text/plain": [
       "'/device:GPU:0'"
      ]
     },
     "execution_count": 4,
     "metadata": {
      "tags": []
     },
     "output_type": "execute_result"
    }
   ],
   "source": [
    "tf.test.gpu_device_name()"
   ]
  },
  {
   "cell_type": "code",
   "execution_count": 0,
   "metadata": {
    "colab": {},
    "colab_type": "code",
    "id": "aTd4MDd2UZ4C"
   },
   "outputs": [],
   "source": [
    "MAX_NB_WORDS = 100000"
   ]
  },
  {
   "cell_type": "code",
   "execution_count": 0,
   "metadata": {
    "colab": {},
    "colab_type": "code",
    "id": "OgKzDbIViP3t"
   },
   "outputs": [],
   "source": [
    "def preprocess(sent, pat=r'\\b\\w\\w+\\b', morph=MorphAnalyzer()):\n",
    "    return ' '.join(morph.parse(tok)[0].normal_form#+str(morph.parse(tok)[0].tag.POS)\n",
    "            for tok in regexp_tokenize(sent, pat))\n",
    "  \n",
    "\n",
    "df['text'] = df['text'].apply(preprocess)"
   ]
  },
  {
   "cell_type": "code",
   "execution_count": 0,
   "metadata": {
    "colab": {},
    "colab_type": "code",
    "id": "5j95KtANtZby"
   },
   "outputs": [],
   "source": [
    "#df.to_csv('sentenced.csv')\n",
    "df = pd.read_csv('/content/drive/My Drive/sentenced.csv',index_col=0)"
   ]
  },
  {
   "cell_type": "code",
   "execution_count": 0,
   "metadata": {
    "colab": {},
    "colab_type": "code",
    "id": "EXnNbc8g58m8"
   },
   "outputs": [],
   "source": [
    "split = StratifiedShuffleSplit(n_splits=1, test_size=0.25, random_state=42)\n",
    "for train_index, test_index in split.split(df, df['topic']):\n",
    "    strat_train_set = df.loc[train_index]\n",
    "    strat_test_set = df.loc[test_index]\n",
    "    \n",
    "docs_train = strat_train_set['text']\n",
    "docs_test = strat_test_set['text']\n",
    "labels_train = strat_train_set['topic']\n",
    "labels_test = strat_test_set['topic']"
   ]
  },
  {
   "cell_type": "code",
   "execution_count": 7,
   "metadata": {
    "colab": {
     "base_uri": "https://localhost:8080/",
     "height": 299
    },
    "colab_type": "code",
    "id": "-1mhTTvV42zd",
    "outputId": "298ceb1d-baa3-4a57-b2cd-9d9c76654cbf"
   },
   "outputs": [
    {
     "data": {
      "image/png": "[encoded data removed]",
      "text/plain": [
       "<Figure size 432x288 with 1 Axes>"
      ]
     },
     "metadata": {
      "tags": []
     },
     "output_type": "display_data"
    }
   ],
   "source": [
    "strat_train_set['doc_len'] = strat_train_set['text'].apply(lambda words: len(words.split(' ')))\n",
    "max_seq_len = np.round(strat_train_set['doc_len'].mean() + strat_train_set['doc_len'].std()).astype(int)\n",
    "\n",
    "#ну и заодно\n",
    "sns.distplot(strat_train_set['doc_len'], hist=True, kde=True, color='b', label='doc len')\n",
    "plt.axvline(x=max_seq_len, color='k', linestyle='--', label='max len')\n",
    "plt.title('Длина новостных статей'); plt.legend()\n",
    "plt.show()"
   ]
  },
  {
   "cell_type": "code",
   "execution_count": 8,
   "metadata": {
    "colab": {
     "base_uri": "https://localhost:8080/",
     "height": 85
    },
    "colab_type": "code",
    "id": "eWNwOTMGWWhR",
    "outputId": "278128cf-b292-4693-cb8b-22f6508917ea"
   },
   "outputs": [
    {
     "name": "stderr",
     "output_type": "stream",
     "text": [
      "977838it [02:08, 7586.01it/s]"
     ]
    },
    {
     "name": "stdout",
     "output_type": "stream",
     "text": [
      "\n",
      "\n",
      "Найдено 977838 векторов\n"
     ]
    },
    {
     "name": "stderr",
     "output_type": "stream",
     "text": [
      "\n"
     ]
    }
   ],
   "source": [
    "embeddings_index = {}\n",
    "f = codecs.open('/content/drive/My Drive/ft_native_300_ru_wiki_lenta_lemmatize.vec', encoding='utf-8')\n",
    "for line in tqdm(f):\n",
    "    values = line.rstrip().rsplit(' ')\n",
    "    word = values[0]\n",
    "    coefs = np.asarray(values[1:], dtype='float32')\n",
    "    embeddings_index[word] = coefs\n",
    "f.close()\n",
    "print('\\n')\n",
    "print('Найдено {} векторов'.format(len(embeddings_index)))"
   ]
  },
  {
   "cell_type": "code",
   "execution_count": 9,
   "metadata": {
    "colab": {
     "base_uri": "https://localhost:8080/",
     "height": 34
    },
    "colab_type": "code",
    "id": "hS7QegqlWmiH",
    "outputId": "c504762b-6aab-4ed6-9898-eb762fc31579"
   },
   "outputs": [
    {
     "name": "stdout",
     "output_type": "stream",
     "text": [
      "Длина словаря: 691869\n"
     ]
    }
   ],
   "source": [
    "tokenizer = Tokenizer(num_words=MAX_NB_WORDS, lower=False, char_level=False)\n",
    "tokenizer.fit_on_texts(pd.concat([docs_train,docs_test]))\n",
    "word_seq_train = tokenizer.texts_to_sequences(docs_train)\n",
    "word_seq_test = tokenizer.texts_to_sequences(docs_test)\n",
    "word_index = tokenizer.word_index\n",
    "print('Длина словаря: {}'.format(len(word_index)))"
   ]
  },
  {
   "cell_type": "code",
   "execution_count": 0,
   "metadata": {
    "colab": {},
    "colab_type": "code",
    "id": "fn11FYXNXIeU"
   },
   "outputs": [],
   "source": [
    "#добавляем нули, чтобы все последовательности стали одного размера\n",
    "word_seq_train = sequence.pad_sequences(word_seq_train, maxlen=max_seq_len)\n",
    "word_seq_test = sequence.pad_sequences(word_seq_test, maxlen=max_seq_len)"
   ]
  },
  {
   "cell_type": "code",
   "execution_count": 0,
   "metadata": {
    "colab": {},
    "colab_type": "code",
    "id": "_L-I9dHR5n0O"
   },
   "outputs": [],
   "source": [
    "embed_dim = 300"
   ]
  },
  {
   "cell_type": "code",
   "execution_count": 12,
   "metadata": {
    "colab": {
     "base_uri": "https://localhost:8080/",
     "height": 34
    },
    "colab_type": "code",
    "id": "MCCm6ZcnXnyw",
    "outputId": "677b8946-5bbb-43d3-d991-fb1779d6e4e2"
   },
   "outputs": [
    {
     "name": "stdout",
     "output_type": "stream",
     "text": [
      "Не найдены в embeddings: 20905\n"
     ]
    }
   ],
   "source": [
    "words_not_found = []\n",
    "nb_words = min(MAX_NB_WORDS, len(word_index))\n",
    "embedding_matrix = np.zeros((nb_words, embed_dim))\n",
    "for word, i in word_index.items():\n",
    "    if i >= nb_words:\n",
    "        continue\n",
    "    embedding_vector = embeddings_index.get(word)\n",
    "    if (embedding_vector is not None) and len(embedding_vector) > 0:        \n",
    "        embedding_matrix[i] = embedding_vector #слова вне матриы просто будут нулями.\n",
    "    else:\n",
    "        words_not_found.append(word)\n",
    "print('Не найдены в embeddings: {}'.format(np.sum(np.sum(embedding_matrix, axis=1) == 0)))"
   ]
  },
  {
   "cell_type": "code",
   "execution_count": 189,
   "metadata": {
    "colab": {
     "base_uri": "https://localhost:8080/",
     "height": 51
    },
    "colab_type": "code",
    "id": "xWD_N9NTXnv_",
    "outputId": "f330e267-0cce-434a-818c-53317ec8d003"
   },
   "outputs": [
    {
     "name": "stdout",
     "output_type": "stream",
     "text": [
      "Не найдены в embeddings: ['метиловыя' 'белковыя' 'издвый' 'смертея' 'санмариный' 'белгородской'\n",
      " 'сахалина2' 'палмдея' 'сохранившие' 'losservatore']\n"
     ]
    }
   ],
   "source": [
    "print('Не найдены в embeddings: {}'.format(np.random.choice(words_not_found, 10)))"
   ]
  },
  {
   "cell_type": "markdown",
   "metadata": {
    "colab_type": "text",
    "id": "P5_RzY6J6nCx"
   },
   "source": [
    "pymorphy не идеален все же, хотя похоже есть и ошибки в чистке от пунктуации (сахалина2), и обычные слова, которые просто не привелись в нормальную форму (\"сохранившие\").\n",
    "\n",
    "p/s losservator(i)e - идеальное местечко для ds встреч :)"
   ]
  },
  {
   "cell_type": "markdown",
   "metadata": {
    "colab_type": "text",
    "id": "Jzufjdsyv29o"
   },
   "source": [
    "**feed forward**"
   ]
  },
  {
   "cell_type": "code",
   "execution_count": 0,
   "metadata": {
    "colab": {},
    "colab_type": "code",
    "id": "T93fkPVqXfZY"
   },
   "outputs": [],
   "source": [
    "batch_size = 128 \n",
    "num_epochs = 3\n",
    "weight_decay = 0.0001 #просто для L2 регуляризации"
   ]
  },
  {
   "cell_type": "code",
   "execution_count": 0,
   "metadata": {
    "colab": {},
    "colab_type": "code",
    "id": "oFHz5X1eYFeL"
   },
   "outputs": [],
   "source": [
    "def keras_ff():\n",
    "\n",
    "  model = Sequential()\n",
    "  model.add(Embedding(nb_words, embed_dim,\n",
    "            weights=[embedding_matrix], input_length=max_seq_len, trainable=False))\n",
    "  #trainable=False -обязательно при использовании pretrained векторов\n",
    "  model.add(Dense(32, activation='elu'))\n",
    "  model.add(Dropout(0.5))\n",
    "  model.add(Dense(32, activation='elu', kernel_regularizer=regularizers.l2(weight_decay)))\n",
    "  model.add(Flatten())\n",
    "  model.add(Dense(num_classes, activation='softmax'))  #k-hot encoding\n",
    "  adam = optimizers.Adam(lr=0.001, \n",
    "                        beta_1=0.9, \n",
    "                        beta_2=0.999, #вообоще говоря, это все дефолтные значения)\n",
    "                        epsilon=1e-08,\n",
    "                        decay=0.0)\n",
    "  model.compile(loss='categorical_crossentropy', optimizer=adam, metrics=['accuracy'])\n",
    "\n",
    "  model.summary()\n",
    "  return model"
   ]
  },
  {
   "cell_type": "markdown",
   "metadata": {
    "colab_type": "text",
    "id": "0vt2nwbY-Xs8"
   },
   "source": [
    "Можно все завернуть во враппер, можно без. Есть плюсы и минусы. Из плюсов - можно очень легко получить заветный classification report, из минусов - не вставить early_stopping_rounds, например."
   ]
  },
  {
   "cell_type": "code",
   "execution_count": 0,
   "metadata": {
    "colab": {},
    "colab_type": "code",
    "id": "rTnJw04b81nQ"
   },
   "outputs": [],
   "source": [
    "ff = KerasClassifier(build_fn=keras_ff, epochs=num_epochs, batch_size=batch_size, verbose=2)\n"
   ]
  },
  {
   "cell_type": "code",
   "execution_count": 0,
   "metadata": {
    "colab": {},
    "colab_type": "code",
    "id": "1PDVpFUodoCh"
   },
   "outputs": [],
   "source": [
    "skf = StratifiedKFold(n_splits=10, shuffle=True, random_state=42)"
   ]
  },
  {
   "cell_type": "code",
   "execution_count": 0,
   "metadata": {
    "colab": {},
    "colab_type": "code",
    "id": "uMP3ZQXy_TDO"
   },
   "outputs": [],
   "source": [
    "def cv_score(clf, X, y, cv=skf):\n",
    "    start_time = datetime.now()\n",
    "    clf_name = clf.__class__.__name__\n",
    "    y_pred = cross_val_predict(clf, X, y, cv=cv, n_jobs=4)\n",
    "    print (15*'-')\n",
    "    print ('{} :'.format(clf_name))\n",
    "    print (15*'-')\n",
    "    print ('Обучено за: {}'.format(str(datetime.now() - start_time)))\n",
    "    print (15*'-')\n",
    "    print (classification_report(y, y_pred))"
   ]
  },
  {
   "cell_type": "code",
   "execution_count": 0,
   "metadata": {
    "colab": {},
    "colab_type": "code",
    "id": "OjA-uA1MAjBB"
   },
   "outputs": [],
   "source": [
    "res = cross_val_score(ff, word_seq_train, labels_train, cv=skf, n_jobs=4)"
   ]
  },
  {
   "cell_type": "code",
   "execution_count": 227,
   "metadata": {
    "colab": {
     "base_uri": "https://localhost:8080/",
     "height": 34
    },
    "colab_type": "code",
    "id": "IIvdq-jy_V8h",
    "outputId": "7a1ce5bf-9c99-483f-b4ae-f84f2c5d571c"
   },
   "outputs": [
    {
     "name": "stdout",
     "output_type": "stream",
     "text": [
      "Baseline: 85.73% (0.44%)\n"
     ]
    }
   ],
   "source": [
    "print(\"Baseline: %.2f%% (%.2f%%)\" % (res.mean()*100, res.std()*100))"
   ]
  },
  {
   "cell_type": "code",
   "execution_count": 230,
   "metadata": {
    "colab": {
     "base_uri": "https://localhost:8080/",
     "height": 459
    },
    "colab_type": "code",
    "id": "37MBDOM7HsLF",
    "outputId": "91e44ee7-fe28-4d74-c297-2d87528c734f"
   },
   "outputs": [
    {
     "name": "stdout",
     "output_type": "stream",
     "text": [
      "----------------\n",
      "KerasClassifier :\n",
      "----------------\n",
      "Обучено за: 0:07:54.878569\n",
      "----------------\n",
      "              precision    recall  f1-score   support\n",
      "\n",
      "           1       0.76      0.79      0.77      5549\n",
      "           2       0.89      0.90      0.90     39405\n",
      "           3       0.91      0.85      0.88     16297\n",
      "           4       0.73      0.74      0.74     20686\n",
      "           5       0.85      0.78      0.82     33484\n",
      "           6       0.92      0.92      0.92     39405\n",
      "           7       0.76      0.82      0.79     39405\n",
      "           8       0.87      0.90      0.89     39405\n",
      "           9       0.84      0.70      0.76      4806\n",
      "          10       0.80      0.76      0.78     39405\n",
      "          11       0.94      0.93      0.94     14697\n",
      "          12       0.98      0.97      0.97     39405\n",
      "          13       0.96      0.92      0.94      5824\n",
      "          14       0.83      0.85      0.84     39405\n",
      "\n",
      "    accuracy                           0.86    377178\n",
      "   macro avg       0.86      0.85      0.85    377178\n",
      "weighted avg       0.86      0.86      0.86    377178\n",
      "\n"
     ]
    }
   ],
   "source": [
    "cv_score(ff, word_seq_train, labels_train, cv=skf)"
   ]
  },
  {
   "cell_type": "markdown",
   "metadata": {
    "colab_type": "text",
    "id": "1AqQgQMlJtAE"
   },
   "source": [
    "Весьма недурно для трех эпох."
   ]
  },
  {
   "cell_type": "code",
   "execution_count": 258,
   "metadata": {
    "colab": {
     "base_uri": "https://localhost:8080/",
     "height": 34
    },
    "colab_type": "code",
    "id": "WfUruHnENjjB",
    "outputId": "0222cfb4-074f-4554-91ee-90f09e5e02e8"
   },
   "outputs": [
    {
     "data": {
      "text/plain": [
       "15"
      ]
     },
     "execution_count": 258,
     "metadata": {
      "tags": []
     },
     "output_type": "execute_result"
    }
   ],
   "source": [
    "y_train_utils = np_utils.to_categorical(labels_train)\n",
    "y_train_utils.T.shape[0]"
   ]
  },
  {
   "cell_type": "code",
   "execution_count": 16,
   "metadata": {
    "colab": {
     "base_uri": "https://localhost:8080/",
     "height": 34
    },
    "colab_type": "code",
    "id": "87EFB8DTbFcO",
    "outputId": "866af933-00fb-4674-fd0c-a36bf3dc8ea6"
   },
   "outputs": [
    {
     "data": {
      "text/plain": [
       "14"
      ]
     },
     "execution_count": 16,
     "metadata": {
      "tags": []
     },
     "output_type": "execute_result"
    }
   ],
   "source": [
    "y_train_ohe = pd.get_dummies(labels_train)\n",
    "y_train_ohe.T.shape[0]"
   ]
  },
  {
   "cell_type": "code",
   "execution_count": 0,
   "metadata": {
    "colab": {},
    "colab_type": "code",
    "id": "xNhzaUlsN2Vu"
   },
   "outputs": [],
   "source": [
    "#?!?!? разобраться"
   ]
  },
  {
   "cell_type": "markdown",
   "metadata": {
    "colab_type": "text",
    "id": "NtaDiw3DE4UA"
   },
   "source": [
    "**CNN 1-dimensional**"
   ]
  },
  {
   "cell_type": "markdown",
   "metadata": {
    "colab_type": "text",
    "id": "64-hw8ROE8I_"
   },
   "source": [
    "Оказывается, что CNN справляются очень хорошо не только с CV, но и с NLP задачами. Сейчас посмотрим, что будет на нашем датасете. "
   ]
  },
  {
   "cell_type": "code",
   "execution_count": 0,
   "metadata": {
    "colab": {},
    "colab_type": "code",
    "id": "PHeyhY4na_2U"
   },
   "outputs": [],
   "source": [
    "num_filters = 64 #колво нейронов в конв слоях"
   ]
  },
  {
   "cell_type": "code",
   "execution_count": 242,
   "metadata": {
    "colab": {
     "base_uri": "https://localhost:8080/",
     "height": 493
    },
    "colab_type": "code",
    "id": "nVYzQKskYInd",
    "outputId": "5e18c0a5-4023-4c9d-f73e-da4beee01d00"
   },
   "outputs": [
    {
     "name": "stdout",
     "output_type": "stream",
     "text": [
      "Model: \"sequential_7\"\n",
      "_________________________________________________________________\n",
      "Layer (type)                 Output Shape              Param #   \n",
      "=================================================================\n",
      "embedding_7 (Embedding)      (None, 199, 300)          30000000  \n",
      "_________________________________________________________________\n",
      "conv1d_17 (Conv1D)           (None, 199, 64)           134464    \n",
      "_________________________________________________________________\n",
      "max_pooling1d_11 (MaxPooling (None, 99, 64)            0         \n",
      "_________________________________________________________________\n",
      "conv1d_18 (Conv1D)           (None, 99, 64)            28736     \n",
      "_________________________________________________________________\n",
      "max_pooling1d_12 (MaxPooling (None, 49, 64)            0         \n",
      "_________________________________________________________________\n",
      "conv1d_19 (Conv1D)           (None, 49, 64)            28736     \n",
      "_________________________________________________________________\n",
      "global_max_pooling1d_7 (Glob (None, 64)                0         \n",
      "_________________________________________________________________\n",
      "dropout_7 (Dropout)          (None, 64)                0         \n",
      "_________________________________________________________________\n",
      "dense_11 (Dense)             (None, 32)                2080      \n",
      "_________________________________________________________________\n",
      "dense_12 (Dense)             (None, 14)                462       \n",
      "=================================================================\n",
      "Total params: 30,194,478\n",
      "Trainable params: 194,478\n",
      "Non-trainable params: 30,000,000\n",
      "_________________________________________________________________\n"
     ]
    }
   ],
   "source": [
    "#накидываем\n",
    "\n",
    "model = Sequential()\n",
    "model.add(Embedding(nb_words, embed_dim,\n",
    "          weights=[embedding_matrix], input_length=max_seq_len, trainable=False))\n",
    "model.add(Conv1D(num_filters, 7, activation='elu', padding='same'))\n",
    "model.add(MaxPooling1D(2))\n",
    "model.add(Conv1D(num_filters, 7, activation='elu', padding='same'))\n",
    "model.add(MaxPooling1D(2))\n",
    "model.add(Conv1D(num_filters, 7, activation='elu', padding='same'))\n",
    "model.add(GlobalMaxPooling1D())\n",
    "model.add(Dropout(0.5))\n",
    "model.add(Dense(32, activation='elu', kernel_regularizer=regularizers.l2(weight_decay)))\n",
    "model.add(Dense(num_classes, activation='softmax'))\n",
    "adam = optimizers.Adam(lr=0.001, \n",
    "                        beta_1=0.9, \n",
    "                        beta_2=0.999,\n",
    "                        epsilon=1e-08, \n",
    "                        decay=0.0)\n",
    "model.compile(loss='categorical_crossentropy', optimizer=adam, metrics=['accuracy'])\n",
    "\n",
    "model.summary()"
   ]
  },
  {
   "cell_type": "code",
   "execution_count": 260,
   "metadata": {
    "colab": {
     "base_uri": "https://localhost:8080/",
     "height": 224
    },
    "colab_type": "code",
    "id": "F50Rof8aYU22",
    "outputId": "9d2f15ea-dd51-4d91-aba9-df59eb685b35"
   },
   "outputs": [
    {
     "name": "stdout",
     "output_type": "stream",
     "text": [
      "WARNING:tensorflow:From /usr/local/lib/python3.6/dist-packages/keras/backend/tensorflow_backend.py:1033: The name tf.assign_add is deprecated. Please use tf.compat.v1.assign_add instead.\n",
      "\n",
      "WARNING:tensorflow:From /usr/local/lib/python3.6/dist-packages/keras/backend/tensorflow_backend.py:1020: The name tf.assign is deprecated. Please use tf.compat.v1.assign instead.\n",
      "\n",
      "Train on 301742 samples, validate on 75436 samples\n",
      "Epoch 1/3\n",
      "301742/301742 [==============================] - 56s 186us/step - loss: 0.7472 - acc: 0.7672 - val_loss: 0.4548 - val_acc: 0.8542\n",
      "Epoch 2/3\n",
      "301742/301742 [==============================] - 51s 171us/step - loss: 0.4761 - acc: 0.8509 - val_loss: 0.4059 - val_acc: 0.8668\n",
      "Epoch 3/3\n",
      "301742/301742 [==============================] - 52s 171us/step - loss: 0.4163 - acc: 0.8685 - val_loss: 0.3570 - val_acc: 0.8831\n"
     ]
    }
   ],
   "source": [
    "early_stopping = EarlyStopping(monitor='val_loss', min_delta=0.01, patience=4, verbose=1)\n",
    "hist = model.fit(word_seq_train, \n",
    "                 y_train_ohe, \n",
    "                 batch_size=batch_size, \n",
    "                 epochs=num_epochs, \n",
    "                 callbacks=[early_stopping], \n",
    "                 validation_split=0.2, \n",
    "                 shuffle=True, \n",
    "                 verbose=1)"
   ]
  },
  {
   "cell_type": "code",
   "execution_count": 263,
   "metadata": {
    "colab": {
     "base_uri": "https://localhost:8080/",
     "height": 299
    },
    "colab_type": "code",
    "id": "Juxwe1uxZAlr",
    "outputId": "f5129e18-bf1b-4e89-f78f-fb28d4207e9a"
   },
   "outputs": [
    {
     "data": {
      "image/png": "[encoded data removed]",
      "text/plain": [
       "<Figure size 432x288 with 1 Axes>"
      ]
     },
     "metadata": {
      "tags": []
     },
     "output_type": "display_data"
    }
   ],
   "source": [
    "plt.figure()\n",
    "plt.plot(hist.history['acc'], lw=2.0, color='b', label='train')\n",
    "plt.plot(hist.history['val_acc'], lw=2.0, color='r', label='validation')\n",
    "plt.title('train & validation curves')\n",
    "plt.xlabel('Epochs')\n",
    "plt.ylabel('Accuracy')\n",
    "plt.legend(loc='upper left')\n",
    "plt.show()"
   ]
  },
  {
   "cell_type": "markdown",
   "metadata": {
    "colab_type": "text",
    "id": "3P8s-FaDPPcZ"
   },
   "source": [
    "Что можно сказать? Нет никаких намеков на оверфит, кривые ровно растут, а значит мы абсолютно однозначно недообучились. Попробуем еще c бОльшим количеством эпох, добавим BN и выкинем dropout для скорости (BN сами по себе регуляризуют, так что необходимость в dropout-е отпадает. Но это не точно)"
   ]
  },
  {
   "cell_type": "code",
   "execution_count": 0,
   "metadata": {
    "colab": {},
    "colab_type": "code",
    "id": "nrvoVj6ZQrfQ"
   },
   "outputs": [],
   "source": [
    "batch_size = 128\n",
    "num_epochs = 20\n",
    "\n",
    "def keras_cnn():\n",
    "  model = Sequential()\n",
    "  model.add(Embedding(nb_words, embed_dim,\n",
    "            weights=[embedding_matrix], input_length=max_seq_len, trainable=False))\n",
    "  model.add(Conv1D(num_filters, 7, activation='elu', padding='same'))\n",
    "  model.add(MaxPooling1D(2))\n",
    "  model.add(BatchNormalization())\n",
    "  model.add(Conv1D(num_filters, 7, activation='elu', padding='same'))\n",
    "  model.add(MaxPooling1D(2))\n",
    "  model.add(BatchNormalization())\n",
    "  model.add(Conv1D(num_filters, 7, activation='elu', padding='same'))\n",
    "  model.add(GlobalMaxPooling1D())\n",
    "  model.add(BatchNormalization())\n",
    "  model.add(Dense(32, activation='elu', kernel_regularizer=regularizers.l2(weight_decay)))\n",
    "  model.add(Dense(num_classes, activation='softmax'))\n",
    "  adam = optimizers.Adam(lr=0.001, \n",
    "                         beta_1=0.9, \n",
    "                         beta_2=0.999,\n",
    "                         epsilon=1e-08, \n",
    "                         decay=0.0)\n",
    "  model.compile(loss='categorical_crossentropy', optimizer=adam, metrics=['accuracy'])\n",
    "\n",
    "  model.summary()\n",
    "  return model"
   ]
  },
  {
   "cell_type": "code",
   "execution_count": 289,
   "metadata": {
    "colab": {
     "base_uri": "https://localhost:8080/",
     "height": 459
    },
    "colab_type": "code",
    "id": "U3DF0NCTRK-z",
    "outputId": "64dff055-0911-4f52-ffa7-ae7455475cda"
   },
   "outputs": [
    {
     "name": "stdout",
     "output_type": "stream",
     "text": [
      "----------------\n",
      "KerasClassifier :\n",
      "----------------\n",
      "Обучено за: 0:50:37.596825\n",
      "----------------\n",
      "              precision    recall  f1-score   support\n",
      "\n",
      "           1       0.79      0.78      0.79      5549\n",
      "           2       0.90      0.90      0.90     39405\n",
      "           3       0.90      0.89      0.90     16297\n",
      "           4       0.75      0.74      0.75     20686\n",
      "           5       0.87      0.80      0.83     33484\n",
      "           6       0.91      0.94      0.92     39405\n",
      "           7       0.77      0.82      0.79     39405\n",
      "           8       0.88      0.91      0.89     39405\n",
      "           9       0.81      0.77      0.79      4806\n",
      "          10       0.82      0.75      0.79     39405\n",
      "          11       0.95      0.95      0.95     14697\n",
      "          12       0.97      0.98      0.98     39405\n",
      "          13       0.97      0.93      0.95      5824\n",
      "          14       0.84      0.87      0.85     39405\n",
      "\n",
      "    accuracy                           0.87    377178\n",
      "   macro avg       0.87      0.86      0.86    377178\n",
      "weighted avg       0.87      0.87      0.87    377178\n",
      "\n"
     ]
    }
   ],
   "source": [
    "cnn = KerasClassifier(build_fn=keras_ff, epochs=num_epochs, batch_size=batch_size, verbose=2)\n",
    "cv_score(cnn, word_seq_train, labels_train, skf)"
   ]
  },
  {
   "cell_type": "code",
   "execution_count": 0,
   "metadata": {
    "colab": {},
    "colab_type": "code",
    "id": "W6JqeG-BoW98"
   },
   "outputs": [],
   "source": []
  },
  {
   "cell_type": "markdown",
   "metadata": {
    "colab_type": "text",
    "id": "qUlzJt2EXAp-"
   },
   "source": [
    "**RNN w/ GRU**"
   ]
  },
  {
   "cell_type": "markdown",
   "metadata": {
    "colab_type": "text",
    "id": "4e4nrtdkUGTv"
   },
   "source": [
    "Намеренно не включаю сюда RNN с LSTM, поскольку в таких размерностях они будут считаться намного дольше и прирост по качеству скорее будет очень маленьким или вообще не будет). Сужу исключительно по своему опыту."
   ]
  },
  {
   "cell_type": "code",
   "execution_count": 0,
   "metadata": {
    "colab": {},
    "colab_type": "code",
    "id": "hErgVOEJXHXB"
   },
   "outputs": [],
   "source": [
    "batch_size = 128\n",
    "num_epochs = 5\n",
    "\n",
    "def keras_BIgru():\n",
    "  model = Sequential()\n",
    "  model.add(Embedding(nb_words, embed_dim,\n",
    "            weights=[embedding_matrix], input_length=max_seq_len, trainable=False))\n",
    "  model.add(Bidirectional(CuDNNGRU(64, return_sequences=True)))\n",
    "  model.add(GlobalMaxPooling1D())\n",
    "  model.add(Dense(32, activation='elu', kernel_regularizer=regularizers.l2(weight_decay)))\n",
    "  model.add(Dense(num_classes, activation='softmax'))\n",
    "  adam = optimizers.Adam(lr=0.001, \n",
    "                         beta_1=0.9, \n",
    "                         beta_2=0.999,\n",
    "                         epsilon=1e-08, \n",
    "                         decay=0.0)\n",
    "  model.compile(loss='categorical_crossentropy', optimizer=adam, metrics=['accuracy'])\n",
    "\n",
    "  model.summary()\n",
    "  return model"
   ]
  },
  {
   "cell_type": "code",
   "execution_count": 0,
   "metadata": {
    "colab": {},
    "colab_type": "code",
    "id": "J0hdincVUYYb"
   },
   "outputs": [],
   "source": [
    "num_classes = 14"
   ]
  },
  {
   "cell_type": "code",
   "execution_count": 24,
   "metadata": {
    "colab": {
     "base_uri": "https://localhost:8080/",
     "height": 459
    },
    "colab_type": "code",
    "id": "aD4A4C9lX0_j",
    "outputId": "c816ec46-9324-4e3d-8974-d6d6bb5c8203"
   },
   "outputs": [
    {
     "name": "stdout",
     "output_type": "stream",
     "text": [
      "----------------\n",
      "KerasClassifier :\n",
      "----------------\n",
      "Обучено за: 2:48:05.141591\n",
      "----------------\n",
      "              precision    recall  f1-score   support\n",
      "\n",
      "           1       0.86      0.87      0.86      5549\n",
      "           2       0.92      0.95      0.94     39405\n",
      "           3       0.92      0.94      0.93     16297\n",
      "           4       0.82      0.80      0.81     20686\n",
      "           5       0.87      0.90      0.89     33484\n",
      "           6       0.94      0.95      0.95     39405\n",
      "           7       0.85      0.83      0.84     39405\n",
      "           8       0.92      0.92      0.92     39405\n",
      "           9       0.87      0.88      0.88      4806\n",
      "          10       0.87      0.82      0.84     39405\n",
      "          11       0.97      0.98      0.98     14697\n",
      "          12       0.98      0.98      0.98     39405\n",
      "          13       0.98      0.97      0.97      5824\n",
      "          14       0.88      0.90      0.89     39405\n",
      "\n",
      "    accuracy                           0.90    377178\n",
      "   macro avg       0.90      0.91      0.90    377178\n",
      "weighted avg       0.90      0.90      0.90    377178\n",
      "\n"
     ]
    }
   ],
   "source": [
    "gru = KerasClassifier(build_fn=keras_BIgru, epochs=num_epochs, batch_size=batch_size, verbose=2)\n",
    "cv_score(gru, word_seq_train, labels_train, skf)"
   ]
  },
  {
   "cell_type": "markdown",
   "metadata": {
    "colab_type": "text",
    "id": "C3qM0tzoAiV1"
   },
   "source": [
    "Посмотрим на оценки предсказаний модели на тестовой выборке."
   ]
  },
  {
   "cell_type": "code",
   "execution_count": 29,
   "metadata": {
    "colab": {
     "base_uri": "https://localhost:8080/",
     "height": 663
    },
    "colab_type": "code",
    "id": "YRDsnnwGg9ck",
    "outputId": "eff60240-110d-4718-bdeb-84ee14774d15"
   },
   "outputs": [
    {
     "name": "stdout",
     "output_type": "stream",
     "text": [
      "Model: \"sequential_3\"\n",
      "_________________________________________________________________\n",
      "Layer (type)                 Output Shape              Param #   \n",
      "=================================================================\n",
      "embedding_3 (Embedding)      (None, 199, 300)          30000000  \n",
      "_________________________________________________________________\n",
      "bidirectional_3 (Bidirection (None, 199, 128)          140544    \n",
      "_________________________________________________________________\n",
      "global_max_pooling1d_3 (Glob (None, 128)               0         \n",
      "_________________________________________________________________\n",
      "dense_5 (Dense)              (None, 32)                4128      \n",
      "_________________________________________________________________\n",
      "dense_6 (Dense)              (None, 14)                462       \n",
      "=================================================================\n",
      "Total params: 30,145,134\n",
      "Trainable params: 145,134\n",
      "Non-trainable params: 30,000,000\n",
      "_________________________________________________________________\n",
      "Epoch 1/10\n",
      " - 201s - loss: 0.4421 - acc: 0.8581\n",
      "Epoch 2/10\n",
      " - 200s - loss: 0.2994 - acc: 0.8989\n",
      "Epoch 3/10\n",
      " - 198s - loss: 0.2718 - acc: 0.9077\n",
      "Epoch 4/10\n",
      " - 199s - loss: 0.2533 - acc: 0.9132\n",
      "Epoch 5/10\n",
      " - 199s - loss: 0.2389 - acc: 0.9177\n",
      "Epoch 6/10\n",
      " - 198s - loss: 0.2268 - acc: 0.9218\n",
      "Epoch 7/10\n",
      " - 199s - loss: 0.2154 - acc: 0.9259\n",
      "Epoch 8/10\n",
      " - 199s - loss: 0.2056 - acc: 0.9291\n",
      "Epoch 9/10\n",
      " - 200s - loss: 0.1966 - acc: 0.9315\n",
      "Epoch 10/10\n",
      " - 199s - loss: 0.1874 - acc: 0.9352\n"
     ]
    }
   ],
   "source": [
    "num_epochs = 10\n",
    "gru = KerasClassifier(build_fn=keras_BIgru, epochs=num_epochs, batch_size=batch_size, verbose=2)\n",
    "gru.fit(word_seq_train, labels_train)\n",
    "preds = gru.predict(word_seq_test)"
   ]
  },
  {
   "cell_type": "code",
   "execution_count": 32,
   "metadata": {
    "colab": {
     "base_uri": "https://localhost:8080/",
     "height": 425
    },
    "colab_type": "code",
    "id": "r8X1_wEPhJT-",
    "outputId": "f62f5113-1003-4653-944a-15eae27b2e10"
   },
   "outputs": [
    {
     "name": "stdout",
     "output_type": "stream",
     "text": [
      "------------------------------\n",
      "1x Bidimensional GRU 10 epochs:\n",
      "------------------------------\n",
      "              precision    recall  f1-score   support\n",
      "\n",
      "           1       0.81      0.96      0.88      1849\n",
      "           2       0.92      0.96      0.94     13135\n",
      "           3       0.93      0.96      0.94      5433\n",
      "           4       0.84      0.80      0.82      6896\n",
      "           5       0.88      0.90      0.89     11161\n",
      "           6       0.94      0.96      0.95     13135\n",
      "           7       0.88      0.80      0.84     13135\n",
      "           8       0.91      0.94      0.92     13135\n",
      "           9       0.88      0.88      0.88      1602\n",
      "          10       0.85      0.85      0.85     13135\n",
      "          11       0.97      0.99      0.98      4899\n",
      "          12       0.97      0.99      0.98     13135\n",
      "          13       0.98      0.97      0.98      1942\n",
      "          14       0.93      0.87      0.90     13135\n",
      "\n",
      "    accuracy                           0.91    125727\n",
      "   macro avg       0.91      0.92      0.91    125727\n",
      "weighted avg       0.91      0.91      0.91    125727\n",
      "\n"
     ]
    }
   ],
   "source": [
    "print (30*'-')\n",
    "print ('1x Bidimensional GRU 10 epochs:')\n",
    "print (30*'-') \n",
    "print (classification_report(labels_test, preds))"
   ]
  },
  {
   "cell_type": "markdown",
   "metadata": {
    "colab_type": "text",
    "id": "KdxlLwF3UgyB"
   },
   "source": [
    "##Заключение\n",
    "\n",
    "Мы рассмотрели и разобрали интересную задачу классификации текстов по рубрикам, выбрали метрику, почистили и преобразовали данные, провели EDA с небольшой визуализацией, обучили модели и оценили качество и время их работы. Если скорость хоть сколько-нибудь важна, то оптимальным выбором модели выглядит fasttext от facebook, который дает отличное качество при очень быстрой скорости работы. Впрочем, нейронные сети (особенно рекуррентные) тоже отлично справляются с практически любой NLP задачей.\n",
    " \n",
    "**Не зашло:**\n",
    "\n",
    "- Vowpal Wabbit. Хороший алгоритм, но в этой задаче как-то совсем не пошел. Просчитал и задал ему руками веса (а по-другому в нем и нельзя), естественно шаффл при разбиении, результат один - предсказывает пару меток, остальные \"забывает\".  \n",
    " \n",
    "**За бортом остались:** \n",
    "\n",
    "- качественный сэмплинг\n",
    "\n",
    "- hyperopt / parfit\n",
    "\n",
    "- word2vec. Причина проста - fasttext отрабатывают лучше и быстрее на любых датасетах.\n",
    "\n",
    "- более глубокие самодельные и готовые DL сети, которые без сомнений покажут самые лучшие результаты (bert says hi)\n",
    "\n",
    "- больше грамотного feature extraction (например word2vec фичи, средняя длина слова в новости, средняя длина новости и т.п.)\n",
    " \n",
    "\n"
   ]
  },
  {
   "cell_type": "markdown",
   "metadata": {
    "colab_type": "text",
    "id": "DbvvayLldNuo"
   },
   "source": [
    " \n",
    "Мне понравилось, было занятно как-то пытаться справиться с таким количеством и таким неравенством классов)\n",
    "\n",
    "\n",
    "\n",
    "Спасибо за просмотр и за данные!"
   ]
  }
 ],
 "metadata": {
  "accelerator": "GPU",
  "colab": {
   "collapsed_sections": [],
   "machine_shape": "hm",
   "name": "Rubnenkov__Lenta_topic_classification.ipynb",
   "provenance": [],
   "toc_visible": true
  },
  "kernelspec": {
   "display_name": "Python 3",
   "language": "python",
   "name": "python3"
  },
  "language_info": {
   "codemirror_mode": {
    "name": "ipython",
    "version": 3
   },
   "file_extension": ".py",
   "mimetype": "text/x-python",
   "name": "python",
   "nbconvert_exporter": "python",
   "pygments_lexer": "ipython3",
   "version": "3.7.3"
  }
 },
 "nbformat": 4,
 "nbformat_minor": 1
}
