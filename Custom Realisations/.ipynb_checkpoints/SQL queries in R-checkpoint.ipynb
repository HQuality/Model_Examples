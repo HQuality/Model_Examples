{
 "cells": [
  {
   "cell_type": "code",
   "execution_count": 1,
   "metadata": {},
   "outputs": [
    {
     "name": "stderr",
     "output_type": "stream",
     "text": [
      "also installing the dependencies ‘colorspace’, ‘sys’, ‘ps’, ‘highr’, ‘markdown’, ‘plyr’, ‘labeling’, ‘munsell’, ‘RColorBrewer’, ‘askpass’, ‘rematch’, ‘prettyunits’, ‘processx’, ‘knitr’, ‘yaml’, ‘evaluate’, ‘tinytex’, ‘xfun’, ‘generics’, ‘reshape2’, ‘pkgconfig’, ‘R6’, ‘Rcpp’, ‘tidyselect’, ‘BH’, ‘plogr’, ‘DBI’, ‘lazyeval’, ‘scales’, ‘viridisLite’, ‘withr’, ‘curl’, ‘mime’, ‘openssl’, ‘clipr’, ‘cellranger’, ‘progress’, ‘callr’, ‘fs’, ‘rmarkdown’, ‘whisker’, ‘selectr’, ‘lifecycle’, ‘broom’, ‘dplyr’, ‘dbplyr’, ‘forcats’, ‘ggplot2’, ‘haven’, ‘hms’, ‘httr’, ‘lubridate’, ‘modelr’, ‘purrr’, ‘readr’, ‘readxl’, ‘reprex’, ‘rstudioapi’, ‘rvest’, ‘tibble’, ‘tidyr’, ‘xml2’\n",
      "\n",
      "Warning message in install.packages(\"tidyverse\", repos = \"http://cran.us.r-project.org\"):\n",
      "“installation of package ‘curl’ had non-zero exit status”Warning message in install.packages(\"tidyverse\", repos = \"http://cran.us.r-project.org\"):\n",
      "“installation of package ‘httr’ had non-zero exit status”Warning message in install.packages(\"tidyverse\", repos = \"http://cran.us.r-project.org\"):\n",
      "“installation of package ‘rvest’ had non-zero exit status”Warning message in install.packages(\"tidyverse\", repos = \"http://cran.us.r-project.org\"):\n",
      "“installation of package ‘tidyverse’ had non-zero exit status”Updating HTML index of packages in '.Library'\n",
      "Making 'packages.html' ... done\n",
      "Updating HTML index of packages in '.Library'\n",
      "Making 'packages.html' ... done\n"
     ]
    }
   ],
   "source": [
    "#install.packages(\"tidyverse\", repos='http://cran.us.r-project.org')\n",
    "#install.packages(\"MASS\", repos='http://cran.us.r-project.org')\n",
    "#install.packages(\"sqldf\", repos='http://cran.us.r-project.org')\n",
    "#install.packages(\"dplyr\", repos='http://cran.us.r-project.org')\n",
    "#install.packages(\"dplyr\", repos='http://cran.us.r-project.org')\n",
    "#install.packages(\"RCurl\", repos='http://cran.us.r-project.org')"
   ]
  },
  {
   "cell_type": "code",
   "execution_count": 1,
   "metadata": {},
   "outputs": [
    {
     "name": "stderr",
     "output_type": "stream",
     "text": [
      "Loading required package: gsubfn\n",
      "Loading required package: proto\n",
      "Loading required package: RSQLite\n"
     ]
    }
   ],
   "source": [
    "library(ggplot2)\n",
    "library(sqldf)"
   ]
  },
  {
   "cell_type": "code",
   "execution_count": 7,
   "metadata": {},
   "outputs": [
    {
     "data": {
      "text/html": [
       "<table>\n",
       "<thead><tr><th scope=col>age</th><th scope=col>circumference</th></tr></thead>\n",
       "<tbody>\n",
       "\t<tr><td> 118</td><td> 30 </td></tr>\n",
       "\t<tr><td> 484</td><td> 58 </td></tr>\n",
       "\t<tr><td> 664</td><td> 87 </td></tr>\n",
       "\t<tr><td>1004</td><td>115 </td></tr>\n",
       "\t<tr><td>1231</td><td>120 </td></tr>\n",
       "\t<tr><td>1372</td><td>142 </td></tr>\n",
       "\t<tr><td>1582</td><td>145 </td></tr>\n",
       "</tbody>\n",
       "</table>\n"
      ],
      "text/latex": [
       "\\begin{tabular}{r|ll}\n",
       " age & circumference\\\\\n",
       "\\hline\n",
       "\t  118 &  30 \\\\\n",
       "\t  484 &  58 \\\\\n",
       "\t  664 &  87 \\\\\n",
       "\t 1004 & 115 \\\\\n",
       "\t 1231 & 120 \\\\\n",
       "\t 1372 & 142 \\\\\n",
       "\t 1582 & 145 \\\\\n",
       "\\end{tabular}\n"
      ],
      "text/markdown": [
       "\n",
       "age | circumference | \n",
       "|---|---|---|---|---|---|---|\n",
       "|  118 |  30  | \n",
       "|  484 |  58  | \n",
       "|  664 |  87  | \n",
       "| 1004 | 115  | \n",
       "| 1231 | 120  | \n",
       "| 1372 | 142  | \n",
       "| 1582 | 145  | \n",
       "\n",
       "\n"
      ],
      "text/plain": [
       "  age  circumference\n",
       "1  118  30          \n",
       "2  484  58          \n",
       "3  664  87          \n",
       "4 1004 115          \n",
       "5 1231 120          \n",
       "6 1372 142          \n",
       "7 1582 145          "
      ]
     },
     "metadata": {},
     "output_type": "display_data"
    }
   ],
   "source": [
    "sqldf('SELECT age, circumference FROM Orange WHERE Tree = 1 ORDER BY circumference ASC')"
   ]
  },
  {
   "cell_type": "code",
   "execution_count": 9,
   "metadata": {},
   "outputs": [
    {
     "data": {
      "text/html": [
       "<table>\n",
       "<thead><tr><th scope=col>Sepal.Length</th><th scope=col>Sepal.Width</th><th scope=col>Petal.Length</th><th scope=col>Petal.Width</th><th scope=col>Species</th></tr></thead>\n",
       "<tbody>\n",
       "\t<tr><td>5.1   </td><td>3.5   </td><td>1.4   </td><td>0.2   </td><td>setosa</td></tr>\n",
       "\t<tr><td>4.9   </td><td>3.0   </td><td>1.4   </td><td>0.2   </td><td>setosa</td></tr>\n",
       "\t<tr><td>4.7   </td><td>3.2   </td><td>1.3   </td><td>0.2   </td><td>setosa</td></tr>\n",
       "\t<tr><td>4.6   </td><td>3.1   </td><td>1.5   </td><td>0.2   </td><td>setosa</td></tr>\n",
       "\t<tr><td>5.0   </td><td>3.6   </td><td>1.4   </td><td>0.2   </td><td>setosa</td></tr>\n",
       "\t<tr><td>5.4   </td><td>3.9   </td><td>1.7   </td><td>0.4   </td><td>setosa</td></tr>\n",
       "\t<tr><td>4.6   </td><td>3.4   </td><td>1.4   </td><td>0.3   </td><td>setosa</td></tr>\n",
       "\t<tr><td>5.0   </td><td>3.4   </td><td>1.5   </td><td>0.2   </td><td>setosa</td></tr>\n",
       "\t<tr><td>4.4   </td><td>2.9   </td><td>1.4   </td><td>0.2   </td><td>setosa</td></tr>\n",
       "\t<tr><td>4.9   </td><td>3.1   </td><td>1.5   </td><td>0.1   </td><td>setosa</td></tr>\n",
       "\t<tr><td>5.4   </td><td>3.7   </td><td>1.5   </td><td>0.2   </td><td>setosa</td></tr>\n",
       "\t<tr><td>4.8   </td><td>3.4   </td><td>1.6   </td><td>0.2   </td><td>setosa</td></tr>\n",
       "\t<tr><td>4.8   </td><td>3.0   </td><td>1.4   </td><td>0.1   </td><td>setosa</td></tr>\n",
       "\t<tr><td>4.3   </td><td>3.0   </td><td>1.1   </td><td>0.1   </td><td>setosa</td></tr>\n",
       "\t<tr><td>5.8   </td><td>4.0   </td><td>1.2   </td><td>0.2   </td><td>setosa</td></tr>\n",
       "\t<tr><td>5.7   </td><td>4.4   </td><td>1.5   </td><td>0.4   </td><td>setosa</td></tr>\n",
       "\t<tr><td>5.4   </td><td>3.9   </td><td>1.3   </td><td>0.4   </td><td>setosa</td></tr>\n",
       "\t<tr><td>5.1   </td><td>3.5   </td><td>1.4   </td><td>0.3   </td><td>setosa</td></tr>\n",
       "\t<tr><td>5.7   </td><td>3.8   </td><td>1.7   </td><td>0.3   </td><td>setosa</td></tr>\n",
       "\t<tr><td>5.1   </td><td>3.8   </td><td>1.5   </td><td>0.3   </td><td>setosa</td></tr>\n",
       "\t<tr><td>5.4   </td><td>3.4   </td><td>1.7   </td><td>0.2   </td><td>setosa</td></tr>\n",
       "\t<tr><td>5.1   </td><td>3.7   </td><td>1.5   </td><td>0.4   </td><td>setosa</td></tr>\n",
       "\t<tr><td>4.6   </td><td>3.6   </td><td>1.0   </td><td>0.2   </td><td>setosa</td></tr>\n",
       "\t<tr><td>5.1   </td><td>3.3   </td><td>1.7   </td><td>0.5   </td><td>setosa</td></tr>\n",
       "\t<tr><td>4.8   </td><td>3.4   </td><td>1.9   </td><td>0.2   </td><td>setosa</td></tr>\n",
       "\t<tr><td>5.0   </td><td>3.0   </td><td>1.6   </td><td>0.2   </td><td>setosa</td></tr>\n",
       "\t<tr><td>5.0   </td><td>3.4   </td><td>1.6   </td><td>0.4   </td><td>setosa</td></tr>\n",
       "\t<tr><td>5.2   </td><td>3.5   </td><td>1.5   </td><td>0.2   </td><td>setosa</td></tr>\n",
       "\t<tr><td>5.2   </td><td>3.4   </td><td>1.4   </td><td>0.2   </td><td>setosa</td></tr>\n",
       "\t<tr><td>4.7   </td><td>3.2   </td><td>1.6   </td><td>0.2   </td><td>setosa</td></tr>\n",
       "\t<tr><td>⋮</td><td>⋮</td><td>⋮</td><td>⋮</td><td>⋮</td></tr>\n",
       "\t<tr><td>6.9      </td><td>3.2      </td><td>5.7      </td><td>2.3      </td><td>virginica</td></tr>\n",
       "\t<tr><td>5.6      </td><td>2.8      </td><td>4.9      </td><td>2.0      </td><td>virginica</td></tr>\n",
       "\t<tr><td>7.7      </td><td>2.8      </td><td>6.7      </td><td>2.0      </td><td>virginica</td></tr>\n",
       "\t<tr><td>6.3      </td><td>2.7      </td><td>4.9      </td><td>1.8      </td><td>virginica</td></tr>\n",
       "\t<tr><td>6.7      </td><td>3.3      </td><td>5.7      </td><td>2.1      </td><td>virginica</td></tr>\n",
       "\t<tr><td>7.2      </td><td>3.2      </td><td>6.0      </td><td>1.8      </td><td>virginica</td></tr>\n",
       "\t<tr><td>6.2      </td><td>2.8      </td><td>4.8      </td><td>1.8      </td><td>virginica</td></tr>\n",
       "\t<tr><td>6.1      </td><td>3.0      </td><td>4.9      </td><td>1.8      </td><td>virginica</td></tr>\n",
       "\t<tr><td>6.4      </td><td>2.8      </td><td>5.6      </td><td>2.1      </td><td>virginica</td></tr>\n",
       "\t<tr><td>7.2      </td><td>3.0      </td><td>5.8      </td><td>1.6      </td><td>virginica</td></tr>\n",
       "\t<tr><td>7.4      </td><td>2.8      </td><td>6.1      </td><td>1.9      </td><td>virginica</td></tr>\n",
       "\t<tr><td>7.9      </td><td>3.8      </td><td>6.4      </td><td>2.0      </td><td>virginica</td></tr>\n",
       "\t<tr><td>6.4      </td><td>2.8      </td><td>5.6      </td><td>2.2      </td><td>virginica</td></tr>\n",
       "\t<tr><td>6.3      </td><td>2.8      </td><td>5.1      </td><td>1.5      </td><td>virginica</td></tr>\n",
       "\t<tr><td>6.1      </td><td>2.6      </td><td>5.6      </td><td>1.4      </td><td>virginica</td></tr>\n",
       "\t<tr><td>7.7      </td><td>3.0      </td><td>6.1      </td><td>2.3      </td><td>virginica</td></tr>\n",
       "\t<tr><td>6.3      </td><td>3.4      </td><td>5.6      </td><td>2.4      </td><td>virginica</td></tr>\n",
       "\t<tr><td>6.4      </td><td>3.1      </td><td>5.5      </td><td>1.8      </td><td>virginica</td></tr>\n",
       "\t<tr><td>6.0      </td><td>3.0      </td><td>4.8      </td><td>1.8      </td><td>virginica</td></tr>\n",
       "\t<tr><td>6.9      </td><td>3.1      </td><td>5.4      </td><td>2.1      </td><td>virginica</td></tr>\n",
       "\t<tr><td>6.7      </td><td>3.1      </td><td>5.6      </td><td>2.4      </td><td>virginica</td></tr>\n",
       "\t<tr><td>6.9      </td><td>3.1      </td><td>5.1      </td><td>2.3      </td><td>virginica</td></tr>\n",
       "\t<tr><td>5.8      </td><td>2.7      </td><td>5.1      </td><td>1.9      </td><td>virginica</td></tr>\n",
       "\t<tr><td>6.8      </td><td>3.2      </td><td>5.9      </td><td>2.3      </td><td>virginica</td></tr>\n",
       "\t<tr><td>6.7      </td><td>3.3      </td><td>5.7      </td><td>2.5      </td><td>virginica</td></tr>\n",
       "\t<tr><td>6.7      </td><td>3.0      </td><td>5.2      </td><td>2.3      </td><td>virginica</td></tr>\n",
       "\t<tr><td>6.3      </td><td>2.5      </td><td>5.0      </td><td>1.9      </td><td>virginica</td></tr>\n",
       "\t<tr><td>6.5      </td><td>3.0      </td><td>5.2      </td><td>2.0      </td><td>virginica</td></tr>\n",
       "\t<tr><td>6.2      </td><td>3.4      </td><td>5.4      </td><td>2.3      </td><td>virginica</td></tr>\n",
       "\t<tr><td>5.9      </td><td>3.0      </td><td>5.1      </td><td>1.8      </td><td>virginica</td></tr>\n",
       "</tbody>\n",
       "</table>\n"
      ],
      "text/latex": [
       "\\begin{tabular}{r|lllll}\n",
       " Sepal.Length & Sepal.Width & Petal.Length & Petal.Width & Species\\\\\n",
       "\\hline\n",
       "\t 5.1    & 3.5    & 1.4    & 0.2    & setosa\\\\\n",
       "\t 4.9    & 3.0    & 1.4    & 0.2    & setosa\\\\\n",
       "\t 4.7    & 3.2    & 1.3    & 0.2    & setosa\\\\\n",
       "\t 4.6    & 3.1    & 1.5    & 0.2    & setosa\\\\\n",
       "\t 5.0    & 3.6    & 1.4    & 0.2    & setosa\\\\\n",
       "\t 5.4    & 3.9    & 1.7    & 0.4    & setosa\\\\\n",
       "\t 4.6    & 3.4    & 1.4    & 0.3    & setosa\\\\\n",
       "\t 5.0    & 3.4    & 1.5    & 0.2    & setosa\\\\\n",
       "\t 4.4    & 2.9    & 1.4    & 0.2    & setosa\\\\\n",
       "\t 4.9    & 3.1    & 1.5    & 0.1    & setosa\\\\\n",
       "\t 5.4    & 3.7    & 1.5    & 0.2    & setosa\\\\\n",
       "\t 4.8    & 3.4    & 1.6    & 0.2    & setosa\\\\\n",
       "\t 4.8    & 3.0    & 1.4    & 0.1    & setosa\\\\\n",
       "\t 4.3    & 3.0    & 1.1    & 0.1    & setosa\\\\\n",
       "\t 5.8    & 4.0    & 1.2    & 0.2    & setosa\\\\\n",
       "\t 5.7    & 4.4    & 1.5    & 0.4    & setosa\\\\\n",
       "\t 5.4    & 3.9    & 1.3    & 0.4    & setosa\\\\\n",
       "\t 5.1    & 3.5    & 1.4    & 0.3    & setosa\\\\\n",
       "\t 5.7    & 3.8    & 1.7    & 0.3    & setosa\\\\\n",
       "\t 5.1    & 3.8    & 1.5    & 0.3    & setosa\\\\\n",
       "\t 5.4    & 3.4    & 1.7    & 0.2    & setosa\\\\\n",
       "\t 5.1    & 3.7    & 1.5    & 0.4    & setosa\\\\\n",
       "\t 4.6    & 3.6    & 1.0    & 0.2    & setosa\\\\\n",
       "\t 5.1    & 3.3    & 1.7    & 0.5    & setosa\\\\\n",
       "\t 4.8    & 3.4    & 1.9    & 0.2    & setosa\\\\\n",
       "\t 5.0    & 3.0    & 1.6    & 0.2    & setosa\\\\\n",
       "\t 5.0    & 3.4    & 1.6    & 0.4    & setosa\\\\\n",
       "\t 5.2    & 3.5    & 1.5    & 0.2    & setosa\\\\\n",
       "\t 5.2    & 3.4    & 1.4    & 0.2    & setosa\\\\\n",
       "\t 4.7    & 3.2    & 1.6    & 0.2    & setosa\\\\\n",
       "\t ⋮ & ⋮ & ⋮ & ⋮ & ⋮\\\\\n",
       "\t 6.9       & 3.2       & 5.7       & 2.3       & virginica\\\\\n",
       "\t 5.6       & 2.8       & 4.9       & 2.0       & virginica\\\\\n",
       "\t 7.7       & 2.8       & 6.7       & 2.0       & virginica\\\\\n",
       "\t 6.3       & 2.7       & 4.9       & 1.8       & virginica\\\\\n",
       "\t 6.7       & 3.3       & 5.7       & 2.1       & virginica\\\\\n",
       "\t 7.2       & 3.2       & 6.0       & 1.8       & virginica\\\\\n",
       "\t 6.2       & 2.8       & 4.8       & 1.8       & virginica\\\\\n",
       "\t 6.1       & 3.0       & 4.9       & 1.8       & virginica\\\\\n",
       "\t 6.4       & 2.8       & 5.6       & 2.1       & virginica\\\\\n",
       "\t 7.2       & 3.0       & 5.8       & 1.6       & virginica\\\\\n",
       "\t 7.4       & 2.8       & 6.1       & 1.9       & virginica\\\\\n",
       "\t 7.9       & 3.8       & 6.4       & 2.0       & virginica\\\\\n",
       "\t 6.4       & 2.8       & 5.6       & 2.2       & virginica\\\\\n",
       "\t 6.3       & 2.8       & 5.1       & 1.5       & virginica\\\\\n",
       "\t 6.1       & 2.6       & 5.6       & 1.4       & virginica\\\\\n",
       "\t 7.7       & 3.0       & 6.1       & 2.3       & virginica\\\\\n",
       "\t 6.3       & 3.4       & 5.6       & 2.4       & virginica\\\\\n",
       "\t 6.4       & 3.1       & 5.5       & 1.8       & virginica\\\\\n",
       "\t 6.0       & 3.0       & 4.8       & 1.8       & virginica\\\\\n",
       "\t 6.9       & 3.1       & 5.4       & 2.1       & virginica\\\\\n",
       "\t 6.7       & 3.1       & 5.6       & 2.4       & virginica\\\\\n",
       "\t 6.9       & 3.1       & 5.1       & 2.3       & virginica\\\\\n",
       "\t 5.8       & 2.7       & 5.1       & 1.9       & virginica\\\\\n",
       "\t 6.8       & 3.2       & 5.9       & 2.3       & virginica\\\\\n",
       "\t 6.7       & 3.3       & 5.7       & 2.5       & virginica\\\\\n",
       "\t 6.7       & 3.0       & 5.2       & 2.3       & virginica\\\\\n",
       "\t 6.3       & 2.5       & 5.0       & 1.9       & virginica\\\\\n",
       "\t 6.5       & 3.0       & 5.2       & 2.0       & virginica\\\\\n",
       "\t 6.2       & 3.4       & 5.4       & 2.3       & virginica\\\\\n",
       "\t 5.9       & 3.0       & 5.1       & 1.8       & virginica\\\\\n",
       "\\end{tabular}\n"
      ],
      "text/markdown": [
       "\n",
       "Sepal.Length | Sepal.Width | Petal.Length | Petal.Width | Species | \n",
       "|---|---|---|---|---|---|---|---|---|---|---|---|---|---|---|---|---|---|---|---|---|---|---|---|---|---|---|---|---|---|---|---|---|---|---|---|---|---|---|---|---|---|---|---|---|---|---|---|---|---|---|---|---|---|---|---|---|---|---|---|---|\n",
       "| 5.1    | 3.5    | 1.4    | 0.2    | setosa | \n",
       "| 4.9    | 3.0    | 1.4    | 0.2    | setosa | \n",
       "| 4.7    | 3.2    | 1.3    | 0.2    | setosa | \n",
       "| 4.6    | 3.1    | 1.5    | 0.2    | setosa | \n",
       "| 5.0    | 3.6    | 1.4    | 0.2    | setosa | \n",
       "| 5.4    | 3.9    | 1.7    | 0.4    | setosa | \n",
       "| 4.6    | 3.4    | 1.4    | 0.3    | setosa | \n",
       "| 5.0    | 3.4    | 1.5    | 0.2    | setosa | \n",
       "| 4.4    | 2.9    | 1.4    | 0.2    | setosa | \n",
       "| 4.9    | 3.1    | 1.5    | 0.1    | setosa | \n",
       "| 5.4    | 3.7    | 1.5    | 0.2    | setosa | \n",
       "| 4.8    | 3.4    | 1.6    | 0.2    | setosa | \n",
       "| 4.8    | 3.0    | 1.4    | 0.1    | setosa | \n",
       "| 4.3    | 3.0    | 1.1    | 0.1    | setosa | \n",
       "| 5.8    | 4.0    | 1.2    | 0.2    | setosa | \n",
       "| 5.7    | 4.4    | 1.5    | 0.4    | setosa | \n",
       "| 5.4    | 3.9    | 1.3    | 0.4    | setosa | \n",
       "| 5.1    | 3.5    | 1.4    | 0.3    | setosa | \n",
       "| 5.7    | 3.8    | 1.7    | 0.3    | setosa | \n",
       "| 5.1    | 3.8    | 1.5    | 0.3    | setosa | \n",
       "| 5.4    | 3.4    | 1.7    | 0.2    | setosa | \n",
       "| 5.1    | 3.7    | 1.5    | 0.4    | setosa | \n",
       "| 4.6    | 3.6    | 1.0    | 0.2    | setosa | \n",
       "| 5.1    | 3.3    | 1.7    | 0.5    | setosa | \n",
       "| 4.8    | 3.4    | 1.9    | 0.2    | setosa | \n",
       "| 5.0    | 3.0    | 1.6    | 0.2    | setosa | \n",
       "| 5.0    | 3.4    | 1.6    | 0.4    | setosa | \n",
       "| 5.2    | 3.5    | 1.5    | 0.2    | setosa | \n",
       "| 5.2    | 3.4    | 1.4    | 0.2    | setosa | \n",
       "| 4.7    | 3.2    | 1.6    | 0.2    | setosa | \n",
       "| ⋮ | ⋮ | ⋮ | ⋮ | ⋮ | \n",
       "| 6.9       | 3.2       | 5.7       | 2.3       | virginica | \n",
       "| 5.6       | 2.8       | 4.9       | 2.0       | virginica | \n",
       "| 7.7       | 2.8       | 6.7       | 2.0       | virginica | \n",
       "| 6.3       | 2.7       | 4.9       | 1.8       | virginica | \n",
       "| 6.7       | 3.3       | 5.7       | 2.1       | virginica | \n",
       "| 7.2       | 3.2       | 6.0       | 1.8       | virginica | \n",
       "| 6.2       | 2.8       | 4.8       | 1.8       | virginica | \n",
       "| 6.1       | 3.0       | 4.9       | 1.8       | virginica | \n",
       "| 6.4       | 2.8       | 5.6       | 2.1       | virginica | \n",
       "| 7.2       | 3.0       | 5.8       | 1.6       | virginica | \n",
       "| 7.4       | 2.8       | 6.1       | 1.9       | virginica | \n",
       "| 7.9       | 3.8       | 6.4       | 2.0       | virginica | \n",
       "| 6.4       | 2.8       | 5.6       | 2.2       | virginica | \n",
       "| 6.3       | 2.8       | 5.1       | 1.5       | virginica | \n",
       "| 6.1       | 2.6       | 5.6       | 1.4       | virginica | \n",
       "| 7.7       | 3.0       | 6.1       | 2.3       | virginica | \n",
       "| 6.3       | 3.4       | 5.6       | 2.4       | virginica | \n",
       "| 6.4       | 3.1       | 5.5       | 1.8       | virginica | \n",
       "| 6.0       | 3.0       | 4.8       | 1.8       | virginica | \n",
       "| 6.9       | 3.1       | 5.4       | 2.1       | virginica | \n",
       "| 6.7       | 3.1       | 5.6       | 2.4       | virginica | \n",
       "| 6.9       | 3.1       | 5.1       | 2.3       | virginica | \n",
       "| 5.8       | 2.7       | 5.1       | 1.9       | virginica | \n",
       "| 6.8       | 3.2       | 5.9       | 2.3       | virginica | \n",
       "| 6.7       | 3.3       | 5.7       | 2.5       | virginica | \n",
       "| 6.7       | 3.0       | 5.2       | 2.3       | virginica | \n",
       "| 6.3       | 2.5       | 5.0       | 1.9       | virginica | \n",
       "| 6.5       | 3.0       | 5.2       | 2.0       | virginica | \n",
       "| 6.2       | 3.4       | 5.4       | 2.3       | virginica | \n",
       "| 5.9       | 3.0       | 5.1       | 1.8       | virginica | \n",
       "\n",
       "\n"
      ],
      "text/plain": [
       "    Sepal.Length Sepal.Width Petal.Length Petal.Width Species  \n",
       "1   5.1          3.5         1.4          0.2         setosa   \n",
       "2   4.9          3.0         1.4          0.2         setosa   \n",
       "3   4.7          3.2         1.3          0.2         setosa   \n",
       "4   4.6          3.1         1.5          0.2         setosa   \n",
       "5   5.0          3.6         1.4          0.2         setosa   \n",
       "6   5.4          3.9         1.7          0.4         setosa   \n",
       "7   4.6          3.4         1.4          0.3         setosa   \n",
       "8   5.0          3.4         1.5          0.2         setosa   \n",
       "9   4.4          2.9         1.4          0.2         setosa   \n",
       "10  4.9          3.1         1.5          0.1         setosa   \n",
       "11  5.4          3.7         1.5          0.2         setosa   \n",
       "12  4.8          3.4         1.6          0.2         setosa   \n",
       "13  4.8          3.0         1.4          0.1         setosa   \n",
       "14  4.3          3.0         1.1          0.1         setosa   \n",
       "15  5.8          4.0         1.2          0.2         setosa   \n",
       "16  5.7          4.4         1.5          0.4         setosa   \n",
       "17  5.4          3.9         1.3          0.4         setosa   \n",
       "18  5.1          3.5         1.4          0.3         setosa   \n",
       "19  5.7          3.8         1.7          0.3         setosa   \n",
       "20  5.1          3.8         1.5          0.3         setosa   \n",
       "21  5.4          3.4         1.7          0.2         setosa   \n",
       "22  5.1          3.7         1.5          0.4         setosa   \n",
       "23  4.6          3.6         1.0          0.2         setosa   \n",
       "24  5.1          3.3         1.7          0.5         setosa   \n",
       "25  4.8          3.4         1.9          0.2         setosa   \n",
       "26  5.0          3.0         1.6          0.2         setosa   \n",
       "27  5.0          3.4         1.6          0.4         setosa   \n",
       "28  5.2          3.5         1.5          0.2         setosa   \n",
       "29  5.2          3.4         1.4          0.2         setosa   \n",
       "30  4.7          3.2         1.6          0.2         setosa   \n",
       "⋮   ⋮            ⋮           ⋮            ⋮           ⋮        \n",
       "121 6.9          3.2         5.7          2.3         virginica\n",
       "122 5.6          2.8         4.9          2.0         virginica\n",
       "123 7.7          2.8         6.7          2.0         virginica\n",
       "124 6.3          2.7         4.9          1.8         virginica\n",
       "125 6.7          3.3         5.7          2.1         virginica\n",
       "126 7.2          3.2         6.0          1.8         virginica\n",
       "127 6.2          2.8         4.8          1.8         virginica\n",
       "128 6.1          3.0         4.9          1.8         virginica\n",
       "129 6.4          2.8         5.6          2.1         virginica\n",
       "130 7.2          3.0         5.8          1.6         virginica\n",
       "131 7.4          2.8         6.1          1.9         virginica\n",
       "132 7.9          3.8         6.4          2.0         virginica\n",
       "133 6.4          2.8         5.6          2.2         virginica\n",
       "134 6.3          2.8         5.1          1.5         virginica\n",
       "135 6.1          2.6         5.6          1.4         virginica\n",
       "136 7.7          3.0         6.1          2.3         virginica\n",
       "137 6.3          3.4         5.6          2.4         virginica\n",
       "138 6.4          3.1         5.5          1.8         virginica\n",
       "139 6.0          3.0         4.8          1.8         virginica\n",
       "140 6.9          3.1         5.4          2.1         virginica\n",
       "141 6.7          3.1         5.6          2.4         virginica\n",
       "142 6.9          3.1         5.1          2.3         virginica\n",
       "143 5.8          2.7         5.1          1.9         virginica\n",
       "144 6.8          3.2         5.9          2.3         virginica\n",
       "145 6.7          3.3         5.7          2.5         virginica\n",
       "146 6.7          3.0         5.2          2.3         virginica\n",
       "147 6.3          2.5         5.0          1.9         virginica\n",
       "148 6.5          3.0         5.2          2.0         virginica\n",
       "149 6.2          3.4         5.4          2.3         virginica\n",
       "150 5.9          3.0         5.1          1.8         virginica"
      ]
     },
     "metadata": {},
     "output_type": "display_data"
    }
   ],
   "source": [
    "sqldf(\"SELECT * FROM iris\")\n",
    "#sqldf(\"select * from iris\") вообще говоря, работает, но все равно НЕ НАДО"
   ]
  },
  {
   "cell_type": "code",
   "execution_count": 10,
   "metadata": {},
   "outputs": [
    {
     "data": {
      "text/html": [
       "<table>\n",
       "<thead><tr><th scope=col>Time</th><th scope=col>demand</th></tr></thead>\n",
       "<tbody>\n",
       "\t<tr><td>1   </td><td> 8.3</td></tr>\n",
       "\t<tr><td>2   </td><td>10.3</td></tr>\n",
       "\t<tr><td>3   </td><td>19.0</td></tr>\n",
       "\t<tr><td>4   </td><td>16.0</td></tr>\n",
       "\t<tr><td>5   </td><td>15.6</td></tr>\n",
       "\t<tr><td>7   </td><td>19.8</td></tr>\n",
       "</tbody>\n",
       "</table>\n"
      ],
      "text/latex": [
       "\\begin{tabular}{r|ll}\n",
       " Time & demand\\\\\n",
       "\\hline\n",
       "\t 1    &  8.3\\\\\n",
       "\t 2    & 10.3\\\\\n",
       "\t 3    & 19.0\\\\\n",
       "\t 4    & 16.0\\\\\n",
       "\t 5    & 15.6\\\\\n",
       "\t 7    & 19.8\\\\\n",
       "\\end{tabular}\n"
      ],
      "text/markdown": [
       "\n",
       "Time | demand | \n",
       "|---|---|---|---|---|---|\n",
       "| 1    |  8.3 | \n",
       "| 2    | 10.3 | \n",
       "| 3    | 19.0 | \n",
       "| 4    | 16.0 | \n",
       "| 5    | 15.6 | \n",
       "| 7    | 19.8 | \n",
       "\n",
       "\n"
      ],
      "text/plain": [
       "  Time demand\n",
       "1 1     8.3  \n",
       "2 2    10.3  \n",
       "3 3    19.0  \n",
       "4 4    16.0  \n",
       "5 5    15.6  \n",
       "6 7    19.8  "
      ]
     },
     "metadata": {},
     "output_type": "display_data"
    }
   ],
   "source": [
    "data(BOD)\n",
    "BOD"
   ]
  },
  {
   "cell_type": "code",
   "execution_count": 12,
   "metadata": {},
   "outputs": [
    {
     "data": {
      "text/html": [
       "<table>\n",
       "<thead><tr><th scope=col>demand</th></tr></thead>\n",
       "<tbody>\n",
       "\t<tr><td> 8.3</td></tr>\n",
       "\t<tr><td>10.3</td></tr>\n",
       "\t<tr><td>19.0</td></tr>\n",
       "\t<tr><td>16.0</td></tr>\n",
       "\t<tr><td>15.6</td></tr>\n",
       "\t<tr><td>19.8</td></tr>\n",
       "</tbody>\n",
       "</table>\n"
      ],
      "text/latex": [
       "\\begin{tabular}{r|l}\n",
       " demand\\\\\n",
       "\\hline\n",
       "\t  8.3\\\\\n",
       "\t 10.3\\\\\n",
       "\t 19.0\\\\\n",
       "\t 16.0\\\\\n",
       "\t 15.6\\\\\n",
       "\t 19.8\\\\\n",
       "\\end{tabular}\n"
      ],
      "text/markdown": [
       "\n",
       "demand | \n",
       "|---|---|---|---|---|---|\n",
       "|  8.3 | \n",
       "| 10.3 | \n",
       "| 19.0 | \n",
       "| 16.0 | \n",
       "| 15.6 | \n",
       "| 19.8 | \n",
       "\n",
       "\n"
      ],
      "text/plain": [
       "  demand\n",
       "1  8.3  \n",
       "2 10.3  \n",
       "3 19.0  \n",
       "4 16.0  \n",
       "5 15.6  \n",
       "6 19.8  "
      ]
     },
     "metadata": {},
     "output_type": "display_data"
    }
   ],
   "source": [
    "sqldf('SELECT demand FROM BOD')"
   ]
  },
  {
   "cell_type": "code",
   "execution_count": 13,
   "metadata": {},
   "outputs": [
    {
     "data": {
      "text/html": [
       "<table>\n",
       "<thead><tr><th scope=col>Time</th><th scope=col>demand</th></tr></thead>\n",
       "<tbody>\n",
       "\t<tr><td>1   </td><td> 8.3</td></tr>\n",
       "\t<tr><td>2   </td><td>10.3</td></tr>\n",
       "\t<tr><td>3   </td><td>19.0</td></tr>\n",
       "\t<tr><td>4   </td><td>16.0</td></tr>\n",
       "\t<tr><td>5   </td><td>15.6</td></tr>\n",
       "\t<tr><td>7   </td><td>19.8</td></tr>\n",
       "</tbody>\n",
       "</table>\n"
      ],
      "text/latex": [
       "\\begin{tabular}{r|ll}\n",
       " Time & demand\\\\\n",
       "\\hline\n",
       "\t 1    &  8.3\\\\\n",
       "\t 2    & 10.3\\\\\n",
       "\t 3    & 19.0\\\\\n",
       "\t 4    & 16.0\\\\\n",
       "\t 5    & 15.6\\\\\n",
       "\t 7    & 19.8\\\\\n",
       "\\end{tabular}\n"
      ],
      "text/markdown": [
       "\n",
       "Time | demand | \n",
       "|---|---|---|---|---|---|\n",
       "| 1    |  8.3 | \n",
       "| 2    | 10.3 | \n",
       "| 3    | 19.0 | \n",
       "| 4    | 16.0 | \n",
       "| 5    | 15.6 | \n",
       "| 7    | 19.8 | \n",
       "\n",
       "\n"
      ],
      "text/plain": [
       "  Time demand\n",
       "1 1     8.3  \n",
       "2 2    10.3  \n",
       "3 3    19.0  \n",
       "4 4    16.0  \n",
       "5 5    15.6  \n",
       "6 7    19.8  "
      ]
     },
     "metadata": {},
     "output_type": "display_data"
    }
   ],
   "source": [
    "sqldf('SELECT time, demand FROM BOD')"
   ]
  },
  {
   "cell_type": "code",
   "execution_count": 14,
   "metadata": {},
   "outputs": [],
   "source": [
    "iris1 <- sqldf('SELECT \"Petal.Width\" FROM iris') #SQL как обычно не любит ."
   ]
  },
  {
   "cell_type": "code",
   "execution_count": 22,
   "metadata": {},
   "outputs": [
    {
     "data": {
      "text/html": [
       "<table>\n",
       "<thead><tr><th scope=col>Petal.Width</th></tr></thead>\n",
       "<tbody>\n",
       "\t<tr><td>0.2</td></tr>\n",
       "\t<tr><td>0.2</td></tr>\n",
       "\t<tr><td>0.2</td></tr>\n",
       "\t<tr><td>0.2</td></tr>\n",
       "</tbody>\n",
       "</table>\n"
      ],
      "text/latex": [
       "\\begin{tabular}{r|l}\n",
       " Petal.Width\\\\\n",
       "\\hline\n",
       "\t 0.2\\\\\n",
       "\t 0.2\\\\\n",
       "\t 0.2\\\\\n",
       "\t 0.2\\\\\n",
       "\\end{tabular}\n"
      ],
      "text/markdown": [
       "\n",
       "Petal.Width | \n",
       "|---|---|---|---|\n",
       "| 0.2 | \n",
       "| 0.2 | \n",
       "| 0.2 | \n",
       "| 0.2 | \n",
       "\n",
       "\n"
      ],
      "text/plain": [
       "  Petal.Width\n",
       "1 0.2        \n",
       "2 0.2        \n",
       "3 0.2        \n",
       "4 0.2        "
      ]
     },
     "metadata": {},
     "output_type": "display_data"
    }
   ],
   "source": [
    "head(iris1, n=4L)"
   ]
  },
  {
   "cell_type": "code",
   "execution_count": 23,
   "metadata": {},
   "outputs": [
    {
     "data": {
      "text/html": [
       "<table>\n",
       "<thead><tr><th scope=col>Sepal.Length</th><th scope=col>Sepal.Width</th><th scope=col>Petal.Length</th><th scope=col>Petal.Width</th><th scope=col>Species</th></tr></thead>\n",
       "<tbody>\n",
       "\t<tr><td>5.1   </td><td>3.5   </td><td>1.4   </td><td>0.2   </td><td>setosa</td></tr>\n",
       "\t<tr><td>4.9   </td><td>3.0   </td><td>1.4   </td><td>0.2   </td><td>setosa</td></tr>\n",
       "\t<tr><td>4.7   </td><td>3.2   </td><td>1.3   </td><td>0.2   </td><td>setosa</td></tr>\n",
       "\t<tr><td>4.6   </td><td>3.1   </td><td>1.5   </td><td>0.2   </td><td>setosa</td></tr>\n",
       "\t<tr><td>5.0   </td><td>3.6   </td><td>1.4   </td><td>0.2   </td><td>setosa</td></tr>\n",
       "</tbody>\n",
       "</table>\n"
      ],
      "text/latex": [
       "\\begin{tabular}{r|lllll}\n",
       " Sepal.Length & Sepal.Width & Petal.Length & Petal.Width & Species\\\\\n",
       "\\hline\n",
       "\t 5.1    & 3.5    & 1.4    & 0.2    & setosa\\\\\n",
       "\t 4.9    & 3.0    & 1.4    & 0.2    & setosa\\\\\n",
       "\t 4.7    & 3.2    & 1.3    & 0.2    & setosa\\\\\n",
       "\t 4.6    & 3.1    & 1.5    & 0.2    & setosa\\\\\n",
       "\t 5.0    & 3.6    & 1.4    & 0.2    & setosa\\\\\n",
       "\\end{tabular}\n"
      ],
      "text/markdown": [
       "\n",
       "Sepal.Length | Sepal.Width | Petal.Length | Petal.Width | Species | \n",
       "|---|---|---|---|---|\n",
       "| 5.1    | 3.5    | 1.4    | 0.2    | setosa | \n",
       "| 4.9    | 3.0    | 1.4    | 0.2    | setosa | \n",
       "| 4.7    | 3.2    | 1.3    | 0.2    | setosa | \n",
       "| 4.6    | 3.1    | 1.5    | 0.2    | setosa | \n",
       "| 5.0    | 3.6    | 1.4    | 0.2    | setosa | \n",
       "\n",
       "\n"
      ],
      "text/plain": [
       "  Sepal.Length Sepal.Width Petal.Length Petal.Width Species\n",
       "1 5.1          3.5         1.4          0.2         setosa \n",
       "2 4.9          3.0         1.4          0.2         setosa \n",
       "3 4.7          3.2         1.3          0.2         setosa \n",
       "4 4.6          3.1         1.5          0.2         setosa \n",
       "5 5.0          3.6         1.4          0.2         setosa "
      ]
     },
     "metadata": {},
     "output_type": "display_data"
    }
   ],
   "source": [
    "sqldf('SELECT * FROM iris LIMIT 5')"
   ]
  },
  {
   "cell_type": "code",
   "execution_count": 7,
   "metadata": {},
   "outputs": [
    {
     "data": {
      "text/html": [
       "<table>\n",
       "<thead><tr><th scope=col>Tree</th><th scope=col>age</th><th scope=col>circumference</th></tr></thead>\n",
       "<tbody>\n",
       "\t<tr><td>2  </td><td>118</td><td>33 </td></tr>\n",
       "\t<tr><td>4  </td><td>118</td><td>32 </td></tr>\n",
       "\t<tr><td>1  </td><td>118</td><td>30 </td></tr>\n",
       "\t<tr><td>3  </td><td>118</td><td>30 </td></tr>\n",
       "\t<tr><td>5  </td><td>118</td><td>30 </td></tr>\n",
       "</tbody>\n",
       "</table>\n"
      ],
      "text/latex": [
       "\\begin{tabular}{r|lll}\n",
       " Tree & age & circumference\\\\\n",
       "\\hline\n",
       "\t 2   & 118 & 33 \\\\\n",
       "\t 4   & 118 & 32 \\\\\n",
       "\t 1   & 118 & 30 \\\\\n",
       "\t 3   & 118 & 30 \\\\\n",
       "\t 5   & 118 & 30 \\\\\n",
       "\\end{tabular}\n"
      ],
      "text/markdown": [
       "\n",
       "Tree | age | circumference | \n",
       "|---|---|---|---|---|\n",
       "| 2   | 118 | 33  | \n",
       "| 4   | 118 | 32  | \n",
       "| 1   | 118 | 30  | \n",
       "| 3   | 118 | 30  | \n",
       "| 5   | 118 | 30  | \n",
       "\n",
       "\n"
      ],
      "text/plain": [
       "  Tree age circumference\n",
       "1 2    118 33           \n",
       "2 4    118 32           \n",
       "3 1    118 30           \n",
       "4 3    118 30           \n",
       "5 5    118 30           "
      ]
     },
     "metadata": {},
     "output_type": "display_data"
    }
   ],
   "source": [
    "order <- sqldf('SELECT * FROM Orange ORDER BY age ASC, circumference DESC LIMIT 5')\n",
    "order"
   ]
  },
  {
   "cell_type": "code",
   "execution_count": 8,
   "metadata": {},
   "outputs": [
    {
     "data": {
      "text/html": [
       "<table>\n",
       "<thead><tr><th scope=col>demand</th></tr></thead>\n",
       "<tbody>\n",
       "\t<tr><td> 8.3</td></tr>\n",
       "\t<tr><td>10.3</td></tr>\n",
       "</tbody>\n",
       "</table>\n"
      ],
      "text/latex": [
       "\\begin{tabular}{r|l}\n",
       " demand\\\\\n",
       "\\hline\n",
       "\t  8.3\\\\\n",
       "\t 10.3\\\\\n",
       "\\end{tabular}\n"
      ],
      "text/markdown": [
       "\n",
       "demand | \n",
       "|---|---|\n",
       "|  8.3 | \n",
       "| 10.3 | \n",
       "\n",
       "\n"
      ],
      "text/plain": [
       "  demand\n",
       "1  8.3  \n",
       "2 10.3  "
      ]
     },
     "metadata": {},
     "output_type": "display_data"
    }
   ],
   "source": [
    "sqldf('SELECT demand FROM BOD WHERE Time < 3')"
   ]
  },
  {
   "cell_type": "code",
   "execution_count": 13,
   "metadata": {},
   "outputs": [],
   "source": [
    "?rock"
   ]
  },
  {
   "cell_type": "code",
   "execution_count": 14,
   "metadata": {},
   "outputs": [
    {
     "data": {
      "text/html": [
       "<table>\n",
       "<thead><tr><th scope=col>area</th><th scope=col>peri</th><th scope=col>shape</th><th scope=col>perm</th></tr></thead>\n",
       "<tbody>\n",
       "\t<tr><td>5048    </td><td> 941.543</td><td>0.328641</td><td>1300    </td></tr>\n",
       "\t<tr><td>1016    </td><td> 308.642</td><td>0.230081</td><td>1300    </td></tr>\n",
       "\t<tr><td>5605    </td><td>1145.690</td><td>0.464125</td><td>1300    </td></tr>\n",
       "\t<tr><td>8793    </td><td>2280.490</td><td>0.420477</td><td>1300    </td></tr>\n",
       "</tbody>\n",
       "</table>\n"
      ],
      "text/latex": [
       "\\begin{tabular}{r|llll}\n",
       " area & peri & shape & perm\\\\\n",
       "\\hline\n",
       "\t 5048     &  941.543 & 0.328641 & 1300    \\\\\n",
       "\t 1016     &  308.642 & 0.230081 & 1300    \\\\\n",
       "\t 5605     & 1145.690 & 0.464125 & 1300    \\\\\n",
       "\t 8793     & 2280.490 & 0.420477 & 1300    \\\\\n",
       "\\end{tabular}\n"
      ],
      "text/markdown": [
       "\n",
       "area | peri | shape | perm | \n",
       "|---|---|---|---|\n",
       "| 5048     |  941.543 | 0.328641 | 1300     | \n",
       "| 1016     |  308.642 | 0.230081 | 1300     | \n",
       "| 5605     | 1145.690 | 0.464125 | 1300     | \n",
       "| 8793     | 2280.490 | 0.420477 | 1300     | \n",
       "\n",
       "\n"
      ],
      "text/plain": [
       "  area peri     shape    perm\n",
       "1 5048  941.543 0.328641 1300\n",
       "2 1016  308.642 0.230081 1300\n",
       "3 5605 1145.690 0.464125 1300\n",
       "4 8793 2280.490 0.420477 1300"
      ]
     },
     "metadata": {},
     "output_type": "display_data"
    }
   ],
   "source": [
    "sqldf('SELECT * FROM rock WHERE (peri > 5000 AND shape < 0.05) OR perm > 1000')"
   ]
  },
  {
   "cell_type": "code",
   "execution_count": 15,
   "metadata": {},
   "outputs": [
    {
     "data": {
      "text/html": [
       "<table>\n",
       "<thead><tr><th scope=col>Time</th><th scope=col>demand</th></tr></thead>\n",
       "<tbody>\n",
       "\t<tr><td>1   </td><td> 8.3</td></tr>\n",
       "\t<tr><td>7   </td><td>19.8</td></tr>\n",
       "</tbody>\n",
       "</table>\n"
      ],
      "text/latex": [
       "\\begin{tabular}{r|ll}\n",
       " Time & demand\\\\\n",
       "\\hline\n",
       "\t 1    &  8.3\\\\\n",
       "\t 7    & 19.8\\\\\n",
       "\\end{tabular}\n"
      ],
      "text/markdown": [
       "\n",
       "Time | demand | \n",
       "|---|---|\n",
       "| 1    |  8.3 | \n",
       "| 7    | 19.8 | \n",
       "\n",
       "\n"
      ],
      "text/plain": [
       "  Time demand\n",
       "1 1     8.3  \n",
       "2 7    19.8  "
      ]
     },
     "metadata": {},
     "output_type": "display_data"
    }
   ],
   "source": [
    "sqldf('SELECT * FROM BOD WHERE Time IN (1,7)')"
   ]
  },
  {
   "cell_type": "code",
   "execution_count": 16,
   "metadata": {},
   "outputs": [
    {
     "data": {
      "text/html": [
       "<table>\n",
       "<thead><tr><th scope=col>Time</th><th scope=col>demand</th></tr></thead>\n",
       "<tbody>\n",
       "\t<tr><td>2   </td><td>10.3</td></tr>\n",
       "\t<tr><td>3   </td><td>19.0</td></tr>\n",
       "\t<tr><td>4   </td><td>16.0</td></tr>\n",
       "\t<tr><td>5   </td><td>15.6</td></tr>\n",
       "</tbody>\n",
       "</table>\n"
      ],
      "text/latex": [
       "\\begin{tabular}{r|ll}\n",
       " Time & demand\\\\\n",
       "\\hline\n",
       "\t 2    & 10.3\\\\\n",
       "\t 3    & 19.0\\\\\n",
       "\t 4    & 16.0\\\\\n",
       "\t 5    & 15.6\\\\\n",
       "\\end{tabular}\n"
      ],
      "text/markdown": [
       "\n",
       "Time | demand | \n",
       "|---|---|---|---|\n",
       "| 2    | 10.3 | \n",
       "| 3    | 19.0 | \n",
       "| 4    | 16.0 | \n",
       "| 5    | 15.6 | \n",
       "\n",
       "\n"
      ],
      "text/plain": [
       "  Time demand\n",
       "1 2    10.3  \n",
       "2 3    19.0  \n",
       "3 4    16.0  \n",
       "4 5    15.6  "
      ]
     },
     "metadata": {},
     "output_type": "display_data"
    }
   ],
   "source": [
    "sqldf('SELECT * FROM BOD WHERE Time NOT IN (1,7)')"
   ]
  },
  {
   "cell_type": "code",
   "execution_count": null,
   "metadata": {},
   "outputs": [],
   "source": [
    "# ну и тп"
   ]
  },
  {
   "cell_type": "code",
   "execution_count": 17,
   "metadata": {},
   "outputs": [],
   "source": [
    "d <- data.frame(a=c(1,1,1), b=c(1,NA,NA))"
   ]
  },
  {
   "cell_type": "code",
   "execution_count": 18,
   "metadata": {},
   "outputs": [
    {
     "data": {
      "text/html": [
       "<table>\n",
       "<thead><tr><th scope=col>a</th><th scope=col>b</th></tr></thead>\n",
       "<tbody>\n",
       "\t<tr><td>1 </td><td> 1</td></tr>\n",
       "\t<tr><td>1 </td><td>NA</td></tr>\n",
       "\t<tr><td>1 </td><td>NA</td></tr>\n",
       "</tbody>\n",
       "</table>\n"
      ],
      "text/latex": [
       "\\begin{tabular}{r|ll}\n",
       " a & b\\\\\n",
       "\\hline\n",
       "\t 1  &  1\\\\\n",
       "\t 1  & NA\\\\\n",
       "\t 1  & NA\\\\\n",
       "\\end{tabular}\n"
      ],
      "text/markdown": [
       "\n",
       "a | b | \n",
       "|---|---|---|\n",
       "| 1  |  1 | \n",
       "| 1  | NA | \n",
       "| 1  | NA | \n",
       "\n",
       "\n"
      ],
      "text/plain": [
       "  a b \n",
       "1 1  1\n",
       "2 1 NA\n",
       "3 1 NA"
      ]
     },
     "metadata": {},
     "output_type": "display_data"
    }
   ],
   "source": [
    "d"
   ]
  },
  {
   "cell_type": "code",
   "execution_count": 21,
   "metadata": {},
   "outputs": [
    {
     "data": {
      "text/html": [
       "<table>\n",
       "<thead><tr><th scope=col>Numrows</th></tr></thead>\n",
       "<tbody>\n",
       "\t<tr><td>3</td></tr>\n",
       "</tbody>\n",
       "</table>\n"
      ],
      "text/latex": [
       "\\begin{tabular}{r|l}\n",
       " Numrows\\\\\n",
       "\\hline\n",
       "\t 3\\\\\n",
       "\\end{tabular}\n"
      ],
      "text/markdown": [
       "\n",
       "Numrows | \n",
       "|---|\n",
       "| 3 | \n",
       "\n",
       "\n"
      ],
      "text/plain": [
       "  Numrows\n",
       "1 3      "
      ]
     },
     "metadata": {},
     "output_type": "display_data"
    }
   ],
   "source": [
    "sqldf('SELECT COUNT() AS Numrows FROM d')"
   ]
  },
  {
   "cell_type": "code",
   "execution_count": 22,
   "metadata": {},
   "outputs": [
    {
     "data": {
      "text/html": [
       "<table>\n",
       "<thead><tr><th scope=col>COUNT(b)</th></tr></thead>\n",
       "<tbody>\n",
       "\t<tr><td>1</td></tr>\n",
       "</tbody>\n",
       "</table>\n"
      ],
      "text/latex": [
       "\\begin{tabular}{r|l}\n",
       " COUNT(b)\\\\\n",
       "\\hline\n",
       "\t 1\\\\\n",
       "\\end{tabular}\n"
      ],
      "text/markdown": [
       "\n",
       "COUNT(b) | \n",
       "|---|\n",
       "| 1 | \n",
       "\n",
       "\n"
      ],
      "text/plain": [
       "  COUNT(b)\n",
       "1 1       "
      ]
     },
     "metadata": {},
     "output_type": "display_data"
    }
   ],
   "source": [
    "#соответственно\n",
    "sqldf(\"SELECT COUNT(b) FROM d\")"
   ]
  },
  {
   "cell_type": "code",
   "execution_count": null,
   "metadata": {},
   "outputs": [],
   "source": []
  }
 ],
 "metadata": {
  "kernelspec": {
   "display_name": "R",
   "language": "R",
   "name": "ir"
  },
  "language_info": {
   "codemirror_mode": "r",
   "file_extension": ".r",
   "mimetype": "text/x-r-source",
   "name": "R",
   "pygments_lexer": "r",
   "version": "3.5.1"
  }
 },
 "nbformat": 4,
 "nbformat_minor": 2
}
