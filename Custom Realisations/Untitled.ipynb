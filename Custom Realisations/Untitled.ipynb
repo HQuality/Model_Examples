{
 "cells": [
  {
   "cell_type": "code",
   "execution_count": 1,
   "metadata": {},
   "outputs": [],
   "source": [
    "import numpy as np"
   ]
  },
  {
   "cell_type": "code",
   "execution_count": 39,
   "metadata": {},
   "outputs": [
    {
     "data": {
      "text/plain": [
       "array([[1.58010765],\n",
       "       [1.41912645],\n",
       "       [1.2201873 ],\n",
       "       [0.57843176],\n",
       "       [1.49157208],\n",
       "       [0.47977111],\n",
       "       [1.69571775],\n",
       "       [1.36774302],\n",
       "       [1.12444896],\n",
       "       [1.07629717],\n",
       "       [1.67593457],\n",
       "       [0.72740771],\n",
       "       [0.12982545],\n",
       "       [1.81346244],\n",
       "       [1.44726057],\n",
       "       [1.6315222 ],\n",
       "       [0.78915771],\n",
       "       [0.44770443],\n",
       "       [0.27813834],\n",
       "       [1.70627169],\n",
       "       [0.44811922],\n",
       "       [1.4128605 ],\n",
       "       [1.58332679],\n",
       "       [0.16113136],\n",
       "       [0.99384343],\n",
       "       [1.12076914],\n",
       "       [0.40292451],\n",
       "       [0.47824247],\n",
       "       [0.37336506],\n",
       "       [1.38599636],\n",
       "       [0.44518965],\n",
       "       [1.7209601 ],\n",
       "       [0.35318886],\n",
       "       [1.17915101],\n",
       "       [0.32904594],\n",
       "       [1.02432655],\n",
       "       [1.63894929],\n",
       "       [1.7316313 ],\n",
       "       [0.67355959],\n",
       "       [1.08981536],\n",
       "       [0.45068614],\n",
       "       [0.67911774],\n",
       "       [1.58179078],\n",
       "       [1.00465365],\n",
       "       [0.14444823],\n",
       "       [0.09420073],\n",
       "       [0.91913962],\n",
       "       [0.8657065 ],\n",
       "       [1.07195759],\n",
       "       [1.21669826],\n",
       "       [1.6376278 ],\n",
       "       [0.89367225],\n",
       "       [1.28017323],\n",
       "       [1.1246183 ],\n",
       "       [0.33520816],\n",
       "       [0.0028428 ],\n",
       "       [0.09953632],\n",
       "       [1.16821765],\n",
       "       [0.21663944],\n",
       "       [1.98217142],\n",
       "       [1.37731449],\n",
       "       [0.8785304 ],\n",
       "       [0.98626501],\n",
       "       [1.34491083],\n",
       "       [0.29563473],\n",
       "       [0.64693795],\n",
       "       [0.34242157],\n",
       "       [0.3144913 ],\n",
       "       [0.05310569],\n",
       "       [1.45068253],\n",
       "       [1.73986607],\n",
       "       [1.94881474],\n",
       "       [0.17955716],\n",
       "       [1.75172777],\n",
       "       [0.71916705],\n",
       "       [1.21786062],\n",
       "       [0.55713795],\n",
       "       [1.89608769],\n",
       "       [0.13598297],\n",
       "       [0.69700311],\n",
       "       [0.99171122],\n",
       "       [1.02476188],\n",
       "       [0.47468196],\n",
       "       [1.68937371],\n",
       "       [0.5628437 ],\n",
       "       [0.48076277],\n",
       "       [1.67436323],\n",
       "       [1.81436768],\n",
       "       [0.5048511 ],\n",
       "       [0.49573805],\n",
       "       [0.21002656],\n",
       "       [0.67189063],\n",
       "       [0.31226005],\n",
       "       [1.71133397],\n",
       "       [1.99868195],\n",
       "       [1.09397648],\n",
       "       [1.56893549],\n",
       "       [0.58942499],\n",
       "       [0.88187646],\n",
       "       [0.85011292]])"
      ]
     },
     "execution_count": 39,
     "metadata": {},
     "output_type": "execute_result"
    }
   ],
   "source": [
    "2 * np.random.rand(100, 1)"
   ]
  },
  {
   "cell_type": "code",
   "execution_count": 7,
   "metadata": {},
   "outputs": [
    {
     "data": {
      "text/plain": [
       "array([[0],\n",
       "       [2]])"
      ]
     },
     "execution_count": 7,
     "metadata": {},
     "output_type": "execute_result"
    }
   ],
   "source": [
    "np.array([[0], [2]])"
   ]
  },
  {
   "cell_type": "code",
   "execution_count": 38,
   "metadata": {},
   "outputs": [
    {
     "data": {
      "text/plain": [
       "array([[-1.07314173],\n",
       "       [-0.51329069]])"
      ]
     },
     "execution_count": 38,
     "metadata": {},
     "output_type": "execute_result"
    }
   ],
   "source": [
    "np.random.randn(2, 1)"
   ]
  },
  {
   "cell_type": "code",
   "execution_count": 74,
   "metadata": {},
   "outputs": [],
   "source": [
    "X = np.array([[0], [10], [20], [30]])\n",
    "y = np.array([[0], [5], [10], [15]])"
   ]
  },
  {
   "cell_type": "code",
   "execution_count": 127,
   "metadata": {},
   "outputs": [],
   "source": [
    "X = 2 * np.random.rand(100, 2)\n",
    "y = 4 + 3 * X + np.random.randn(100, 1)"
   ]
  },
  {
   "cell_type": "code",
   "execution_count": 124,
   "metadata": {},
   "outputs": [],
   "source": [
    "Xo = np.c_[np.ones((X.shape[0], 1)), X]"
   ]
  },
  {
   "cell_type": "code",
   "execution_count": 125,
   "metadata": {},
   "outputs": [
    {
     "data": {
      "text/plain": [
       "array([[ 3.43951454,  3.43951454,  3.43951454,  3.43951454,  3.43951454,\n",
       "         3.43951454,  3.43951454,  3.43951454],\n",
       "       [ 3.07531413,  0.07531413,  0.07531413,  0.07531413,  0.07531413,\n",
       "         0.07531413,  0.07531413,  0.07531413],\n",
       "       [ 0.33849128,  3.33849128,  0.33849128,  0.33849128,  0.33849128,\n",
       "         0.33849128,  0.33849128,  0.33849128],\n",
       "       [-0.01503783, -0.01503783,  2.98496217, -0.01503783, -0.01503783,\n",
       "        -0.01503783, -0.01503783, -0.01503783],\n",
       "       [ 0.1544531 ,  0.1544531 ,  0.1544531 ,  3.1544531 ,  0.1544531 ,\n",
       "         0.1544531 ,  0.1544531 ,  0.1544531 ],\n",
       "       [ 0.01095696,  0.01095696,  0.01095696,  0.01095696,  3.01095696,\n",
       "         0.01095696,  0.01095696,  0.01095696],\n",
       "       [ 0.09115661,  0.09115661,  0.09115661,  0.09115661,  0.09115661,\n",
       "         3.09115661,  0.09115661,  0.09115661],\n",
       "       [-0.05361977, -0.05361977, -0.05361977, -0.05361977, -0.05361977,\n",
       "        -0.05361977,  2.94638023, -0.05361977],\n",
       "       [-0.04867539, -0.04867539, -0.04867539, -0.04867539, -0.04867539,\n",
       "        -0.04867539, -0.04867539,  2.95132461]])"
      ]
     },
     "execution_count": 125,
     "metadata": {},
     "output_type": "execute_result"
    }
   ],
   "source": [
    "theta_math = np.linalg.inv(Xo.T.dot(Xo)).dot(Xo.T).dot(y)\n",
    "theta_math"
   ]
  },
  {
   "cell_type": "code",
   "execution_count": 86,
   "metadata": {},
   "outputs": [],
   "source": [
    "%matplotlib inline\n",
    "import matplotlib as mpl\n",
    "import matplotlib.pyplot as plt\n",
    "mpl.rc('axes', labelsize=14)\n",
    "mpl.rc('xtick', labelsize=12)\n",
    "mpl.rc('ytick', labelsize=12)\n",
    "import warnings\n",
    "warnings.filterwarnings(action=\"ignore\")\n",
    "\n",
    "from sklearn.linear_model import LinearRegression"
   ]
  },
  {
   "cell_type": "code",
   "execution_count": 92,
   "metadata": {},
   "outputs": [
    {
     "ename": "NameError",
     "evalue": "name 'Xn' is not defined",
     "output_type": "error",
     "traceback": [
      "\u001b[0;31m---------------------------------------------------------------------------\u001b[0m",
      "\u001b[0;31mNameError\u001b[0m                                 Traceback (most recent call last)",
      "\u001b[0;32m<ipython-input-92-b52309c0b230>\u001b[0m in \u001b[0;36m<module>\u001b[0;34m\u001b[0m\n\u001b[0;32m----> 1\u001b[0;31m \u001b[0mXn\u001b[0m\u001b[0;34m.\u001b[0m\u001b[0mshape\u001b[0m\u001b[0;34m[\u001b[0m\u001b[0;36m0\u001b[0m\u001b[0;34m]\u001b[0m\u001b[0;34m\u001b[0m\u001b[0;34m\u001b[0m\u001b[0m\n\u001b[0m",
      "\u001b[0;31mNameError\u001b[0m: name 'Xn' is not defined"
     ]
    }
   ],
   "source": [
    "Xn.shape[0]"
   ]
  },
  {
   "cell_type": "code",
   "execution_count": 112,
   "metadata": {},
   "outputs": [],
   "source": [
    "Xn = np.array([[1], [8], [17]])\n",
    "Xne = np.c_[np.ones((Xn.shape[0], 1)), Xn]"
   ]
  },
  {
   "cell_type": "code",
   "execution_count": null,
   "metadata": {},
   "outputs": [],
   "source": [
    "theta = np.linalg.inv()"
   ]
  },
  {
   "cell_type": "code",
   "execution_count": 113,
   "metadata": {},
   "outputs": [
    {
     "data": {
      "text/plain": [
       "array([[ 7.09598657],\n",
       "       [27.66673582],\n",
       "       [54.11484199]])"
      ]
     },
     "execution_count": 113,
     "metadata": {},
     "output_type": "execute_result"
    }
   ],
   "source": [
    "y_pred = Xne.dot(theta_math)\n",
    "y_pred"
   ]
  },
  {
   "cell_type": "code",
   "execution_count": 130,
   "metadata": {},
   "outputs": [
    {
     "data": {
      "text/plain": [
       "[<matplotlib.lines.Line2D at 0x7ff41eb164e0>]"
      ]
     },
     "execution_count": 130,
     "metadata": {},
     "output_type": "execute_result"
    },
    {
     "data": {
      "image/png": "[encoded data removed]",
      "text/plain": [
       "<Figure size 432x288 with 1 Axes>"
      ]
     },
     "metadata": {
      "needs_background": "light"
     },
     "output_type": "display_data"
    }
   ],
   "source": [
    "plt.plot(X, y, \"b.\")\n",
    "plt.plot(Xn, y_pred, 'r--')\n",
    "plt.plot(linreg.predict(Xn), 'g--')"
   ]
  },
  {
   "cell_type": "code",
   "execution_count": null,
   "metadata": {},
   "outputs": [],
   "source": []
  },
  {
   "cell_type": "code",
   "execution_count": 119,
   "metadata": {},
   "outputs": [
    {
     "data": {
      "image/png": "[encoded data removed]",
      "text/plain": [
       "<Figure size 432x288 with 1 Axes>"
      ]
     },
     "metadata": {
      "needs_background": "light"
     },
     "output_type": "display_data"
    }
   ],
   "source": [
    "plt.plot(X, y, \"b.\")\n",
    "plt.plot(Xne, y_pred, 'r--')\n",
    "plt.plot(linreg.predict(Xn), 'g--')\n",
    "plt.xlabel(\"$x_1$\", fontsize=18)\n",
    "plt.ylabel(\"$y$\", rotation=0, fontsize=18)\n",
    "plt.show()"
   ]
  },
  {
   "cell_type": "code",
   "execution_count": 103,
   "metadata": {},
   "outputs": [
    {
     "data": {
      "text/plain": [
       "LinearRegression(copy_X=True, fit_intercept=True, n_jobs=None, normalize=False)"
      ]
     },
     "execution_count": 103,
     "metadata": {},
     "output_type": "execute_result"
    }
   ],
   "source": [
    "linreg = LinearRegression()\n",
    "linreg.fit(X, y)"
   ]
  },
  {
   "cell_type": "code",
   "execution_count": 133,
   "metadata": {},
   "outputs": [],
   "source": [
    "def compute_mse(theta):\n",
    "    return np.sum((y_pred - y)**2)/Xn.shape[0]"
   ]
  },
  {
   "cell_type": "code",
   "execution_count": 134,
   "metadata": {},
   "outputs": [
    {
     "ename": "ValueError",
     "evalue": "operands could not be broadcast together with shapes (3,1) (100,2) ",
     "output_type": "error",
     "traceback": [
      "\u001b[0;31m---------------------------------------------------------------------------\u001b[0m",
      "\u001b[0;31mValueError\u001b[0m                                Traceback (most recent call last)",
      "\u001b[0;32m<ipython-input-134-e985fe155238>\u001b[0m in \u001b[0;36m<module>\u001b[0;34m\u001b[0m\n\u001b[0;32m----> 1\u001b[0;31m \u001b[0mcompute_mse\u001b[0m\u001b[0;34m(\u001b[0m\u001b[0mtheta_math\u001b[0m\u001b[0;34m)\u001b[0m\u001b[0;34m\u001b[0m\u001b[0;34m\u001b[0m\u001b[0m\n\u001b[0m",
      "\u001b[0;32m<ipython-input-133-5b586657c79b>\u001b[0m in \u001b[0;36mcompute_mse\u001b[0;34m(theta)\u001b[0m\n\u001b[1;32m      1\u001b[0m \u001b[0;32mdef\u001b[0m \u001b[0mcompute_mse\u001b[0m\u001b[0;34m(\u001b[0m\u001b[0mtheta\u001b[0m\u001b[0;34m)\u001b[0m\u001b[0;34m:\u001b[0m\u001b[0;34m\u001b[0m\u001b[0;34m\u001b[0m\u001b[0m\n\u001b[0;32m----> 2\u001b[0;31m     \u001b[0;32mreturn\u001b[0m \u001b[0mnp\u001b[0m\u001b[0;34m.\u001b[0m\u001b[0msum\u001b[0m\u001b[0;34m(\u001b[0m\u001b[0;34m(\u001b[0m\u001b[0my_pred\u001b[0m \u001b[0;34m-\u001b[0m \u001b[0my\u001b[0m\u001b[0;34m)\u001b[0m\u001b[0;34m**\u001b[0m\u001b[0;36m2\u001b[0m\u001b[0;34m)\u001b[0m\u001b[0;34m/\u001b[0m\u001b[0mXn\u001b[0m\u001b[0;34m.\u001b[0m\u001b[0mshape\u001b[0m\u001b[0;34m[\u001b[0m\u001b[0;36m0\u001b[0m\u001b[0;34m]\u001b[0m\u001b[0;34m\u001b[0m\u001b[0;34m\u001b[0m\u001b[0m\n\u001b[0m",
      "\u001b[0;31mValueError\u001b[0m: operands could not be broadcast together with shapes (3,1) (100,2) "
     ]
    }
   ],
   "source": [
    "compute_mse(theta_math)"
   ]
  },
  {
   "cell_type": "code",
   "execution_count": 69,
   "metadata": {},
   "outputs": [
    {
     "data": {
      "text/plain": [
       "2.190890230020664"
      ]
     },
     "execution_count": 69,
     "metadata": {},
     "output_type": "execute_result"
    }
   ],
   "source": [
    "np.sqrt(compute_mse(theta_math))"
   ]
  },
  {
   "cell_type": "code",
   "execution_count": null,
   "metadata": {},
   "outputs": [],
   "source": [
    "compute_mse(theta_math)"
   ]
  },
  {
   "cell_type": "code",
   "execution_count": 144,
   "metadata": {},
   "outputs": [
    {
     "data": {
      "text/plain": [
       "array([[1.39307561],\n",
       "       [0.68708134]])"
      ]
     },
     "execution_count": 144,
     "metadata": {},
     "output_type": "execute_result"
    }
   ],
   "source": [
    "np.random.randn(2,1)"
   ]
  },
  {
   "cell_type": "code",
   "execution_count": null,
   "metadata": {},
   "outputs": [],
   "source": []
  }
 ],
 "metadata": {
  "kernelspec": {
   "display_name": "Python 3",
   "language": "python",
   "name": "python3"
  },
  "language_info": {
   "codemirror_mode": {
    "name": "ipython",
    "version": 3
   },
   "file_extension": ".py",
   "mimetype": "text/x-python",
   "name": "python",
   "nbconvert_exporter": "python",
   "pygments_lexer": "ipython3",
   "version": "3.7.3"
  }
 },
 "nbformat": 4,
 "nbformat_minor": 2
}
