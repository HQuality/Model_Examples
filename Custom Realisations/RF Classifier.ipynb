{
 "cells": [
  {
   "cell_type": "code",
   "execution_count": null,
   "metadata": {},
   "outputs": [],
   "source": [
    "from sklearn.base import BaseEstimator\n",
    "from sklearn.model_selection import cross_val_score\n",
    "\n",
    "class RandomForestClassifierCustom(BaseEstimator):\n",
    "    def __init__(self, n_estimators=10, max_depth=10, max_features=10, \n",
    "                 random_state=17):\n",
    "        self.n_estimators = n_estimators\n",
    "        self.max_depth = max_depth\n",
    "        self.max_features = max_features\n",
    "        self.random_state = random_state\n",
    "        \n",
    "        self.trees = []\n",
    "        self.feat_ids_by_tree = []\n",
    "        \n",
    "    def fit(self, X, y):\n",
    "        for i in range(self.n_estimators):\n",
    "            \n",
    "            np.random.seed(i + self.random_state)\n",
    "            \n",
    "            feat_to_use_ids = np.random.choice(range(X.shape[1]), self.max_features, \n",
    "                                              replace=False)\n",
    "            examples_to_use = list(set(np.random.choice(range(X.shape[0]), X.shape[0],\n",
    "                                              replace=True)))\n",
    "            \n",
    "            self.feat_ids_by_tree.append(feat_to_use_ids)\n",
    "            \n",
    "            dt = DecisionTreeClassifier(class_weight='balanced',\n",
    "                                        max_depth=self.max_depth, \n",
    "                                        max_features=self.max_features, \n",
    "                                        random_state = self.random_state)\n",
    "\n",
    "            dt.fit(X[examples_to_use, :][:, feat_to_use_ids], y[examples_to_use])\n",
    "            self.trees.append(dt)\n",
    "        return self\n",
    "    \n",
    "    def predict_proba(self, X):\n",
    "        predictions = []\n",
    "        for i in range(self.n_estimators):\n",
    "            feat_to_use_ids = self.feat_ids_by_tree[i]\n",
    "            predictions.append(self.trees[i].predict_proba(X[:,feat_to_use_ids]))\n",
    "        return np.mean(predictions, axis=0)"
   ]
  }
 ],
 "metadata": {
  "kernelspec": {
   "display_name": "Python 3",
   "language": "python",
   "name": "python3"
  },
  "language_info": {
   "codemirror_mode": {
    "name": "ipython",
    "version": 3
   },
   "file_extension": ".py",
   "mimetype": "text/x-python",
   "name": "python",
   "nbconvert_exporter": "python",
   "pygments_lexer": "ipython3",
   "version": "3.7.3"
  }
 },
 "nbformat": 4,
 "nbformat_minor": 2
}
