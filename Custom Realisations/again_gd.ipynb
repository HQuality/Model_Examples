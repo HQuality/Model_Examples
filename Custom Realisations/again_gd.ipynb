{
 "cells": [
  {
   "cell_type": "code",
   "execution_count": 1,
   "metadata": {},
   "outputs": [],
   "source": [
    "import numpy as np"
   ]
  },
  {
   "cell_type": "code",
   "execution_count": 5,
   "metadata": {},
   "outputs": [],
   "source": [
    "from matplotlib import pyplot as plt\n",
    "%matplotlib inline"
   ]
  },
  {
   "cell_type": "code",
   "execution_count": 10,
   "metadata": {},
   "outputs": [],
   "source": [
    "l = 100"
   ]
  },
  {
   "cell_type": "code",
   "execution_count": 36,
   "metadata": {},
   "outputs": [],
   "source": [
    "X = 2*np.random.rand(l,1)\n",
    "y = 4+3*X+np.random.randn(l,1)"
   ]
  },
  {
   "cell_type": "code",
   "execution_count": 9,
   "metadata": {},
   "outputs": [
    {
     "data": {
      "text/plain": [
       "100"
      ]
     },
     "execution_count": 9,
     "metadata": {},
     "output_type": "execute_result"
    }
   ],
   "source": [
    "X.shape[0]"
   ]
  },
  {
   "cell_type": "code",
   "execution_count": 7,
   "metadata": {},
   "outputs": [
    {
     "data": {
      "text/plain": [
       "[<matplotlib.lines.Line2D at 0x7fd587691128>]"
      ]
     },
     "execution_count": 7,
     "metadata": {},
     "output_type": "execute_result"
    },
    {
     "data": {
      "image/png": "[encoded data removed]",
      "text/plain": [
       "<Figure size 432x288 with 1 Axes>"
      ]
     },
     "metadata": {
      "needs_background": "light"
     },
     "output_type": "display_data"
    }
   ],
   "source": [
    "plt.plot(X, y, 'b.')"
   ]
  },
  {
   "cell_type": "code",
   "execution_count": 13,
   "metadata": {},
   "outputs": [],
   "source": [
    "X1 = np.c_[np.ones((l, 1)), X]"
   ]
  },
  {
   "cell_type": "code",
   "execution_count": 15,
   "metadata": {},
   "outputs": [],
   "source": [
    "W = np.linalg.inv(X1.T.dot(X1)).dot(X1.T).dot(y)"
   ]
  },
  {
   "cell_type": "code",
   "execution_count": 24,
   "metadata": {},
   "outputs": [],
   "source": [
    "Xn = np.array([[0], [2]])"
   ]
  },
  {
   "cell_type": "code",
   "execution_count": 26,
   "metadata": {},
   "outputs": [],
   "source": [
    "Xn1 = np.c_[np.ones((Xn.shape[0], 1)), Xn]"
   ]
  },
  {
   "cell_type": "code",
   "execution_count": 27,
   "metadata": {},
   "outputs": [],
   "source": [
    "y_pred = Xn1.dot(W)"
   ]
  },
  {
   "cell_type": "code",
   "execution_count": 28,
   "metadata": {},
   "outputs": [
    {
     "data": {
      "text/plain": [
       "[<matplotlib.lines.Line2D at 0x7fd587188470>]"
      ]
     },
     "execution_count": 28,
     "metadata": {},
     "output_type": "execute_result"
    },
    {
     "data": {
      "image/png": "[encoded data removed]",
      "text/plain": [
       "<Figure size 432x288 with 1 Axes>"
      ]
     },
     "metadata": {
      "needs_background": "light"
     },
     "output_type": "display_data"
    }
   ],
   "source": [
    "plt.plot(X, y, 'b.')\n",
    "plt.plot(Xn, y_pred, 'r-')"
   ]
  },
  {
   "cell_type": "code",
   "execution_count": 68,
   "metadata": {},
   "outputs": [],
   "source": [
    "def gd(X, y):\n",
    "    Xb = np.c_[np.ones((X.shape[0],1)), X]\n",
    "    n_iter = 500\n",
    "    eta = 0.05\n",
    "    Ws = np.random.randn(2, 1)\n",
    "    for i in range(n_iter):\n",
    "        grads = 2/X.shape[0]*Xb.T.dot(Xb.dot(Ws)-y)\n",
    "        Ws = Ws - eta*grads\n",
    "    return Ws"
   ]
  },
  {
   "cell_type": "code",
   "execution_count": 102,
   "metadata": {},
   "outputs": [
    {
     "name": "stdout",
     "output_type": "stream",
     "text": [
      "CPU times: user 4.02 ms, sys: 3.68 ms, total: 7.69 ms\n",
      "Wall time: 6.2 ms\n"
     ]
    }
   ],
   "source": [
    "%%time\n",
    "W = gd(X, y)"
   ]
  },
  {
   "cell_type": "code",
   "execution_count": 70,
   "metadata": {},
   "outputs": [
    {
     "data": {
      "text/plain": [
       "array([[3.72644596],\n",
       "       [3.21811736]])"
      ]
     },
     "execution_count": 70,
     "metadata": {},
     "output_type": "execute_result"
    }
   ],
   "source": [
    "W"
   ]
  },
  {
   "cell_type": "code",
   "execution_count": 96,
   "metadata": {},
   "outputs": [],
   "source": [
    "def sgd(X, y, epochs=50):\n",
    "    Xb = np.c_[np.ones((X.shape[0],1)), X]\n",
    "    t0, t1 = 10, 100\n",
    "    Ws = np.random.randn(2, 1)\n",
    "    for epoch in range(epochs):\n",
    "        for i in range (X.shape[0]):\n",
    "            random_ind = np.random.randint(X.shape[0])\n",
    "            Xi = Xb[random_ind:random_ind+1]\n",
    "            yi = y[random_ind:random_ind+1]\n",
    "            grads = 2*Xi.T.dot(Xi.dot(Ws)-yi)\n",
    "            learning_rate=t0/(t1+epoch*i)\n",
    "            Ws = Ws - learning_rate*grads\n",
    "    return Ws"
   ]
  },
  {
   "cell_type": "code",
   "execution_count": 101,
   "metadata": {},
   "outputs": [
    {
     "name": "stdout",
     "output_type": "stream",
     "text": [
      "CPU times: user 69.7 ms, sys: 0 ns, total: 69.7 ms\n",
      "Wall time: 68.7 ms\n"
     ]
    },
    {
     "data": {
      "text/plain": [
       "array([[3.6211053 ],\n",
       "       [3.29626305]])"
      ]
     },
     "execution_count": 101,
     "metadata": {},
     "output_type": "execute_result"
    }
   ],
   "source": [
    "%%time\n",
    "sgd(X, y)"
   ]
  },
  {
   "cell_type": "code",
   "execution_count": 87,
   "metadata": {},
   "outputs": [
    {
     "data": {
      "text/plain": [
       "array([99, 35,  6, 34, 86, 85, 78, 57, 63, 56, 25, 13, 96, 10, 31, 79, 26,\n",
       "       36, 90, 88, 93, 14, 94, 50,  1, 52, 73, 51, 83, 68, 60, 42, 41, 77,\n",
       "       12, 47, 44, 30, 66, 46, 22, 74,  2, 37, 29, 55, 54, 33, 82, 62, 45,\n",
       "        7,  8,  4,  5, 23, 67, 97, 71, 18, 59, 48, 98, 43, 53, 80, 21, 27,\n",
       "       69, 84, 19, 49, 39, 65, 58, 16, 87, 20, 89, 24, 81, 95, 75, 17,  9,\n",
       "       28, 64, 92, 91, 70, 11, 32, 61, 72,  0,  3, 15, 40, 76, 38])"
      ]
     },
     "execution_count": 87,
     "metadata": {},
     "output_type": "execute_result"
    }
   ],
   "source": [
    "np.random.permutation(X.size)"
   ]
  },
  {
   "cell_type": "code",
   "execution_count": 98,
   "metadata": {},
   "outputs": [],
   "source": [
    "def minibatchgd(X, y, epochs=50, batch_size=10):\n",
    "    Xb = np.c_[np.ones((X.size,1)), X]\n",
    "    t0, t1 = 10, 100\n",
    "    Ws = np.random.randn(2,1)\n",
    "    for epoch in range(epochs):\n",
    "        shuffled_ind = np.random.permutation(X.size)\n",
    "        Xsh = Xb[shuffled_ind]\n",
    "        ysh = y[shuffled_ind]\n",
    "        for i in range(0, X.size, batch_size):\n",
    "            Xi = Xsh[i:i+batch_size]\n",
    "            yi = ysh[i:i+batch_size]\n",
    "            grads = 2/batch_size*Xi.T.dot(Xi.dot(Ws)-yi)\n",
    "            learning_rate = t0/(t1+epoch*i)\n",
    "            Ws = Ws - learning_rate*grads\n",
    "    return Ws"
   ]
  },
  {
   "cell_type": "code",
   "execution_count": 100,
   "metadata": {},
   "outputs": [
    {
     "name": "stdout",
     "output_type": "stream",
     "text": [
      "CPU times: user 9.59 ms, sys: 80 µs, total: 9.67 ms\n",
      "Wall time: 9.2 ms\n"
     ]
    },
    {
     "data": {
      "text/plain": [
       "array([[3.83189745],\n",
       "       [3.21561556]])"
      ]
     },
     "execution_count": 100,
     "metadata": {},
     "output_type": "execute_result"
    }
   ],
   "source": [
    "%%time\n",
    "Ws = minibatchgd(X, y)\n",
    "Ws"
   ]
  },
  {
   "cell_type": "code",
   "execution_count": null,
   "metadata": {},
   "outputs": [],
   "source": []
  }
 ],
 "metadata": {
  "kernelspec": {
   "display_name": "Python 3",
   "language": "python",
   "name": "python3"
  },
  "language_info": {
   "codemirror_mode": {
    "name": "ipython",
    "version": 3
   },
   "file_extension": ".py",
   "mimetype": "text/x-python",
   "name": "python",
   "nbconvert_exporter": "python",
   "pygments_lexer": "ipython3",
   "version": "3.7.3"
  }
 },
 "nbformat": 4,
 "nbformat_minor": 2
}
