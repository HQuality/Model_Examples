{
 "cells": [
  {
   "cell_type": "markdown",
   "metadata": {
    "colab_type": "text",
    "id": "view-in-github"
   },
   "source": [
    "<a href=\"https://colab.research.google.com/github/HQuality/Model_Examples/blob/master/__Lenta_topic_classification.ipynb\" target=\"_parent\"><img src=\"https://colab.research.google.com/assets/colab-badge.svg\" alt=\"Open In Colab\"/></a>"
   ]
  },
  {
   "cell_type": "code",
   "execution_count": 1,
   "metadata": {
    "colab": {
     "base_uri": "https://localhost:8080/",
     "height": 73
    },
    "colab_type": "code",
    "id": "GygSJ-BDvMkX",
    "outputId": "a7d1b199-4f3c-4024-dd4a-51154bc963c6",
    "scrolled": true
   },
   "outputs": [
    {
     "name": "stderr",
     "output_type": "stream",
     "text": [
      "/usr/local/lib/python3.6/dist-packages/sklearn/externals/six.py:31: DeprecationWarning: The module is deprecated in version 0.21 and will be removed in version 0.23 since we've dropped support for Python 2.7. Please rely on the official version of six (https://pypi.org/project/six/).\n",
      "  \"(https://pypi.org/project/six/).\", DeprecationWarning)\n"
     ]
    }
   ],
   "source": [
    "import os\n",
    "import time\n",
    "import gc\n",
    "\n",
    "random_seed = 42\n",
    "\n",
    "import pandas as pd\n",
    "import numpy as np\n",
    "from scipy import stats\n",
    "from statsmodels.stats.weightstats import DescrStatsW\n",
    "from sklearn.model_selection import (StratifiedShuffleSplit, GridSearchCV,\n",
    "                                     RandomizedSearchCV, cross_val_score, StratifiedKFold,\n",
    "                                     train_test_split)\n",
    "from sklearn.linear_model import LogisticRegression, PassiveAggressiveClassifier\n",
    "from sklearn.svm import LinearSVC\n",
    "from sklearn.ensemble import RandomForestClassifier, ExtraTreesClassifier, VotingClassifier\n",
    "from sklearn.neighbors import KNeighborsClassifier\n",
    "from sklearn.naive_bayes import MultinomialNB\n",
    "from sklearn.preprocessing import (OneHotEncoder, FunctionTransformer,                                    \n",
    "                                   LabelEncoder, LabelBinarizer)\n",
    "from sklearn.metrics import accuracy_score, precision_score, recall_score, f1_score\n",
    "from sklearn.base import BaseEstimator, TransformerMixin\n",
    "from sklearn.pipeline import Pipeline\n",
    "from sklearn.feature_extraction import DictVectorizer\n",
    "from sklearn.feature_extraction.text import TfidfVectorizer\n",
    "from sklearn.compose import ColumnTransformer\n",
    "from sklearn.decomposition import TruncatedSVD\n",
    "from imblearn.over_sampling import (SMOTE, BorderlineSMOTE, SVMSMOTE, SMOTENC,\n",
    "                                    RandomOverSampler)\n",
    "from imblearn.under_sampling import TomekLinks\n",
    "from scipy.sparse import hstack\n",
    "from sklearn.random_projection import SparseRandomProjection\n",
    "\n",
    "import nltk\n",
    "import re\n",
    "import gensim\n",
    "from gensim.test.utils import common_corpus, common_dictionary\n",
    "from gensim.sklearn_api import TfIdfTransformer\n",
    "from gensim import models\n",
    "from gensim.corpora import Dictionary\n",
    "from urllib.parse import urlparse\n",
    "from bs4 import BeautifulSoup as bs\n",
    "from nltk.corpus import stopwords\n",
    "from nltk.tokenize import TreebankWordTokenizer\n",
    "import requests\n",
    "from tqdm import *\n",
    "from functools import lru_cache\n",
    "#from pymorphy2 import MorphAnalyzer\n",
    "from string import punctuation\n",
    "\n",
    "%matplotlib inline\n",
    "import plotly.graph_objects as go\n",
    "import plotly.express as px\n",
    "import seaborn as sns\n",
    "import matplotlib as mpl\n",
    "import matplotlib.pyplot as plt\n",
    "plt.style.use('ggplot')\n",
    "mpl.rc('lines', linewidth=4, color='g')\n",
    "\n",
    "import warnings\n",
    "warnings.filterwarnings('ignore')"
   ]
  },
  {
   "cell_type": "code",
   "execution_count": 0,
   "metadata": {
    "colab": {},
    "colab_type": "code",
    "id": "pBKF6eajvMkb",
    "outputId": "3f7f08e1-9534-4574-c6ef-51b8b5d17604"
   },
   "outputs": [
    {
     "name": "stdout",
     "output_type": "stream",
     "text": [
      "['lenta-ru-news.csv']\n"
     ]
    }
   ],
   "source": [
    "print(os.listdir(\"news\"))"
   ]
  },
  {
   "cell_type": "code",
   "execution_count": 0,
   "metadata": {
    "colab": {},
    "colab_type": "code",
    "id": "UJCi8__0vMke",
    "outputId": "8aa2627f-ffd2-4697-9136-7bfc9cd0b623",
    "scrolled": true
   },
   "outputs": [
    {
     "name": "stdout",
     "output_type": "stream",
     "text": [
      "791162 news/lenta-ru-news.csv\r\n"
     ]
    }
   ],
   "source": [
    "!wc -l news/lenta-ru-news.csv"
   ]
  },
  {
   "cell_type": "code",
   "execution_count": 0,
   "metadata": {
    "colab": {},
    "colab_type": "code",
    "id": "tvkPC0wZvMkh",
    "outputId": "8dbaa815-779f-45e1-f2e6-6654ce36457a"
   },
   "outputs": [
    {
     "name": "stdout",
     "output_type": "stream",
     "text": [
      "url,title,text,topic,tags\r",
      "\r\n",
      "https://lenta.ru/news/2018/12/14/cancer/,Названы регионы России с самой высокой смертностью от рака,\"Вице-премьер по социальным вопросам Татьяна Голикова рассказала, в каких регионах России зафиксирована наиболее высокая смертность от рака, сообщает РИА Новости. По словам Голиковой, чаще всего онкологические заболевания становились причиной смерти в Псковской, Тверской, Тульской и Орловской областях, а также в Севастополе. Вице-премьер напомнила, что главные факторы смертности в России — рак и болезни системы кровообращения. В начале года стало известно, что смертность от онкологических заболеваний среди россиян снизилась впервые за три года. По данным Росстата, в 2017 году от рака умерли 289 тысяч человек. Это на 3,5 процента меньше, чем годом ранее.\",Россия,Общество\r",
      "\r\n"
     ]
    }
   ],
   "source": [
    "!head -2 news/lenta-ru-news.csv"
   ]
  },
  {
   "cell_type": "markdown",
   "metadata": {
    "colab_type": "text",
    "id": "MWyfDULwvMkj"
   },
   "source": [
    "## Первичный анализ и предобработка."
   ]
  },
  {
   "cell_type": "code",
   "execution_count": 0,
   "metadata": {
    "colab": {},
    "colab_type": "code",
    "id": "1AkTGoK-vMkk",
    "outputId": "77112a72-e2f2-455b-c26c-a76734f5f688"
   },
   "outputs": [
    {
     "name": "stdout",
     "output_type": "stream",
     "text": [
      "Shape is: (739351, 5) with columns: ['url' 'title' 'text' 'topic' 'tags']\n"
     ]
    }
   ],
   "source": [
    "df = pd.read_csv('news/lenta-ru-news.csv', sep=',')\n",
    "print (\"Shape is: {} with columns: {}\".format(df.shape, df.columns.values))"
   ]
  },
  {
   "cell_type": "code",
   "execution_count": 0,
   "metadata": {
    "colab": {},
    "colab_type": "code",
    "id": "pDnlYorJvMkn",
    "outputId": "3c2d531f-81b8-436c-d5c5-cee65efbf9a8",
    "scrolled": true
   },
   "outputs": [
    {
     "data": {
      "text/html": [
       "<div>\n",
       "<style scoped>\n",
       "    .dataframe tbody tr th:only-of-type {\n",
       "        vertical-align: middle;\n",
       "    }\n",
       "\n",
       "    .dataframe tbody tr th {\n",
       "        vertical-align: top;\n",
       "    }\n",
       "\n",
       "    .dataframe thead th {\n",
       "        text-align: right;\n",
       "    }\n",
       "</style>\n",
       "<table border=\"1\" class=\"dataframe\">\n",
       "  <thead>\n",
       "    <tr style=\"text-align: right;\">\n",
       "      <th></th>\n",
       "      <th>url</th>\n",
       "      <th>title</th>\n",
       "      <th>text</th>\n",
       "      <th>topic</th>\n",
       "      <th>tags</th>\n",
       "    </tr>\n",
       "  </thead>\n",
       "  <tbody>\n",
       "    <tr>\n",
       "      <td>0</td>\n",
       "      <td>https://lenta.ru/news/2018/12/14/cancer/</td>\n",
       "      <td>Названы регионы России с самой высокой смертностью от рака</td>\n",
       "      <td>Вице-премьер по социальным вопросам Татьяна Голикова рассказала, в каких регионах России зафиксирована наиболее высокая смертность от рака, сообщает РИА Новости. По словам Голиковой, чаще всего онкологические заболевания становились причиной смерти в Псковской, Тверской, Тульской и Орловской областях, а также в Севастополе. Вице-премьер напомнила, что главные факторы смертности в России — рак и болезни системы кровообращения. В начале года стало известно, что смертность от онкологических заболеваний среди россиян снизилась впервые за три года. По данным Росстата, в 2017 году от рака умерли 289 тысяч человек. Это на 3,5 процента меньше, чем годом ранее.</td>\n",
       "      <td>Россия</td>\n",
       "      <td>Общество</td>\n",
       "    </tr>\n",
       "    <tr>\n",
       "      <td>1</td>\n",
       "      <td>https://lenta.ru/news/2018/12/15/doping/</td>\n",
       "      <td>Австрия не представила доказательств вины российских биатлонистов</td>\n",
       "      <td>Австрийские правоохранительные органы не представили доказательств нарушения российскими биатлонистами антидопинговых правил. Об этом сообщил посол России в Вене Дмитрий Любинский по итогам встречи уполномоченного адвоката дипмиссии с представителями прокуратуры страны, передает ТАСС. «Действует презумпция невиновности. Каких-либо ограничений свободы передвижения для команды нет», — добавили в посольстве. Международный союз биатлонистов (IBU) также не будет применять санкции к российским биатлонистам. Все они продолжат выступление на Кубке мира. Полиция нагрянула в отель сборной России в Хохфильцене вечером 12 декабря. Как написал биатлонист Александр Логинов, их считают виновными в махинациях с переливанием крови. Биатлонисту Антону Шипулину, также попавшему в список, полиция нанесла отдельный визит: сейчас он тренируется отдельно в австрийском Обертиллахе. Обвинения спортсмен назвал бредом, а также указал на «охоту на ведьм» в мировом биатлоне. В Австрии прием допинга — уголовное преступление. Максимальное наказание за его употребление — три года тюрьмы.</td>\n",
       "      <td>Спорт</td>\n",
       "      <td>Зимние виды</td>\n",
       "    </tr>\n",
       "    <tr>\n",
       "      <td>2</td>\n",
       "      <td>https://lenta.ru/news/2018/12/15/disneyland/</td>\n",
       "      <td>Обнаружено самое счастливое место на планете</td>\n",
       "      <td>Сотрудники социальной сети Instagram проанализировали поставленные пользователями смайлики, геолокации и хештеги и опубликовали итоги 2018 года. Об этом сообщается на официальном сайте Instagram. Таким образом, самой счастливой геолокацией Instagram признал Диснейленд в Токио, так как больше всего счастливых смайликов в 2018 году пользователи ставили именно под фотографиями из японского Диснейленда. Также эксперты назвали самый популярный фильтр для лица: им стал фильтр с сердечками на глазах. А, например, самыми часто используемыми хештегами в 2018 году были #metoo, #timesup и #marchforourlives. В ноябре сотрудники британской ассоциации потребителей Which? составили рейтинг самых безопасных стран для путешествий. Специалисты проанализировали 20 самых популярных туристических направлений по четырем критериям: уровень преступности, угроза здоровью, вероятность теракта и стихийных бедствий. Самой безопасной страной по всем параметрам стала Исландия.</td>\n",
       "      <td>Путешествия</td>\n",
       "      <td>Мир</td>\n",
       "    </tr>\n",
       "  </tbody>\n",
       "</table>\n",
       "</div>"
      ],
      "text/plain": [
       "                                            url  \\\n",
       "0  https://lenta.ru/news/2018/12/14/cancer/       \n",
       "1  https://lenta.ru/news/2018/12/15/doping/       \n",
       "2  https://lenta.ru/news/2018/12/15/disneyland/   \n",
       "\n",
       "                                                               title  \\\n",
       "0  Названы регионы России с самой высокой смертностью от рака          \n",
       "1  Австрия не представила доказательств вины российских биатлонистов   \n",
       "2  Обнаружено самое счастливое место на планете                        \n",
       "\n",
       "                                                                                                                                                                                                                                                                                                                                                                                                                                                                                                                                                                                                                                                                                                                                                                                                                                                                                                                                                                                                                                                                                                               text  \\\n",
       "0  Вице-премьер по социальным вопросам Татьяна Голикова рассказала, в каких регионах России зафиксирована наиболее высокая смертность от рака, сообщает РИА Новости. По словам Голиковой, чаще всего онкологические заболевания становились причиной смерти в Псковской, Тверской, Тульской и Орловской областях, а также в Севастополе. Вице-премьер напомнила, что главные факторы смертности в России — рак и болезни системы кровообращения. В начале года стало известно, что смертность от онкологических заболеваний среди россиян снизилась впервые за три года. По данным Росстата, в 2017 году от рака умерли 289 тысяч человек. Это на 3,5 процента меньше, чем годом ранее.                                                                                                                                                                                                                                                                                                                                                                                                                               \n",
       "1  Австрийские правоохранительные органы не представили доказательств нарушения российскими биатлонистами антидопинговых правил. Об этом сообщил посол России в Вене Дмитрий Любинский по итогам встречи уполномоченного адвоката дипмиссии с представителями прокуратуры страны, передает ТАСС. «Действует презумпция невиновности. Каких-либо ограничений свободы передвижения для команды нет», — добавили в посольстве. Международный союз биатлонистов (IBU) также не будет применять санкции к российским биатлонистам. Все они продолжат выступление на Кубке мира. Полиция нагрянула в отель сборной России в Хохфильцене вечером 12 декабря. Как написал биатлонист Александр Логинов, их считают виновными в махинациях с переливанием крови. Биатлонисту Антону Шипулину, также попавшему в список, полиция нанесла отдельный визит: сейчас он тренируется отдельно в австрийском Обертиллахе. Обвинения спортсмен назвал бредом, а также указал на «охоту на ведьм» в мировом биатлоне. В Австрии прием допинга — уголовное преступление. Максимальное наказание за его употребление — три года тюрьмы.   \n",
       "2  Сотрудники социальной сети Instagram проанализировали поставленные пользователями смайлики, геолокации и хештеги и опубликовали итоги 2018 года. Об этом сообщается на официальном сайте Instagram. Таким образом, самой счастливой геолокацией Instagram признал Диснейленд в Токио, так как больше всего счастливых смайликов в 2018 году пользователи ставили именно под фотографиями из японского Диснейленда. Также эксперты назвали самый популярный фильтр для лица: им стал фильтр с сердечками на глазах. А, например, самыми часто используемыми хештегами в 2018 году были #metoo, #timesup и #marchforourlives. В ноябре сотрудники британской ассоциации потребителей Which? составили рейтинг самых безопасных стран для путешествий. Специалисты проанализировали 20 самых популярных туристических направлений по четырем критериям: уровень преступности, угроза здоровью, вероятность теракта и стихийных бедствий. Самой безопасной страной по всем параметрам стала Исландия.                                                                                                                  \n",
       "\n",
       "         topic         tags  \n",
       "0  Россия       Общество     \n",
       "1  Спорт        Зимние виды  \n",
       "2  Путешествия  Мир          "
      ]
     },
     "execution_count": 21,
     "metadata": {
      "tags": []
     },
     "output_type": "execute_result"
    }
   ],
   "source": [
    "pd.set_option('display.max_colwidth', -1)\n",
    "df.head(3)"
   ]
  },
  {
   "cell_type": "markdown",
   "metadata": {
    "colab_type": "text",
    "id": "0ckq_yu_vMkq"
   },
   "source": [
    "**Посмотрим, есть ли пропуски в данных** (в явном или неявном виде)"
   ]
  },
  {
   "cell_type": "code",
   "execution_count": 0,
   "metadata": {
    "colab": {},
    "colab_type": "code",
    "id": "vM7G26qgvMkr",
    "outputId": "316091ed-ad89-4a9d-e19d-a5be2984719d",
    "scrolled": true
   },
   "outputs": [
    {
     "data": {
      "text/plain": [
       "url      False\n",
       "title    False\n",
       "text      True\n",
       "topic     True\n",
       "tags      True\n",
       "dtype: bool"
      ]
     },
     "execution_count": 290,
     "metadata": {
      "tags": []
     },
     "output_type": "execute_result"
    }
   ],
   "source": [
    "df.isnull().any()"
   ]
  },
  {
   "cell_type": "code",
   "execution_count": 0,
   "metadata": {
    "colab": {},
    "colab_type": "code",
    "id": "E1_7mHw5vMku",
    "outputId": "779692ca-d557-436e-c15f-76448814663d"
   },
   "outputs": [
    {
     "data": {
      "text/plain": [
       "Text(0.5, 1.0, 'Распределение NA по стобцам')"
      ]
     },
     "execution_count": 3,
     "metadata": {
      "tags": []
     },
     "output_type": "execute_result"
    },
    {
     "data": {
      "image/png": "[encoded data removed]",
      "text/plain": [
       "<Figure size 360x360 with 1 Axes>"
      ]
     },
     "metadata": {
      "needs_background": "light",
      "tags": []
     },
     "output_type": "display_data"
    }
   ],
   "source": [
    "plt.figure(figsize=(5, 5))\n",
    "df.isnull().mean(axis=0).plot.barh()\n",
    "plt.title('Распределение NA по стобцам')"
   ]
  },
  {
   "cell_type": "code",
   "execution_count": 0,
   "metadata": {
    "colab": {},
    "colab_type": "code",
    "id": "KGM8Fc1EvMkx",
    "outputId": "289acc8e-f2a7-49dc-8f01-406b98445c71"
   },
   "outputs": [
    {
     "data": {
      "text/plain": [
       "url      203\n",
       "title    203\n",
       "text     203\n",
       "topic      0\n",
       "tags       3\n",
       "dtype: int64"
      ]
     },
     "execution_count": 294,
     "metadata": {
      "tags": []
     },
     "output_type": "execute_result"
    }
   ],
   "source": [
    "df[df['topic'].isnull()].count()"
   ]
  },
  {
   "cell_type": "markdown",
   "metadata": {
    "colab_type": "text",
    "id": "fBabm0hsvMkz"
   },
   "source": [
    "У нас есть 203 новости с пропусками целевой переменной. Тут можно остановиться и подумать, что с этими пропусками делать. Предлагаю посмотреть, а есть ли они на сайте, если их нет - придется просто удалять."
   ]
  },
  {
   "cell_type": "code",
   "execution_count": 0,
   "metadata": {
    "colab": {},
    "colab_type": "code",
    "id": "dvztmLDrvMk0"
   },
   "outputs": [],
   "source": [
    "links = df[df['topic'].isnull()].url.values[:5]"
   ]
  },
  {
   "cell_type": "code",
   "execution_count": 0,
   "metadata": {
    "colab": {},
    "colab_type": "code",
    "id": "yInWSdgWvMk3",
    "outputId": "e6799a45-c0b5-4492-98c0-5bce5529d548"
   },
   "outputs": [
    {
     "name": "stdout",
     "output_type": "stream",
     "text": [
      "Японский профессор рассказал о свойствах молекулярного водорода: Lenta.ru\n",
      "Подведены итоги «ИгроМира» и Comic Con Russia: Lenta.ru\n",
      "Московские разработчики показали Population Zero: Lenta.ru\n",
      "Подведены итоги IX ежегодной премии «Права потребителей и качество обслуживания»: Lenta.ru\n",
      "Опубликована деловая программа Восточного экономического форума: Lenta.ru\n"
     ]
    }
   ],
   "source": [
    "for _, link in enumerate(links):\n",
    "    p = requests.get(link)\n",
    "    soup = bs(p.content, 'html.parser')\n",
    "    print (soup.title.get_text())"
   ]
  },
  {
   "cell_type": "code",
   "execution_count": 0,
   "metadata": {
    "colab": {},
    "colab_type": "code",
    "id": "wRNDqjYQvMk6"
   },
   "outputs": [],
   "source": [
    "# похоже, что эти строки действительно без рубрик. Удаляем.\n",
    "df = df.dropna(subset=['topic'])"
   ]
  },
  {
   "cell_type": "code",
   "execution_count": 0,
   "metadata": {
    "colab": {},
    "colab_type": "code",
    "id": "uZpSPcjnvMk9",
    "outputId": "0ef513bb-0255-48df-e4d1-b5b18072719c"
   },
   "outputs": [
    {
     "data": {
      "text/plain": [
       "url      26314\n",
       "title    26314\n",
       "text     26314\n",
       "topic    26314\n",
       "tags         0\n",
       "dtype: int64"
      ]
     },
     "execution_count": 16,
     "metadata": {
      "tags": []
     },
     "output_type": "execute_result"
    }
   ],
   "source": [
    "df[df['tags'].isnull()].count()"
   ]
  },
  {
   "cell_type": "markdown",
   "metadata": {
    "colab_type": "text",
    "id": "50zti2RsvMk_"
   },
   "source": [
    "Огромное количество новостей без тэга, будем что-то делать, в этих строках все же очень много информации, хотелось бы её использовать. Главных вариантов два - или заменить все NaN в тэгах на какой-то новый тэг, или немного потревожить сайт :)"
   ]
  },
  {
   "cell_type": "code",
   "execution_count": 0,
   "metadata": {
    "colab": {},
    "colab_type": "code",
    "id": "ZYaFRaFDvMlA"
   },
   "outputs": [],
   "source": [
    "def simpleparser(url):\n",
    "    p = requests.get(url)\n",
    "    soup = bs(p.content, 'html.parser')\n",
    "    try:\n",
    "        return soup.title.get_text().split(\":\")[-3]\n",
    "    except IndexError:\n",
    "        print('No match for {}'.format(url))\n",
    "\n",
    "def tagspuller(links):\n",
    "    t = []\n",
    "    for link in links:\n",
    "        t.append(simpleparser(link))\n",
    "    s = pd.Series(t, index=links.index, name='tags')\n",
    "    return s"
   ]
  },
  {
   "cell_type": "code",
   "execution_count": 0,
   "metadata": {
    "colab": {},
    "colab_type": "code",
    "id": "amQvGZtIvMlD"
   },
   "outputs": [],
   "source": [
    "tags_urls = df[df['tags'].isnull()].url\n",
    "tag_series = tagspuller(tags_urls) # часок или два. Можно распараллеливать, конечно\n",
    "tag_series.to_csv('tags_lenta.csv')"
   ]
  },
  {
   "cell_type": "code",
   "execution_count": 0,
   "metadata": {
    "colab": {},
    "colab_type": "code",
    "id": "DDWevDokvMlG"
   },
   "outputs": [],
   "source": []
  },
  {
   "cell_type": "code",
   "execution_count": 0,
   "metadata": {
    "colab": {},
    "colab_type": "code",
    "id": "9AAU1GonvMlI"
   },
   "outputs": [],
   "source": [
    "tag_series = pd.read_csv('tags_lenta.csv',index_col=0,header=None,names=['tags'])\n",
    "df.fillna(tag_series, inplace=True)"
   ]
  },
  {
   "cell_type": "code",
   "execution_count": 0,
   "metadata": {
    "colab": {},
    "colab_type": "code",
    "id": "PeDGZGIZvMlL",
    "outputId": "4fbbb989-778a-426e-b609-d8f23a010ef2"
   },
   "outputs": [
    {
     "data": {
      "text/plain": [
       "url      0\n",
       "title    0\n",
       "text     0\n",
       "topic    0\n",
       "tags     0\n",
       "dtype: int64"
      ]
     },
     "execution_count": 5,
     "metadata": {
      "tags": []
     },
     "output_type": "execute_result"
    }
   ],
   "source": [
    "df[df['tags'].isnull()].count()"
   ]
  },
  {
   "cell_type": "code",
   "execution_count": 0,
   "metadata": {
    "colab": {},
    "colab_type": "code",
    "id": "v9OUWcZ-vMlO",
    "outputId": "ead4f0e9-365f-4d9c-b94a-c0692f2ccc13",
    "scrolled": true
   },
   "outputs": [
    {
     "data": {
      "text/html": [
       "<div>\n",
       "<style scoped>\n",
       "    .dataframe tbody tr th:only-of-type {\n",
       "        vertical-align: middle;\n",
       "    }\n",
       "\n",
       "    .dataframe tbody tr th {\n",
       "        vertical-align: top;\n",
       "    }\n",
       "\n",
       "    .dataframe thead th {\n",
       "        text-align: right;\n",
       "    }\n",
       "</style>\n",
       "<table border=\"1\" class=\"dataframe\">\n",
       "  <thead>\n",
       "    <tr style=\"text-align: right;\">\n",
       "      <th></th>\n",
       "      <th>url</th>\n",
       "      <th>title</th>\n",
       "      <th>text</th>\n",
       "      <th>topic</th>\n",
       "      <th>tags</th>\n",
       "    </tr>\n",
       "  </thead>\n",
       "  <tbody>\n",
       "    <tr>\n",
       "      <td>156671</td>\n",
       "      <td>https://lenta.ru/news/2016/02/23/aquarium/</td>\n",
       "      <td>Гребенщиков заработал 10 тысяч рублей в омском...</td>\n",
       "      <td>NaN</td>\n",
       "      <td>Культура</td>\n",
       "      <td>Музыка</td>\n",
       "    </tr>\n",
       "    <tr>\n",
       "      <td>584521</td>\n",
       "      <td>https://lenta.ru/news/2006/05/31/an70/</td>\n",
       "      <td>РФ вышла из российско-украинского проекта Ан-70</td>\n",
       "      <td>NaN</td>\n",
       "      <td>Россия</td>\n",
       "      <td>Все</td>\n",
       "    </tr>\n",
       "    <tr>\n",
       "      <td>585302</td>\n",
       "      <td>https://lenta.ru/news/2006/05/24/fire/</td>\n",
       "      <td>В Стамбуле горит багажное отделение аэропорта ...</td>\n",
       "      <td>NaN</td>\n",
       "      <td>Мир</td>\n",
       "      <td>Все</td>\n",
       "    </tr>\n",
       "    <tr>\n",
       "      <td>586050</td>\n",
       "      <td>https://lenta.ru/news/2006/05/16/dagestan/</td>\n",
       "      <td>При штурме дома в Кизилюрте ранены шестеро</td>\n",
       "      <td>NaN</td>\n",
       "      <td>Россия</td>\n",
       "      <td>Все</td>\n",
       "    </tr>\n",
       "    <tr>\n",
       "      <td>588317</td>\n",
       "      <td>https://lenta.ru/news/2006/04/20/student1/</td>\n",
       "      <td>Прокуратура не нашла национальной почвы в напа...</td>\n",
       "      <td>NaN</td>\n",
       "      <td>Россия</td>\n",
       "      <td>Все</td>\n",
       "    </tr>\n",
       "  </tbody>\n",
       "</table>\n",
       "</div>"
      ],
      "text/plain": [
       "                                               url  \\\n",
       "156671  https://lenta.ru/news/2016/02/23/aquarium/   \n",
       "584521      https://lenta.ru/news/2006/05/31/an70/   \n",
       "585302      https://lenta.ru/news/2006/05/24/fire/   \n",
       "586050  https://lenta.ru/news/2006/05/16/dagestan/   \n",
       "588317  https://lenta.ru/news/2006/04/20/student1/   \n",
       "\n",
       "                                                    title text     topic  \\\n",
       "156671  Гребенщиков заработал 10 тысяч рублей в омском...  NaN  Культура   \n",
       "584521    РФ вышла из российско-украинского проекта Ан-70  NaN    Россия   \n",
       "585302  В Стамбуле горит багажное отделение аэропорта ...  NaN       Мир   \n",
       "586050         При штурме дома в Кизилюрте ранены шестеро  NaN    Россия   \n",
       "588317  Прокуратура не нашла национальной почвы в напа...  NaN    Россия   \n",
       "\n",
       "          tags  \n",
       "156671  Музыка  \n",
       "584521     Все  \n",
       "585302     Все  \n",
       "586050     Все  \n",
       "588317     Все  "
      ]
     },
     "execution_count": 6,
     "metadata": {
      "tags": []
     },
     "output_type": "execute_result"
    }
   ],
   "source": [
    "df[df['text'].isnull()]"
   ]
  },
  {
   "cell_type": "code",
   "execution_count": 0,
   "metadata": {
    "colab": {},
    "colab_type": "code",
    "id": "N3IuiWGavMlS"
   },
   "outputs": [],
   "source": [
    "# здесь аналогично, другой вариант - заполнить пробелами или стоп-словами"
   ]
  },
  {
   "cell_type": "code",
   "execution_count": 0,
   "metadata": {
    "colab": {},
    "colab_type": "code",
    "id": "KjYpW9pWvMlW"
   },
   "outputs": [],
   "source": [
    "text_urls = df[df['text'].isnull()].url\n",
    "\n",
    "def simpleparser2(url):\n",
    "    p = requests.get(url)\n",
    "    soup = bs(p.content, 'html.parser')\n",
    "    try:\n",
    "        return soup.head.find(property=\"og:description\")['content']\n",
    "    except IndexError:\n",
    "        print('No match for {}'.format(url))\n",
    "\n",
    "def textpuller(links):\n",
    "    t = []\n",
    "    for link in links:\n",
    "        t.append(simpleparser2(link))\n",
    "    s = pd.Series(t, index=links.index, name='text')\n",
    "    return s"
   ]
  },
  {
   "cell_type": "code",
   "execution_count": 0,
   "metadata": {
    "colab": {},
    "colab_type": "code",
    "id": "wdmTzW5IvMla"
   },
   "outputs": [],
   "source": [
    "text_series = textpuller(text_urls)\n",
    "df.fillna(text_series.to_frame(), inplace=True)"
   ]
  },
  {
   "cell_type": "code",
   "execution_count": 0,
   "metadata": {
    "colab": {},
    "colab_type": "code",
    "id": "XHypOBYnvMld",
    "outputId": "fc39fa1e-3f55-4a55-aa3d-a86271881856"
   },
   "outputs": [
    {
     "data": {
      "text/plain": [
       "url                 https://lenta.ru/news/2006/05/24/fire/\n",
       "title    В Стамбуле горит багажное отделение аэропорта ...\n",
       "text     В Турции начался крупный пожар в международном...\n",
       "topic                                                  Мир\n",
       "tags                                                   Все\n",
       "Name: 585302, dtype: object"
      ]
     },
     "execution_count": 58,
     "metadata": {
      "tags": []
     },
     "output_type": "execute_result"
    }
   ],
   "source": [
    "df.loc[585302]"
   ]
  },
  {
   "cell_type": "code",
   "execution_count": 0,
   "metadata": {
    "colab": {},
    "colab_type": "code",
    "id": "e6jVwNbEvMlg"
   },
   "outputs": [],
   "source": [
    "df = df.applymap(str.lower) #все в нижний регистр. Важно сейчас, потому что будем смотреть, есть ли дубликаты."
   ]
  },
  {
   "cell_type": "code",
   "execution_count": 0,
   "metadata": {
    "colab": {},
    "colab_type": "code",
    "id": "8tatPARpvMlj",
    "outputId": "8be54897-b319-4e6e-9bbb-07393b316fe5"
   },
   "outputs": [
    {
     "data": {
      "text/plain": [
       "738973"
      ]
     },
     "execution_count": 9,
     "metadata": {
      "tags": []
     },
     "output_type": "execute_result"
    }
   ],
   "source": [
    "# дупликаты строк по всем столбцам, удаляем, чтобы избежать лишнего переобучения.\n",
    "df.drop_duplicates(inplace=True)\n",
    "len(df)"
   ]
  },
  {
   "cell_type": "code",
   "execution_count": 0,
   "metadata": {
    "colab": {},
    "colab_type": "code",
    "id": "Z0fcUW5zvMll"
   },
   "outputs": [],
   "source": [
    "df.drop_duplicates(subset='text',keep='first',inplace=True)"
   ]
  },
  {
   "cell_type": "code",
   "execution_count": 0,
   "metadata": {
    "colab": {},
    "colab_type": "code",
    "id": "ep73GvKvvMln",
    "outputId": "cf0fec52-e6ff-497f-8d25-6033eafe0179"
   },
   "outputs": [
    {
     "data": {
      "text/html": [
       "<div>\n",
       "<style scoped>\n",
       "    .dataframe tbody tr th:only-of-type {\n",
       "        vertical-align: middle;\n",
       "    }\n",
       "\n",
       "    .dataframe tbody tr th {\n",
       "        vertical-align: top;\n",
       "    }\n",
       "\n",
       "    .dataframe thead th {\n",
       "        text-align: right;\n",
       "    }\n",
       "</style>\n",
       "<table border=\"1\" class=\"dataframe\">\n",
       "  <thead>\n",
       "    <tr style=\"text-align: right;\">\n",
       "      <th></th>\n",
       "      <th>url</th>\n",
       "      <th>title</th>\n",
       "      <th>text</th>\n",
       "      <th>topic</th>\n",
       "      <th>tags</th>\n",
       "    </tr>\n",
       "  </thead>\n",
       "  <tbody>\n",
       "    <tr>\n",
       "      <td>79</td>\n",
       "      <td>https://lenta.ru/news/2018/12/14/spb/</td>\n",
       "      <td>названы районы петербурга с самым дешевым жильем</td>\n",
       "      <td>самые высокие цены на аренду жилья в петербург...</td>\n",
       "      <td>дом</td>\n",
       "      <td>квартира</td>\n",
       "    </tr>\n",
       "    <tr>\n",
       "      <td>233</td>\n",
       "      <td>https://lenta.ru/news/2018/12/13/teams/</td>\n",
       "      <td>определились все участники плей-офф лиги чемпи...</td>\n",
       "      <td>определились все 16 участников плей-офф лиги ч...</td>\n",
       "      <td>спорт</td>\n",
       "      <td>футбол</td>\n",
       "    </tr>\n",
       "    <tr>\n",
       "      <td>384</td>\n",
       "      <td>https://lenta.ru/news/2018/12/13/sanctions/</td>\n",
       "      <td>ес продлил экономические санкции против россии</td>\n",
       "      <td>европейский союз продлил экономические санкции...</td>\n",
       "      <td>мир</td>\n",
       "      <td>политика</td>\n",
       "    </tr>\n",
       "    <tr>\n",
       "      <td>672</td>\n",
       "      <td>https://lenta.ru/news/2018/12/11/time/</td>\n",
       "      <td>назван человек года по версии time</td>\n",
       "      <td>журналисты, гонимые за свои взгляды и поиск пр...</td>\n",
       "      <td>интернет и сми</td>\n",
       "      <td>пресса</td>\n",
       "    </tr>\n",
       "    <tr>\n",
       "      <td>1256</td>\n",
       "      <td>https://lenta.ru/news/2018/12/06/mozgi/</td>\n",
       "      <td>медведев посоветовал чиновникам «включать мозги»</td>\n",
       "      <td>премьер-министр дмитрий медведев посоветовал н...</td>\n",
       "      <td>россия</td>\n",
       "      <td>политика</td>\n",
       "    </tr>\n",
       "    <tr>\n",
       "      <td>1329</td>\n",
       "      <td>https://lenta.ru/news/2018/12/06/globus/</td>\n",
       "      <td>объявлены номинанты на «золотой глобус»</td>\n",
       "      <td>в лос-анджелесе объявили номинантов на кинопре...</td>\n",
       "      <td>культура</td>\n",
       "      <td>кино</td>\n",
       "    </tr>\n",
       "    <tr>\n",
       "      <td>1793</td>\n",
       "      <td>https://lenta.ru/news/2018/12/03/bestmusicof2018/</td>\n",
       "      <td>названа лучшая песня года</td>\n",
       "      <td>музыкальные критики газеты the guardian выбрал...</td>\n",
       "      <td>культура</td>\n",
       "      <td>музыка</td>\n",
       "    </tr>\n",
       "    <tr>\n",
       "      <td>1850</td>\n",
       "      <td>https://lenta.ru/news/2018/12/02/goldenrent/</td>\n",
       "      <td>раскрыты данные о самых дорогих съемных кварти...</td>\n",
       "      <td>в ноябре 2018-го максимальная ставка аренды жи...</td>\n",
       "      <td>дом</td>\n",
       "      <td>квартира</td>\n",
       "    </tr>\n",
       "    <tr>\n",
       "      <td>1944</td>\n",
       "      <td>https://lenta.ru/news/2018/11/30/syria/</td>\n",
       "      <td>сирия заявила об уничтожении израильского само...</td>\n",
       "      <td>сирийские системы пво сбили израильский военны...</td>\n",
       "      <td>мир</td>\n",
       "      <td>конфликты</td>\n",
       "    </tr>\n",
       "    <tr>\n",
       "      <td>2272</td>\n",
       "      <td>https://lenta.ru/news/2018/11/29/schpartak/</td>\n",
       "      <td>«спартак» упустил победу в лиге европы</td>\n",
       "      <td>московский «спартак» проиграл австрийскому «ра...</td>\n",
       "      <td>спорт</td>\n",
       "      <td>футбол</td>\n",
       "    </tr>\n",
       "  </tbody>\n",
       "</table>\n",
       "</div>"
      ],
      "text/plain": [
       "                                                    url  \\\n",
       "79                https://lenta.ru/news/2018/12/14/spb/   \n",
       "233             https://lenta.ru/news/2018/12/13/teams/   \n",
       "384         https://lenta.ru/news/2018/12/13/sanctions/   \n",
       "672              https://lenta.ru/news/2018/12/11/time/   \n",
       "1256            https://lenta.ru/news/2018/12/06/mozgi/   \n",
       "1329           https://lenta.ru/news/2018/12/06/globus/   \n",
       "1793  https://lenta.ru/news/2018/12/03/bestmusicof2018/   \n",
       "1850       https://lenta.ru/news/2018/12/02/goldenrent/   \n",
       "1944            https://lenta.ru/news/2018/11/30/syria/   \n",
       "2272        https://lenta.ru/news/2018/11/29/schpartak/   \n",
       "\n",
       "                                                  title  \\\n",
       "79     названы районы петербурга с самым дешевым жильем   \n",
       "233   определились все участники плей-офф лиги чемпи...   \n",
       "384      ес продлил экономические санкции против россии   \n",
       "672                  назван человек года по версии time   \n",
       "1256   медведев посоветовал чиновникам «включать мозги»   \n",
       "1329            объявлены номинанты на «золотой глобус»   \n",
       "1793                          названа лучшая песня года   \n",
       "1850  раскрыты данные о самых дорогих съемных кварти...   \n",
       "1944  сирия заявила об уничтожении израильского само...   \n",
       "2272             «спартак» упустил победу в лиге европы   \n",
       "\n",
       "                                                   text           topic  \\\n",
       "79    самые высокие цены на аренду жилья в петербург...             дом   \n",
       "233   определились все 16 участников плей-офф лиги ч...           спорт   \n",
       "384   европейский союз продлил экономические санкции...             мир   \n",
       "672   журналисты, гонимые за свои взгляды и поиск пр...  интернет и сми   \n",
       "1256  премьер-министр дмитрий медведев посоветовал н...          россия   \n",
       "1329  в лос-анджелесе объявили номинантов на кинопре...        культура   \n",
       "1793  музыкальные критики газеты the guardian выбрал...        культура   \n",
       "1850  в ноябре 2018-го максимальная ставка аренды жи...             дом   \n",
       "1944  сирийские системы пво сбили израильский военны...             мир   \n",
       "2272  московский «спартак» проиграл австрийскому «ра...           спорт   \n",
       "\n",
       "           tags  \n",
       "79     квартира  \n",
       "233      футбол  \n",
       "384    политика  \n",
       "672      пресса  \n",
       "1256   политика  \n",
       "1329       кино  \n",
       "1793     музыка  \n",
       "1850   квартира  \n",
       "1944  конфликты  \n",
       "2272     футбол  "
      ]
     },
     "execution_count": 14,
     "metadata": {
      "tags": []
     },
     "output_type": "execute_result"
    }
   ],
   "source": [
    "df[df['title'].duplicated(keep=False)].head(10)"
   ]
  },
  {
   "cell_type": "markdown",
   "metadata": {
    "colab_type": "text",
    "id": "LYGHHkbnvMlp"
   },
   "source": [
    "Очевидно, что такие заголовки как *\"названы районы Петербурга с самым дешевым жильем\"* могут встречаться много раз. Это норма (с)"
   ]
  },
  {
   "cell_type": "code",
   "execution_count": 0,
   "metadata": {
    "colab": {},
    "colab_type": "code",
    "id": "1uTtgm1VvMls"
   },
   "outputs": [],
   "source": [
    "# тянем дату новости и имя страницы из поля 'url'. Возможно пригодится.\n",
    "df['time'] = df['url'].apply(lambda x: urlparse(x).path.split('/')[2:5]).str.join('-')\n",
    "df['time'] = pd.to_datetime(df['time'], format='%Y-%m-%d')\n",
    "df['year'] = df.time.map(lambda x: x.strftime('%Y'))\n",
    "df['pagename'] = df['url'].apply(lambda x: urlparse(x).path.split('/')[5])"
   ]
  },
  {
   "cell_type": "code",
   "execution_count": 0,
   "metadata": {
    "colab": {},
    "colab_type": "code",
    "id": "MOGzva2hvMlu",
    "outputId": "aa6166a5-8562-430e-d1f3-a756ddf8ab77"
   },
   "outputs": [
    {
     "name": "stdout",
     "output_type": "stream",
     "text": [
      "Максимальное количество новостей за день: 278 \n",
      "Достигнуто: 2016-12-01 00:00:00\n"
     ]
    }
   ],
   "source": [
    "print ('Максимальное количество новостей за день: {} \\nДостигнуто: {}'.format(\n",
    "    df.time.value_counts()[0], \n",
    "    df.time.value_counts().index[0])\n",
    "      )"
   ]
  },
  {
   "cell_type": "code",
   "execution_count": 0,
   "metadata": {
    "colab": {
     "base_uri": "https://localhost:8080/",
     "height": 314
    },
    "colab_type": "code",
    "id": "ikBuXnzuvMlx",
    "outputId": "85de20a0-808c-4d3d-db00-6768d69ff264"
   },
   "outputs": [
    {
     "data": {
      "image/png": "[encoded data removed]",
      "text/plain": [
       "<Figure size 432x288 with 1 Axes>"
      ]
     },
     "metadata": {
      "tags": []
     },
     "output_type": "display_data"
    }
   ],
   "source": [
    "ax = sns.countplot(x='year', data=df, palette='Blues_d')\n",
    "ax.set_title('Кол-во новостей за год')\n",
    "plt.xticks(rotation=45);"
   ]
  },
  {
   "cell_type": "markdown",
   "metadata": {
    "colab_type": "text",
    "id": "gJ1LlfXNvMlz"
   },
   "source": [
    " "
   ]
  },
  {
   "cell_type": "code",
   "execution_count": 0,
   "metadata": {
    "colab": {},
    "colab_type": "code",
    "id": "BKLiltjbvMl0"
   },
   "outputs": [],
   "source": [
    "cols = ['topic']\n",
    "df1 = (df.melt(id_vars='time', value_vars=cols)\n",
    "         .groupby([pd.Grouper(key='time', freq='Y'),'value'])\n",
    "         .size()\n",
    "         .unstack(fill_value=0))"
   ]
  },
  {
   "cell_type": "code",
   "execution_count": 0,
   "metadata": {
    "colab": {},
    "colab_type": "code",
    "id": "jk0lebxTvMl3",
    "outputId": "491db925-d70d-4393-804f-dfff8804e2b3"
   },
   "outputs": [
    {
     "data": {
      "text/html": [
       "<div>\n",
       "<style scoped>\n",
       "    .dataframe tbody tr th:only-of-type {\n",
       "        vertical-align: middle;\n",
       "    }\n",
       "\n",
       "    .dataframe tbody tr th {\n",
       "        vertical-align: top;\n",
       "    }\n",
       "\n",
       "    .dataframe thead th {\n",
       "        text-align: right;\n",
       "    }\n",
       "</style>\n",
       "<table border=\"1\" class=\"dataframe\">\n",
       "  <thead>\n",
       "    <tr style=\"text-align: right;\">\n",
       "      <th>value</th>\n",
       "      <th>69-я параллель</th>\n",
       "      <th>Библиотека</th>\n",
       "      <th>Бизнес</th>\n",
       "      <th>Бывший СССР</th>\n",
       "      <th>Дом</th>\n",
       "      <th>Из жизни</th>\n",
       "      <th>Интернет и СМИ</th>\n",
       "      <th>Крым</th>\n",
       "      <th>Культпросвет</th>\n",
       "      <th>Культура</th>\n",
       "      <th>...</th>\n",
       "      <th>Наука и техника</th>\n",
       "      <th>Оружие</th>\n",
       "      <th>Путешествия</th>\n",
       "      <th>Россия</th>\n",
       "      <th>Силовые структуры</th>\n",
       "      <th>Сочи</th>\n",
       "      <th>Спорт</th>\n",
       "      <th>Ценности</th>\n",
       "      <th>ЧМ-2014</th>\n",
       "      <th>Экономика</th>\n",
       "    </tr>\n",
       "    <tr>\n",
       "      <th>time</th>\n",
       "      <th></th>\n",
       "      <th></th>\n",
       "      <th></th>\n",
       "      <th></th>\n",
       "      <th></th>\n",
       "      <th></th>\n",
       "      <th></th>\n",
       "      <th></th>\n",
       "      <th></th>\n",
       "      <th></th>\n",
       "      <th></th>\n",
       "      <th></th>\n",
       "      <th></th>\n",
       "      <th></th>\n",
       "      <th></th>\n",
       "      <th></th>\n",
       "      <th></th>\n",
       "      <th></th>\n",
       "      <th></th>\n",
       "      <th></th>\n",
       "      <th></th>\n",
       "    </tr>\n",
       "  </thead>\n",
       "  <tbody>\n",
       "    <tr>\n",
       "      <td>2018-12-31</td>\n",
       "      <td>343</td>\n",
       "      <td>0</td>\n",
       "      <td>2</td>\n",
       "      <td>2804</td>\n",
       "      <td>1669</td>\n",
       "      <td>2947</td>\n",
       "      <td>3294</td>\n",
       "      <td>88</td>\n",
       "      <td>30</td>\n",
       "      <td>2642</td>\n",
       "      <td>...</td>\n",
       "      <td>2943</td>\n",
       "      <td>0</td>\n",
       "      <td>1013</td>\n",
       "      <td>5721</td>\n",
       "      <td>2140</td>\n",
       "      <td>0</td>\n",
       "      <td>4605</td>\n",
       "      <td>1600</td>\n",
       "      <td>0</td>\n",
       "      <td>4158</td>\n",
       "    </tr>\n",
       "    <tr>\n",
       "      <td>2017-12-31</td>\n",
       "      <td>474</td>\n",
       "      <td>0</td>\n",
       "      <td>2014</td>\n",
       "      <td>4065</td>\n",
       "      <td>1742</td>\n",
       "      <td>1976</td>\n",
       "      <td>3667</td>\n",
       "      <td>573</td>\n",
       "      <td>277</td>\n",
       "      <td>3968</td>\n",
       "      <td>...</td>\n",
       "      <td>2714</td>\n",
       "      <td>1</td>\n",
       "      <td>2229</td>\n",
       "      <td>9530</td>\n",
       "      <td>4852</td>\n",
       "      <td>0</td>\n",
       "      <td>5521</td>\n",
       "      <td>2889</td>\n",
       "      <td>0</td>\n",
       "      <td>3560</td>\n",
       "    </tr>\n",
       "    <tr>\n",
       "      <td>2016-12-31</td>\n",
       "      <td>451</td>\n",
       "      <td>0</td>\n",
       "      <td>2831</td>\n",
       "      <td>5063</td>\n",
       "      <td>2114</td>\n",
       "      <td>2000</td>\n",
       "      <td>4000</td>\n",
       "      <td>5</td>\n",
       "      <td>33</td>\n",
       "      <td>3368</td>\n",
       "      <td>...</td>\n",
       "      <td>3376</td>\n",
       "      <td>0</td>\n",
       "      <td>2494</td>\n",
       "      <td>9913</td>\n",
       "      <td>5436</td>\n",
       "      <td>0</td>\n",
       "      <td>6176</td>\n",
       "      <td>2569</td>\n",
       "      <td>0</td>\n",
       "      <td>4003</td>\n",
       "    </tr>\n",
       "    <tr>\n",
       "      <td>2015-12-31</td>\n",
       "      <td>0</td>\n",
       "      <td>6</td>\n",
       "      <td>2407</td>\n",
       "      <td>4169</td>\n",
       "      <td>1205</td>\n",
       "      <td>1750</td>\n",
       "      <td>1977</td>\n",
       "      <td>0</td>\n",
       "      <td>0</td>\n",
       "      <td>3244</td>\n",
       "      <td>...</td>\n",
       "      <td>3213</td>\n",
       "      <td>2</td>\n",
       "      <td>671</td>\n",
       "      <td>7274</td>\n",
       "      <td>4077</td>\n",
       "      <td>0</td>\n",
       "      <td>4365</td>\n",
       "      <td>705</td>\n",
       "      <td>0</td>\n",
       "      <td>3046</td>\n",
       "    </tr>\n",
       "    <tr>\n",
       "      <td>2014-12-31</td>\n",
       "      <td>0</td>\n",
       "      <td>54</td>\n",
       "      <td>145</td>\n",
       "      <td>5784</td>\n",
       "      <td>1204</td>\n",
       "      <td>1759</td>\n",
       "      <td>1906</td>\n",
       "      <td>0</td>\n",
       "      <td>0</td>\n",
       "      <td>2544</td>\n",
       "      <td>...</td>\n",
       "      <td>2870</td>\n",
       "      <td>0</td>\n",
       "      <td>1</td>\n",
       "      <td>6707</td>\n",
       "      <td>1686</td>\n",
       "      <td>1</td>\n",
       "      <td>3922</td>\n",
       "      <td>3</td>\n",
       "      <td>2</td>\n",
       "      <td>4460</td>\n",
       "    </tr>\n",
       "    <tr>\n",
       "      <td>2013-12-31</td>\n",
       "      <td>0</td>\n",
       "      <td>0</td>\n",
       "      <td>0</td>\n",
       "      <td>3409</td>\n",
       "      <td>1384</td>\n",
       "      <td>1882</td>\n",
       "      <td>2776</td>\n",
       "      <td>0</td>\n",
       "      <td>0</td>\n",
       "      <td>3909</td>\n",
       "      <td>...</td>\n",
       "      <td>3648</td>\n",
       "      <td>0</td>\n",
       "      <td>0</td>\n",
       "      <td>9784</td>\n",
       "      <td>1374</td>\n",
       "      <td>0</td>\n",
       "      <td>3327</td>\n",
       "      <td>0</td>\n",
       "      <td>0</td>\n",
       "      <td>5270</td>\n",
       "    </tr>\n",
       "    <tr>\n",
       "      <td>2012-12-31</td>\n",
       "      <td>0</td>\n",
       "      <td>0</td>\n",
       "      <td>0</td>\n",
       "      <td>3490</td>\n",
       "      <td>2029</td>\n",
       "      <td>1352</td>\n",
       "      <td>3272</td>\n",
       "      <td>0</td>\n",
       "      <td>0</td>\n",
       "      <td>3127</td>\n",
       "      <td>...</td>\n",
       "      <td>5245</td>\n",
       "      <td>0</td>\n",
       "      <td>0</td>\n",
       "      <td>10651</td>\n",
       "      <td>8</td>\n",
       "      <td>0</td>\n",
       "      <td>3578</td>\n",
       "      <td>0</td>\n",
       "      <td>0</td>\n",
       "      <td>5992</td>\n",
       "    </tr>\n",
       "    <tr>\n",
       "      <td>2011-12-31</td>\n",
       "      <td>0</td>\n",
       "      <td>0</td>\n",
       "      <td>0</td>\n",
       "      <td>3057</td>\n",
       "      <td>2279</td>\n",
       "      <td>1677</td>\n",
       "      <td>3126</td>\n",
       "      <td>0</td>\n",
       "      <td>0</td>\n",
       "      <td>3489</td>\n",
       "      <td>...</td>\n",
       "      <td>4609</td>\n",
       "      <td>0</td>\n",
       "      <td>0</td>\n",
       "      <td>8757</td>\n",
       "      <td>9</td>\n",
       "      <td>0</td>\n",
       "      <td>4186</td>\n",
       "      <td>0</td>\n",
       "      <td>0</td>\n",
       "      <td>5451</td>\n",
       "    </tr>\n",
       "    <tr>\n",
       "      <td>2010-12-31</td>\n",
       "      <td>0</td>\n",
       "      <td>0</td>\n",
       "      <td>0</td>\n",
       "      <td>3754</td>\n",
       "      <td>1783</td>\n",
       "      <td>1718</td>\n",
       "      <td>2679</td>\n",
       "      <td>0</td>\n",
       "      <td>0</td>\n",
       "      <td>3775</td>\n",
       "      <td>...</td>\n",
       "      <td>4702</td>\n",
       "      <td>0</td>\n",
       "      <td>0</td>\n",
       "      <td>8580</td>\n",
       "      <td>3</td>\n",
       "      <td>0</td>\n",
       "      <td>4539</td>\n",
       "      <td>0</td>\n",
       "      <td>0</td>\n",
       "      <td>5594</td>\n",
       "    </tr>\n",
       "    <tr>\n",
       "      <td>2009-12-31</td>\n",
       "      <td>0</td>\n",
       "      <td>0</td>\n",
       "      <td>0</td>\n",
       "      <td>3946</td>\n",
       "      <td>1922</td>\n",
       "      <td>1697</td>\n",
       "      <td>3137</td>\n",
       "      <td>0</td>\n",
       "      <td>0</td>\n",
       "      <td>5009</td>\n",
       "      <td>...</td>\n",
       "      <td>5653</td>\n",
       "      <td>0</td>\n",
       "      <td>0</td>\n",
       "      <td>9438</td>\n",
       "      <td>2</td>\n",
       "      <td>0</td>\n",
       "      <td>4523</td>\n",
       "      <td>0</td>\n",
       "      <td>0</td>\n",
       "      <td>7628</td>\n",
       "    </tr>\n",
       "    <tr>\n",
       "      <td>2008-12-31</td>\n",
       "      <td>0</td>\n",
       "      <td>0</td>\n",
       "      <td>0</td>\n",
       "      <td>3829</td>\n",
       "      <td>2197</td>\n",
       "      <td>1780</td>\n",
       "      <td>2697</td>\n",
       "      <td>0</td>\n",
       "      <td>0</td>\n",
       "      <td>4734</td>\n",
       "      <td>...</td>\n",
       "      <td>5258</td>\n",
       "      <td>0</td>\n",
       "      <td>0</td>\n",
       "      <td>8925</td>\n",
       "      <td>1</td>\n",
       "      <td>0</td>\n",
       "      <td>3865</td>\n",
       "      <td>0</td>\n",
       "      <td>0</td>\n",
       "      <td>7800</td>\n",
       "    </tr>\n",
       "    <tr>\n",
       "      <td>2007-12-31</td>\n",
       "      <td>0</td>\n",
       "      <td>0</td>\n",
       "      <td>0</td>\n",
       "      <td>3623</td>\n",
       "      <td>1472</td>\n",
       "      <td>1440</td>\n",
       "      <td>1661</td>\n",
       "      <td>0</td>\n",
       "      <td>0</td>\n",
       "      <td>3267</td>\n",
       "      <td>...</td>\n",
       "      <td>2852</td>\n",
       "      <td>0</td>\n",
       "      <td>0</td>\n",
       "      <td>7042</td>\n",
       "      <td>4</td>\n",
       "      <td>0</td>\n",
       "      <td>3342</td>\n",
       "      <td>0</td>\n",
       "      <td>0</td>\n",
       "      <td>4716</td>\n",
       "    </tr>\n",
       "    <tr>\n",
       "      <td>2006-12-31</td>\n",
       "      <td>0</td>\n",
       "      <td>0</td>\n",
       "      <td>0</td>\n",
       "      <td>3618</td>\n",
       "      <td>734</td>\n",
       "      <td>1381</td>\n",
       "      <td>2186</td>\n",
       "      <td>0</td>\n",
       "      <td>0</td>\n",
       "      <td>2191</td>\n",
       "      <td>...</td>\n",
       "      <td>3062</td>\n",
       "      <td>0</td>\n",
       "      <td>0</td>\n",
       "      <td>7654</td>\n",
       "      <td>3</td>\n",
       "      <td>0</td>\n",
       "      <td>3135</td>\n",
       "      <td>0</td>\n",
       "      <td>0</td>\n",
       "      <td>4279</td>\n",
       "    </tr>\n",
       "    <tr>\n",
       "      <td>2005-12-31</td>\n",
       "      <td>0</td>\n",
       "      <td>0</td>\n",
       "      <td>0</td>\n",
       "      <td>2790</td>\n",
       "      <td>0</td>\n",
       "      <td>1055</td>\n",
       "      <td>1811</td>\n",
       "      <td>0</td>\n",
       "      <td>0</td>\n",
       "      <td>1732</td>\n",
       "      <td>...</td>\n",
       "      <td>2398</td>\n",
       "      <td>0</td>\n",
       "      <td>0</td>\n",
       "      <td>9037</td>\n",
       "      <td>0</td>\n",
       "      <td>0</td>\n",
       "      <td>1955</td>\n",
       "      <td>0</td>\n",
       "      <td>0</td>\n",
       "      <td>2889</td>\n",
       "    </tr>\n",
       "    <tr>\n",
       "      <td>2004-12-31</td>\n",
       "      <td>0</td>\n",
       "      <td>0</td>\n",
       "      <td>0</td>\n",
       "      <td>1</td>\n",
       "      <td>0</td>\n",
       "      <td>651</td>\n",
       "      <td>1080</td>\n",
       "      <td>0</td>\n",
       "      <td>0</td>\n",
       "      <td>1254</td>\n",
       "      <td>...</td>\n",
       "      <td>593</td>\n",
       "      <td>0</td>\n",
       "      <td>0</td>\n",
       "      <td>8213</td>\n",
       "      <td>0</td>\n",
       "      <td>0</td>\n",
       "      <td>2322</td>\n",
       "      <td>0</td>\n",
       "      <td>0</td>\n",
       "      <td>2086</td>\n",
       "    </tr>\n",
       "    <tr>\n",
       "      <td>2003-12-31</td>\n",
       "      <td>0</td>\n",
       "      <td>0</td>\n",
       "      <td>0</td>\n",
       "      <td>0</td>\n",
       "      <td>0</td>\n",
       "      <td>566</td>\n",
       "      <td>909</td>\n",
       "      <td>0</td>\n",
       "      <td>0</td>\n",
       "      <td>1303</td>\n",
       "      <td>...</td>\n",
       "      <td>0</td>\n",
       "      <td>0</td>\n",
       "      <td>0</td>\n",
       "      <td>7802</td>\n",
       "      <td>0</td>\n",
       "      <td>0</td>\n",
       "      <td>1297</td>\n",
       "      <td>0</td>\n",
       "      <td>0</td>\n",
       "      <td>1412</td>\n",
       "    </tr>\n",
       "    <tr>\n",
       "      <td>2002-12-31</td>\n",
       "      <td>0</td>\n",
       "      <td>0</td>\n",
       "      <td>0</td>\n",
       "      <td>0</td>\n",
       "      <td>0</td>\n",
       "      <td>505</td>\n",
       "      <td>1061</td>\n",
       "      <td>0</td>\n",
       "      <td>0</td>\n",
       "      <td>1356</td>\n",
       "      <td>...</td>\n",
       "      <td>0</td>\n",
       "      <td>0</td>\n",
       "      <td>0</td>\n",
       "      <td>8427</td>\n",
       "      <td>1</td>\n",
       "      <td>0</td>\n",
       "      <td>1626</td>\n",
       "      <td>0</td>\n",
       "      <td>0</td>\n",
       "      <td>2324</td>\n",
       "    </tr>\n",
       "    <tr>\n",
       "      <td>2001-12-31</td>\n",
       "      <td>0</td>\n",
       "      <td>0</td>\n",
       "      <td>0</td>\n",
       "      <td>0</td>\n",
       "      <td>0</td>\n",
       "      <td>1204</td>\n",
       "      <td>1737</td>\n",
       "      <td>0</td>\n",
       "      <td>0</td>\n",
       "      <td>2193</td>\n",
       "      <td>...</td>\n",
       "      <td>0</td>\n",
       "      <td>0</td>\n",
       "      <td>0</td>\n",
       "      <td>7883</td>\n",
       "      <td>0</td>\n",
       "      <td>0</td>\n",
       "      <td>1255</td>\n",
       "      <td>0</td>\n",
       "      <td>0</td>\n",
       "      <td>2330</td>\n",
       "    </tr>\n",
       "    <tr>\n",
       "      <td>2000-12-31</td>\n",
       "      <td>0</td>\n",
       "      <td>0</td>\n",
       "      <td>0</td>\n",
       "      <td>0</td>\n",
       "      <td>0</td>\n",
       "      <td>271</td>\n",
       "      <td>1398</td>\n",
       "      <td>0</td>\n",
       "      <td>0</td>\n",
       "      <td>698</td>\n",
       "      <td>...</td>\n",
       "      <td>0</td>\n",
       "      <td>0</td>\n",
       "      <td>0</td>\n",
       "      <td>7644</td>\n",
       "      <td>0</td>\n",
       "      <td>0</td>\n",
       "      <td>882</td>\n",
       "      <td>0</td>\n",
       "      <td>0</td>\n",
       "      <td>2088</td>\n",
       "    </tr>\n",
       "    <tr>\n",
       "      <td>1999-12-31</td>\n",
       "      <td>0</td>\n",
       "      <td>0</td>\n",
       "      <td>0</td>\n",
       "      <td>0</td>\n",
       "      <td>0</td>\n",
       "      <td>0</td>\n",
       "      <td>301</td>\n",
       "      <td>0</td>\n",
       "      <td>0</td>\n",
       "      <td>0</td>\n",
       "      <td>...</td>\n",
       "      <td>0</td>\n",
       "      <td>0</td>\n",
       "      <td>0</td>\n",
       "      <td>1537</td>\n",
       "      <td>0</td>\n",
       "      <td>0</td>\n",
       "      <td>0</td>\n",
       "      <td>0</td>\n",
       "      <td>0</td>\n",
       "      <td>452</td>\n",
       "    </tr>\n",
       "    <tr>\n",
       "      <td>1914-12-31</td>\n",
       "      <td>0</td>\n",
       "      <td>5</td>\n",
       "      <td>0</td>\n",
       "      <td>0</td>\n",
       "      <td>0</td>\n",
       "      <td>0</td>\n",
       "      <td>0</td>\n",
       "      <td>0</td>\n",
       "      <td>0</td>\n",
       "      <td>0</td>\n",
       "      <td>...</td>\n",
       "      <td>0</td>\n",
       "      <td>0</td>\n",
       "      <td>0</td>\n",
       "      <td>0</td>\n",
       "      <td>0</td>\n",
       "      <td>0</td>\n",
       "      <td>0</td>\n",
       "      <td>0</td>\n",
       "      <td>0</td>\n",
       "      <td>0</td>\n",
       "    </tr>\n",
       "  </tbody>\n",
       "</table>\n",
       "<p>21 rows × 23 columns</p>\n",
       "</div>"
      ],
      "text/plain": [
       "value       69-я параллель  Библиотека  Бизнес  Бывший СССР   Дом  Из жизни  \\\n",
       "time                                                                          \n",
       "2018-12-31             343           0       2         2804  1669      2947   \n",
       "2017-12-31             474           0    2014         4065  1742      1976   \n",
       "2016-12-31             451           0    2831         5063  2114      2000   \n",
       "2015-12-31               0           6    2407         4169  1205      1750   \n",
       "2014-12-31               0          54     145         5784  1204      1759   \n",
       "2013-12-31               0           0       0         3409  1384      1882   \n",
       "2012-12-31               0           0       0         3490  2029      1352   \n",
       "2011-12-31               0           0       0         3057  2279      1677   \n",
       "2010-12-31               0           0       0         3754  1783      1718   \n",
       "2009-12-31               0           0       0         3946  1922      1697   \n",
       "2008-12-31               0           0       0         3829  2197      1780   \n",
       "2007-12-31               0           0       0         3623  1472      1440   \n",
       "2006-12-31               0           0       0         3618   734      1381   \n",
       "2005-12-31               0           0       0         2790     0      1055   \n",
       "2004-12-31               0           0       0            1     0       651   \n",
       "2003-12-31               0           0       0            0     0       566   \n",
       "2002-12-31               0           0       0            0     0       505   \n",
       "2001-12-31               0           0       0            0     0      1204   \n",
       "2000-12-31               0           0       0            0     0       271   \n",
       "1999-12-31               0           0       0            0     0         0   \n",
       "1914-12-31               0           5       0            0     0         0   \n",
       "\n",
       "value       Интернет и СМИ  Крым  Культпросвет   Культура  ...  \\\n",
       "time                                                       ...   \n",
       "2018-12-31            3294    88             30      2642  ...   \n",
       "2017-12-31            3667   573            277      3968  ...   \n",
       "2016-12-31            4000     5             33      3368  ...   \n",
       "2015-12-31            1977     0              0      3244  ...   \n",
       "2014-12-31            1906     0              0      2544  ...   \n",
       "2013-12-31            2776     0              0      3909  ...   \n",
       "2012-12-31            3272     0              0      3127  ...   \n",
       "2011-12-31            3126     0              0      3489  ...   \n",
       "2010-12-31            2679     0              0      3775  ...   \n",
       "2009-12-31            3137     0              0      5009  ...   \n",
       "2008-12-31            2697     0              0      4734  ...   \n",
       "2007-12-31            1661     0              0      3267  ...   \n",
       "2006-12-31            2186     0              0      2191  ...   \n",
       "2005-12-31            1811     0              0      1732  ...   \n",
       "2004-12-31            1080     0              0      1254  ...   \n",
       "2003-12-31             909     0              0      1303  ...   \n",
       "2002-12-31            1061     0              0      1356  ...   \n",
       "2001-12-31            1737     0              0      2193  ...   \n",
       "2000-12-31            1398     0              0       698  ...   \n",
       "1999-12-31             301     0              0         0  ...   \n",
       "1914-12-31               0     0              0         0  ...   \n",
       "\n",
       "value       Наука и техника  Оружие  Путешествия  Россия  Силовые структуры  \\\n",
       "time                                                                          \n",
       "2018-12-31             2943       0         1013    5721               2140   \n",
       "2017-12-31             2714       1         2229    9530               4852   \n",
       "2016-12-31             3376       0         2494    9913               5436   \n",
       "2015-12-31             3213       2          671    7274               4077   \n",
       "2014-12-31             2870       0            1    6707               1686   \n",
       "2013-12-31             3648       0            0    9784               1374   \n",
       "2012-12-31             5245       0            0   10651                  8   \n",
       "2011-12-31             4609       0            0    8757                  9   \n",
       "2010-12-31             4702       0            0    8580                  3   \n",
       "2009-12-31             5653       0            0    9438                  2   \n",
       "2008-12-31             5258       0            0    8925                  1   \n",
       "2007-12-31             2852       0            0    7042                  4   \n",
       "2006-12-31             3062       0            0    7654                  3   \n",
       "2005-12-31             2398       0            0    9037                  0   \n",
       "2004-12-31              593       0            0    8213                  0   \n",
       "2003-12-31                0       0            0    7802                  0   \n",
       "2002-12-31                0       0            0    8427                  1   \n",
       "2001-12-31                0       0            0    7883                  0   \n",
       "2000-12-31                0       0            0    7644                  0   \n",
       "1999-12-31                0       0            0    1537                  0   \n",
       "1914-12-31                0       0            0       0                  0   \n",
       "\n",
       "value       Сочи  Спорт  Ценности  ЧМ-2014  Экономика  \n",
       "time                                                   \n",
       "2018-12-31     0   4605      1600        0       4158  \n",
       "2017-12-31     0   5521      2889        0       3560  \n",
       "2016-12-31     0   6176      2569        0       4003  \n",
       "2015-12-31     0   4365       705        0       3046  \n",
       "2014-12-31     1   3922         3        2       4460  \n",
       "2013-12-31     0   3327         0        0       5270  \n",
       "2012-12-31     0   3578         0        0       5992  \n",
       "2011-12-31     0   4186         0        0       5451  \n",
       "2010-12-31     0   4539         0        0       5594  \n",
       "2009-12-31     0   4523         0        0       7628  \n",
       "2008-12-31     0   3865         0        0       7800  \n",
       "2007-12-31     0   3342         0        0       4716  \n",
       "2006-12-31     0   3135         0        0       4279  \n",
       "2005-12-31     0   1955         0        0       2889  \n",
       "2004-12-31     0   2322         0        0       2086  \n",
       "2003-12-31     0   1297         0        0       1412  \n",
       "2002-12-31     0   1626         0        0       2324  \n",
       "2001-12-31     0   1255         0        0       2330  \n",
       "2000-12-31     0    882         0        0       2088  \n",
       "1999-12-31     0      0         0        0        452  \n",
       "1914-12-31     0      0         0        0          0  \n",
       "\n",
       "[21 rows x 23 columns]"
      ]
     },
     "execution_count": 113,
     "metadata": {
      "tags": []
     },
     "output_type": "execute_result"
    }
   ],
   "source": [
    "df1.sort_values('time', ascending=False)"
   ]
  },
  {
   "cell_type": "code",
   "execution_count": 0,
   "metadata": {
    "colab": {},
    "colab_type": "code",
    "id": "dbdrxwbtvMl6"
   },
   "outputs": [],
   "source": [
    "# скорее всего мы можем что-то вытащить из даты. Пока возьмем просто OHE год. "
   ]
  },
  {
   "cell_type": "code",
   "execution_count": 0,
   "metadata": {
    "colab": {},
    "colab_type": "code",
    "id": "v6Ij-o7IvMl8",
    "outputId": "2fc39701-4a13-4622-9d13-5de61587eca1"
   },
   "outputs": [
    {
     "data": {
      "text/plain": [
       "196259"
      ]
     },
     "execution_count": 42,
     "metadata": {
      "tags": []
     },
     "output_type": "execute_result"
    }
   ],
   "source": [
    "len(df['pagename'].value_counts())"
   ]
  },
  {
   "cell_type": "markdown",
   "metadata": {
    "colab_type": "text",
    "id": "UgMx5T_0vMl_"
   },
   "source": [
    "196000 уникальных значений. \n",
    "\n",
    "Это проблема, мы не хотим так сильно увеличивать признаковое описание после OHE, например. С другой стороны, использовать данные все же хочется. Что делать с этой фичей?\n",
    "\n",
    "Вариант 1: отфильтруем по кол-ву совпадений (скажем, 300), а остальное убрать. Что осталось - запихать в OHE\n",
    "    \n",
    "Вариант 2: можно приклеить к тексту и пихнуть в tfidf."
   ]
  },
  {
   "cell_type": "code",
   "execution_count": 0,
   "metadata": {
    "colab": {},
    "colab_type": "code",
    "id": "BkkAdpOlvMmA",
    "outputId": "7e16b4b8-2d03-4530-ec88-38572fae3441"
   },
   "outputs": [
    {
     "data": {
      "text/plain": [
       "fire            1986\n",
       "putin           1305\n",
       "blast           1112\n",
       "marketreview    1047\n",
       "plane           1019\n",
       "                ... \n",
       "fsb              301\n",
       "video            300\n",
       "imf              300\n",
       "visa             300\n",
       "minister         300\n",
       "Name: pagename, Length: 165, dtype: int64"
      ]
     },
     "execution_count": 68,
     "metadata": {
      "tags": []
     },
     "output_type": "execute_result"
    }
   ],
   "source": [
    "pagename300 = df.groupby('pagename')['pagename'].transform('size') >= 300\n",
    "df[pagename300].pagename.value_counts()"
   ]
  },
  {
   "cell_type": "code",
   "execution_count": 0,
   "metadata": {
    "colab": {},
    "colab_type": "code",
    "id": "TXRDbCY-vMmC"
   },
   "outputs": [],
   "source": [
    "# а теперь вместе"
   ]
  },
  {
   "cell_type": "code",
   "execution_count": 0,
   "metadata": {
    "colab": {},
    "colab_type": "code",
    "id": "4Os95GRXvMmE"
   },
   "outputs": [],
   "source": [
    "def add_features(pagename=True):\n",
    "    df['time'] = df['url'].apply(lambda x: urlparse(x).path.split('/')[2:5]).str.join('-')\n",
    "    df['time'] = pd.to_datetime(df['time'], format='%Y-%m-%d')\n",
    "    df['year'] = df.time.map(lambda x: x.strftime('%Y'))\n",
    "    df['text'] = df['title'] + ' ' + df['text']\n",
    "    if pagename:\n",
    "        df['pagename'] = df['url'].apply(lambda x: urlparse(x).path.split('/')[5])\n",
    "        df['text'] = df['pagename'] + ' ' + df['title'] + ' ' + df['text']\n",
    "        df.drop(['url', 'title', 'pagename', 'time'], axis=1, inplace=True)\n",
    "        return \n",
    "    else:\n",
    "        df['text'] = df['title'] + ' ' + df['text']\n",
    "        df.drop(['url', 'title', 'time'], axis=1, inplace=True)\n",
    "        return"
   ]
  },
  {
   "cell_type": "code",
   "execution_count": 0,
   "metadata": {
    "colab": {},
    "colab_type": "code",
    "id": "zKbF2C-VvMmG"
   },
   "outputs": [],
   "source": [
    "add_features(pagename=False)"
   ]
  },
  {
   "cell_type": "code",
   "execution_count": 0,
   "metadata": {
    "colab": {},
    "colab_type": "code",
    "id": "qPumCV4SvMmI",
    "outputId": "2e69f050-f65b-419d-93b2-83fbe862f5e3",
    "scrolled": true
   },
   "outputs": [
    {
     "data": {
      "text/html": [
       "<div>\n",
       "<style scoped>\n",
       "    .dataframe tbody tr th:only-of-type {\n",
       "        vertical-align: middle;\n",
       "    }\n",
       "\n",
       "    .dataframe tbody tr th {\n",
       "        vertical-align: top;\n",
       "    }\n",
       "\n",
       "    .dataframe thead th {\n",
       "        text-align: right;\n",
       "    }\n",
       "</style>\n",
       "<table border=\"1\" class=\"dataframe\">\n",
       "  <thead>\n",
       "    <tr style=\"text-align: right;\">\n",
       "      <th></th>\n",
       "      <th>text</th>\n",
       "      <th>topic</th>\n",
       "      <th>tags</th>\n",
       "      <th>year</th>\n",
       "    </tr>\n",
       "  </thead>\n",
       "  <tbody>\n",
       "    <tr>\n",
       "      <td>35</td>\n",
       "      <td>путин подарил тяжелобольному мальчику обещанны...</td>\n",
       "      <td>россия</td>\n",
       "      <td>политика</td>\n",
       "      <td>2018</td>\n",
       "    </tr>\n",
       "    <tr>\n",
       "      <td>36</td>\n",
       "      <td>порошенко уселся в президиуме собора украински...</td>\n",
       "      <td>бывший ссср</td>\n",
       "      <td>украина</td>\n",
       "      <td>2018</td>\n",
       "    </tr>\n",
       "    <tr>\n",
       "      <td>37</td>\n",
       "      <td>путин порассуждал о сексе, наркотиках и протес...</td>\n",
       "      <td>россия</td>\n",
       "      <td>политика</td>\n",
       "      <td>2018</td>\n",
       "    </tr>\n",
       "    <tr>\n",
       "      <td>38</td>\n",
       "      <td>«желтые жилеты» прорвали кордон полиции под «м...</td>\n",
       "      <td>мир</td>\n",
       "      <td>происшествия</td>\n",
       "      <td>2018</td>\n",
       "    </tr>\n",
       "    <tr>\n",
       "      <td>39</td>\n",
       "      <td>су-27 разбился на украине су-27 разбился на ук...</td>\n",
       "      <td>бывший ссср</td>\n",
       "      <td>украина</td>\n",
       "      <td>2018</td>\n",
       "    </tr>\n",
       "  </tbody>\n",
       "</table>\n",
       "</div>"
      ],
      "text/plain": [
       "                                                 text        topic  \\\n",
       "35  путин подарил тяжелобольному мальчику обещанны...       россия   \n",
       "36  порошенко уселся в президиуме собора украински...  бывший ссср   \n",
       "37  путин порассуждал о сексе, наркотиках и протес...       россия   \n",
       "38  «желтые жилеты» прорвали кордон полиции под «м...          мир   \n",
       "39  су-27 разбился на украине су-27 разбился на ук...  бывший ссср   \n",
       "\n",
       "            tags  year  \n",
       "35      политика  2018  \n",
       "36       украина  2018  \n",
       "37      политика  2018  \n",
       "38  происшествия  2018  \n",
       "39       украина  2018  "
      ]
     },
     "execution_count": 14,
     "metadata": {
      "tags": []
     },
     "output_type": "execute_result"
    }
   ],
   "source": [
    "df.iloc[35:40]"
   ]
  },
  {
   "cell_type": "markdown",
   "metadata": {
    "colab_type": "text",
    "id": "mu8dOoCVvMmL"
   },
   "source": [
    " "
   ]
  },
  {
   "cell_type": "code",
   "execution_count": 0,
   "metadata": {
    "colab": {},
    "colab_type": "code",
    "id": "Kphu5H4pvMmM",
    "outputId": "1c8ff2fc-1f02-4850-aa87-5a898864aa8d"
   },
   "outputs": [
    {
     "data": {
      "text/plain": [
       "23"
      ]
     },
     "execution_count": 64,
     "metadata": {
      "tags": []
     },
     "output_type": "execute_result"
    }
   ],
   "source": [
    "len(df.topic.value_counts())"
   ]
  },
  {
   "cell_type": "code",
   "execution_count": 0,
   "metadata": {
    "colab": {},
    "colab_type": "code",
    "id": "nFkFif4KvMmP"
   },
   "outputs": [],
   "source": [
    "# у нас 23 значения целевой переменной, посмотрим на них и на количество наблюдений по каждому"
   ]
  },
  {
   "cell_type": "code",
   "execution_count": 0,
   "metadata": {
    "colab": {},
    "colab_type": "code",
    "id": "r4hEi2pMvMmS",
    "outputId": "9eee3e9b-3cd9-4a7c-b34f-f8e88fafb444"
   },
   "outputs": [
    {
     "data": {
      "image/png": "[encoded data removed]",
      "text/plain": [
       "<Figure size 864x720 with 1 Axes>"
      ]
     },
     "metadata": {
      "needs_background": "light",
      "tags": []
     },
     "output_type": "display_data"
    }
   ],
   "source": [
    "topics = df.topic.value_counts()\n",
    "f, ax = plt.subplots(figsize=(12, 10))\n",
    "sns.barplot(topics.values, topics.index);"
   ]
  },
  {
   "cell_type": "code",
   "execution_count": 0,
   "metadata": {
    "colab": {},
    "colab_type": "code",
    "id": "wjvJ29i5vMmV",
    "outputId": "4637bdd8-f39b-4693-d3b1-468b6200768a"
   },
   "outputs": [
    {
     "data": {
      "text/plain": [
       "Россия               160519\n",
       "Мир                  136680\n",
       "Экономика             79538\n",
       "Спорт                 64421\n",
       "Культура              53803\n",
       "Бывший СССР           53402\n",
       "Наука и техника       53136\n",
       "Интернет и СМИ        44675\n",
       "Из жизни              27611\n",
       "Дом                   21734\n",
       "Силовые структуры     19596\n",
       "Ценности               7766\n",
       "Бизнес                 7399\n",
       "Путешествия            6408\n",
       "69-я параллель         1268\n",
       "Крым                    666\n",
       "Культпросвет            340\n",
       "Легпром                 114\n",
       "Библиотека               65\n",
       "Оружие                    3\n",
       "ЧМ-2014                   2\n",
       "МедНовости                1\n",
       "Сочи                      1\n",
       "Name: topic, dtype: int64"
      ]
     },
     "execution_count": 135,
     "metadata": {
      "tags": []
     },
     "output_type": "execute_result"
    }
   ],
   "source": [
    "topics"
   ]
  },
  {
   "cell_type": "markdown",
   "metadata": {
    "colab_type": "text",
    "id": "eIZTwFc6vMma"
   },
   "source": [
    " "
   ]
  },
  {
   "cell_type": "markdown",
   "metadata": {
    "colab_type": "text",
    "id": "r7KnuYibvMma"
   },
   "source": [
    "#### Итак, мы имеем дело с сильным дисбалансом классов.\n",
    "\n",
    "Одна проблема заключается в том, что если размер сэмпла конкретного класса слишком мал, то мы не сможем достоверно утверждать про хорошее качество ответов нашей модели на объектах этого класса. (Не сможем достоверно отвергать H0 гипотезу на принятом уровне значимости, т.к. статистическая мощность будет слишком мала, помимо этого доверительные интервалы будут очень широкими). Другая проблема - классы <1600% составляют меньше 1% самого крупного. Балансировать и сэмплить такое будет очень сложно (и не факт, что нужно) Третья проблема - чем больше классов, тем больше вычислительная сложность классификатора(особенно при OneVsAll/OneVsRest методе)\n",
    "Встает вопрос - какой минимальный размер выбрать? На эту тему одни пишут научные работы, другие руководствуются негласными правилами. Как пример, некоторые берут **количество_признаков * 10**. Авторы работы \"Predicting sample size required for classification performance\"\n",
    "`https://www.researchgate.net/publication/221834220`\n",
    "строили кривые обучения на разных датасетах с максимально плавным увеличением размера сэмпла  (всего было обучено 568 моделей) и смотрели, как ведет себя ошибка с доверительными интервалами при тестировании на выборках большого размера. Примерный размер, где границы интервалов сужались, а ошибка падала до примлемой, составлял от **200 до 250** объектов. Еще построим кривые валидации и обучения на наших данных, но, если это не важно для дальнейшего использования модели, то я все же предлагаю убрать топики с размером **< 500** сэмплов. Еще один довод в пользу этого порога - все новости ниже, похоже, размечаются вручную и/или зависят от конкретного временного отрезка. \n",
    "\n",
    "\n",
    "\n",
    "\n",
    "***update последнего дня:*** Вдруг стало понятно, что здесь **не одна** задача классификации. \n",
    "\n",
    "**Первый**, не самый сложный и качественный, но быстрый занимается разделением на три класса: \"Россия\", \"Мир\" и \"все остальное\".\n",
    "\n",
    "**Второй**, сложнее, берет все остальное и работает с разделением на 12-13 классов.\n",
    "Реализовать не успею, пришло время сдачи. Хотя бы наглядно нарисую.\n",
    "\n",
    "\n",
    "\n",
    "#### Пара нюансов по работе с несбалансированными выборками:\n",
    "\n",
    "-нужен корректный сплит, желательно с сохранением баланса классов, иначе мы просто не сможем достаточно достоверно оенить нашу модель. (StratifiedShuffleSplit или кастомный сплит с сохранением баланса классов подойдут);\n",
    "\n",
    "-далее будем ресемплить данные. Базовых варианта два - оверсэмплинг и даунсэмплинг. Оверсэмплить попробуем, используя **SMOTE** (или одну из его вариаций), который искусственно синтезирует похожие объекты в меньших классах. Даунсемплить с помощью NearMiss, Tomek's Links и ALLKNN (раньше не использовал современный даунсемплинг в прикладных задачах, заодно поучимся);\n",
    "\n",
    "***Важно!*** Сэмплим СТРОГО ПОСЛЕ разбиения на трейн, тест и валидацию, так как иначе информация \"протечет\" в тестовую и валидационную выборку и испортит оценку качества модели. Можно аргументированно возразить, мол SMOTE же не копирует объекты, а создает новые. Верно, но он их синтезирует по knn алгоритму -> новые объекты будут линейно зависимыми в пронстранстве признаков объектов этого класса (смогут выражаться через лин комбинации ближайщих соседей);\n",
    "\n",
    "-обучаем модель с заданием веса классам в зависимости количества значений в классе (class_weight='balanced'). Тут можно еще учесть, что вес в разных sklearn реализациях моделей задается по-разному (в одних моделях каждому классу буквально задается вес присутствия, т.е. объекты меньшего класса \"добавляются\" до достижения баланса, в некоторых, например основанных на методе опорных векторов, SV\\* - вес это дополнительный регуляризатор классификатора, который штрафует за ошибки редкого класса);"
   ]
  },
  {
   "cell_type": "markdown",
   "metadata": {
    "colab_type": "text",
    "id": "u8WecQ5DvMmb"
   },
   "source": [
    " "
   ]
  },
  {
   "cell_type": "markdown",
   "metadata": {
    "colab_type": "text",
    "id": "SotCWix9vMmc"
   },
   "source": [
    "Теперь о выборе **метрики**, которой будем оценивать предсказания нашей модели. Сделаем поправки на мультиклассовость и сильную несбалансированность классов.\n",
    "\n",
    "Основные:\n",
    "\n",
    "\n",
    "1.**Accuracy**. Метрика(вообще говоря, это даже не метрика, а скорее можно назвать \"наблюдением\") может приниматься во внимание ТОЛЬКО в случае равномерного распределения позитивных и негативных наблюдений. *тут классический пример про 8 миллиардов человек и 600 космонавтов или что-то подобное*\n",
    "\n",
    "\n",
    "2.**subset accuracy**. (т.е. accuracy по каждому классу). Это уже намного лучше, но тоже не идеально - например,  она совсем никак не учитывает false positive ошибки, сделанные в других классах относительного исходного.\n",
    "\n",
    "\n",
    "3.Площадь под ROC кривой (**roc_auc_score**) - используется часто. Слишком часто. Но в чем вообще смысл roc? Это кривая, заданная отношением **false positive rate = FP / (FP + TN)** и **true positive rate = TP / (TP + FN)**. Соответственно площадь под ней это это ни что иное, как **вероятность** отнести объект к положительному классу по отношению к вероятности отнести к отрицательному. То есть количество объектов в классе вообще не берется в расчет (и FPR и TPR - столбцы в матрице сопряженности). Это способно породить большие заблуждения в несбалансированных выборках. Предлагаю это продемонстрировать.\n",
    "\n",
    "\n",
    "4.**Precision, Recall, F1 score**. Являются нашим выбором в этой задаче. *Достаточно* хорошо распознают дисбаланс классов (хотя все равно не учитывают TN's), легко интерпретируемы (с f1-мерой нужно быть осторожней), легко подстраиваются под бизнес задачу (при необходимости можно максимизировать recall при заданном precision или наоборот, смотреть не на f1, а на f0.5 или f2). Расширение на метод множества классов происходит тремя способами: micro average, macro average (будем выбирать его, если нам важно качество классификатора в целом, для более точной информации можно также добавлять стандартное отклонение оценки по классам) и weighted macro (или просто weighted) average (этот вариант хорошо подходит, когда важно качество предсказаний минорных классов). Итого: метрики достаточно гибкие в настройке, можно скорректировать под конкретную цель.\n",
    "\n",
    "\n",
    "5.**Коэффициент корреляции Мэтьюса**. Многими считается одной из лучших (возможно, самой лучшей) метрик для задач бинарной классификации, в первую очередь потому, что учитывает все значения из матрицы сопряженности(т.о. чувствительность метрики распространяется не только на большое количество положительных объектов в выборке, но и на большое количество отрицательных). Может принимать значения из интервала от -1 до +1. Модель, получившая оценку +1, является идеальной. Модель, получившая оценку -1, является очень слабой. Одним из ключевых свойств является легкость интерпретации. Не реализован v sklearn для случае 3+ классов на данный момент (можно попробовать реализовать при необходимости)\n",
    "\n",
    "                                                                                                                           \n",
    "6.**Каппа Коэна**. Популярная ныне метрика из статистики, 1 - (1-P0)/(1-Pi), где P0 - accuracy, а Pi - вероятность случайного правильного ответа на объекте. Сложнее объяснить для бизнеса, т.о. пока не берем её. "
   ]
  },
  {
   "cell_type": "markdown",
   "metadata": {
    "colab_type": "text",
    "id": "XXmKO9IYvMmc"
   },
   "source": [
    " "
   ]
  },
  {
   "cell_type": "markdown",
   "metadata": {
    "colab_type": "text",
    "id": "zMlJEbAcvMmd"
   },
   "source": [
    "*Небольшой оффтоп про roc_auc.*"
   ]
  },
  {
   "cell_type": "code",
   "execution_count": 0,
   "metadata": {
    "colab": {},
    "colab_type": "code",
    "id": "vItxAUT3vMmf"
   },
   "outputs": [],
   "source": [
    "from sklearn.metrics import roc_auc_score, roc_curve\n",
    "\n",
    "def curve(y_true, y_pred):\n",
    "    fpr, tpr, thresholds = roc_curve(y_t, y_s)\n",
    "    plt.plot([0, 1], [0, 1], linestyle='--')\n",
    "    plt.plot(fpr, tpr, marker='.')\n",
    "    print ('Thresholds:{}'.format(thresholds))"
   ]
  },
  {
   "cell_type": "markdown",
   "metadata": {
    "colab_type": "text",
    "id": "rtPjdggjvMmh"
   },
   "source": [
    "А теперь возьмем и сделаем в выборках в 3 раза больше положительных исходов, с такими же предсказаниями. Как изменится скор? Как изменится график?"
   ]
  },
  {
   "cell_type": "code",
   "execution_count": 0,
   "metadata": {
    "colab": {},
    "colab_type": "code",
    "id": "2OhlVReqvMmh",
    "outputId": "d4d2b5d4-1cc0-4dba-c791-b0f08cd4e2c2"
   },
   "outputs": [
    {
     "data": {
      "text/plain": [
       "0.6333333333333334"
      ]
     },
     "execution_count": 36,
     "metadata": {
      "tags": []
     },
     "output_type": "execute_result"
    }
   ],
   "source": [
    "y_t = np.array([0, 0, 0, 1, 1, 1, 1, 1])\n",
    "y_s = np.array([0, 0, 1, 0, 1, 1, 0, 1])\n",
    "roc_auc_score(y_t, y_s)"
   ]
  },
  {
   "cell_type": "code",
   "execution_count": 0,
   "metadata": {
    "colab": {},
    "colab_type": "code",
    "id": "Ywd1PCSVvMmj",
    "outputId": "43a75417-1c88-4014-fb2e-8df96ef654d9"
   },
   "outputs": [
    {
     "name": "stdout",
     "output_type": "stream",
     "text": [
      "Thresholds:[2 1 0]\n"
     ]
    },
    {
     "data": {
      "image/png": "[encoded data removed]",
      "text/plain": [
       "<Figure size 432x288 with 1 Axes>"
      ]
     },
     "metadata": {
      "needs_background": "light",
      "tags": []
     },
     "output_type": "display_data"
    }
   ],
   "source": [
    "curve(y_t, y_s)"
   ]
  },
  {
   "cell_type": "code",
   "execution_count": 0,
   "metadata": {
    "colab": {},
    "colab_type": "code",
    "id": "IkHUY22QvMml",
    "outputId": "3a01874b-7f8e-4fbc-a6ed-540a62aba694"
   },
   "outputs": [
    {
     "data": {
      "text/plain": [
       "0.6333333333333334"
      ]
     },
     "execution_count": 38,
     "metadata": {
      "tags": []
     },
     "output_type": "execute_result"
    }
   ],
   "source": [
    "y_tr = np.array([0, 0, 0, 1, 1, 1, 1, 1, 1, 1, 1, 1, 1, 1, 1, 1, 1, 1])\n",
    "y_sc = np.array([0, 0, 1, 0, 1, 1, 0, 1, 0, 1, 1, 0, 1, 0, 1, 1, 0, 1])\n",
    "roc_auc_score(y_tr,y_sc)"
   ]
  },
  {
   "cell_type": "code",
   "execution_count": 0,
   "metadata": {
    "colab": {},
    "colab_type": "code",
    "id": "Rm7489C3vMmn",
    "outputId": "fb6beaa3-a2e8-4b2c-944b-7ffad55f6700"
   },
   "outputs": [
    {
     "name": "stdout",
     "output_type": "stream",
     "text": [
      "Thresholds:[2 1 0]\n"
     ]
    },
    {
     "data": {
      "image/png": "[encoded data removed]",
      "text/plain": [
       "<Figure size 432x288 with 1 Axes>"
      ]
     },
     "metadata": {
      "needs_background": "light",
      "tags": []
     },
     "output_type": "display_data"
    }
   ],
   "source": [
    "curve(y_tr, y_sc)"
   ]
  },
  {
   "cell_type": "markdown",
   "metadata": {
    "colab_type": "text",
    "id": "HigDSW4tvMmp"
   },
   "source": [
    "Не изменилось вообще ничего (и это логично). Мы можем повторить бесконечное число раз (**все** нули кроме первых в предсказаниях классификатора будут ошибками на классе 1), при это качество классификатора будет на том же уровне. Таким образом, можно сделать вывод, что ROC-кривая совершенно не подходит для работы с несбалансированными классами. Ладно, к делу. "
   ]
  },
  {
   "cell_type": "markdown",
   "metadata": {
    "colab_type": "text",
    "id": "YBc6uwCxvMmp"
   },
   "source": [
    " "
   ]
  },
  {
   "cell_type": "markdown",
   "metadata": {
    "colab_type": "text",
    "id": "2PK-tQEXvMmt"
   },
   "source": [
    "## Подготовка"
   ]
  },
  {
   "cell_type": "markdown",
   "metadata": {
    "colab_type": "text",
    "id": "pyrRyaUGvMmq"
   },
   "source": [
    "Итак, удаляем самые малочисленные классы и бинаризуем."
   ]
  },
  {
   "cell_type": "code",
   "execution_count": 0,
   "metadata": {
    "colab": {},
    "colab_type": "code",
    "id": "woGdKypYvMmr"
   },
   "outputs": [],
   "source": [
    "counts = df['topic'].value_counts()\n",
    "remove = counts[counts <= 500].index\n",
    "df = df[~df['topic'].isin(remove)]\n",
    "\n",
    "df = df.reset_index()\n",
    "\n",
    "LE = LabelEncoder()\n",
    "df['topic'] = LE.fit_transform(df['topic']) "
   ]
  },
  {
   "cell_type": "code",
   "execution_count": 0,
   "metadata": {
    "colab": {},
    "colab_type": "code",
    "id": "V06R-BawvMmt"
   },
   "outputs": [],
   "source": [
    "#df = pd.read_csv('forvw_no_pagenames.csv',index_col=0)"
   ]
  },
  {
   "cell_type": "code",
   "execution_count": 2,
   "metadata": {
    "colab": {
     "base_uri": "https://localhost:8080/",
     "height": 35
    },
    "colab_type": "code",
    "id": "7bqoEcGfv1xI",
    "outputId": "bf66db49-0e7f-4866-9c03-c241e23413ca"
   },
   "outputs": [
    {
     "name": "stdout",
     "output_type": "stream",
     "text": [
      "Mounted at /content/drive\n"
     ]
    }
   ],
   "source": [
    "#дальше ушел в colab\n",
    "from google.colab import drive\n",
    "drive.mount('/content/drive')"
   ]
  },
  {
   "cell_type": "code",
   "execution_count": 0,
   "metadata": {
    "colab": {},
    "colab_type": "code",
    "id": "n949ojOMwHh1"
   },
   "outputs": [],
   "source": [
    "path = \"/content/drive/My Drive/data/tokenized.csv\"\n",
    "df = pd.read_csv(path, index_col=0)"
   ]
  },
  {
   "cell_type": "code",
   "execution_count": 0,
   "metadata": {
    "colab": {},
    "colab_type": "code",
    "id": "zKI8KTlKnbrY"
   },
   "outputs": [],
   "source": [
    "n_labels = df.topic.value_counts().shape[0]"
   ]
  },
  {
   "cell_type": "code",
   "execution_count": 0,
   "metadata": {
    "colab": {},
    "colab_type": "code",
    "id": "dW4vx9Bopxqy"
   },
   "outputs": [],
   "source": [
    "df = df.reset_index()"
   ]
  },
  {
   "cell_type": "code",
   "execution_count": 0,
   "metadata": {
    "colab": {},
    "colab_type": "code",
    "id": "fFIzDbY8vMmx"
   },
   "outputs": [],
   "source": [
    "split = StratifiedShuffleSplit(n_splits=1, test_size=0.2, random_state=42) # делим\n",
    "for train_index, test_index in split.split(df, df['topic']):\n",
    "    strat_train_set = df.loc[train_index]\n",
    "    strat_test_set = df.loc[test_index]"
   ]
  },
  {
   "cell_type": "code",
   "execution_count": 0,
   "metadata": {
    "colab": {
     "base_uri": "https://localhost:8080/",
     "height": 323
    },
    "colab_type": "code",
    "id": "-jRBeXz3vMmy",
    "outputId": "293f3fc1-445c-46a5-9ba0-bfed042c1a34"
   },
   "outputs": [
    {
     "data": {
      "text/plain": [
       "12    0.217070\n",
       "9     0.184914\n",
       "16    0.107776\n",
       "14    0.087335\n",
       "8     0.072928\n",
       "2     0.072393\n",
       "10    0.071749\n",
       "5     0.060535\n",
       "4     0.037396\n",
       "3     0.029464\n",
       "13    0.026569\n",
       "15    0.010529\n",
       "1     0.010034\n",
       "11    0.008691\n",
       "0     0.001715\n",
       "6     0.000902\n",
       "Name: topic, dtype: float64"
      ]
     },
     "execution_count": 7,
     "metadata": {
      "tags": []
     },
     "output_type": "execute_result"
    }
   ],
   "source": [
    "# сравним распределения\n",
    "strat_test_set['topic'].value_counts() / len(strat_test_set)"
   ]
  },
  {
   "cell_type": "code",
   "execution_count": 0,
   "metadata": {
    "colab": {
     "base_uri": "https://localhost:8080/",
     "height": 323
    },
    "colab_type": "code",
    "id": "N7EBP36CvMm0",
    "outputId": "868fafc7-2384-48e2-a512-a1f233f78d99"
   },
   "outputs": [
    {
     "data": {
      "text/plain": [
       "12    0.217070\n",
       "9     0.184913\n",
       "16    0.107774\n",
       "14    0.087336\n",
       "8     0.072927\n",
       "2     0.072389\n",
       "10    0.071750\n",
       "5     0.060535\n",
       "4     0.037399\n",
       "3     0.029464\n",
       "13    0.026571\n",
       "15    0.010530\n",
       "1     0.010031\n",
       "11    0.008689\n",
       "0     0.001718\n",
       "6     0.000903\n",
       "Name: topic, dtype: float64"
      ]
     },
     "execution_count": 8,
     "metadata": {
      "tags": []
     },
     "output_type": "execute_result"
    }
   ],
   "source": [
    "df['topic'].value_counts() / len(df)"
   ]
  },
  {
   "cell_type": "code",
   "execution_count": 0,
   "metadata": {
    "colab": {
     "base_uri": "https://localhost:8080/",
     "height": 53
    },
    "colab_type": "code",
    "id": "bIHKfbGkvMm2",
    "outputId": "3779ec2d-8771-4f44-a960-3ab6322c4144"
   },
   "outputs": [
    {
     "name": "stdout",
     "output_type": "stream",
     "text": [
      "Rand. mean %error: 0.13367106419940633\n",
      "Strat. mean %error: -0.016945641200570627\n"
     ]
    }
   ],
   "source": [
    "# можем сравнить с обычным train_test_split'ом\n",
    "def income_cat_proportions(data):\n",
    "    return data['topic'].value_counts() / len(data)\n",
    "\n",
    "train_set, test_set = train_test_split(df, test_size=0.2, random_state=42)\n",
    "\n",
    "compare_props = pd.DataFrame({\n",
    "    'Overall': income_cat_proportions(df),\n",
    "    'Stratified': income_cat_proportions(strat_test_set),\n",
    "    'Random': income_cat_proportions(test_set),\n",
    "}).sort_index()\n",
    "compare_props['Rand. %error'] = 100 * compare_props['Random'] / compare_props['Overall'] - 100\n",
    "compare_props['Strat. %error'] = 100 * compare_props['Stratified'] / compare_props['Overall'] - 100\n",
    "\n",
    "print('Rand. mean %error: {}'.format(sum(compare_props['Rand. %error'])/len(compare_props['Rand. %error'])))\n",
    "print('Strat. mean %error: {}'.format(sum(compare_props['Strat. %error'])/len(compare_props['Strat. %error'])))"
   ]
  },
  {
   "cell_type": "code",
   "execution_count": 0,
   "metadata": {
    "colab": {
     "base_uri": "https://localhost:8080/",
     "height": 545
    },
    "colab_type": "code",
    "id": "3KCm6sk3vMm5",
    "outputId": "f9f05b86-db0a-41e7-bd30-34245ebf81a6"
   },
   "outputs": [
    {
     "data": {
      "text/html": [
       "<div>\n",
       "<style scoped>\n",
       "    .dataframe tbody tr th:only-of-type {\n",
       "        vertical-align: middle;\n",
       "    }\n",
       "\n",
       "    .dataframe tbody tr th {\n",
       "        vertical-align: top;\n",
       "    }\n",
       "\n",
       "    .dataframe thead th {\n",
       "        text-align: right;\n",
       "    }\n",
       "</style>\n",
       "<table border=\"1\" class=\"dataframe\">\n",
       "  <thead>\n",
       "    <tr style=\"text-align: right;\">\n",
       "      <th></th>\n",
       "      <th>Overall</th>\n",
       "      <th>Stratified</th>\n",
       "      <th>Random</th>\n",
       "      <th>Rand. %error</th>\n",
       "      <th>Strat. %error</th>\n",
       "    </tr>\n",
       "  </thead>\n",
       "  <tbody>\n",
       "    <tr>\n",
       "      <th>0</th>\n",
       "      <td>0.001718</td>\n",
       "      <td>0.001715</td>\n",
       "      <td>0.001654</td>\n",
       "      <td>-3.709681</td>\n",
       "      <td>-0.157989</td>\n",
       "    </tr>\n",
       "    <tr>\n",
       "      <th>1</th>\n",
       "      <td>0.010031</td>\n",
       "      <td>0.010034</td>\n",
       "      <td>0.010332</td>\n",
       "      <td>3.000671</td>\n",
       "      <td>0.026899</td>\n",
       "    </tr>\n",
       "    <tr>\n",
       "      <th>2</th>\n",
       "      <td>0.072389</td>\n",
       "      <td>0.072393</td>\n",
       "      <td>0.073172</td>\n",
       "      <td>1.082524</td>\n",
       "      <td>0.005484</td>\n",
       "    </tr>\n",
       "    <tr>\n",
       "      <th>3</th>\n",
       "      <td>0.029464</td>\n",
       "      <td>0.029464</td>\n",
       "      <td>0.029634</td>\n",
       "      <td>0.575105</td>\n",
       "      <td>-0.000136</td>\n",
       "    </tr>\n",
       "    <tr>\n",
       "      <th>4</th>\n",
       "      <td>0.037399</td>\n",
       "      <td>0.037396</td>\n",
       "      <td>0.037437</td>\n",
       "      <td>0.101380</td>\n",
       "      <td>-0.007387</td>\n",
       "    </tr>\n",
       "    <tr>\n",
       "      <th>5</th>\n",
       "      <td>0.060535</td>\n",
       "      <td>0.060535</td>\n",
       "      <td>0.060020</td>\n",
       "      <td>-0.851294</td>\n",
       "      <td>-0.000136</td>\n",
       "    </tr>\n",
       "    <tr>\n",
       "      <th>6</th>\n",
       "      <td>0.000903</td>\n",
       "      <td>0.000902</td>\n",
       "      <td>0.000929</td>\n",
       "      <td>2.852713</td>\n",
       "      <td>-0.150286</td>\n",
       "    </tr>\n",
       "    <tr>\n",
       "      <th>8</th>\n",
       "      <td>0.072927</td>\n",
       "      <td>0.072928</td>\n",
       "      <td>0.072528</td>\n",
       "      <td>-0.546766</td>\n",
       "      <td>0.001724</td>\n",
       "    </tr>\n",
       "    <tr>\n",
       "      <th>9</th>\n",
       "      <td>0.184913</td>\n",
       "      <td>0.184914</td>\n",
       "      <td>0.186067</td>\n",
       "      <td>0.623883</td>\n",
       "      <td>0.000598</td>\n",
       "    </tr>\n",
       "    <tr>\n",
       "      <th>10</th>\n",
       "      <td>0.071750</td>\n",
       "      <td>0.071749</td>\n",
       "      <td>0.070833</td>\n",
       "      <td>-1.277630</td>\n",
       "      <td>-0.002025</td>\n",
       "    </tr>\n",
       "    <tr>\n",
       "      <th>11</th>\n",
       "      <td>0.008689</td>\n",
       "      <td>0.008691</td>\n",
       "      <td>0.008569</td>\n",
       "      <td>-1.373417</td>\n",
       "      <td>0.031075</td>\n",
       "    </tr>\n",
       "    <tr>\n",
       "      <th>12</th>\n",
       "      <td>0.217070</td>\n",
       "      <td>0.217070</td>\n",
       "      <td>0.216432</td>\n",
       "      <td>-0.293720</td>\n",
       "      <td>-0.000136</td>\n",
       "    </tr>\n",
       "    <tr>\n",
       "      <th>13</th>\n",
       "      <td>0.026571</td>\n",
       "      <td>0.026569</td>\n",
       "      <td>0.026773</td>\n",
       "      <td>0.760223</td>\n",
       "      <td>-0.005239</td>\n",
       "    </tr>\n",
       "    <tr>\n",
       "      <th>14</th>\n",
       "      <td>0.087336</td>\n",
       "      <td>0.087335</td>\n",
       "      <td>0.086833</td>\n",
       "      <td>-0.576123</td>\n",
       "      <td>-0.001688</td>\n",
       "    </tr>\n",
       "    <tr>\n",
       "      <th>15</th>\n",
       "      <td>0.010530</td>\n",
       "      <td>0.010529</td>\n",
       "      <td>0.010685</td>\n",
       "      <td>1.467800</td>\n",
       "      <td>-0.013012</td>\n",
       "    </tr>\n",
       "    <tr>\n",
       "      <th>16</th>\n",
       "      <td>0.107774</td>\n",
       "      <td>0.107776</td>\n",
       "      <td>0.108101</td>\n",
       "      <td>0.303070</td>\n",
       "      <td>0.001123</td>\n",
       "    </tr>\n",
       "  </tbody>\n",
       "</table>\n",
       "</div>"
      ],
      "text/plain": [
       "     Overall  Stratified    Random  Rand. %error  Strat. %error\n",
       "0   0.001718    0.001715  0.001654     -3.709681      -0.157989\n",
       "1   0.010031    0.010034  0.010332      3.000671       0.026899\n",
       "2   0.072389    0.072393  0.073172      1.082524       0.005484\n",
       "3   0.029464    0.029464  0.029634      0.575105      -0.000136\n",
       "4   0.037399    0.037396  0.037437      0.101380      -0.007387\n",
       "5   0.060535    0.060535  0.060020     -0.851294      -0.000136\n",
       "6   0.000903    0.000902  0.000929      2.852713      -0.150286\n",
       "8   0.072927    0.072928  0.072528     -0.546766       0.001724\n",
       "9   0.184913    0.184914  0.186067      0.623883       0.000598\n",
       "10  0.071750    0.071749  0.070833     -1.277630      -0.002025\n",
       "11  0.008689    0.008691  0.008569     -1.373417       0.031075\n",
       "12  0.217070    0.217070  0.216432     -0.293720      -0.000136\n",
       "13  0.026571    0.026569  0.026773      0.760223      -0.005239\n",
       "14  0.087336    0.087335  0.086833     -0.576123      -0.001688\n",
       "15  0.010530    0.010529  0.010685      1.467800      -0.013012\n",
       "16  0.107774    0.107776  0.108101      0.303070       0.001123"
      ]
     },
     "execution_count": 11,
     "metadata": {
      "tags": []
     },
     "output_type": "execute_result"
    }
   ],
   "source": [
    "compare_props "
   ]
  },
  {
   "cell_type": "code",
   "execution_count": 0,
   "metadata": {
    "colab": {},
    "colab_type": "code",
    "id": "0wcQqt6evMm_"
   },
   "outputs": [],
   "source": []
  },
  {
   "cell_type": "code",
   "execution_count": 0,
   "metadata": {
    "colab": {},
    "colab_type": "code",
    "id": "zvgVe7x_vMnB"
   },
   "outputs": [],
   "source": [
    "'''def preprocess(sent, pat=r'\\b\\w\\w+\\b', morph=MorphAnalyzer()):\n",
    "    return [morph.parse(tok)[0].normal_form+str(morph.parse(tok)[0].tag.POS)\n",
    "            for tok in regexp_tokenize(sent, pat)]           \n",
    "            \n",
    "#### даже с lru_cache для операций занимало ночь, потом кернел мог упасть, когда что-то \n",
    "параллельно начинал делать, процесс не очень быстрый, пришлось отказаться в режиме ограничения по времени.\n",
    "Хотя качественная лемматизация улучшила бы скор, конечно.\n",
    "'''\n"
   ]
  },
  {
   "cell_type": "markdown",
   "metadata": {
    "colab_type": "text",
    "id": "1eNsa5n-vMnC"
   },
   "source": [
    "#### Есть много вариантов использования POS, здесь я просто склеиваю со словами (n-граммы будем считать только по словам в этом случае)\n",
    "\n",
    "Дальше можно провести работу с поиском и заменой сокращений, опечаток, подключением named entity recognition словаря (для русского языка есть разве что [Наташа](https://github.com/natasha/natasha), chunk-ать на словосочетания (например, для каждого глагола/прилагательного ищется слово рядом, которое этот глагол описывает), искать устойчивые словосочетания.\n"
   ]
  },
  {
   "cell_type": "markdown",
   "metadata": {
    "colab_type": "text",
    "id": "FDxnFnm2vMnD"
   },
   "source": [
    "Есть нюанс с реализацией - дело в том, что pymorphy не умеет в POS английских слов. Не придумал ничего лучше, как перевести nonetype в str(None). В итоге добавилось забавное подобие **NER** (т.к. большинство английских слов в новостях ленты - named entities) "
   ]
  },
  {
   "cell_type": "code",
   "execution_count": 0,
   "metadata": {
    "colab": {
     "base_uri": "https://localhost:8080/",
     "height": 53
    },
    "colab_type": "code",
    "id": "xl8P-gbpvMnD",
    "outputId": "84fda5b2-bfb9-421d-b9c8-00811fb97dd8"
   },
   "outputs": [
    {
     "name": "stdout",
     "output_type": "stream",
     "text": [
      "[nltk_data] Downloading package stopwords to /root/nltk_data...\n",
      "[nltk_data]   Unzipping corpora/stopwords.zip.\n"
     ]
    }
   ],
   "source": [
    "#nltk.download('stopwords')\n",
    "tree = TreebankWordTokenizer().tokenize\n",
    "from nltk.corpus import stopwords\n",
    "stop_words = stopwords.words('russian')\n",
    "stop_words.extend(['что', 'это', 'так', 'вот', 'быть', 'как', 'в', '—', 'к', 'на'])\n",
    "def tokenizer(text):\n",
    "    return [tok for tok in tree(text) if len(tok)>1 and (tok not in stop_words)]"
   ]
  },
  {
   "cell_type": "markdown",
   "metadata": {
    "colab_type": "text",
    "id": "VTbgBllUA2ZK"
   },
   "source": [
    "Вообще говоря, stopwords не всегда улучшают модель, но далее у нас будет ограничение по размеру embedding-ов и каждая новость достаточно большая. У deeppavlov есть pretrains с предварительным stopwords удалением, так что это кажется оптимальным вариантом."
   ]
  },
  {
   "cell_type": "code",
   "execution_count": 0,
   "metadata": {
    "colab": {},
    "colab_type": "code",
    "id": "3SIrV4dj8PxU"
   },
   "outputs": [],
   "source": [
    "#text_transfomer = FunctionTransformer(tokenizer, validate=False)"
   ]
  },
  {
   "cell_type": "code",
   "execution_count": 0,
   "metadata": {
    "colab": {},
    "colab_type": "code",
    "id": "9M8Q1peQvMnF"
   },
   "outputs": [],
   "source": [
    "df['text'] = df['text'].apply(tokenizer)"
   ]
  },
  {
   "cell_type": "code",
   "execution_count": 0,
   "metadata": {
    "colab": {},
    "colab_type": "code",
    "id": "pk2bou-uGArI"
   },
   "outputs": [],
   "source": [
    "#df.to_csv('tokenized.csv')"
   ]
  },
  {
   "cell_type": "code",
   "execution_count": 0,
   "metadata": {
    "colab": {},
    "colab_type": "code",
    "id": "938NIzEKvMnK"
   },
   "outputs": [],
   "source": [
    "df['text'] = df['text'].astype('str')\n",
    "df = df.reset_index()\n",
    "X = df.drop('topic', axis=1)\n",
    "y = df['topic']"
   ]
  },
  {
   "cell_type": "code",
   "execution_count": 0,
   "metadata": {
    "colab": {},
    "colab_type": "code",
    "id": "T7G-NfhdvMnL"
   },
   "outputs": [],
   "source": [
    "#можно SSS, можно обычным tts со stratify\n",
    "\n",
    "X_train, X_test, y_train, y_test = train_test_split(X, \n",
    "                                                    y,                                                                                                         \n",
    "                                                    test_size=0.2,                                                     \n",
    "                                                    random_state=42,                                                                                                        \n",
    "                                                    stratify=y)"
   ]
  },
  {
   "cell_type": "code",
   "execution_count": 0,
   "metadata": {
    "colab": {},
    "colab_type": "code",
    "id": "ekFjnZZbt0_v"
   },
   "outputs": [],
   "source": []
  },
  {
   "cell_type": "code",
   "execution_count": 0,
   "metadata": {
    "colab": {},
    "colab_type": "code",
    "id": "2DNDHXZ9vMnN"
   },
   "outputs": [],
   "source": [
    "text_pipe = Pipeline([\n",
    "  ('tfidf', TfidfVectorizer(ngram_range=(1,2), sublinear_tf=True, lowercase=False, max_df=0.6)),\n",
    "  #('svd', TruncatedSVD(n_components=100, random_state=42)), # слишком мало памяти, чтобы такое векторное пространство засунуть)) моментальные memory errors\n",
    "  ])"
   ]
  },
  {
   "cell_type": "code",
   "execution_count": 0,
   "metadata": {
    "colab": {},
    "colab_type": "code",
    "id": "x7PU4uzVmU1t"
   },
   "outputs": [],
   "source": [
    "X_train_tfidf = text_pipe.fit_transform(X_train['text'])\n",
    "X_test_tfidf = text_pipe.transform(X_test['text'])"
   ]
  },
  {
   "cell_type": "code",
   "execution_count": 0,
   "metadata": {
    "colab": {},
    "colab_type": "code",
    "id": "MvrQ0Hz6mU5N"
   },
   "outputs": [],
   "source": [
    "lb = LabelBinarizer(sparse_output=True)\n",
    "train_years = lb.fit_transform(X_train['year'])\n",
    "test_years = lb.transform(X_test['year'])\n",
    "train_tags = lb.fit_transform(X_train['tags'])\n",
    "test_tags = lb.transform(X_test['tags'])"
   ]
  },
  {
   "cell_type": "code",
   "execution_count": 0,
   "metadata": {
    "colab": {},
    "colab_type": "code",
    "id": "z2Qy9Td4rOti"
   },
   "outputs": [],
   "source": [
    "from scipy.sparse import hstack, save_npz, load_npz"
   ]
  },
  {
   "cell_type": "code",
   "execution_count": 0,
   "metadata": {
    "colab": {},
    "colab_type": "code",
    "id": "Uhm0BU558Gc-"
   },
   "outputs": [],
   "source": [
    "X_train_full = hstack([X_train_tfidf, train_years, train_tags]) #можно все в пайплайне конечно собрать\n",
    "X_test_full = hstack([X_test_tfidf, test_years, test_tags])"
   ]
  },
  {
   "cell_type": "code",
   "execution_count": 0,
   "metadata": {
    "colab": {},
    "colab_type": "code",
    "id": "Y1GU8Kn44VWS"
   },
   "outputs": [],
   "source": [
    "save_npz('train_tfidf.npz', X_train_full)\n",
    "save_npz('test_tfidf.npz', X_test_full)"
   ]
  },
  {
   "cell_type": "code",
   "execution_count": 23,
   "metadata": {
    "colab": {
     "base_uri": "https://localhost:8080/",
     "height": 35
    },
    "colab_type": "code",
    "id": "V_6qS3A-rCo4",
    "outputId": "8f8f9850-5c94-4253-8775-1814c2843f64"
   },
   "outputs": [
    {
     "data": {
      "text/plain": [
       "(590003, 30909042)"
      ]
     },
     "execution_count": 23,
     "metadata": {
      "tags": []
     },
     "output_type": "execute_result"
    }
   ],
   "source": [
    "X_train_full.shape"
   ]
  },
  {
   "cell_type": "code",
   "execution_count": 0,
   "metadata": {
    "colab": {},
    "colab_type": "code",
    "id": "3-vs9YEMl3gR"
   },
   "outputs": [],
   "source": [
    "rp = SparseRandomProjection(random_state=42) #уменьшаем этого монстра\n",
    "X_train_full = rp.fit_transform(X_train_full)\n",
    "X_test_full = rp.transform(X_test_full)"
   ]
  },
  {
   "cell_type": "code",
   "execution_count": 0,
   "metadata": {
    "colab": {},
    "colab_type": "code",
    "id": "CqH3cI_Wmf6y"
   },
   "outputs": [],
   "source": [
    "svd = TruncatedSVD(n_components=100, random_state=42) #продолжаем наш факторный анализ)\n",
    "X_train_full = svd.fit_transform(X_train_full)\n",
    "X_test_full = svd.transform(X_test_full)"
   ]
  },
  {
   "cell_type": "code",
   "execution_count": 0,
   "metadata": {
    "colab": {},
    "colab_type": "code",
    "id": "HhXmkEOcOCL7"
   },
   "outputs": [],
   "source": [
    "#np.save('train_svd.npy', X_train_full)\n",
    "#np.save('test_svd.npy', X_test_full)"
   ]
  },
  {
   "cell_type": "code",
   "execution_count": 15,
   "metadata": {
    "colab": {
     "base_uri": "https://localhost:8080/",
     "height": 35
    },
    "colab_type": "code",
    "id": "E-47K57tmf4x",
    "outputId": "a8828c44-bf96-42af-8da8-05ec4b48d99a"
   },
   "outputs": [
    {
     "data": {
      "text/plain": [
       "(590003, 100)"
      ]
     },
     "execution_count": 15,
     "metadata": {
      "tags": []
     },
     "output_type": "execute_result"
    }
   ],
   "source": [
    "X_train_full.shape"
   ]
  },
  {
   "cell_type": "markdown",
   "metadata": {
    "colab_type": "text",
    "id": "EUSeDUD5vMnU"
   },
   "source": [
    "## Классические модели."
   ]
  },
  {
   "cell_type": "code",
   "execution_count": 0,
   "metadata": {
    "colab": {},
    "colab_type": "code",
    "id": "E384C_QBSUGJ"
   },
   "outputs": [],
   "source": [
    "#X_train_full = load_npz('/content/drive/My Drive/data/train_rp.npz')\n",
    "#X_test_full = load_npz('/content/drive/My Drive/data/test_rp.npz')"
   ]
  },
  {
   "cell_type": "code",
   "execution_count": 0,
   "metadata": {
    "colab": {},
    "colab_type": "code",
    "id": "PXGQ8_J1vMnV"
   },
   "outputs": [],
   "source": [
    "#базовые модели\n",
    "clfs = []\n",
    "clfs.append(LogisticRegression(penalty='l2', solver='saga', class_weight='balanced', random_state=42))\n",
    "clfs.append(LogisticRegression(penalty='l2', solver='saga', class_weight='balanced', multi_class='multinomial', random_state=42))\n",
    "clfs.append(LinearSVC(class_weight='balanced', random_state=42))\n",
    "clfs.append(MultinomialNB())\n",
    "clfs.append(PassiveAggressiveClassifier(class_weight='balanced', random_state=42))\n",
    "#clfs.append(ExtraTreesClassifier(class_weight='balanced', max_depth=70, random_state=42)) хорошо ладит с дисбалансом классов, но медленный."
   ]
  },
  {
   "cell_type": "code",
   "execution_count": 0,
   "metadata": {
    "colab": {},
    "colab_type": "code",
    "id": "r5R5yO3zvMnW"
   },
   "outputs": [],
   "source": [
    "skf = StratifiedKFold(n_splits=10, shuffle=True, random_state=42)"
   ]
  },
  {
   "cell_type": "code",
   "execution_count": 0,
   "metadata": {
    "colab": {},
    "colab_type": "code",
    "id": "BOiPUQA-vMnX"
   },
   "outputs": [],
   "source": [
    "def cv_score(clf, X, y):\n",
    "    clf_name = clf.__class__.__name__\n",
    "    print(clf_name,':')\n",
    "    print(np.mean(cross_val_score(clf, X, y, scoring='f1_macro', cv=skf)))"
   ]
  },
  {
   "cell_type": "code",
   "execution_count": 0,
   "metadata": {
    "colab": {
     "base_uri": "https://localhost:8080/",
     "height": 71
    },
    "colab_type": "code",
    "id": "n5zKpbg9vMnY",
    "outputId": "059f9a66-f44c-458f-f591-12351fe46597"
   },
   "outputs": [
    {
     "name": "stderr",
     "output_type": "stream",
     "text": [
      "\r",
      "  0%|          | 0/5 [00:00<?, ?it/s]"
     ]
    },
    {
     "name": "stdout",
     "output_type": "stream",
     "text": [
      "LogisticRegression :\n"
     ]
    },
    {
     "name": "stderr",
     "output_type": "stream",
     "text": [
      "\r",
      " 20%|██        | 1/5 [1:55:40<7:42:40, 6940.20s/it]"
     ]
    },
    {
     "name": "stdout",
     "output_type": "stream",
     "text": [
      "0.5666335530649648\n",
      "LogisticRegression :\n"
     ]
    }
   ],
   "source": [
    "for clf in tqdm(clfs):\n",
    "    cv_score(clf, X_train_full, y_train)"
   ]
  },
  {
   "cell_type": "code",
   "execution_count": 2,
   "metadata": {
    "colab": {
     "base_uri": "https://localhost:8080/",
     "height": 127
    },
    "colab_type": "code",
    "id": "X45jwkhpS9qr",
    "outputId": "b8b0ceb6-aaa3-4459-cd69-64b373d19205"
   },
   "outputs": [
    {
     "name": "stdout",
     "output_type": "stream",
     "text": [
      "Go to this URL in a browser: https://accounts.google.com/o/oauth2/auth?client_id=947318989803-6bn6qk8qdgf4n4g3pfee6491hc0brc4i.apps.googleusercontent.com&redirect_uri=urn%3Aietf%3Awg%3Aoauth%3A2.0%3Aoob&scope=email%20https%3A%2F%2Fwww.googleapis.com%2Fauth%2Fdocs.test%20https%3A%2F%2Fwww.googleapis.com%2Fauth%2Fdrive%20https%3A%2F%2Fwww.googleapis.com%2Fauth%2Fdrive.photos.readonly%20https%3A%2F%2Fwww.googleapis.com%2Fauth%2Fpeopleapi.readonly&response_type=code\n",
      "\n",
      "Enter your authorization code:\n",
      "··········\n",
      "Mounted at /content/drive\n"
     ]
    }
   ],
   "source": [
    "from google.colab import drive\n",
    "drive.mount('/content/drive')"
   ]
  },
  {
   "cell_type": "code",
   "execution_count": 0,
   "metadata": {
    "colab": {},
    "colab_type": "code",
    "id": "3oQIlbbODzhj"
   },
   "outputs": [],
   "source": [
    "#ансамбли\n",
    "\n",
    "#RF = RandomForestClassifier(n_estimators=100, , max_depth=70, random_state=42) не оптимальный выбор модели для выборов таких объемов.\n",
    "\n",
    "xgb = XGBClassifier(max_depth=5, n_estimators=500, , objective='multi:softmax', learning_rate=0.1, early_stopping_rounds=20, lambda=2, random_state=42)\n",
    "print(np.mean(cross_val_score(xgb, X, y, scoring='f1_macro', cv=skf)))"
   ]
  },
  {
   "cell_type": "code",
   "execution_count": 0,
   "metadata": {
    "colab": {},
    "colab_type": "code",
    "id": "tW1OOvDPZuST"
   },
   "outputs": [],
   "source": [
    "'''\n",
    "EVclf = VotingClassifier(estimators=[\n",
    "         ('lr', lr), ('MNB', MNB), ('svc', svc)],\n",
    "         voting='soft')\n",
    "print(np.mean(cross_val_score(EVclf, X, y, scoring='f1_macro', cv=skf)))\n",
    "\n",
    "Классификатор хороший, тестить его мы, конечно, не будем \n",
    "(соотношение скорость/качество сильно уступает остальным вариантам)\n",
    "\n",
    "'''"
   ]
  },
  {
   "cell_type": "code",
   "execution_count": 0,
   "metadata": {
    "colab": {},
    "colab_type": "code",
    "id": "b1b8zLBnvMnZ"
   },
   "outputs": [],
   "source": [
    "class FakeSampler(BaseSampler):\n",
    "    _sampling_type = 'bypass'\n",
    "    def _fit_resample(self, X, y):\n",
    "        return X, y\n",
    "\n",
    "sampler = FakeSampler()"
   ]
  },
  {
   "cell_type": "code",
   "execution_count": 0,
   "metadata": {
    "colab": {},
    "colab_type": "code",
    "id": "2MWGi_NxvMnc"
   },
   "outputs": [],
   "source": [
    "fig, ((ax1, ax2), (ax3, ax4)) = plt.subplots(5, 2, figsize=(15, 30))\n",
    "\n",
    "\n",
    "ax_arr = ((ax1, ax2), (ax3, ax4))\n",
    "for ax, sampler in zip(ax_arr,\n",
    "                       (BorderlineSMOTE(random_state=42, kind='borderline-2'),\n",
    "                        TomekLinks(random_state=42))):\n",
    "    clf = make_pipeline(sampler, LinearSVC())\n",
    "    clf.fit(X, y)\n",
    "    plot_decision_function(X, y, clf, ax[0])\n",
    "    ax[0].set_title('Decision function for {}'.format(\n",
    "        sampler.__class__.__name__))\n",
    "    plot_resampling(X, y, sampler, ax[1])\n",
    "    ax[1].set_title('Resampling using {}'.format(sampler.__class__.__name__))\n",
    "fig.tight_layout()"
   ]
  },
  {
   "cell_type": "code",
   "execution_count": 0,
   "metadata": {
    "colab": {},
    "colab_type": "code",
    "id": "niOdnKRevMnd"
   },
   "outputs": [],
   "source": []
  },
  {
   "cell_type": "code",
   "execution_count": 0,
   "metadata": {
    "colab": {},
    "colab_type": "code",
    "id": "QrPA69gcvMni"
   },
   "outputs": [],
   "source": [
    "params = {\n",
    "        'n_estimators': stats.randint(low=1, high=200),\n",
    "        'max_features': stats.randint(low=1, high=8),\n",
    "    }\n",
    "\n",
    "best_clf = LogisticRegression(random_state=42)\n",
    "rnd_search = RandomizedSearchCV(best_clf, param_distributions=params,\n",
    "                                n_iter=10, cv=skf, scoring='log_loss', random_state=42)\n",
    "rnd_search.fit(X_train_full, y_train)"
   ]
  },
  {
   "cell_type": "code",
   "execution_count": 0,
   "metadata": {
    "colab": {},
    "colab_type": "code",
    "id": "eAbVYhOxvMnj"
   },
   "outputs": [],
   "source": [
    "rnd_search.cv_results_\n",
    "print('Best parameters set found: {}'.format(clf.best_params_)"
   ]
  },
  {
   "cell_type": "code",
   "execution_count": 0,
   "metadata": {
    "colab": {},
    "colab_type": "code",
    "id": "jSc1q1gXvMnk"
   },
   "outputs": [],
   "source": [
    "y_pred = rnd_search.predict(X_test_full)\n",
    "print(classification_report(y_true, y_pred)) "
   ]
  },
  {
   "cell_type": "code",
   "execution_count": 0,
   "metadata": {
    "colab": {},
    "colab_type": "code",
    "id": "waQSe61yCOpH"
   },
   "outputs": [],
   "source": []
  },
  {
   "cell_type": "code",
   "execution_count": 0,
   "metadata": {
    "colab": {},
    "colab_type": "code",
    "id": "N0jcr6g6COsi"
   },
   "outputs": [],
   "source": []
  },
  {
   "cell_type": "code",
   "execution_count": 0,
   "metadata": {
    "colab": {},
    "colab_type": "code",
    "id": "cGH4sYM4vMno"
   },
   "outputs": [],
   "source": [
    "from gensim.models import Word2Vec\n",
    "model = Word2Vec(text_df[\"text\"], size=150, window=10)\n",
    "model.train(text_df[\"text\"], total_examples=len(text_df[\"text\"]), epochs=10)\n",
    "model.wv.most_similar(positive=[\"home\"])"
   ]
  },
  {
   "cell_type": "code",
   "execution_count": 0,
   "metadata": {
    "colab": {},
    "colab_type": "code",
    "id": "0at5pQ9-vMnp"
   },
   "outputs": [],
   "source": [
    "# train model\n",
    "model = gensim.models.Word2Vec(sentences, size=150, window=5, min_count=5, workers=4)\n",
    "\n",
    "Теперь сохраняем модель в файл.\n",
    "# save model\n",
    "model.save('./w2v.model')\n",
    "print('saved')"
   ]
  },
  {
   "cell_type": "code",
   "execution_count": 0,
   "metadata": {
    "colab": {},
    "colab_type": "code",
    "id": "6Utn6N6GvMns"
   },
   "outputs": [],
   "source": []
  },
  {
   "cell_type": "markdown",
   "metadata": {
    "colab_type": "text",
    "id": "3upgbnDFvMnt"
   },
   "source": [
    "## Нейронные сети"
   ]
  },
  {
   "cell_type": "code",
   "execution_count": 0,
   "metadata": {
    "colab": {},
    "colab_type": "code",
    "id": "YNWRn8IwvMnt"
   },
   "outputs": [],
   "source": [
    "#simple LTSM"
   ]
  },
  {
   "cell_type": "code",
   "execution_count": 0,
   "metadata": {
    "colab": {},
    "colab_type": "code",
    "id": "EYf2PjQbvMnw"
   },
   "outputs": [],
   "source": []
  },
  {
   "cell_type": "code",
   "execution_count": 0,
   "metadata": {
    "colab": {},
    "colab_type": "code",
    "id": "mTr24xSjvMnx"
   },
   "outputs": [],
   "source": [
    "#LTSM & gru"
   ]
  },
  {
   "cell_type": "code",
   "execution_count": 0,
   "metadata": {
    "colab": {},
    "colab_type": "code",
    "id": "tSyKiuEOvMny"
   },
   "outputs": [],
   "source": []
  },
  {
   "cell_type": "code",
   "execution_count": 0,
   "metadata": {
    "colab": {},
    "colab_type": "code",
    "id": "JUvGmndgvMn0"
   },
   "outputs": [],
   "source": [
    "#BERT"
   ]
  },
  {
   "cell_type": "code",
   "execution_count": 0,
   "metadata": {
    "colab": {},
    "colab_type": "code",
    "id": "LHtbMV5NvMn1"
   },
   "outputs": [],
   "source": []
  },
  {
   "cell_type": "code",
   "execution_count": 0,
   "metadata": {
    "colab": {},
    "colab_type": "code",
    "id": "VUqgmfgRvMn2"
   },
   "outputs": [],
   "source": []
  },
  {
   "cell_type": "code",
   "execution_count": 0,
   "metadata": {
    "colab": {},
    "colab_type": "code",
    "id": "JXAtzhhKvMn3"
   },
   "outputs": [],
   "source": [
    "#fasttext"
   ]
  },
  {
   "cell_type": "code",
   "execution_count": 0,
   "metadata": {
    "colab": {},
    "colab_type": "code",
    "id": "34Mk5cRkvMn4"
   },
   "outputs": [],
   "source": []
  }
 ],
 "metadata": {
  "colab": {
   "collapsed_sections": [
    "r7KnuYibvMma"
   ],
   "include_colab_link": true,
   "machine_shape": "hm",
   "name": "__Lenta_topic_classification.ipynb",
   "provenance": [],
   "toc_visible": true
  },
  "kernelspec": {
   "display_name": "Python 3",
   "language": "python",
   "name": "python3"
  },
  "language_info": {
   "codemirror_mode": {
    "name": "ipython",
    "version": 3
   },
   "file_extension": ".py",
   "mimetype": "text/x-python",
   "name": "python",
   "nbconvert_exporter": "python",
   "pygments_lexer": "ipython3",
   "version": "3.7.3"
  }
 },
 "nbformat": 4,
 "nbformat_minor": 1
}
